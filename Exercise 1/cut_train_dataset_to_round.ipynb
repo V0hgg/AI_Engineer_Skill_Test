{
 "cells": [
  {
   "cell_type": "code",
   "execution_count": 18,
   "id": "cd555255",
   "metadata": {},
   "outputs": [],
   "source": [
    "from PIL import Image, ImageDraw, ImageOps\n",
    "import os"
   ]
  },
  {
   "cell_type": "code",
   "execution_count": 19,
   "id": "d3035cf9",
   "metadata": {},
   "outputs": [],
   "source": [
    "input_folder_path = './train_dataset'\n",
    "\n",
    "# Set the path to the folder where the cropped images will be saved\n",
    "output_folder_path = './train_dataset_round'"
   ]
  },
  {
   "cell_type": "code",
   "execution_count": 20,
   "id": "045e8ebf",
   "metadata": {},
   "outputs": [],
   "source": [
    "# Set the radius of the circular mask in pixels\n",
    "radius = 120\n",
    "\n",
    "# Loop over all image files in the input folder\n",
    "for file_name in os.listdir(input_folder_path):\n",
    "    # Check if the file is an image file\n",
    "    if file_name.endswith('.jpg') or file_name.endswith('.png'):\n",
    "        # Open the image file\n",
    "        input_image_path = os.path.join(input_folder_path, file_name)\n",
    "        input_image = Image.open(input_image_path)\n",
    "\n",
    "        # Create a new image with a black background\n",
    "        mask = Image.new('L', input_image.size, 0)\n",
    "\n",
    "        # Draw a white circle in the center of the mask\n",
    "        draw = ImageDraw.Draw(mask)\n",
    "        draw.ellipse((0, 0, input_image.width, input_image.height), fill=255)\n",
    "\n",
    "        # Apply the mask to the input image\n",
    "        masked_image = ImageOps.fit(input_image, mask.size, centering=(0.5, 0.5))\n",
    "        masked_image.putalpha(mask)\n",
    "\n",
    "        # Save the output image to the output folder as PNG\n",
    "        output_image_path = os.path.join(output_folder_path, file_name[:-4] + '.png')\n",
    "        masked_image.save(output_image_path)"
   ]
  }
 ],
 "metadata": {
  "kernelspec": {
   "display_name": "Python 3 (ipykernel)",
   "language": "python",
   "name": "python3"
  },
  "language_info": {
   "codemirror_mode": {
    "name": "ipython",
    "version": 3
   },
   "file_extension": ".py",
   "mimetype": "text/x-python",
   "name": "python",
   "nbconvert_exporter": "python",
   "pygments_lexer": "ipython3",
   "version": "3.11.2"
  }
 },
 "nbformat": 4,
 "nbformat_minor": 5
}
