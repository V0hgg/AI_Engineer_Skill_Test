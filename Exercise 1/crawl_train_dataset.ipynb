{
 "cells": [
  {
   "cell_type": "code",
   "execution_count": 66,
   "id": "9c5fec95",
   "metadata": {},
   "outputs": [],
   "source": [
    "import requests"
   ]
  },
  {
   "cell_type": "code",
   "execution_count": 67,
   "id": "2b5e25b2",
   "metadata": {},
   "outputs": [
    {
     "name": "stdout",
     "output_type": "stream",
     "text": [
      "Num of champs: 64\n",
      "['Draven', 'Evelynn', 'Ezreal', 'Fiora', 'Fizz', 'Garen', 'Galio', 'Gragas', 'Graves', 'Janna', 'JarvanIV', 'Jax', 'Jhin', 'Jinx', 'Katarina', 'Kennen', 'Leona', 'LeeSin', 'Lulu', 'Lux', 'Malphite', 'MasterYi', 'MissFortune', 'Nami', 'Nasus', 'Olaf', 'Orianna', 'Pantheon', 'Rakan', 'Rammus', 'Rengar', 'Seraphine', 'Shyvana', 'Singed', 'Sona', 'Soraka', 'Teemo', 'Tristana', 'Tryndamere', 'TwistedFate', 'Varus', 'Vayne', 'Vi', 'XinZhao', 'Yasuo', 'MonkeyKing', 'Zed', 'Ziggs', 'DrMundo', 'Ahri', 'Akali', 'Alistar', 'Amumu', 'Annie', 'Ashe', 'AurelionSol', 'Blitzcrank', 'Braum', 'Camille', 'Corki', 'Darius', 'Diana', 'Kaisa', 'Khazix']\n"
     ]
    }
   ],
   "source": [
    "with open('test_data/hero_names.txt', 'r') as f:\n",
    "    champ_list = [champ.strip() for champ in f.readlines()]\n",
    "    \n",
    "print(\"Num of champs:\",len(champ_list))\n",
    "print(champ_list)"
   ]
  },
  {
   "cell_type": "code",
   "execution_count": 69,
   "id": "0c4782da",
   "metadata": {},
   "outputs": [],
   "source": [
    "for champ in champ_list:\n",
    "    response = requests.get(f\"https://ddragon.leagueoflegends.com/cdn/11.23.1/img/champion/{champ}.png\")\n",
    "    with open(f\"{'train_dataset'}/{champ}.png\", \"wb\") as f:\n",
    "        f.write(response.content)"
   ]
  },
  {
   "cell_type": "code",
   "execution_count": 74,
   "id": "b13e0b5d",
   "metadata": {},
   "outputs": [],
   "source": [
    "import os\n",
    "import csv\n",
    "\n",
    "folder_path = 'train_dataset'\n",
    "\n",
    "image_names = os.listdir(folder_path)\n",
    "\n",
    "image_info = [(name, os.path.splitext(name)[0]) for name in image_names]\n",
    "\n",
    "csv_path = 'train.csv'\n",
    "\n",
    "with open(csv_path, 'w', newline='') as f:\n",
    "\n",
    "    writer = csv.writer(f)\n",
    "\n",
    "    for name, name_without_ext in image_info:\n",
    "        writer.writerow([name, name_without_ext])"
   ]
  }
 ],
 "metadata": {
  "kernelspec": {
   "display_name": "Python 3 (ipykernel)",
   "language": "python",
   "name": "python3"
  },
  "language_info": {
   "codemirror_mode": {
    "name": "ipython",
    "version": 3
   },
   "file_extension": ".py",
   "mimetype": "text/x-python",
   "name": "python",
   "nbconvert_exporter": "python",
   "pygments_lexer": "ipython3",
   "version": "3.11.2"
  }
 },
 "nbformat": 4,
 "nbformat_minor": 5
}
