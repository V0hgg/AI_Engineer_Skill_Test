{
 "cells": [
  {
   "cell_type": "code",
   "execution_count": 102,
   "id": "52cc8b84",
   "metadata": {
    "scrolled": true
   },
   "outputs": [],
   "source": [
    "import pandas as pd\n",
    "import numpy as np\n",
    "import tensorflow as tf\n",
    "import tensorflow.keras as keras\n",
    "from tqdm import tqdm\n",
    "import PIL\n",
    "from PIL import Image\n",
    "from PIL import Image, ImageDraw, ImageOps\n",
    "import os "
   ]
  },
  {
   "cell_type": "code",
   "execution_count": 103,
   "id": "78a0a074",
   "metadata": {
    "scrolled": true
   },
   "outputs": [
    {
     "name": "stdout",
     "output_type": "stream",
     "text": [
      "WARNING:tensorflow:Unable to restore custom metric. Please ensure that the layer implements `get_config` and `from_config` when saving. In addition, please use the `custom_objects` arg when calling `load_model()`.\n"
     ]
    }
   ],
   "source": [
    "model = tf.keras.models.load_model('./saved_model',compile=False)\n",
    "image_size = 75"
   ]
  },
  {
   "cell_type": "code",
   "execution_count": 104,
   "id": "95347af6",
   "metadata": {},
   "outputs": [],
   "source": [
    "# test = pd.read_csv('./test_data/test.txt', header = None, sep = '\\t', names = [\"image\", \"label\"])\n",
    "\n",
    "# for img_name in tqdm(test['image']):\n",
    "#     path = './test_data/test_images/'+str(img_name)\n",
    "#     with PIL.Image.open(path) as img:\n",
    "#         width, height = img.size\n",
    "#         left_half = (0, 0, width//4,height)\n",
    "#         img = img.crop(left_half)\n",
    "#         img = img.resize((299,299))\n",
    "#         img.save(f'./{\"resize_test\"}/{img_name}') "
   ]
  },
  {
   "cell_type": "code",
   "execution_count": 105,
   "id": "8af2b3ea",
   "metadata": {},
   "outputs": [
    {
     "name": "stderr",
     "output_type": "stream",
     "text": [
      "100%|█████████████████████████████████████████████████████| 98/98 [00:01<00:00, 49.63it/s]\n"
     ]
    }
   ],
   "source": [
    "import cv2\n",
    "import os.path\n",
    "import pandas as pd\n",
    "import PIL\n",
    "import urllib.request\n",
    "from tqdm import tqdm\n",
    "\n",
    "# Define the URL and local filename of the Haar Cascade classifier file\n",
    "url = 'https://raw.githubusercontent.com/opencv/opencv/master/data/haarcascades/haarcascade_frontalface_default.xml'\n",
    "local_file = 'haar_cascade/haarcascade_frontalface_default.xml'\n",
    "\n",
    "# Download the Haar Cascade classifier file if it doesn't exist\n",
    "if not os.path.exists(local_file):\n",
    "    urllib.request.urlretrieve(url, local_file)\n",
    "\n",
    "# Load the face detection classifier\n",
    "face_cascade = cv2.CascadeClassifier(local_file)\n",
    "\n",
    "# Load the test data\n",
    "test = pd.read_csv('./test_data/test.txt', header=None, sep='\\t', names=['image', 'label'])\n",
    "\n",
    "# Define a function to detect and crop faces from an image\n",
    "def detect_and_crop_faces(image_path):\n",
    "    with PIL.Image.open(image_path) as img:\n",
    "        # Upscale the image\n",
    "        img = img.resize((img.size[0]*4, img.size[1]*4), resample=PIL.Image.BICUBIC)\n",
    "        \n",
    "        # Crop the left half of the image\n",
    "        width, height = img.size\n",
    "        left_half = (0, 0, width//4, height)\n",
    "        img = img.crop(left_half)\n",
    "        \n",
    "        # Convert the image to grayscale\n",
    "        gray = cv2.cvtColor(np.array(img), cv2.COLOR_RGB2GRAY)\n",
    "        \n",
    "        # Detect faces in the image\n",
    "        faces = face_cascade.detectMultiScale(gray, scaleFactor=1.2, minNeighbors=3, minSize=(50, 50))\n",
    "        \n",
    "        # Get the face closest to the center of the image\n",
    "        center_x, center_y = img.size[0] // 2, img.size[1] // 2\n",
    "        closest_face = None\n",
    "        closest_distance = float('inf')\n",
    "        for (x, y, w, h) in faces:\n",
    "            distance = ((x + w // 2) - center_x) ** 2 + ((y + h // 2) - center_y) ** 2\n",
    "            if distance < closest_distance:\n",
    "                closest_face = (x, y, w, h)\n",
    "                closest_distance = distance\n",
    "        \n",
    "        # Crop and resize the closest face\n",
    "        if closest_face is not None:\n",
    "            (x, y, w, h) = closest_face\n",
    "            # Crop the face\n",
    "            face_img = img.crop((x, y, x+w, y+h))\n",
    "            \n",
    "            # Resize the face to a specific size\n",
    "            resized_face = face_img.resize((75, 75))\n",
    "            \n",
    "            # Save the cropped and resized face\n",
    "            return resized_face\n",
    "        else:\n",
    "            # Return None if no faces are detected\n",
    "            return None        \n",
    "        \n",
    "# Loop over each image in the test set and detect and crop faces\n",
    "for img_name in tqdm(test['image']):\n",
    "    # Load the image\n",
    "    path = './test_data/test_images/' + str(img_name)\n",
    "    \n",
    "    # Detect and crop faces from the image\n",
    "    cropped_faces = detect_and_crop_faces(path)\n",
    "    \n",
    "    # Save the cropped faces\n",
    "    if cropped_faces is not None:\n",
    "        cropped_faces.save(f'./{\"resize_test\"}/{img_name}')\n",
    "    else:\n",
    "        input_image_path = os.path.join(path)\n",
    "        with Image.open(input_image_path) as input_image:\n",
    "            width, height = input_image.size\n",
    "            left_half = (0, 0, width//5, height)\n",
    "            cropped_image = input_image.crop(left_half)\n",
    "            cropped_image.save(f'./{\"resize_test\"}/{img_name}')"
   ]
  },
  {
   "cell_type": "code",
   "execution_count": 106,
   "id": "6dec62ef",
   "metadata": {
    "scrolled": true
   },
   "outputs": [
    {
     "name": "stdout",
     "output_type": "stream",
     "text": [
      "Found 98 validated image filenames.\n"
     ]
    },
    {
     "name": "stderr",
     "output_type": "stream",
     "text": [
      "2023-05-14 14:51:13.638053: I tensorflow/core/common_runtime/executor.cc:1197] [/device:CPU:0] (DEBUG INFO) Executor start aborting (this does not indicate an error and you can ignore this message): INVALID_ARGUMENT: You must feed a value for placeholder tensor 'Placeholder/_0' with dtype int32\n",
      "\t [[{{node Placeholder/_0}}]]\n"
     ]
    },
    {
     "name": "stdout",
     "output_type": "stream",
     "text": [
      "WARNING:tensorflow:5 out of the last 14 calls to <function Model.make_predict_function.<locals>.predict_function at 0x7fc06f83f7e0> triggered tf.function retracing. Tracing is expensive and the excessive number of tracings could be due to (1) creating @tf.function repeatedly in a loop, (2) passing tensors with different shapes, (3) passing Python objects instead of tensors. For (1), please define your @tf.function outside of the loop. For (2), @tf.function has reduce_retracing=True option that can avoid unnecessary retracing. For (3), please refer to https://www.tensorflow.org/guide/function#controlling_retracing and https://www.tensorflow.org/api_docs/python/tf/function for  more details.\n",
      "4/4 [==============================] - 3s 224ms/step\n"
     ]
    }
   ],
   "source": [
    "# test['image'] = test['image'].str.replace('.jpg', '.png')\n",
    "\n",
    "datagen = keras.preprocessing.image.ImageDataGenerator(rescale=1/255.0,\n",
    "                                                        preprocessing_function=None,\n",
    "                                                        data_format=None,\n",
    "                                                    )\n",
    "test_data = datagen.flow_from_dataframe(\n",
    "    test,\n",
    "    directory = './resize_test',\n",
    "    x_col=\"image\",\n",
    "    y_col= None,\n",
    "    color_mode=\"rgb\",\n",
    "    target_size = (image_size,image_size),\n",
    "    classes=None,\n",
    "    class_mode=None,\n",
    "    batch_size=32,\n",
    "    shuffle=False,\n",
    "    seed=40,\n",
    ")\n",
    "\n",
    "preds = model.predict(test_data)\n",
    "# print(preds)\n",
    "preds = preds.tolist()\n",
    "\n",
    "indices = []\n",
    "for pred in preds:\n",
    "#     print(pred)\n",
    "    max_pred= 0.0\n",
    "    temp = []\n",
    "    for category in pred:\n",
    "        if category>max_pred:\n",
    "#             temp.append(pred.index(category))\n",
    "#             break\n",
    "            max_pred = category\n",
    "    temp.append(pred.index(max_pred))\n",
    "    if temp!=[]:\n",
    "        indices.append(temp)\n",
    "    else:\n",
    "        temp.append(np.argmax(pred))\n",
    "        indices.append(temp)\n",
    "\n",
    "# print(indices)"
   ]
  },
  {
   "cell_type": "code",
   "execution_count": 107,
   "id": "41d357dc",
   "metadata": {
    "scrolled": true
   },
   "outputs": [
    {
     "name": "stdout",
     "output_type": "stream",
     "text": [
      "Found 64 validated image filenames belonging to 64 classes.\n",
      "{0: 'Ahri', 1: 'Akali', 2: 'Alistar', 3: 'Amumu', 4: 'Annie', 5: 'Ashe', 6: 'AurelionSol', 7: 'Blitzcrank', 8: 'Braum', 9: 'Camille', 10: 'Corki', 11: 'Darius', 12: 'Diana', 13: 'DrMundo', 14: 'Draven', 15: 'Evelynn', 16: 'Ezreal', 17: 'Fiora', 18: 'Fizz', 19: 'Galio', 20: 'Garen', 21: 'Gragas', 22: 'Graves', 23: 'Janna', 24: 'JarvanIV', 25: 'Jax', 26: 'Jhin', 27: 'Jinx', 28: 'Kaisa', 29: 'Katarina', 30: 'Kennen', 31: 'Khazix', 32: 'LeeSin', 33: 'Leona', 34: 'Lulu', 35: 'Lux', 36: 'Malphite', 37: 'MasterYi', 38: 'MissFortune', 39: 'MonkeyKing', 40: 'Nami', 41: 'Nasus', 42: 'Olaf', 43: 'Orianna', 44: 'Pantheon', 45: 'Rakan', 46: 'Rammus', 47: 'Rengar', 48: 'Seraphine', 49: 'Shyvana', 50: 'Singed', 51: 'Sona', 52: 'Soraka', 53: 'Teemo', 54: 'Tristana', 55: 'Tryndamere', 56: 'TwistedFate', 57: 'Varus', 58: 'Vayne', 59: 'Vi', 60: 'XinZhao', 61: 'Yasuo', 62: 'Zed', 63: 'Ziggs'}\n",
      "['Tryndamere', 'Galio', 'Amumu', 'Akali', 'MonkeyKing', 'Varus', 'Akali', 'Akali', 'Amumu', 'Amumu', 'Varus', 'Akali', 'Tryndamere', 'Singed', 'Amumu', 'Tryndamere', 'Akali', 'Singed', 'Akali', 'Amumu', 'MonkeyKing', 'Akali', 'Tryndamere', 'Rammus', 'Akali', 'Lulu', 'Amumu', 'Tryndamere', 'Janna', 'Akali', 'Orianna', 'Akali', 'Tryndamere', 'Tryndamere', 'Rammus', 'Akali', 'Varus', 'Orianna', 'Amumu', 'Tryndamere', 'Varus', 'Akali', 'Orianna', 'Ashe', 'Galio', 'Corki', 'Rammus', 'Galio', 'Galio', 'MasterYi', 'Orianna', 'Amumu', 'DrMundo', 'Orianna', 'Akali', 'Singed', 'Amumu', 'Orianna', 'LeeSin', 'Lux', 'Tryndamere', 'Singed', 'Rammus', 'Singed', 'Akali', 'Rammus', 'Tryndamere', 'Lulu', 'Akali', 'Amumu', 'TwistedFate', 'Rakan', 'Singed', 'Fizz', 'Ashe', 'Orianna', 'Fizz', 'Ashe', 'Fizz', 'Tryndamere', 'Seraphine', 'Zed', 'Amumu', 'Singed', 'Akali', 'Amumu', 'Singed', 'Ezreal', 'Zed', 'MonkeyKing', 'Akali', 'Akali', 'MonkeyKing', 'Orianna', 'Amumu', 'DrMundo', 'Amumu', 'Fizz']\n"
     ]
    }
   ],
   "source": [
    "train = pd.read_csv('train.csv', header=None, names=[\"image\", \"labels\"])\n",
    "train_data = datagen.flow_from_dataframe(\n",
    "    train,\n",
    "    directory='./train_dataset',\n",
    "    x_col=\"image\",\n",
    "    y_col= 'labels',\n",
    "    color_mode=\"rgb\",\n",
    "    target_size = (image_size,image_size),\n",
    "    class_mode=\"categorical\",\n",
    "    batch_size=4,\n",
    "    shuffle=False,\n",
    "    seed=40,\n",
    ")\n",
    "labels = (train_data.class_indices)\n",
    "labels = dict((v,k) for k,v in labels.items())\n",
    "print(labels)\n",
    "\n",
    "testlabels = []\n",
    "\n",
    "\n",
    "for image in indices:\n",
    "    temp = []\n",
    "    for i in image:\n",
    "        temp.append(str(labels[i]))\n",
    "    testlabels.append(' '.join(temp))\n",
    "\n",
    "print(testlabels)"
   ]
  },
  {
   "cell_type": "code",
   "execution_count": 108,
   "id": "0a5d8742",
   "metadata": {
    "scrolled": true
   },
   "outputs": [],
   "source": [
    "test['predict'] = testlabels\n",
    "df = pd.DataFrame(test)\n",
    "df.to_csv('test.csv', index=False)"
   ]
  },
  {
   "cell_type": "code",
   "execution_count": 109,
   "id": "0ce09ee9",
   "metadata": {
    "scrolled": true
   },
   "outputs": [
    {
     "data": {
      "text/html": [
       "<div>\n",
       "<style scoped>\n",
       "    .dataframe tbody tr th:only-of-type {\n",
       "        vertical-align: middle;\n",
       "    }\n",
       "\n",
       "    .dataframe tbody tr th {\n",
       "        vertical-align: top;\n",
       "    }\n",
       "\n",
       "    .dataframe thead th {\n",
       "        text-align: right;\n",
       "    }\n",
       "</style>\n",
       "<table border=\"1\" class=\"dataframe\">\n",
       "  <thead>\n",
       "    <tr style=\"text-align: right;\">\n",
       "      <th></th>\n",
       "      <th>image</th>\n",
       "      <th>label</th>\n",
       "      <th>predict</th>\n",
       "    </tr>\n",
       "  </thead>\n",
       "  <tbody>\n",
       "    <tr>\n",
       "      <th>0</th>\n",
       "      <td>Jinx_630613568339321_round1_Dr.-Mundo_06-04-20...</td>\n",
       "      <td>Jinx</td>\n",
       "      <td>Tryndamere</td>\n",
       "    </tr>\n",
       "    <tr>\n",
       "      <th>1</th>\n",
       "      <td>Darius_1115082439004174_round1_Darius_05-19-20...</td>\n",
       "      <td>Darius</td>\n",
       "      <td>Galio</td>\n",
       "    </tr>\n",
       "    <tr>\n",
       "      <th>2</th>\n",
       "      <td>Jinx_v1033497503_round5_Sona_05-25-2021.mp4_85...</td>\n",
       "      <td>Jinx</td>\n",
       "      <td>Amumu</td>\n",
       "    </tr>\n",
       "    <tr>\n",
       "      <th>3</th>\n",
       "      <td>Miss_232154245077306_round1_Lee-Sin_06-14-2021...</td>\n",
       "      <td>Miss_Fortune</td>\n",
       "      <td>Akali</td>\n",
       "    </tr>\n",
       "    <tr>\n",
       "      <th>4</th>\n",
       "      <td>Jinx_182388960412791_round6_Jinx_05-04-2021.mp...</td>\n",
       "      <td>Jinx</td>\n",
       "      <td>MonkeyKing</td>\n",
       "    </tr>\n",
       "    <tr>\n",
       "      <th>...</th>\n",
       "      <td>...</td>\n",
       "      <td>...</td>\n",
       "      <td>...</td>\n",
       "    </tr>\n",
       "    <tr>\n",
       "      <th>93</th>\n",
       "      <td>Ahri_278220660753197_round6_Ahri_06-02-2021.mp...</td>\n",
       "      <td>Ahri</td>\n",
       "      <td>Orianna</td>\n",
       "    </tr>\n",
       "    <tr>\n",
       "      <th>94</th>\n",
       "      <td>Annie_2996176217280056_round1_Akali_06-11-2021...</td>\n",
       "      <td>Annie</td>\n",
       "      <td>Amumu</td>\n",
       "    </tr>\n",
       "    <tr>\n",
       "      <th>95</th>\n",
       "      <td>Dr_1140587809775566_round3_Dr.-Mundo_06-08-202...</td>\n",
       "      <td>Dr._Mundo</td>\n",
       "      <td>DrMundo</td>\n",
       "    </tr>\n",
       "    <tr>\n",
       "      <th>96</th>\n",
       "      <td>Annie_4448886761788772_round5_Varus_05-04-2021...</td>\n",
       "      <td>Annie</td>\n",
       "      <td>Amumu</td>\n",
       "    </tr>\n",
       "    <tr>\n",
       "      <th>97</th>\n",
       "      <td>Fizz_20zGr1wVrzM_round2_Ezreal_05-27-2021_new....</td>\n",
       "      <td>Fizz</td>\n",
       "      <td>Fizz</td>\n",
       "    </tr>\n",
       "  </tbody>\n",
       "</table>\n",
       "<p>98 rows × 3 columns</p>\n",
       "</div>"
      ],
      "text/plain": [
       "                                                image         label  \\\n",
       "0   Jinx_630613568339321_round1_Dr.-Mundo_06-04-20...          Jinx   \n",
       "1   Darius_1115082439004174_round1_Darius_05-19-20...        Darius   \n",
       "2   Jinx_v1033497503_round5_Sona_05-25-2021.mp4_85...          Jinx   \n",
       "3   Miss_232154245077306_round1_Lee-Sin_06-14-2021...  Miss_Fortune   \n",
       "4   Jinx_182388960412791_round6_Jinx_05-04-2021.mp...          Jinx   \n",
       "..                                                ...           ...   \n",
       "93  Ahri_278220660753197_round6_Ahri_06-02-2021.mp...          Ahri   \n",
       "94  Annie_2996176217280056_round1_Akali_06-11-2021...         Annie   \n",
       "95  Dr_1140587809775566_round3_Dr.-Mundo_06-08-202...     Dr._Mundo   \n",
       "96  Annie_4448886761788772_round5_Varus_05-04-2021...         Annie   \n",
       "97  Fizz_20zGr1wVrzM_round2_Ezreal_05-27-2021_new....          Fizz   \n",
       "\n",
       "       predict  \n",
       "0   Tryndamere  \n",
       "1        Galio  \n",
       "2        Amumu  \n",
       "3        Akali  \n",
       "4   MonkeyKing  \n",
       "..         ...  \n",
       "93     Orianna  \n",
       "94       Amumu  \n",
       "95     DrMundo  \n",
       "96       Amumu  \n",
       "97        Fizz  \n",
       "\n",
       "[98 rows x 3 columns]"
      ]
     },
     "execution_count": 109,
     "metadata": {},
     "output_type": "execute_result"
    }
   ],
   "source": [
    "test"
   ]
  }
 ],
 "metadata": {
  "kernelspec": {
   "display_name": "Python 3 (ipykernel)",
   "language": "python",
   "name": "python3"
  },
  "language_info": {
   "codemirror_mode": {
    "name": "ipython",
    "version": 3
   },
   "file_extension": ".py",
   "mimetype": "text/x-python",
   "name": "python",
   "nbconvert_exporter": "python",
   "pygments_lexer": "ipython3",
   "version": "3.11.2"
  }
 },
 "nbformat": 4,
 "nbformat_minor": 5
}
