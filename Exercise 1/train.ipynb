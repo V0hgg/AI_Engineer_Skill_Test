{
 "cells": [
  {
   "cell_type": "code",
   "execution_count": 1,
   "id": "1ee56cbe",
   "metadata": {},
   "outputs": [
    {
     "name": "stderr",
     "output_type": "stream",
     "text": [
      "2023-05-14 13:44:12.175333: I tensorflow/core/util/port.cc:110] oneDNN custom operations are on. You may see slightly different numerical results due to floating-point round-off errors from different computation orders. To turn them off, set the environment variable `TF_ENABLE_ONEDNN_OPTS=0`.\n",
      "2023-05-14 13:44:12.200162: I tensorflow/tsl/cuda/cudart_stub.cc:28] Could not find cuda drivers on your machine, GPU will not be used.\n",
      "2023-05-14 13:44:12.331034: I tensorflow/tsl/cuda/cudart_stub.cc:28] Could not find cuda drivers on your machine, GPU will not be used.\n",
      "2023-05-14 13:44:12.333457: I tensorflow/core/platform/cpu_feature_guard.cc:182] This TensorFlow binary is optimized to use available CPU instructions in performance-critical operations.\n",
      "To enable the following instructions: AVX2 AVX512F AVX512_VNNI FMA, in other operations, rebuild TensorFlow with the appropriate compiler flags.\n",
      "2023-05-14 13:44:13.335887: W tensorflow/compiler/tf2tensorrt/utils/py_utils.cc:38] TF-TRT Warning: Could not find TensorRT\n",
      "/home/vh/.local/lib/python3.11/site-packages/tensorflow_addons/utils/tfa_eol_msg.py:23: UserWarning: \n",
      "\n",
      "TensorFlow Addons (TFA) has ended development and introduction of new features.\n",
      "TFA has entered a minimal maintenance and release mode until a planned end of life in May 2024.\n",
      "Please modify downstream libraries to take dependencies from other repositories in our TensorFlow community (e.g. Keras, Keras-CV, and Keras-NLP). \n",
      "\n",
      "For more information see: https://github.com/tensorflow/addons/issues/2807 \n",
      "\n",
      "  warnings.warn(\n"
     ]
    }
   ],
   "source": [
    "import pandas as pd\n",
    "import numpy as np\n",
    "import tensorflow as tf\n",
    "import tensorflow.keras as keras\n",
    "from sklearn.preprocessing import MultiLabelBinarizer\n",
    "import PIL\n",
    "import cv2\n",
    "import matplotlib.pyplot as plt\n",
    "import seaborn as sns\n",
    "import os\n",
    "import random\n",
    "from tqdm import tqdm\n",
    "import tensorflow_addons as tfa\n",
    "import random\n",
    "from tensorflow.keras.applications import InceptionResNetV2\n",
    "import urllib.request\n",
    "\n",
    "pd.set_option(\"display.max_columns\", None)"
   ]
  },
  {
   "cell_type": "code",
   "execution_count": 2,
   "id": "1951046d",
   "metadata": {},
   "outputs": [],
   "source": [
    "image_size = 75"
   ]
  },
  {
   "cell_type": "code",
   "execution_count": 3,
   "id": "be47749a",
   "metadata": {},
   "outputs": [
    {
     "name": "stdout",
     "output_type": "stream",
     "text": [
      "Train ammount: 64\n",
      "Train columns: Index(['image', 'labels'], dtype='object')\n",
      "TwistedFate    1\n",
      "Garen          1\n",
      "Ahri           1\n",
      "Orianna        1\n",
      "Tryndamere     1\n",
      "              ..\n",
      "Fiora          1\n",
      "Tristana       1\n",
      "Diana          1\n",
      "DrMundo        1\n",
      "Kaisa          1\n",
      "Name: labels, Length: 64, dtype: int64\n"
     ]
    }
   ],
   "source": [
    "train = pd.read_csv('train.csv', header=None, names=[\"image\", \"labels\"])\n",
    "print(\"Train ammount:\",len(train))\n",
    "print(\"Train columns:\", train.columns)\n",
    "print(train['labels'].value_counts())"
   ]
  },
  {
   "cell_type": "code",
   "execution_count": 4,
   "id": "a2a93bb7",
   "metadata": {},
   "outputs": [
    {
     "name": "stdout",
     "output_type": "stream",
     "text": [
      "Found 64 validated image filenames belonging to 64 classes.\n"
     ]
    }
   ],
   "source": [
    "# %%time\n",
    "# datagen = keras.preprocessing.image.ImageDataGenerator(rescale=1/255.0,\n",
    "#                                                         preprocessing_function=None,\n",
    "#                                                         data_format=None,\n",
    "#                                                     )\n",
    "\n",
    "# train_data = datagen.flow_from_dataframe(\n",
    "#     train,\n",
    "#     directory='./train_dataset',\n",
    "# #     directory='./train_dataset_round',\n",
    "#     x_col=\"image\",\n",
    "#     y_col= 'labels',\n",
    "#     color_mode=\"rgb\",\n",
    "#     target_size = (256,256),\n",
    "#     class_mode=\"categorical\",\n",
    "#     batch_size=32,\n",
    "#     shuffle=False,\n",
    "#     seed=40,\n",
    "# )\n",
    "\n",
    "datagen = keras.preprocessing.image.ImageDataGenerator(\n",
    "    rescale=1./255,\n",
    "    rotation_range=20,\n",
    "    width_shift_range=0.1,\n",
    "    height_shift_range=0.1,\n",
    "    shear_range=0.2,\n",
    "    zoom_range=0.2,\n",
    "    horizontal_flip=True,\n",
    "    fill_mode='nearest'\n",
    ")\n",
    "\n",
    "train_data = datagen.flow_from_dataframe(\n",
    "    train,\n",
    "    directory='./train_dataset',\n",
    "#     directory='./train_dataset_round',\n",
    "    x_col=\"image\",\n",
    "    y_col= 'labels',\n",
    "    color_mode=\"rgb\",\n",
    "    target_size = (image_size,image_size),\n",
    "    class_mode=\"categorical\",\n",
    "    batch_size=16,\n",
    "    shuffle=False,\n",
    "    seed=40,\n",
    ")"
   ]
  },
  {
   "cell_type": "code",
   "execution_count": 5,
   "id": "ffa84ae0",
   "metadata": {
    "scrolled": true
   },
   "outputs": [
    {
     "name": "stderr",
     "output_type": "stream",
     "text": [
      "2023-05-14 13:44:18.609693: E tensorflow/compiler/xla/stream_executor/cuda/cuda_driver.cc:266] failed call to cuInit: CUDA_ERROR_NO_DEVICE: no CUDA-capable device is detected\n"
     ]
    },
    {
     "name": "stdout",
     "output_type": "stream",
     "text": [
      "KerasTensor(type_spec=TensorSpec(shape=(None, 75, 75, 3), dtype=tf.float32, name='input_1'), name='input_1', description=\"created by layer 'input_1'\")\n",
      "KerasTensor(type_spec=TensorSpec(shape=(None, 64), dtype=tf.float32, name=None), name='dense_1/Softmax:0', description=\"created by layer 'dense_1'\")\n"
     ]
    }
   ],
   "source": [
    "seed = 1200\n",
    "tf.random.set_seed(seed)\n",
    "num_classes = 64\n",
    "\n",
    "# url = 'https://github.com/fchollet/deep-learning-models/releases/download/v0.7/inception_resnet_v2_weights_tf_dim_ordering_tf_kernels_notop.h5'\n",
    "\n",
    "# weights_path = './keras-pretrained-models/inception_resnet_v2_weights_tf_dim_ordering_tf_kernels_notop.h5'\n",
    "\n",
    "url = 'https://github.com/fchollet/deep-learning-models/releases/download/v0.7/inception_resnet_v2_weights_tf_dim_ordering_tf_kernels.h5'\n",
    "\n",
    "weights_path = './keras-pretrained-models/inception_resnet_v2_weights_tf_dim_ordering_tf_kernels.h5'\n",
    "\n",
    "if not os.path.exists(weights_path):\n",
    "    urllib.request.urlretrieve(url, weights_path)\n",
    "    \n",
    "# Load the pre-trained InceptionResNetV2 model\n",
    "base_model = keras.applications.InceptionResNetV2(weights=weights_path, include_top=True, input_shape=(image_size, image_size, 3))\n",
    "\n",
    "# Remove the last layer of the model\n",
    "x = base_model.layers[-2].output\n",
    "\n",
    "# Add a new fully connected layer with 64 output neurons\n",
    "x = keras.layers.Flatten()(x)\n",
    "x = keras.layers.Dense(64, activation='relu')(x)\n",
    "output = keras.layers.Dense(num_classes, activation='softmax')(x)\n",
    "\n",
    "# Create a new model with the modified architecture\n",
    "new_model = keras.models.Model(inputs=base_model.input, outputs=output)\n",
    "\n",
    "print(new_model.input)\n",
    "print(new_model.output)"
   ]
  },
  {
   "cell_type": "code",
   "execution_count": 6,
   "id": "ad76b963",
   "metadata": {},
   "outputs": [
    {
     "name": "stderr",
     "output_type": "stream",
     "text": [
      "WARNING:absl:`lr` is deprecated in Keras optimizer, please use `learning_rate` or use the legacy optimizer, e.g.,tf.keras.optimizers.legacy.Adam.\n"
     ]
    },
    {
     "name": "stdout",
     "output_type": "stream",
     "text": [
      "Model: \"model\"\n",
      "__________________________________________________________________________________________________\n",
      " Layer (type)                   Output Shape         Param #     Connected to                     \n",
      "==================================================================================================\n",
      " input_1 (InputLayer)           [(None, 75, 75, 3)]  0           []                               \n",
      "                                                                                                  \n",
      " conv2d (Conv2D)                (None, 37, 37, 32)   864         ['input_1[0][0]']                \n",
      "                                                                                                  \n",
      " batch_normalization (BatchNorm  (None, 37, 37, 32)  96          ['conv2d[0][0]']                 \n",
      " alization)                                                                                       \n",
      "                                                                                                  \n",
      " activation (Activation)        (None, 37, 37, 32)   0           ['batch_normalization[0][0]']    \n",
      "                                                                                                  \n",
      " conv2d_1 (Conv2D)              (None, 35, 35, 32)   9216        ['activation[0][0]']             \n",
      "                                                                                                  \n",
      " batch_normalization_1 (BatchNo  (None, 35, 35, 32)  96          ['conv2d_1[0][0]']               \n",
      " rmalization)                                                                                     \n",
      "                                                                                                  \n",
      " activation_1 (Activation)      (None, 35, 35, 32)   0           ['batch_normalization_1[0][0]']  \n",
      "                                                                                                  \n",
      " conv2d_2 (Conv2D)              (None, 35, 35, 64)   18432       ['activation_1[0][0]']           \n",
      "                                                                                                  \n",
      " batch_normalization_2 (BatchNo  (None, 35, 35, 64)  192         ['conv2d_2[0][0]']               \n",
      " rmalization)                                                                                     \n",
      "                                                                                                  \n",
      " activation_2 (Activation)      (None, 35, 35, 64)   0           ['batch_normalization_2[0][0]']  \n",
      "                                                                                                  \n",
      " max_pooling2d (MaxPooling2D)   (None, 17, 17, 64)   0           ['activation_2[0][0]']           \n",
      "                                                                                                  \n",
      " conv2d_3 (Conv2D)              (None, 17, 17, 80)   5120        ['max_pooling2d[0][0]']          \n",
      "                                                                                                  \n",
      " batch_normalization_3 (BatchNo  (None, 17, 17, 80)  240         ['conv2d_3[0][0]']               \n",
      " rmalization)                                                                                     \n",
      "                                                                                                  \n",
      " activation_3 (Activation)      (None, 17, 17, 80)   0           ['batch_normalization_3[0][0]']  \n",
      "                                                                                                  \n",
      " conv2d_4 (Conv2D)              (None, 15, 15, 192)  138240      ['activation_3[0][0]']           \n",
      "                                                                                                  \n",
      " batch_normalization_4 (BatchNo  (None, 15, 15, 192)  576        ['conv2d_4[0][0]']               \n",
      " rmalization)                                                                                     \n",
      "                                                                                                  \n",
      " activation_4 (Activation)      (None, 15, 15, 192)  0           ['batch_normalization_4[0][0]']  \n",
      "                                                                                                  \n",
      " max_pooling2d_1 (MaxPooling2D)  (None, 7, 7, 192)   0           ['activation_4[0][0]']           \n",
      "                                                                                                  \n",
      " conv2d_8 (Conv2D)              (None, 7, 7, 64)     12288       ['max_pooling2d_1[0][0]']        \n",
      "                                                                                                  \n",
      " batch_normalization_8 (BatchNo  (None, 7, 7, 64)    192         ['conv2d_8[0][0]']               \n",
      " rmalization)                                                                                     \n",
      "                                                                                                  \n",
      " activation_8 (Activation)      (None, 7, 7, 64)     0           ['batch_normalization_8[0][0]']  \n",
      "                                                                                                  \n",
      " conv2d_6 (Conv2D)              (None, 7, 7, 48)     9216        ['max_pooling2d_1[0][0]']        \n",
      "                                                                                                  \n",
      " conv2d_9 (Conv2D)              (None, 7, 7, 96)     55296       ['activation_8[0][0]']           \n",
      "                                                                                                  \n",
      " batch_normalization_6 (BatchNo  (None, 7, 7, 48)    144         ['conv2d_6[0][0]']               \n",
      " rmalization)                                                                                     \n",
      "                                                                                                  \n",
      " batch_normalization_9 (BatchNo  (None, 7, 7, 96)    288         ['conv2d_9[0][0]']               \n",
      " rmalization)                                                                                     \n",
      "                                                                                                  \n",
      " activation_6 (Activation)      (None, 7, 7, 48)     0           ['batch_normalization_6[0][0]']  \n",
      "                                                                                                  \n",
      " activation_9 (Activation)      (None, 7, 7, 96)     0           ['batch_normalization_9[0][0]']  \n",
      "                                                                                                  \n",
      " average_pooling2d (AveragePool  (None, 7, 7, 192)   0           ['max_pooling2d_1[0][0]']        \n",
      " ing2D)                                                                                           \n",
      "                                                                                                  \n",
      " conv2d_5 (Conv2D)              (None, 7, 7, 96)     18432       ['max_pooling2d_1[0][0]']        \n",
      "                                                                                                  \n",
      " conv2d_7 (Conv2D)              (None, 7, 7, 64)     76800       ['activation_6[0][0]']           \n",
      "                                                                                                  \n",
      " conv2d_10 (Conv2D)             (None, 7, 7, 96)     82944       ['activation_9[0][0]']           \n",
      "                                                                                                  \n",
      " conv2d_11 (Conv2D)             (None, 7, 7, 64)     12288       ['average_pooling2d[0][0]']      \n",
      "                                                                                                  \n",
      " batch_normalization_5 (BatchNo  (None, 7, 7, 96)    288         ['conv2d_5[0][0]']               \n",
      " rmalization)                                                                                     \n",
      "                                                                                                  \n",
      " batch_normalization_7 (BatchNo  (None, 7, 7, 64)    192         ['conv2d_7[0][0]']               \n",
      " rmalization)                                                                                     \n",
      "                                                                                                  \n",
      " batch_normalization_10 (BatchN  (None, 7, 7, 96)    288         ['conv2d_10[0][0]']              \n"
     ]
    },
    {
     "name": "stdout",
     "output_type": "stream",
     "text": [
      " ormalization)                                                                                    \n",
      "                                                                                                  \n",
      " batch_normalization_11 (BatchN  (None, 7, 7, 64)    192         ['conv2d_11[0][0]']              \n",
      " ormalization)                                                                                    \n",
      "                                                                                                  \n",
      " activation_5 (Activation)      (None, 7, 7, 96)     0           ['batch_normalization_5[0][0]']  \n",
      "                                                                                                  \n",
      " activation_7 (Activation)      (None, 7, 7, 64)     0           ['batch_normalization_7[0][0]']  \n",
      "                                                                                                  \n",
      " activation_10 (Activation)     (None, 7, 7, 96)     0           ['batch_normalization_10[0][0]'] \n",
      "                                                                                                  \n",
      " activation_11 (Activation)     (None, 7, 7, 64)     0           ['batch_normalization_11[0][0]'] \n",
      "                                                                                                  \n",
      " mixed_5b (Concatenate)         (None, 7, 7, 320)    0           ['activation_5[0][0]',           \n",
      "                                                                  'activation_7[0][0]',           \n",
      "                                                                  'activation_10[0][0]',          \n",
      "                                                                  'activation_11[0][0]']          \n",
      "                                                                                                  \n",
      " conv2d_15 (Conv2D)             (None, 7, 7, 32)     10240       ['mixed_5b[0][0]']               \n",
      "                                                                                                  \n",
      " batch_normalization_15 (BatchN  (None, 7, 7, 32)    96          ['conv2d_15[0][0]']              \n",
      " ormalization)                                                                                    \n",
      "                                                                                                  \n",
      " activation_15 (Activation)     (None, 7, 7, 32)     0           ['batch_normalization_15[0][0]'] \n",
      "                                                                                                  \n",
      " conv2d_13 (Conv2D)             (None, 7, 7, 32)     10240       ['mixed_5b[0][0]']               \n",
      "                                                                                                  \n",
      " conv2d_16 (Conv2D)             (None, 7, 7, 48)     13824       ['activation_15[0][0]']          \n",
      "                                                                                                  \n",
      " batch_normalization_13 (BatchN  (None, 7, 7, 32)    96          ['conv2d_13[0][0]']              \n",
      " ormalization)                                                                                    \n",
      "                                                                                                  \n",
      " batch_normalization_16 (BatchN  (None, 7, 7, 48)    144         ['conv2d_16[0][0]']              \n",
      " ormalization)                                                                                    \n",
      "                                                                                                  \n",
      " activation_13 (Activation)     (None, 7, 7, 32)     0           ['batch_normalization_13[0][0]'] \n",
      "                                                                                                  \n",
      " activation_16 (Activation)     (None, 7, 7, 48)     0           ['batch_normalization_16[0][0]'] \n",
      "                                                                                                  \n",
      " conv2d_12 (Conv2D)             (None, 7, 7, 32)     10240       ['mixed_5b[0][0]']               \n",
      "                                                                                                  \n",
      " conv2d_14 (Conv2D)             (None, 7, 7, 32)     9216        ['activation_13[0][0]']          \n",
      "                                                                                                  \n",
      " conv2d_17 (Conv2D)             (None, 7, 7, 64)     27648       ['activation_16[0][0]']          \n",
      "                                                                                                  \n",
      " batch_normalization_12 (BatchN  (None, 7, 7, 32)    96          ['conv2d_12[0][0]']              \n",
      " ormalization)                                                                                    \n",
      "                                                                                                  \n",
      " batch_normalization_14 (BatchN  (None, 7, 7, 32)    96          ['conv2d_14[0][0]']              \n",
      " ormalization)                                                                                    \n",
      "                                                                                                  \n",
      " batch_normalization_17 (BatchN  (None, 7, 7, 64)    192         ['conv2d_17[0][0]']              \n",
      " ormalization)                                                                                    \n",
      "                                                                                                  \n",
      " activation_12 (Activation)     (None, 7, 7, 32)     0           ['batch_normalization_12[0][0]'] \n",
      "                                                                                                  \n",
      " activation_14 (Activation)     (None, 7, 7, 32)     0           ['batch_normalization_14[0][0]'] \n",
      "                                                                                                  \n",
      " activation_17 (Activation)     (None, 7, 7, 64)     0           ['batch_normalization_17[0][0]'] \n",
      "                                                                                                  \n",
      " block35_1_mixed (Concatenate)  (None, 7, 7, 128)    0           ['activation_12[0][0]',          \n",
      "                                                                  'activation_14[0][0]',          \n",
      "                                                                  'activation_17[0][0]']          \n",
      "                                                                                                  \n",
      " block35_1_conv (Conv2D)        (None, 7, 7, 320)    41280       ['block35_1_mixed[0][0]']        \n",
      "                                                                                                  \n",
      " custom_scale_layer (CustomScal  (None, 7, 7, 320)   0           ['mixed_5b[0][0]',               \n",
      " eLayer)                                                          'block35_1_conv[0][0]']         \n",
      "                                                                                                  \n",
      " block35_1_ac (Activation)      (None, 7, 7, 320)    0           ['custom_scale_layer[0][0]']     \n",
      "                                                                                                  \n",
      " conv2d_21 (Conv2D)             (None, 7, 7, 32)     10240       ['block35_1_ac[0][0]']           \n",
      "                                                                                                  \n",
      " batch_normalization_21 (BatchN  (None, 7, 7, 32)    96          ['conv2d_21[0][0]']              \n",
      " ormalization)                                                                                    \n",
      "                                                                                                  \n",
      " activation_21 (Activation)     (None, 7, 7, 32)     0           ['batch_normalization_21[0][0]'] \n",
      "                                                                                                  \n",
      " conv2d_19 (Conv2D)             (None, 7, 7, 32)     10240       ['block35_1_ac[0][0]']           \n",
      "                                                                                                  \n",
      " conv2d_22 (Conv2D)             (None, 7, 7, 48)     13824       ['activation_21[0][0]']          \n",
      "                                                                                                  \n",
      " batch_normalization_19 (BatchN  (None, 7, 7, 32)    96          ['conv2d_19[0][0]']              \n"
     ]
    },
    {
     "name": "stdout",
     "output_type": "stream",
     "text": [
      " ormalization)                                                                                    \n",
      "                                                                                                  \n",
      " batch_normalization_22 (BatchN  (None, 7, 7, 48)    144         ['conv2d_22[0][0]']              \n",
      " ormalization)                                                                                    \n",
      "                                                                                                  \n",
      " activation_19 (Activation)     (None, 7, 7, 32)     0           ['batch_normalization_19[0][0]'] \n",
      "                                                                                                  \n",
      " activation_22 (Activation)     (None, 7, 7, 48)     0           ['batch_normalization_22[0][0]'] \n",
      "                                                                                                  \n",
      " conv2d_18 (Conv2D)             (None, 7, 7, 32)     10240       ['block35_1_ac[0][0]']           \n",
      "                                                                                                  \n",
      " conv2d_20 (Conv2D)             (None, 7, 7, 32)     9216        ['activation_19[0][0]']          \n",
      "                                                                                                  \n",
      " conv2d_23 (Conv2D)             (None, 7, 7, 64)     27648       ['activation_22[0][0]']          \n",
      "                                                                                                  \n",
      " batch_normalization_18 (BatchN  (None, 7, 7, 32)    96          ['conv2d_18[0][0]']              \n",
      " ormalization)                                                                                    \n",
      "                                                                                                  \n",
      " batch_normalization_20 (BatchN  (None, 7, 7, 32)    96          ['conv2d_20[0][0]']              \n",
      " ormalization)                                                                                    \n",
      "                                                                                                  \n",
      " batch_normalization_23 (BatchN  (None, 7, 7, 64)    192         ['conv2d_23[0][0]']              \n",
      " ormalization)                                                                                    \n",
      "                                                                                                  \n",
      " activation_18 (Activation)     (None, 7, 7, 32)     0           ['batch_normalization_18[0][0]'] \n",
      "                                                                                                  \n",
      " activation_20 (Activation)     (None, 7, 7, 32)     0           ['batch_normalization_20[0][0]'] \n",
      "                                                                                                  \n",
      " activation_23 (Activation)     (None, 7, 7, 64)     0           ['batch_normalization_23[0][0]'] \n",
      "                                                                                                  \n",
      " block35_2_mixed (Concatenate)  (None, 7, 7, 128)    0           ['activation_18[0][0]',          \n",
      "                                                                  'activation_20[0][0]',          \n",
      "                                                                  'activation_23[0][0]']          \n",
      "                                                                                                  \n",
      " block35_2_conv (Conv2D)        (None, 7, 7, 320)    41280       ['block35_2_mixed[0][0]']        \n",
      "                                                                                                  \n",
      " custom_scale_layer_1 (CustomSc  (None, 7, 7, 320)   0           ['block35_1_ac[0][0]',           \n",
      " aleLayer)                                                        'block35_2_conv[0][0]']         \n",
      "                                                                                                  \n",
      " block35_2_ac (Activation)      (None, 7, 7, 320)    0           ['custom_scale_layer_1[0][0]']   \n",
      "                                                                                                  \n",
      " conv2d_27 (Conv2D)             (None, 7, 7, 32)     10240       ['block35_2_ac[0][0]']           \n",
      "                                                                                                  \n",
      " batch_normalization_27 (BatchN  (None, 7, 7, 32)    96          ['conv2d_27[0][0]']              \n",
      " ormalization)                                                                                    \n",
      "                                                                                                  \n",
      " activation_27 (Activation)     (None, 7, 7, 32)     0           ['batch_normalization_27[0][0]'] \n",
      "                                                                                                  \n",
      " conv2d_25 (Conv2D)             (None, 7, 7, 32)     10240       ['block35_2_ac[0][0]']           \n",
      "                                                                                                  \n",
      " conv2d_28 (Conv2D)             (None, 7, 7, 48)     13824       ['activation_27[0][0]']          \n",
      "                                                                                                  \n",
      " batch_normalization_25 (BatchN  (None, 7, 7, 32)    96          ['conv2d_25[0][0]']              \n",
      " ormalization)                                                                                    \n",
      "                                                                                                  \n",
      " batch_normalization_28 (BatchN  (None, 7, 7, 48)    144         ['conv2d_28[0][0]']              \n",
      " ormalization)                                                                                    \n",
      "                                                                                                  \n",
      " activation_25 (Activation)     (None, 7, 7, 32)     0           ['batch_normalization_25[0][0]'] \n",
      "                                                                                                  \n",
      " activation_28 (Activation)     (None, 7, 7, 48)     0           ['batch_normalization_28[0][0]'] \n",
      "                                                                                                  \n",
      " conv2d_24 (Conv2D)             (None, 7, 7, 32)     10240       ['block35_2_ac[0][0]']           \n",
      "                                                                                                  \n",
      " conv2d_26 (Conv2D)             (None, 7, 7, 32)     9216        ['activation_25[0][0]']          \n",
      "                                                                                                  \n",
      " conv2d_29 (Conv2D)             (None, 7, 7, 64)     27648       ['activation_28[0][0]']          \n",
      "                                                                                                  \n",
      " batch_normalization_24 (BatchN  (None, 7, 7, 32)    96          ['conv2d_24[0][0]']              \n",
      " ormalization)                                                                                    \n",
      "                                                                                                  \n",
      " batch_normalization_26 (BatchN  (None, 7, 7, 32)    96          ['conv2d_26[0][0]']              \n",
      " ormalization)                                                                                    \n",
      "                                                                                                  \n",
      " batch_normalization_29 (BatchN  (None, 7, 7, 64)    192         ['conv2d_29[0][0]']              \n",
      " ormalization)                                                                                    \n",
      "                                                                                                  \n",
      " activation_24 (Activation)     (None, 7, 7, 32)     0           ['batch_normalization_24[0][0]'] \n",
      "                                                                                                  \n",
      " activation_26 (Activation)     (None, 7, 7, 32)     0           ['batch_normalization_26[0][0]'] \n",
      "                                                                                                  \n",
      " activation_29 (Activation)     (None, 7, 7, 64)     0           ['batch_normalization_29[0][0]'] \n",
      "                                                                                                  \n"
     ]
    },
    {
     "name": "stdout",
     "output_type": "stream",
     "text": [
      " block35_3_mixed (Concatenate)  (None, 7, 7, 128)    0           ['activation_24[0][0]',          \n",
      "                                                                  'activation_26[0][0]',          \n",
      "                                                                  'activation_29[0][0]']          \n",
      "                                                                                                  \n",
      " block35_3_conv (Conv2D)        (None, 7, 7, 320)    41280       ['block35_3_mixed[0][0]']        \n",
      "                                                                                                  \n",
      " custom_scale_layer_2 (CustomSc  (None, 7, 7, 320)   0           ['block35_2_ac[0][0]',           \n",
      " aleLayer)                                                        'block35_3_conv[0][0]']         \n",
      "                                                                                                  \n",
      " block35_3_ac (Activation)      (None, 7, 7, 320)    0           ['custom_scale_layer_2[0][0]']   \n",
      "                                                                                                  \n",
      " conv2d_33 (Conv2D)             (None, 7, 7, 32)     10240       ['block35_3_ac[0][0]']           \n",
      "                                                                                                  \n",
      " batch_normalization_33 (BatchN  (None, 7, 7, 32)    96          ['conv2d_33[0][0]']              \n",
      " ormalization)                                                                                    \n",
      "                                                                                                  \n",
      " activation_33 (Activation)     (None, 7, 7, 32)     0           ['batch_normalization_33[0][0]'] \n",
      "                                                                                                  \n",
      " conv2d_31 (Conv2D)             (None, 7, 7, 32)     10240       ['block35_3_ac[0][0]']           \n",
      "                                                                                                  \n",
      " conv2d_34 (Conv2D)             (None, 7, 7, 48)     13824       ['activation_33[0][0]']          \n",
      "                                                                                                  \n",
      " batch_normalization_31 (BatchN  (None, 7, 7, 32)    96          ['conv2d_31[0][0]']              \n",
      " ormalization)                                                                                    \n",
      "                                                                                                  \n",
      " batch_normalization_34 (BatchN  (None, 7, 7, 48)    144         ['conv2d_34[0][0]']              \n",
      " ormalization)                                                                                    \n",
      "                                                                                                  \n",
      " activation_31 (Activation)     (None, 7, 7, 32)     0           ['batch_normalization_31[0][0]'] \n",
      "                                                                                                  \n",
      " activation_34 (Activation)     (None, 7, 7, 48)     0           ['batch_normalization_34[0][0]'] \n",
      "                                                                                                  \n",
      " conv2d_30 (Conv2D)             (None, 7, 7, 32)     10240       ['block35_3_ac[0][0]']           \n",
      "                                                                                                  \n",
      " conv2d_32 (Conv2D)             (None, 7, 7, 32)     9216        ['activation_31[0][0]']          \n",
      "                                                                                                  \n",
      " conv2d_35 (Conv2D)             (None, 7, 7, 64)     27648       ['activation_34[0][0]']          \n",
      "                                                                                                  \n",
      " batch_normalization_30 (BatchN  (None, 7, 7, 32)    96          ['conv2d_30[0][0]']              \n",
      " ormalization)                                                                                    \n",
      "                                                                                                  \n",
      " batch_normalization_32 (BatchN  (None, 7, 7, 32)    96          ['conv2d_32[0][0]']              \n",
      " ormalization)                                                                                    \n",
      "                                                                                                  \n",
      " batch_normalization_35 (BatchN  (None, 7, 7, 64)    192         ['conv2d_35[0][0]']              \n",
      " ormalization)                                                                                    \n",
      "                                                                                                  \n",
      " activation_30 (Activation)     (None, 7, 7, 32)     0           ['batch_normalization_30[0][0]'] \n",
      "                                                                                                  \n",
      " activation_32 (Activation)     (None, 7, 7, 32)     0           ['batch_normalization_32[0][0]'] \n",
      "                                                                                                  \n",
      " activation_35 (Activation)     (None, 7, 7, 64)     0           ['batch_normalization_35[0][0]'] \n",
      "                                                                                                  \n",
      " block35_4_mixed (Concatenate)  (None, 7, 7, 128)    0           ['activation_30[0][0]',          \n",
      "                                                                  'activation_32[0][0]',          \n",
      "                                                                  'activation_35[0][0]']          \n",
      "                                                                                                  \n",
      " block35_4_conv (Conv2D)        (None, 7, 7, 320)    41280       ['block35_4_mixed[0][0]']        \n",
      "                                                                                                  \n",
      " custom_scale_layer_3 (CustomSc  (None, 7, 7, 320)   0           ['block35_3_ac[0][0]',           \n",
      " aleLayer)                                                        'block35_4_conv[0][0]']         \n",
      "                                                                                                  \n",
      " block35_4_ac (Activation)      (None, 7, 7, 320)    0           ['custom_scale_layer_3[0][0]']   \n",
      "                                                                                                  \n",
      " conv2d_39 (Conv2D)             (None, 7, 7, 32)     10240       ['block35_4_ac[0][0]']           \n",
      "                                                                                                  \n",
      " batch_normalization_39 (BatchN  (None, 7, 7, 32)    96          ['conv2d_39[0][0]']              \n",
      " ormalization)                                                                                    \n",
      "                                                                                                  \n",
      " activation_39 (Activation)     (None, 7, 7, 32)     0           ['batch_normalization_39[0][0]'] \n",
      "                                                                                                  \n",
      " conv2d_37 (Conv2D)             (None, 7, 7, 32)     10240       ['block35_4_ac[0][0]']           \n",
      "                                                                                                  \n",
      " conv2d_40 (Conv2D)             (None, 7, 7, 48)     13824       ['activation_39[0][0]']          \n",
      "                                                                                                  \n",
      " batch_normalization_37 (BatchN  (None, 7, 7, 32)    96          ['conv2d_37[0][0]']              \n",
      " ormalization)                                                                                    \n",
      "                                                                                                  \n",
      " batch_normalization_40 (BatchN  (None, 7, 7, 48)    144         ['conv2d_40[0][0]']              \n",
      " ormalization)                                                                                    \n",
      "                                                                                                  \n",
      " activation_37 (Activation)     (None, 7, 7, 32)     0           ['batch_normalization_37[0][0]'] \n",
      "                                                                                                  \n"
     ]
    },
    {
     "name": "stdout",
     "output_type": "stream",
     "text": [
      " activation_40 (Activation)     (None, 7, 7, 48)     0           ['batch_normalization_40[0][0]'] \n",
      "                                                                                                  \n",
      " conv2d_36 (Conv2D)             (None, 7, 7, 32)     10240       ['block35_4_ac[0][0]']           \n",
      "                                                                                                  \n",
      " conv2d_38 (Conv2D)             (None, 7, 7, 32)     9216        ['activation_37[0][0]']          \n",
      "                                                                                                  \n",
      " conv2d_41 (Conv2D)             (None, 7, 7, 64)     27648       ['activation_40[0][0]']          \n",
      "                                                                                                  \n",
      " batch_normalization_36 (BatchN  (None, 7, 7, 32)    96          ['conv2d_36[0][0]']              \n",
      " ormalization)                                                                                    \n",
      "                                                                                                  \n",
      " batch_normalization_38 (BatchN  (None, 7, 7, 32)    96          ['conv2d_38[0][0]']              \n",
      " ormalization)                                                                                    \n",
      "                                                                                                  \n",
      " batch_normalization_41 (BatchN  (None, 7, 7, 64)    192         ['conv2d_41[0][0]']              \n",
      " ormalization)                                                                                    \n",
      "                                                                                                  \n",
      " activation_36 (Activation)     (None, 7, 7, 32)     0           ['batch_normalization_36[0][0]'] \n",
      "                                                                                                  \n",
      " activation_38 (Activation)     (None, 7, 7, 32)     0           ['batch_normalization_38[0][0]'] \n",
      "                                                                                                  \n",
      " activation_41 (Activation)     (None, 7, 7, 64)     0           ['batch_normalization_41[0][0]'] \n",
      "                                                                                                  \n",
      " block35_5_mixed (Concatenate)  (None, 7, 7, 128)    0           ['activation_36[0][0]',          \n",
      "                                                                  'activation_38[0][0]',          \n",
      "                                                                  'activation_41[0][0]']          \n",
      "                                                                                                  \n",
      " block35_5_conv (Conv2D)        (None, 7, 7, 320)    41280       ['block35_5_mixed[0][0]']        \n",
      "                                                                                                  \n",
      " custom_scale_layer_4 (CustomSc  (None, 7, 7, 320)   0           ['block35_4_ac[0][0]',           \n",
      " aleLayer)                                                        'block35_5_conv[0][0]']         \n",
      "                                                                                                  \n",
      " block35_5_ac (Activation)      (None, 7, 7, 320)    0           ['custom_scale_layer_4[0][0]']   \n",
      "                                                                                                  \n",
      " conv2d_45 (Conv2D)             (None, 7, 7, 32)     10240       ['block35_5_ac[0][0]']           \n",
      "                                                                                                  \n",
      " batch_normalization_45 (BatchN  (None, 7, 7, 32)    96          ['conv2d_45[0][0]']              \n",
      " ormalization)                                                                                    \n",
      "                                                                                                  \n",
      " activation_45 (Activation)     (None, 7, 7, 32)     0           ['batch_normalization_45[0][0]'] \n",
      "                                                                                                  \n",
      " conv2d_43 (Conv2D)             (None, 7, 7, 32)     10240       ['block35_5_ac[0][0]']           \n",
      "                                                                                                  \n",
      " conv2d_46 (Conv2D)             (None, 7, 7, 48)     13824       ['activation_45[0][0]']          \n",
      "                                                                                                  \n",
      " batch_normalization_43 (BatchN  (None, 7, 7, 32)    96          ['conv2d_43[0][0]']              \n",
      " ormalization)                                                                                    \n",
      "                                                                                                  \n",
      " batch_normalization_46 (BatchN  (None, 7, 7, 48)    144         ['conv2d_46[0][0]']              \n",
      " ormalization)                                                                                    \n",
      "                                                                                                  \n",
      " activation_43 (Activation)     (None, 7, 7, 32)     0           ['batch_normalization_43[0][0]'] \n",
      "                                                                                                  \n",
      " activation_46 (Activation)     (None, 7, 7, 48)     0           ['batch_normalization_46[0][0]'] \n",
      "                                                                                                  \n",
      " conv2d_42 (Conv2D)             (None, 7, 7, 32)     10240       ['block35_5_ac[0][0]']           \n",
      "                                                                                                  \n",
      " conv2d_44 (Conv2D)             (None, 7, 7, 32)     9216        ['activation_43[0][0]']          \n",
      "                                                                                                  \n",
      " conv2d_47 (Conv2D)             (None, 7, 7, 64)     27648       ['activation_46[0][0]']          \n",
      "                                                                                                  \n",
      " batch_normalization_42 (BatchN  (None, 7, 7, 32)    96          ['conv2d_42[0][0]']              \n",
      " ormalization)                                                                                    \n",
      "                                                                                                  \n",
      " batch_normalization_44 (BatchN  (None, 7, 7, 32)    96          ['conv2d_44[0][0]']              \n",
      " ormalization)                                                                                    \n",
      "                                                                                                  \n",
      " batch_normalization_47 (BatchN  (None, 7, 7, 64)    192         ['conv2d_47[0][0]']              \n",
      " ormalization)                                                                                    \n",
      "                                                                                                  \n",
      " activation_42 (Activation)     (None, 7, 7, 32)     0           ['batch_normalization_42[0][0]'] \n",
      "                                                                                                  \n",
      " activation_44 (Activation)     (None, 7, 7, 32)     0           ['batch_normalization_44[0][0]'] \n",
      "                                                                                                  \n",
      " activation_47 (Activation)     (None, 7, 7, 64)     0           ['batch_normalization_47[0][0]'] \n",
      "                                                                                                  \n",
      " block35_6_mixed (Concatenate)  (None, 7, 7, 128)    0           ['activation_42[0][0]',          \n",
      "                                                                  'activation_44[0][0]',          \n",
      "                                                                  'activation_47[0][0]']          \n",
      "                                                                                                  \n",
      " block35_6_conv (Conv2D)        (None, 7, 7, 320)    41280       ['block35_6_mixed[0][0]']        \n",
      "                                                                                                  \n",
      " custom_scale_layer_5 (CustomSc  (None, 7, 7, 320)   0           ['block35_5_ac[0][0]',           \n"
     ]
    },
    {
     "name": "stdout",
     "output_type": "stream",
     "text": [
      " aleLayer)                                                        'block35_6_conv[0][0]']         \n",
      "                                                                                                  \n",
      " block35_6_ac (Activation)      (None, 7, 7, 320)    0           ['custom_scale_layer_5[0][0]']   \n",
      "                                                                                                  \n",
      " conv2d_51 (Conv2D)             (None, 7, 7, 32)     10240       ['block35_6_ac[0][0]']           \n",
      "                                                                                                  \n",
      " batch_normalization_51 (BatchN  (None, 7, 7, 32)    96          ['conv2d_51[0][0]']              \n",
      " ormalization)                                                                                    \n",
      "                                                                                                  \n",
      " activation_51 (Activation)     (None, 7, 7, 32)     0           ['batch_normalization_51[0][0]'] \n",
      "                                                                                                  \n",
      " conv2d_49 (Conv2D)             (None, 7, 7, 32)     10240       ['block35_6_ac[0][0]']           \n",
      "                                                                                                  \n",
      " conv2d_52 (Conv2D)             (None, 7, 7, 48)     13824       ['activation_51[0][0]']          \n",
      "                                                                                                  \n",
      " batch_normalization_49 (BatchN  (None, 7, 7, 32)    96          ['conv2d_49[0][0]']              \n",
      " ormalization)                                                                                    \n",
      "                                                                                                  \n",
      " batch_normalization_52 (BatchN  (None, 7, 7, 48)    144         ['conv2d_52[0][0]']              \n",
      " ormalization)                                                                                    \n",
      "                                                                                                  \n",
      " activation_49 (Activation)     (None, 7, 7, 32)     0           ['batch_normalization_49[0][0]'] \n",
      "                                                                                                  \n",
      " activation_52 (Activation)     (None, 7, 7, 48)     0           ['batch_normalization_52[0][0]'] \n",
      "                                                                                                  \n",
      " conv2d_48 (Conv2D)             (None, 7, 7, 32)     10240       ['block35_6_ac[0][0]']           \n",
      "                                                                                                  \n",
      " conv2d_50 (Conv2D)             (None, 7, 7, 32)     9216        ['activation_49[0][0]']          \n",
      "                                                                                                  \n",
      " conv2d_53 (Conv2D)             (None, 7, 7, 64)     27648       ['activation_52[0][0]']          \n",
      "                                                                                                  \n",
      " batch_normalization_48 (BatchN  (None, 7, 7, 32)    96          ['conv2d_48[0][0]']              \n",
      " ormalization)                                                                                    \n",
      "                                                                                                  \n",
      " batch_normalization_50 (BatchN  (None, 7, 7, 32)    96          ['conv2d_50[0][0]']              \n",
      " ormalization)                                                                                    \n",
      "                                                                                                  \n",
      " batch_normalization_53 (BatchN  (None, 7, 7, 64)    192         ['conv2d_53[0][0]']              \n",
      " ormalization)                                                                                    \n",
      "                                                                                                  \n",
      " activation_48 (Activation)     (None, 7, 7, 32)     0           ['batch_normalization_48[0][0]'] \n",
      "                                                                                                  \n",
      " activation_50 (Activation)     (None, 7, 7, 32)     0           ['batch_normalization_50[0][0]'] \n",
      "                                                                                                  \n",
      " activation_53 (Activation)     (None, 7, 7, 64)     0           ['batch_normalization_53[0][0]'] \n",
      "                                                                                                  \n",
      " block35_7_mixed (Concatenate)  (None, 7, 7, 128)    0           ['activation_48[0][0]',          \n",
      "                                                                  'activation_50[0][0]',          \n",
      "                                                                  'activation_53[0][0]']          \n",
      "                                                                                                  \n",
      " block35_7_conv (Conv2D)        (None, 7, 7, 320)    41280       ['block35_7_mixed[0][0]']        \n",
      "                                                                                                  \n",
      " custom_scale_layer_6 (CustomSc  (None, 7, 7, 320)   0           ['block35_6_ac[0][0]',           \n",
      " aleLayer)                                                        'block35_7_conv[0][0]']         \n",
      "                                                                                                  \n",
      " block35_7_ac (Activation)      (None, 7, 7, 320)    0           ['custom_scale_layer_6[0][0]']   \n",
      "                                                                                                  \n",
      " conv2d_57 (Conv2D)             (None, 7, 7, 32)     10240       ['block35_7_ac[0][0]']           \n",
      "                                                                                                  \n",
      " batch_normalization_57 (BatchN  (None, 7, 7, 32)    96          ['conv2d_57[0][0]']              \n",
      " ormalization)                                                                                    \n",
      "                                                                                                  \n",
      " activation_57 (Activation)     (None, 7, 7, 32)     0           ['batch_normalization_57[0][0]'] \n",
      "                                                                                                  \n",
      " conv2d_55 (Conv2D)             (None, 7, 7, 32)     10240       ['block35_7_ac[0][0]']           \n",
      "                                                                                                  \n",
      " conv2d_58 (Conv2D)             (None, 7, 7, 48)     13824       ['activation_57[0][0]']          \n",
      "                                                                                                  \n",
      " batch_normalization_55 (BatchN  (None, 7, 7, 32)    96          ['conv2d_55[0][0]']              \n",
      " ormalization)                                                                                    \n",
      "                                                                                                  \n",
      " batch_normalization_58 (BatchN  (None, 7, 7, 48)    144         ['conv2d_58[0][0]']              \n",
      " ormalization)                                                                                    \n",
      "                                                                                                  \n",
      " activation_55 (Activation)     (None, 7, 7, 32)     0           ['batch_normalization_55[0][0]'] \n",
      "                                                                                                  \n",
      " activation_58 (Activation)     (None, 7, 7, 48)     0           ['batch_normalization_58[0][0]'] \n",
      "                                                                                                  \n",
      " conv2d_54 (Conv2D)             (None, 7, 7, 32)     10240       ['block35_7_ac[0][0]']           \n",
      "                                                                                                  \n",
      " conv2d_56 (Conv2D)             (None, 7, 7, 32)     9216        ['activation_55[0][0]']          \n",
      "                                                                                                  \n",
      " conv2d_59 (Conv2D)             (None, 7, 7, 64)     27648       ['activation_58[0][0]']          \n"
     ]
    },
    {
     "name": "stdout",
     "output_type": "stream",
     "text": [
      "                                                                                                  \n",
      " batch_normalization_54 (BatchN  (None, 7, 7, 32)    96          ['conv2d_54[0][0]']              \n",
      " ormalization)                                                                                    \n",
      "                                                                                                  \n",
      " batch_normalization_56 (BatchN  (None, 7, 7, 32)    96          ['conv2d_56[0][0]']              \n",
      " ormalization)                                                                                    \n",
      "                                                                                                  \n",
      " batch_normalization_59 (BatchN  (None, 7, 7, 64)    192         ['conv2d_59[0][0]']              \n",
      " ormalization)                                                                                    \n",
      "                                                                                                  \n",
      " activation_54 (Activation)     (None, 7, 7, 32)     0           ['batch_normalization_54[0][0]'] \n",
      "                                                                                                  \n",
      " activation_56 (Activation)     (None, 7, 7, 32)     0           ['batch_normalization_56[0][0]'] \n",
      "                                                                                                  \n",
      " activation_59 (Activation)     (None, 7, 7, 64)     0           ['batch_normalization_59[0][0]'] \n",
      "                                                                                                  \n",
      " block35_8_mixed (Concatenate)  (None, 7, 7, 128)    0           ['activation_54[0][0]',          \n",
      "                                                                  'activation_56[0][0]',          \n",
      "                                                                  'activation_59[0][0]']          \n",
      "                                                                                                  \n",
      " block35_8_conv (Conv2D)        (None, 7, 7, 320)    41280       ['block35_8_mixed[0][0]']        \n",
      "                                                                                                  \n",
      " custom_scale_layer_7 (CustomSc  (None, 7, 7, 320)   0           ['block35_7_ac[0][0]',           \n",
      " aleLayer)                                                        'block35_8_conv[0][0]']         \n",
      "                                                                                                  \n",
      " block35_8_ac (Activation)      (None, 7, 7, 320)    0           ['custom_scale_layer_7[0][0]']   \n",
      "                                                                                                  \n",
      " conv2d_63 (Conv2D)             (None, 7, 7, 32)     10240       ['block35_8_ac[0][0]']           \n",
      "                                                                                                  \n",
      " batch_normalization_63 (BatchN  (None, 7, 7, 32)    96          ['conv2d_63[0][0]']              \n",
      " ormalization)                                                                                    \n",
      "                                                                                                  \n",
      " activation_63 (Activation)     (None, 7, 7, 32)     0           ['batch_normalization_63[0][0]'] \n",
      "                                                                                                  \n",
      " conv2d_61 (Conv2D)             (None, 7, 7, 32)     10240       ['block35_8_ac[0][0]']           \n",
      "                                                                                                  \n",
      " conv2d_64 (Conv2D)             (None, 7, 7, 48)     13824       ['activation_63[0][0]']          \n",
      "                                                                                                  \n",
      " batch_normalization_61 (BatchN  (None, 7, 7, 32)    96          ['conv2d_61[0][0]']              \n",
      " ormalization)                                                                                    \n",
      "                                                                                                  \n",
      " batch_normalization_64 (BatchN  (None, 7, 7, 48)    144         ['conv2d_64[0][0]']              \n",
      " ormalization)                                                                                    \n",
      "                                                                                                  \n",
      " activation_61 (Activation)     (None, 7, 7, 32)     0           ['batch_normalization_61[0][0]'] \n",
      "                                                                                                  \n",
      " activation_64 (Activation)     (None, 7, 7, 48)     0           ['batch_normalization_64[0][0]'] \n",
      "                                                                                                  \n",
      " conv2d_60 (Conv2D)             (None, 7, 7, 32)     10240       ['block35_8_ac[0][0]']           \n",
      "                                                                                                  \n",
      " conv2d_62 (Conv2D)             (None, 7, 7, 32)     9216        ['activation_61[0][0]']          \n",
      "                                                                                                  \n",
      " conv2d_65 (Conv2D)             (None, 7, 7, 64)     27648       ['activation_64[0][0]']          \n",
      "                                                                                                  \n",
      " batch_normalization_60 (BatchN  (None, 7, 7, 32)    96          ['conv2d_60[0][0]']              \n",
      " ormalization)                                                                                    \n",
      "                                                                                                  \n",
      " batch_normalization_62 (BatchN  (None, 7, 7, 32)    96          ['conv2d_62[0][0]']              \n",
      " ormalization)                                                                                    \n",
      "                                                                                                  \n",
      " batch_normalization_65 (BatchN  (None, 7, 7, 64)    192         ['conv2d_65[0][0]']              \n",
      " ormalization)                                                                                    \n",
      "                                                                                                  \n",
      " activation_60 (Activation)     (None, 7, 7, 32)     0           ['batch_normalization_60[0][0]'] \n",
      "                                                                                                  \n",
      " activation_62 (Activation)     (None, 7, 7, 32)     0           ['batch_normalization_62[0][0]'] \n",
      "                                                                                                  \n",
      " activation_65 (Activation)     (None, 7, 7, 64)     0           ['batch_normalization_65[0][0]'] \n",
      "                                                                                                  \n",
      " block35_9_mixed (Concatenate)  (None, 7, 7, 128)    0           ['activation_60[0][0]',          \n",
      "                                                                  'activation_62[0][0]',          \n",
      "                                                                  'activation_65[0][0]']          \n",
      "                                                                                                  \n",
      " block35_9_conv (Conv2D)        (None, 7, 7, 320)    41280       ['block35_9_mixed[0][0]']        \n",
      "                                                                                                  \n",
      " custom_scale_layer_8 (CustomSc  (None, 7, 7, 320)   0           ['block35_8_ac[0][0]',           \n",
      " aleLayer)                                                        'block35_9_conv[0][0]']         \n",
      "                                                                                                  \n",
      " block35_9_ac (Activation)      (None, 7, 7, 320)    0           ['custom_scale_layer_8[0][0]']   \n",
      "                                                                                                  \n",
      " conv2d_69 (Conv2D)             (None, 7, 7, 32)     10240       ['block35_9_ac[0][0]']           \n",
      "                                                                                                  \n",
      " batch_normalization_69 (BatchN  (None, 7, 7, 32)    96          ['conv2d_69[0][0]']              \n"
     ]
    },
    {
     "name": "stdout",
     "output_type": "stream",
     "text": [
      " ormalization)                                                                                    \n",
      "                                                                                                  \n",
      " activation_69 (Activation)     (None, 7, 7, 32)     0           ['batch_normalization_69[0][0]'] \n",
      "                                                                                                  \n",
      " conv2d_67 (Conv2D)             (None, 7, 7, 32)     10240       ['block35_9_ac[0][0]']           \n",
      "                                                                                                  \n",
      " conv2d_70 (Conv2D)             (None, 7, 7, 48)     13824       ['activation_69[0][0]']          \n",
      "                                                                                                  \n",
      " batch_normalization_67 (BatchN  (None, 7, 7, 32)    96          ['conv2d_67[0][0]']              \n",
      " ormalization)                                                                                    \n",
      "                                                                                                  \n",
      " batch_normalization_70 (BatchN  (None, 7, 7, 48)    144         ['conv2d_70[0][0]']              \n",
      " ormalization)                                                                                    \n",
      "                                                                                                  \n",
      " activation_67 (Activation)     (None, 7, 7, 32)     0           ['batch_normalization_67[0][0]'] \n",
      "                                                                                                  \n",
      " activation_70 (Activation)     (None, 7, 7, 48)     0           ['batch_normalization_70[0][0]'] \n",
      "                                                                                                  \n",
      " conv2d_66 (Conv2D)             (None, 7, 7, 32)     10240       ['block35_9_ac[0][0]']           \n",
      "                                                                                                  \n",
      " conv2d_68 (Conv2D)             (None, 7, 7, 32)     9216        ['activation_67[0][0]']          \n",
      "                                                                                                  \n",
      " conv2d_71 (Conv2D)             (None, 7, 7, 64)     27648       ['activation_70[0][0]']          \n",
      "                                                                                                  \n",
      " batch_normalization_66 (BatchN  (None, 7, 7, 32)    96          ['conv2d_66[0][0]']              \n",
      " ormalization)                                                                                    \n",
      "                                                                                                  \n",
      " batch_normalization_68 (BatchN  (None, 7, 7, 32)    96          ['conv2d_68[0][0]']              \n",
      " ormalization)                                                                                    \n",
      "                                                                                                  \n",
      " batch_normalization_71 (BatchN  (None, 7, 7, 64)    192         ['conv2d_71[0][0]']              \n",
      " ormalization)                                                                                    \n",
      "                                                                                                  \n",
      " activation_66 (Activation)     (None, 7, 7, 32)     0           ['batch_normalization_66[0][0]'] \n",
      "                                                                                                  \n",
      " activation_68 (Activation)     (None, 7, 7, 32)     0           ['batch_normalization_68[0][0]'] \n",
      "                                                                                                  \n",
      " activation_71 (Activation)     (None, 7, 7, 64)     0           ['batch_normalization_71[0][0]'] \n",
      "                                                                                                  \n",
      " block35_10_mixed (Concatenate)  (None, 7, 7, 128)   0           ['activation_66[0][0]',          \n",
      "                                                                  'activation_68[0][0]',          \n",
      "                                                                  'activation_71[0][0]']          \n",
      "                                                                                                  \n",
      " block35_10_conv (Conv2D)       (None, 7, 7, 320)    41280       ['block35_10_mixed[0][0]']       \n",
      "                                                                                                  \n",
      " custom_scale_layer_9 (CustomSc  (None, 7, 7, 320)   0           ['block35_9_ac[0][0]',           \n",
      " aleLayer)                                                        'block35_10_conv[0][0]']        \n",
      "                                                                                                  \n",
      " block35_10_ac (Activation)     (None, 7, 7, 320)    0           ['custom_scale_layer_9[0][0]']   \n",
      "                                                                                                  \n",
      " conv2d_73 (Conv2D)             (None, 7, 7, 256)    81920       ['block35_10_ac[0][0]']          \n",
      "                                                                                                  \n",
      " batch_normalization_73 (BatchN  (None, 7, 7, 256)   768         ['conv2d_73[0][0]']              \n",
      " ormalization)                                                                                    \n",
      "                                                                                                  \n",
      " activation_73 (Activation)     (None, 7, 7, 256)    0           ['batch_normalization_73[0][0]'] \n",
      "                                                                                                  \n",
      " conv2d_74 (Conv2D)             (None, 7, 7, 256)    589824      ['activation_73[0][0]']          \n",
      "                                                                                                  \n",
      " batch_normalization_74 (BatchN  (None, 7, 7, 256)   768         ['conv2d_74[0][0]']              \n",
      " ormalization)                                                                                    \n",
      "                                                                                                  \n",
      " activation_74 (Activation)     (None, 7, 7, 256)    0           ['batch_normalization_74[0][0]'] \n",
      "                                                                                                  \n",
      " conv2d_72 (Conv2D)             (None, 3, 3, 384)    1105920     ['block35_10_ac[0][0]']          \n",
      "                                                                                                  \n",
      " conv2d_75 (Conv2D)             (None, 3, 3, 384)    884736      ['activation_74[0][0]']          \n",
      "                                                                                                  \n",
      " batch_normalization_72 (BatchN  (None, 3, 3, 384)   1152        ['conv2d_72[0][0]']              \n",
      " ormalization)                                                                                    \n",
      "                                                                                                  \n",
      " batch_normalization_75 (BatchN  (None, 3, 3, 384)   1152        ['conv2d_75[0][0]']              \n",
      " ormalization)                                                                                    \n",
      "                                                                                                  \n",
      " activation_72 (Activation)     (None, 3, 3, 384)    0           ['batch_normalization_72[0][0]'] \n",
      "                                                                                                  \n",
      " activation_75 (Activation)     (None, 3, 3, 384)    0           ['batch_normalization_75[0][0]'] \n",
      "                                                                                                  \n",
      " max_pooling2d_2 (MaxPooling2D)  (None, 3, 3, 320)   0           ['block35_10_ac[0][0]']          \n",
      "                                                                                                  \n",
      " mixed_6a (Concatenate)         (None, 3, 3, 1088)   0           ['activation_72[0][0]',          \n",
      "                                                                  'activation_75[0][0]',          \n",
      "                                                                  'max_pooling2d_2[0][0]']        \n"
     ]
    },
    {
     "name": "stdout",
     "output_type": "stream",
     "text": [
      "                                                                                                  \n",
      " conv2d_77 (Conv2D)             (None, 3, 3, 128)    139264      ['mixed_6a[0][0]']               \n",
      "                                                                                                  \n",
      " batch_normalization_77 (BatchN  (None, 3, 3, 128)   384         ['conv2d_77[0][0]']              \n",
      " ormalization)                                                                                    \n",
      "                                                                                                  \n",
      " activation_77 (Activation)     (None, 3, 3, 128)    0           ['batch_normalization_77[0][0]'] \n",
      "                                                                                                  \n",
      " conv2d_78 (Conv2D)             (None, 3, 3, 160)    143360      ['activation_77[0][0]']          \n",
      "                                                                                                  \n",
      " batch_normalization_78 (BatchN  (None, 3, 3, 160)   480         ['conv2d_78[0][0]']              \n",
      " ormalization)                                                                                    \n",
      "                                                                                                  \n",
      " activation_78 (Activation)     (None, 3, 3, 160)    0           ['batch_normalization_78[0][0]'] \n",
      "                                                                                                  \n",
      " conv2d_76 (Conv2D)             (None, 3, 3, 192)    208896      ['mixed_6a[0][0]']               \n",
      "                                                                                                  \n",
      " conv2d_79 (Conv2D)             (None, 3, 3, 192)    215040      ['activation_78[0][0]']          \n",
      "                                                                                                  \n",
      " batch_normalization_76 (BatchN  (None, 3, 3, 192)   576         ['conv2d_76[0][0]']              \n",
      " ormalization)                                                                                    \n",
      "                                                                                                  \n",
      " batch_normalization_79 (BatchN  (None, 3, 3, 192)   576         ['conv2d_79[0][0]']              \n",
      " ormalization)                                                                                    \n",
      "                                                                                                  \n",
      " activation_76 (Activation)     (None, 3, 3, 192)    0           ['batch_normalization_76[0][0]'] \n",
      "                                                                                                  \n",
      " activation_79 (Activation)     (None, 3, 3, 192)    0           ['batch_normalization_79[0][0]'] \n",
      "                                                                                                  \n",
      " block17_1_mixed (Concatenate)  (None, 3, 3, 384)    0           ['activation_76[0][0]',          \n",
      "                                                                  'activation_79[0][0]']          \n",
      "                                                                                                  \n",
      " block17_1_conv (Conv2D)        (None, 3, 3, 1088)   418880      ['block17_1_mixed[0][0]']        \n",
      "                                                                                                  \n",
      " custom_scale_layer_10 (CustomS  (None, 3, 3, 1088)  0           ['mixed_6a[0][0]',               \n",
      " caleLayer)                                                       'block17_1_conv[0][0]']         \n",
      "                                                                                                  \n",
      " block17_1_ac (Activation)      (None, 3, 3, 1088)   0           ['custom_scale_layer_10[0][0]']  \n",
      "                                                                                                  \n",
      " conv2d_81 (Conv2D)             (None, 3, 3, 128)    139264      ['block17_1_ac[0][0]']           \n",
      "                                                                                                  \n",
      " batch_normalization_81 (BatchN  (None, 3, 3, 128)   384         ['conv2d_81[0][0]']              \n",
      " ormalization)                                                                                    \n",
      "                                                                                                  \n",
      " activation_81 (Activation)     (None, 3, 3, 128)    0           ['batch_normalization_81[0][0]'] \n",
      "                                                                                                  \n",
      " conv2d_82 (Conv2D)             (None, 3, 3, 160)    143360      ['activation_81[0][0]']          \n",
      "                                                                                                  \n",
      " batch_normalization_82 (BatchN  (None, 3, 3, 160)   480         ['conv2d_82[0][0]']              \n",
      " ormalization)                                                                                    \n",
      "                                                                                                  \n",
      " activation_82 (Activation)     (None, 3, 3, 160)    0           ['batch_normalization_82[0][0]'] \n",
      "                                                                                                  \n",
      " conv2d_80 (Conv2D)             (None, 3, 3, 192)    208896      ['block17_1_ac[0][0]']           \n",
      "                                                                                                  \n",
      " conv2d_83 (Conv2D)             (None, 3, 3, 192)    215040      ['activation_82[0][0]']          \n",
      "                                                                                                  \n",
      " batch_normalization_80 (BatchN  (None, 3, 3, 192)   576         ['conv2d_80[0][0]']              \n",
      " ormalization)                                                                                    \n",
      "                                                                                                  \n",
      " batch_normalization_83 (BatchN  (None, 3, 3, 192)   576         ['conv2d_83[0][0]']              \n",
      " ormalization)                                                                                    \n",
      "                                                                                                  \n",
      " activation_80 (Activation)     (None, 3, 3, 192)    0           ['batch_normalization_80[0][0]'] \n",
      "                                                                                                  \n",
      " activation_83 (Activation)     (None, 3, 3, 192)    0           ['batch_normalization_83[0][0]'] \n",
      "                                                                                                  \n",
      " block17_2_mixed (Concatenate)  (None, 3, 3, 384)    0           ['activation_80[0][0]',          \n",
      "                                                                  'activation_83[0][0]']          \n",
      "                                                                                                  \n",
      " block17_2_conv (Conv2D)        (None, 3, 3, 1088)   418880      ['block17_2_mixed[0][0]']        \n",
      "                                                                                                  \n",
      " custom_scale_layer_11 (CustomS  (None, 3, 3, 1088)  0           ['block17_1_ac[0][0]',           \n",
      " caleLayer)                                                       'block17_2_conv[0][0]']         \n",
      "                                                                                                  \n",
      " block17_2_ac (Activation)      (None, 3, 3, 1088)   0           ['custom_scale_layer_11[0][0]']  \n",
      "                                                                                                  \n",
      " conv2d_85 (Conv2D)             (None, 3, 3, 128)    139264      ['block17_2_ac[0][0]']           \n",
      "                                                                                                  \n",
      " batch_normalization_85 (BatchN  (None, 3, 3, 128)   384         ['conv2d_85[0][0]']              \n",
      " ormalization)                                                                                    \n",
      "                                                                                                  \n",
      " activation_85 (Activation)     (None, 3, 3, 128)    0           ['batch_normalization_85[0][0]'] \n"
     ]
    },
    {
     "name": "stdout",
     "output_type": "stream",
     "text": [
      "                                                                                                  \n",
      " conv2d_86 (Conv2D)             (None, 3, 3, 160)    143360      ['activation_85[0][0]']          \n",
      "                                                                                                  \n",
      " batch_normalization_86 (BatchN  (None, 3, 3, 160)   480         ['conv2d_86[0][0]']              \n",
      " ormalization)                                                                                    \n",
      "                                                                                                  \n",
      " activation_86 (Activation)     (None, 3, 3, 160)    0           ['batch_normalization_86[0][0]'] \n",
      "                                                                                                  \n",
      " conv2d_84 (Conv2D)             (None, 3, 3, 192)    208896      ['block17_2_ac[0][0]']           \n",
      "                                                                                                  \n",
      " conv2d_87 (Conv2D)             (None, 3, 3, 192)    215040      ['activation_86[0][0]']          \n",
      "                                                                                                  \n",
      " batch_normalization_84 (BatchN  (None, 3, 3, 192)   576         ['conv2d_84[0][0]']              \n",
      " ormalization)                                                                                    \n",
      "                                                                                                  \n",
      " batch_normalization_87 (BatchN  (None, 3, 3, 192)   576         ['conv2d_87[0][0]']              \n",
      " ormalization)                                                                                    \n",
      "                                                                                                  \n",
      " activation_84 (Activation)     (None, 3, 3, 192)    0           ['batch_normalization_84[0][0]'] \n",
      "                                                                                                  \n",
      " activation_87 (Activation)     (None, 3, 3, 192)    0           ['batch_normalization_87[0][0]'] \n",
      "                                                                                                  \n",
      " block17_3_mixed (Concatenate)  (None, 3, 3, 384)    0           ['activation_84[0][0]',          \n",
      "                                                                  'activation_87[0][0]']          \n",
      "                                                                                                  \n",
      " block17_3_conv (Conv2D)        (None, 3, 3, 1088)   418880      ['block17_3_mixed[0][0]']        \n",
      "                                                                                                  \n",
      " custom_scale_layer_12 (CustomS  (None, 3, 3, 1088)  0           ['block17_2_ac[0][0]',           \n",
      " caleLayer)                                                       'block17_3_conv[0][0]']         \n",
      "                                                                                                  \n",
      " block17_3_ac (Activation)      (None, 3, 3, 1088)   0           ['custom_scale_layer_12[0][0]']  \n",
      "                                                                                                  \n",
      " conv2d_89 (Conv2D)             (None, 3, 3, 128)    139264      ['block17_3_ac[0][0]']           \n",
      "                                                                                                  \n",
      " batch_normalization_89 (BatchN  (None, 3, 3, 128)   384         ['conv2d_89[0][0]']              \n",
      " ormalization)                                                                                    \n",
      "                                                                                                  \n",
      " activation_89 (Activation)     (None, 3, 3, 128)    0           ['batch_normalization_89[0][0]'] \n",
      "                                                                                                  \n",
      " conv2d_90 (Conv2D)             (None, 3, 3, 160)    143360      ['activation_89[0][0]']          \n",
      "                                                                                                  \n",
      " batch_normalization_90 (BatchN  (None, 3, 3, 160)   480         ['conv2d_90[0][0]']              \n",
      " ormalization)                                                                                    \n",
      "                                                                                                  \n",
      " activation_90 (Activation)     (None, 3, 3, 160)    0           ['batch_normalization_90[0][0]'] \n",
      "                                                                                                  \n",
      " conv2d_88 (Conv2D)             (None, 3, 3, 192)    208896      ['block17_3_ac[0][0]']           \n",
      "                                                                                                  \n",
      " conv2d_91 (Conv2D)             (None, 3, 3, 192)    215040      ['activation_90[0][0]']          \n",
      "                                                                                                  \n",
      " batch_normalization_88 (BatchN  (None, 3, 3, 192)   576         ['conv2d_88[0][0]']              \n",
      " ormalization)                                                                                    \n",
      "                                                                                                  \n",
      " batch_normalization_91 (BatchN  (None, 3, 3, 192)   576         ['conv2d_91[0][0]']              \n",
      " ormalization)                                                                                    \n",
      "                                                                                                  \n",
      " activation_88 (Activation)     (None, 3, 3, 192)    0           ['batch_normalization_88[0][0]'] \n",
      "                                                                                                  \n",
      " activation_91 (Activation)     (None, 3, 3, 192)    0           ['batch_normalization_91[0][0]'] \n",
      "                                                                                                  \n",
      " block17_4_mixed (Concatenate)  (None, 3, 3, 384)    0           ['activation_88[0][0]',          \n",
      "                                                                  'activation_91[0][0]']          \n",
      "                                                                                                  \n",
      " block17_4_conv (Conv2D)        (None, 3, 3, 1088)   418880      ['block17_4_mixed[0][0]']        \n",
      "                                                                                                  \n",
      " custom_scale_layer_13 (CustomS  (None, 3, 3, 1088)  0           ['block17_3_ac[0][0]',           \n",
      " caleLayer)                                                       'block17_4_conv[0][0]']         \n",
      "                                                                                                  \n",
      " block17_4_ac (Activation)      (None, 3, 3, 1088)   0           ['custom_scale_layer_13[0][0]']  \n",
      "                                                                                                  \n",
      " conv2d_93 (Conv2D)             (None, 3, 3, 128)    139264      ['block17_4_ac[0][0]']           \n",
      "                                                                                                  \n",
      " batch_normalization_93 (BatchN  (None, 3, 3, 128)   384         ['conv2d_93[0][0]']              \n",
      " ormalization)                                                                                    \n",
      "                                                                                                  \n",
      " activation_93 (Activation)     (None, 3, 3, 128)    0           ['batch_normalization_93[0][0]'] \n",
      "                                                                                                  \n",
      " conv2d_94 (Conv2D)             (None, 3, 3, 160)    143360      ['activation_93[0][0]']          \n",
      "                                                                                                  \n",
      " batch_normalization_94 (BatchN  (None, 3, 3, 160)   480         ['conv2d_94[0][0]']              \n",
      " ormalization)                                                                                    \n",
      "                                                                                                  \n",
      " activation_94 (Activation)     (None, 3, 3, 160)    0           ['batch_normalization_94[0][0]'] \n"
     ]
    },
    {
     "name": "stdout",
     "output_type": "stream",
     "text": [
      "                                                                                                  \n",
      " conv2d_92 (Conv2D)             (None, 3, 3, 192)    208896      ['block17_4_ac[0][0]']           \n",
      "                                                                                                  \n",
      " conv2d_95 (Conv2D)             (None, 3, 3, 192)    215040      ['activation_94[0][0]']          \n",
      "                                                                                                  \n",
      " batch_normalization_92 (BatchN  (None, 3, 3, 192)   576         ['conv2d_92[0][0]']              \n",
      " ormalization)                                                                                    \n",
      "                                                                                                  \n",
      " batch_normalization_95 (BatchN  (None, 3, 3, 192)   576         ['conv2d_95[0][0]']              \n",
      " ormalization)                                                                                    \n",
      "                                                                                                  \n",
      " activation_92 (Activation)     (None, 3, 3, 192)    0           ['batch_normalization_92[0][0]'] \n",
      "                                                                                                  \n",
      " activation_95 (Activation)     (None, 3, 3, 192)    0           ['batch_normalization_95[0][0]'] \n",
      "                                                                                                  \n",
      " block17_5_mixed (Concatenate)  (None, 3, 3, 384)    0           ['activation_92[0][0]',          \n",
      "                                                                  'activation_95[0][0]']          \n",
      "                                                                                                  \n",
      " block17_5_conv (Conv2D)        (None, 3, 3, 1088)   418880      ['block17_5_mixed[0][0]']        \n",
      "                                                                                                  \n",
      " custom_scale_layer_14 (CustomS  (None, 3, 3, 1088)  0           ['block17_4_ac[0][0]',           \n",
      " caleLayer)                                                       'block17_5_conv[0][0]']         \n",
      "                                                                                                  \n",
      " block17_5_ac (Activation)      (None, 3, 3, 1088)   0           ['custom_scale_layer_14[0][0]']  \n",
      "                                                                                                  \n",
      " conv2d_97 (Conv2D)             (None, 3, 3, 128)    139264      ['block17_5_ac[0][0]']           \n",
      "                                                                                                  \n",
      " batch_normalization_97 (BatchN  (None, 3, 3, 128)   384         ['conv2d_97[0][0]']              \n",
      " ormalization)                                                                                    \n",
      "                                                                                                  \n",
      " activation_97 (Activation)     (None, 3, 3, 128)    0           ['batch_normalization_97[0][0]'] \n",
      "                                                                                                  \n",
      " conv2d_98 (Conv2D)             (None, 3, 3, 160)    143360      ['activation_97[0][0]']          \n",
      "                                                                                                  \n",
      " batch_normalization_98 (BatchN  (None, 3, 3, 160)   480         ['conv2d_98[0][0]']              \n",
      " ormalization)                                                                                    \n",
      "                                                                                                  \n",
      " activation_98 (Activation)     (None, 3, 3, 160)    0           ['batch_normalization_98[0][0]'] \n",
      "                                                                                                  \n",
      " conv2d_96 (Conv2D)             (None, 3, 3, 192)    208896      ['block17_5_ac[0][0]']           \n",
      "                                                                                                  \n",
      " conv2d_99 (Conv2D)             (None, 3, 3, 192)    215040      ['activation_98[0][0]']          \n",
      "                                                                                                  \n",
      " batch_normalization_96 (BatchN  (None, 3, 3, 192)   576         ['conv2d_96[0][0]']              \n",
      " ormalization)                                                                                    \n",
      "                                                                                                  \n",
      " batch_normalization_99 (BatchN  (None, 3, 3, 192)   576         ['conv2d_99[0][0]']              \n",
      " ormalization)                                                                                    \n",
      "                                                                                                  \n",
      " activation_96 (Activation)     (None, 3, 3, 192)    0           ['batch_normalization_96[0][0]'] \n",
      "                                                                                                  \n",
      " activation_99 (Activation)     (None, 3, 3, 192)    0           ['batch_normalization_99[0][0]'] \n",
      "                                                                                                  \n",
      " block17_6_mixed (Concatenate)  (None, 3, 3, 384)    0           ['activation_96[0][0]',          \n",
      "                                                                  'activation_99[0][0]']          \n",
      "                                                                                                  \n",
      " block17_6_conv (Conv2D)        (None, 3, 3, 1088)   418880      ['block17_6_mixed[0][0]']        \n",
      "                                                                                                  \n",
      " custom_scale_layer_15 (CustomS  (None, 3, 3, 1088)  0           ['block17_5_ac[0][0]',           \n",
      " caleLayer)                                                       'block17_6_conv[0][0]']         \n",
      "                                                                                                  \n",
      " block17_6_ac (Activation)      (None, 3, 3, 1088)   0           ['custom_scale_layer_15[0][0]']  \n",
      "                                                                                                  \n",
      " conv2d_101 (Conv2D)            (None, 3, 3, 128)    139264      ['block17_6_ac[0][0]']           \n",
      "                                                                                                  \n",
      " batch_normalization_101 (Batch  (None, 3, 3, 128)   384         ['conv2d_101[0][0]']             \n",
      " Normalization)                                                                                   \n",
      "                                                                                                  \n",
      " activation_101 (Activation)    (None, 3, 3, 128)    0           ['batch_normalization_101[0][0]']\n",
      "                                                                                                  \n",
      " conv2d_102 (Conv2D)            (None, 3, 3, 160)    143360      ['activation_101[0][0]']         \n",
      "                                                                                                  \n",
      " batch_normalization_102 (Batch  (None, 3, 3, 160)   480         ['conv2d_102[0][0]']             \n",
      " Normalization)                                                                                   \n",
      "                                                                                                  \n",
      " activation_102 (Activation)    (None, 3, 3, 160)    0           ['batch_normalization_102[0][0]']\n",
      "                                                                                                  \n",
      " conv2d_100 (Conv2D)            (None, 3, 3, 192)    208896      ['block17_6_ac[0][0]']           \n",
      "                                                                                                  \n",
      " conv2d_103 (Conv2D)            (None, 3, 3, 192)    215040      ['activation_102[0][0]']         \n",
      "                                                                                                  \n",
      " batch_normalization_100 (Batch  (None, 3, 3, 192)   576         ['conv2d_100[0][0]']             \n",
      " Normalization)                                                                                   \n"
     ]
    },
    {
     "name": "stdout",
     "output_type": "stream",
     "text": [
      "                                                                                                  \n",
      " batch_normalization_103 (Batch  (None, 3, 3, 192)   576         ['conv2d_103[0][0]']             \n",
      " Normalization)                                                                                   \n",
      "                                                                                                  \n",
      " activation_100 (Activation)    (None, 3, 3, 192)    0           ['batch_normalization_100[0][0]']\n",
      "                                                                                                  \n",
      " activation_103 (Activation)    (None, 3, 3, 192)    0           ['batch_normalization_103[0][0]']\n",
      "                                                                                                  \n",
      " block17_7_mixed (Concatenate)  (None, 3, 3, 384)    0           ['activation_100[0][0]',         \n",
      "                                                                  'activation_103[0][0]']         \n",
      "                                                                                                  \n",
      " block17_7_conv (Conv2D)        (None, 3, 3, 1088)   418880      ['block17_7_mixed[0][0]']        \n",
      "                                                                                                  \n",
      " custom_scale_layer_16 (CustomS  (None, 3, 3, 1088)  0           ['block17_6_ac[0][0]',           \n",
      " caleLayer)                                                       'block17_7_conv[0][0]']         \n",
      "                                                                                                  \n",
      " block17_7_ac (Activation)      (None, 3, 3, 1088)   0           ['custom_scale_layer_16[0][0]']  \n",
      "                                                                                                  \n",
      " conv2d_105 (Conv2D)            (None, 3, 3, 128)    139264      ['block17_7_ac[0][0]']           \n",
      "                                                                                                  \n",
      " batch_normalization_105 (Batch  (None, 3, 3, 128)   384         ['conv2d_105[0][0]']             \n",
      " Normalization)                                                                                   \n",
      "                                                                                                  \n",
      " activation_105 (Activation)    (None, 3, 3, 128)    0           ['batch_normalization_105[0][0]']\n",
      "                                                                                                  \n",
      " conv2d_106 (Conv2D)            (None, 3, 3, 160)    143360      ['activation_105[0][0]']         \n",
      "                                                                                                  \n",
      " batch_normalization_106 (Batch  (None, 3, 3, 160)   480         ['conv2d_106[0][0]']             \n",
      " Normalization)                                                                                   \n",
      "                                                                                                  \n",
      " activation_106 (Activation)    (None, 3, 3, 160)    0           ['batch_normalization_106[0][0]']\n",
      "                                                                                                  \n",
      " conv2d_104 (Conv2D)            (None, 3, 3, 192)    208896      ['block17_7_ac[0][0]']           \n",
      "                                                                                                  \n",
      " conv2d_107 (Conv2D)            (None, 3, 3, 192)    215040      ['activation_106[0][0]']         \n",
      "                                                                                                  \n",
      " batch_normalization_104 (Batch  (None, 3, 3, 192)   576         ['conv2d_104[0][0]']             \n",
      " Normalization)                                                                                   \n",
      "                                                                                                  \n",
      " batch_normalization_107 (Batch  (None, 3, 3, 192)   576         ['conv2d_107[0][0]']             \n",
      " Normalization)                                                                                   \n",
      "                                                                                                  \n",
      " activation_104 (Activation)    (None, 3, 3, 192)    0           ['batch_normalization_104[0][0]']\n",
      "                                                                                                  \n",
      " activation_107 (Activation)    (None, 3, 3, 192)    0           ['batch_normalization_107[0][0]']\n",
      "                                                                                                  \n",
      " block17_8_mixed (Concatenate)  (None, 3, 3, 384)    0           ['activation_104[0][0]',         \n",
      "                                                                  'activation_107[0][0]']         \n",
      "                                                                                                  \n",
      " block17_8_conv (Conv2D)        (None, 3, 3, 1088)   418880      ['block17_8_mixed[0][0]']        \n",
      "                                                                                                  \n",
      " custom_scale_layer_17 (CustomS  (None, 3, 3, 1088)  0           ['block17_7_ac[0][0]',           \n",
      " caleLayer)                                                       'block17_8_conv[0][0]']         \n",
      "                                                                                                  \n",
      " block17_8_ac (Activation)      (None, 3, 3, 1088)   0           ['custom_scale_layer_17[0][0]']  \n",
      "                                                                                                  \n",
      " conv2d_109 (Conv2D)            (None, 3, 3, 128)    139264      ['block17_8_ac[0][0]']           \n",
      "                                                                                                  \n",
      " batch_normalization_109 (Batch  (None, 3, 3, 128)   384         ['conv2d_109[0][0]']             \n",
      " Normalization)                                                                                   \n",
      "                                                                                                  \n",
      " activation_109 (Activation)    (None, 3, 3, 128)    0           ['batch_normalization_109[0][0]']\n",
      "                                                                                                  \n",
      " conv2d_110 (Conv2D)            (None, 3, 3, 160)    143360      ['activation_109[0][0]']         \n",
      "                                                                                                  \n",
      " batch_normalization_110 (Batch  (None, 3, 3, 160)   480         ['conv2d_110[0][0]']             \n",
      " Normalization)                                                                                   \n",
      "                                                                                                  \n",
      " activation_110 (Activation)    (None, 3, 3, 160)    0           ['batch_normalization_110[0][0]']\n",
      "                                                                                                  \n",
      " conv2d_108 (Conv2D)            (None, 3, 3, 192)    208896      ['block17_8_ac[0][0]']           \n",
      "                                                                                                  \n",
      " conv2d_111 (Conv2D)            (None, 3, 3, 192)    215040      ['activation_110[0][0]']         \n",
      "                                                                                                  \n",
      " batch_normalization_108 (Batch  (None, 3, 3, 192)   576         ['conv2d_108[0][0]']             \n",
      " Normalization)                                                                                   \n",
      "                                                                                                  \n",
      " batch_normalization_111 (Batch  (None, 3, 3, 192)   576         ['conv2d_111[0][0]']             \n",
      " Normalization)                                                                                   \n",
      "                                                                                                  \n",
      " activation_108 (Activation)    (None, 3, 3, 192)    0           ['batch_normalization_108[0][0]']\n",
      "                                                                                                  \n",
      " activation_111 (Activation)    (None, 3, 3, 192)    0           ['batch_normalization_111[0][0]']\n"
     ]
    },
    {
     "name": "stdout",
     "output_type": "stream",
     "text": [
      "                                                                                                  \n",
      " block17_9_mixed (Concatenate)  (None, 3, 3, 384)    0           ['activation_108[0][0]',         \n",
      "                                                                  'activation_111[0][0]']         \n",
      "                                                                                                  \n",
      " block17_9_conv (Conv2D)        (None, 3, 3, 1088)   418880      ['block17_9_mixed[0][0]']        \n",
      "                                                                                                  \n",
      " custom_scale_layer_18 (CustomS  (None, 3, 3, 1088)  0           ['block17_8_ac[0][0]',           \n",
      " caleLayer)                                                       'block17_9_conv[0][0]']         \n",
      "                                                                                                  \n",
      " block17_9_ac (Activation)      (None, 3, 3, 1088)   0           ['custom_scale_layer_18[0][0]']  \n",
      "                                                                                                  \n",
      " conv2d_113 (Conv2D)            (None, 3, 3, 128)    139264      ['block17_9_ac[0][0]']           \n",
      "                                                                                                  \n",
      " batch_normalization_113 (Batch  (None, 3, 3, 128)   384         ['conv2d_113[0][0]']             \n",
      " Normalization)                                                                                   \n",
      "                                                                                                  \n",
      " activation_113 (Activation)    (None, 3, 3, 128)    0           ['batch_normalization_113[0][0]']\n",
      "                                                                                                  \n",
      " conv2d_114 (Conv2D)            (None, 3, 3, 160)    143360      ['activation_113[0][0]']         \n",
      "                                                                                                  \n",
      " batch_normalization_114 (Batch  (None, 3, 3, 160)   480         ['conv2d_114[0][0]']             \n",
      " Normalization)                                                                                   \n",
      "                                                                                                  \n",
      " activation_114 (Activation)    (None, 3, 3, 160)    0           ['batch_normalization_114[0][0]']\n",
      "                                                                                                  \n",
      " conv2d_112 (Conv2D)            (None, 3, 3, 192)    208896      ['block17_9_ac[0][0]']           \n",
      "                                                                                                  \n",
      " conv2d_115 (Conv2D)            (None, 3, 3, 192)    215040      ['activation_114[0][0]']         \n",
      "                                                                                                  \n",
      " batch_normalization_112 (Batch  (None, 3, 3, 192)   576         ['conv2d_112[0][0]']             \n",
      " Normalization)                                                                                   \n",
      "                                                                                                  \n",
      " batch_normalization_115 (Batch  (None, 3, 3, 192)   576         ['conv2d_115[0][0]']             \n",
      " Normalization)                                                                                   \n",
      "                                                                                                  \n",
      " activation_112 (Activation)    (None, 3, 3, 192)    0           ['batch_normalization_112[0][0]']\n",
      "                                                                                                  \n",
      " activation_115 (Activation)    (None, 3, 3, 192)    0           ['batch_normalization_115[0][0]']\n",
      "                                                                                                  \n",
      " block17_10_mixed (Concatenate)  (None, 3, 3, 384)   0           ['activation_112[0][0]',         \n",
      "                                                                  'activation_115[0][0]']         \n",
      "                                                                                                  \n",
      " block17_10_conv (Conv2D)       (None, 3, 3, 1088)   418880      ['block17_10_mixed[0][0]']       \n",
      "                                                                                                  \n",
      " custom_scale_layer_19 (CustomS  (None, 3, 3, 1088)  0           ['block17_9_ac[0][0]',           \n",
      " caleLayer)                                                       'block17_10_conv[0][0]']        \n",
      "                                                                                                  \n",
      " block17_10_ac (Activation)     (None, 3, 3, 1088)   0           ['custom_scale_layer_19[0][0]']  \n",
      "                                                                                                  \n",
      " conv2d_117 (Conv2D)            (None, 3, 3, 128)    139264      ['block17_10_ac[0][0]']          \n",
      "                                                                                                  \n",
      " batch_normalization_117 (Batch  (None, 3, 3, 128)   384         ['conv2d_117[0][0]']             \n",
      " Normalization)                                                                                   \n",
      "                                                                                                  \n",
      " activation_117 (Activation)    (None, 3, 3, 128)    0           ['batch_normalization_117[0][0]']\n",
      "                                                                                                  \n",
      " conv2d_118 (Conv2D)            (None, 3, 3, 160)    143360      ['activation_117[0][0]']         \n",
      "                                                                                                  \n",
      " batch_normalization_118 (Batch  (None, 3, 3, 160)   480         ['conv2d_118[0][0]']             \n",
      " Normalization)                                                                                   \n",
      "                                                                                                  \n",
      " activation_118 (Activation)    (None, 3, 3, 160)    0           ['batch_normalization_118[0][0]']\n",
      "                                                                                                  \n",
      " conv2d_116 (Conv2D)            (None, 3, 3, 192)    208896      ['block17_10_ac[0][0]']          \n",
      "                                                                                                  \n",
      " conv2d_119 (Conv2D)            (None, 3, 3, 192)    215040      ['activation_118[0][0]']         \n",
      "                                                                                                  \n",
      " batch_normalization_116 (Batch  (None, 3, 3, 192)   576         ['conv2d_116[0][0]']             \n",
      " Normalization)                                                                                   \n",
      "                                                                                                  \n",
      " batch_normalization_119 (Batch  (None, 3, 3, 192)   576         ['conv2d_119[0][0]']             \n",
      " Normalization)                                                                                   \n",
      "                                                                                                  \n",
      " activation_116 (Activation)    (None, 3, 3, 192)    0           ['batch_normalization_116[0][0]']\n",
      "                                                                                                  \n",
      " activation_119 (Activation)    (None, 3, 3, 192)    0           ['batch_normalization_119[0][0]']\n",
      "                                                                                                  \n",
      " block17_11_mixed (Concatenate)  (None, 3, 3, 384)   0           ['activation_116[0][0]',         \n",
      "                                                                  'activation_119[0][0]']         \n",
      "                                                                                                  \n",
      " block17_11_conv (Conv2D)       (None, 3, 3, 1088)   418880      ['block17_11_mixed[0][0]']       \n",
      "                                                                                                  \n",
      " custom_scale_layer_20 (CustomS  (None, 3, 3, 1088)  0           ['block17_10_ac[0][0]',          \n"
     ]
    },
    {
     "name": "stdout",
     "output_type": "stream",
     "text": [
      " caleLayer)                                                       'block17_11_conv[0][0]']        \n",
      "                                                                                                  \n",
      " block17_11_ac (Activation)     (None, 3, 3, 1088)   0           ['custom_scale_layer_20[0][0]']  \n",
      "                                                                                                  \n",
      " conv2d_121 (Conv2D)            (None, 3, 3, 128)    139264      ['block17_11_ac[0][0]']          \n",
      "                                                                                                  \n",
      " batch_normalization_121 (Batch  (None, 3, 3, 128)   384         ['conv2d_121[0][0]']             \n",
      " Normalization)                                                                                   \n",
      "                                                                                                  \n",
      " activation_121 (Activation)    (None, 3, 3, 128)    0           ['batch_normalization_121[0][0]']\n",
      "                                                                                                  \n",
      " conv2d_122 (Conv2D)            (None, 3, 3, 160)    143360      ['activation_121[0][0]']         \n",
      "                                                                                                  \n",
      " batch_normalization_122 (Batch  (None, 3, 3, 160)   480         ['conv2d_122[0][0]']             \n",
      " Normalization)                                                                                   \n",
      "                                                                                                  \n",
      " activation_122 (Activation)    (None, 3, 3, 160)    0           ['batch_normalization_122[0][0]']\n",
      "                                                                                                  \n",
      " conv2d_120 (Conv2D)            (None, 3, 3, 192)    208896      ['block17_11_ac[0][0]']          \n",
      "                                                                                                  \n",
      " conv2d_123 (Conv2D)            (None, 3, 3, 192)    215040      ['activation_122[0][0]']         \n",
      "                                                                                                  \n",
      " batch_normalization_120 (Batch  (None, 3, 3, 192)   576         ['conv2d_120[0][0]']             \n",
      " Normalization)                                                                                   \n",
      "                                                                                                  \n",
      " batch_normalization_123 (Batch  (None, 3, 3, 192)   576         ['conv2d_123[0][0]']             \n",
      " Normalization)                                                                                   \n",
      "                                                                                                  \n",
      " activation_120 (Activation)    (None, 3, 3, 192)    0           ['batch_normalization_120[0][0]']\n",
      "                                                                                                  \n",
      " activation_123 (Activation)    (None, 3, 3, 192)    0           ['batch_normalization_123[0][0]']\n",
      "                                                                                                  \n",
      " block17_12_mixed (Concatenate)  (None, 3, 3, 384)   0           ['activation_120[0][0]',         \n",
      "                                                                  'activation_123[0][0]']         \n",
      "                                                                                                  \n",
      " block17_12_conv (Conv2D)       (None, 3, 3, 1088)   418880      ['block17_12_mixed[0][0]']       \n",
      "                                                                                                  \n",
      " custom_scale_layer_21 (CustomS  (None, 3, 3, 1088)  0           ['block17_11_ac[0][0]',          \n",
      " caleLayer)                                                       'block17_12_conv[0][0]']        \n",
      "                                                                                                  \n",
      " block17_12_ac (Activation)     (None, 3, 3, 1088)   0           ['custom_scale_layer_21[0][0]']  \n",
      "                                                                                                  \n",
      " conv2d_125 (Conv2D)            (None, 3, 3, 128)    139264      ['block17_12_ac[0][0]']          \n",
      "                                                                                                  \n",
      " batch_normalization_125 (Batch  (None, 3, 3, 128)   384         ['conv2d_125[0][0]']             \n",
      " Normalization)                                                                                   \n",
      "                                                                                                  \n",
      " activation_125 (Activation)    (None, 3, 3, 128)    0           ['batch_normalization_125[0][0]']\n",
      "                                                                                                  \n",
      " conv2d_126 (Conv2D)            (None, 3, 3, 160)    143360      ['activation_125[0][0]']         \n",
      "                                                                                                  \n",
      " batch_normalization_126 (Batch  (None, 3, 3, 160)   480         ['conv2d_126[0][0]']             \n",
      " Normalization)                                                                                   \n",
      "                                                                                                  \n",
      " activation_126 (Activation)    (None, 3, 3, 160)    0           ['batch_normalization_126[0][0]']\n",
      "                                                                                                  \n",
      " conv2d_124 (Conv2D)            (None, 3, 3, 192)    208896      ['block17_12_ac[0][0]']          \n",
      "                                                                                                  \n",
      " conv2d_127 (Conv2D)            (None, 3, 3, 192)    215040      ['activation_126[0][0]']         \n",
      "                                                                                                  \n",
      " batch_normalization_124 (Batch  (None, 3, 3, 192)   576         ['conv2d_124[0][0]']             \n",
      " Normalization)                                                                                   \n",
      "                                                                                                  \n",
      " batch_normalization_127 (Batch  (None, 3, 3, 192)   576         ['conv2d_127[0][0]']             \n",
      " Normalization)                                                                                   \n",
      "                                                                                                  \n",
      " activation_124 (Activation)    (None, 3, 3, 192)    0           ['batch_normalization_124[0][0]']\n",
      "                                                                                                  \n",
      " activation_127 (Activation)    (None, 3, 3, 192)    0           ['batch_normalization_127[0][0]']\n",
      "                                                                                                  \n",
      " block17_13_mixed (Concatenate)  (None, 3, 3, 384)   0           ['activation_124[0][0]',         \n",
      "                                                                  'activation_127[0][0]']         \n",
      "                                                                                                  \n",
      " block17_13_conv (Conv2D)       (None, 3, 3, 1088)   418880      ['block17_13_mixed[0][0]']       \n",
      "                                                                                                  \n",
      " custom_scale_layer_22 (CustomS  (None, 3, 3, 1088)  0           ['block17_12_ac[0][0]',          \n",
      " caleLayer)                                                       'block17_13_conv[0][0]']        \n",
      "                                                                                                  \n",
      " block17_13_ac (Activation)     (None, 3, 3, 1088)   0           ['custom_scale_layer_22[0][0]']  \n",
      "                                                                                                  \n",
      " conv2d_129 (Conv2D)            (None, 3, 3, 128)    139264      ['block17_13_ac[0][0]']          \n",
      "                                                                                                  \n",
      " batch_normalization_129 (Batch  (None, 3, 3, 128)   384         ['conv2d_129[0][0]']             \n"
     ]
    },
    {
     "name": "stdout",
     "output_type": "stream",
     "text": [
      " Normalization)                                                                                   \n",
      "                                                                                                  \n",
      " activation_129 (Activation)    (None, 3, 3, 128)    0           ['batch_normalization_129[0][0]']\n",
      "                                                                                                  \n",
      " conv2d_130 (Conv2D)            (None, 3, 3, 160)    143360      ['activation_129[0][0]']         \n",
      "                                                                                                  \n",
      " batch_normalization_130 (Batch  (None, 3, 3, 160)   480         ['conv2d_130[0][0]']             \n",
      " Normalization)                                                                                   \n",
      "                                                                                                  \n",
      " activation_130 (Activation)    (None, 3, 3, 160)    0           ['batch_normalization_130[0][0]']\n",
      "                                                                                                  \n",
      " conv2d_128 (Conv2D)            (None, 3, 3, 192)    208896      ['block17_13_ac[0][0]']          \n",
      "                                                                                                  \n",
      " conv2d_131 (Conv2D)            (None, 3, 3, 192)    215040      ['activation_130[0][0]']         \n",
      "                                                                                                  \n",
      " batch_normalization_128 (Batch  (None, 3, 3, 192)   576         ['conv2d_128[0][0]']             \n",
      " Normalization)                                                                                   \n",
      "                                                                                                  \n",
      " batch_normalization_131 (Batch  (None, 3, 3, 192)   576         ['conv2d_131[0][0]']             \n",
      " Normalization)                                                                                   \n",
      "                                                                                                  \n",
      " activation_128 (Activation)    (None, 3, 3, 192)    0           ['batch_normalization_128[0][0]']\n",
      "                                                                                                  \n",
      " activation_131 (Activation)    (None, 3, 3, 192)    0           ['batch_normalization_131[0][0]']\n",
      "                                                                                                  \n",
      " block17_14_mixed (Concatenate)  (None, 3, 3, 384)   0           ['activation_128[0][0]',         \n",
      "                                                                  'activation_131[0][0]']         \n",
      "                                                                                                  \n",
      " block17_14_conv (Conv2D)       (None, 3, 3, 1088)   418880      ['block17_14_mixed[0][0]']       \n",
      "                                                                                                  \n",
      " custom_scale_layer_23 (CustomS  (None, 3, 3, 1088)  0           ['block17_13_ac[0][0]',          \n",
      " caleLayer)                                                       'block17_14_conv[0][0]']        \n",
      "                                                                                                  \n",
      " block17_14_ac (Activation)     (None, 3, 3, 1088)   0           ['custom_scale_layer_23[0][0]']  \n",
      "                                                                                                  \n",
      " conv2d_133 (Conv2D)            (None, 3, 3, 128)    139264      ['block17_14_ac[0][0]']          \n",
      "                                                                                                  \n",
      " batch_normalization_133 (Batch  (None, 3, 3, 128)   384         ['conv2d_133[0][0]']             \n",
      " Normalization)                                                                                   \n",
      "                                                                                                  \n",
      " activation_133 (Activation)    (None, 3, 3, 128)    0           ['batch_normalization_133[0][0]']\n",
      "                                                                                                  \n",
      " conv2d_134 (Conv2D)            (None, 3, 3, 160)    143360      ['activation_133[0][0]']         \n",
      "                                                                                                  \n",
      " batch_normalization_134 (Batch  (None, 3, 3, 160)   480         ['conv2d_134[0][0]']             \n",
      " Normalization)                                                                                   \n",
      "                                                                                                  \n",
      " activation_134 (Activation)    (None, 3, 3, 160)    0           ['batch_normalization_134[0][0]']\n",
      "                                                                                                  \n",
      " conv2d_132 (Conv2D)            (None, 3, 3, 192)    208896      ['block17_14_ac[0][0]']          \n",
      "                                                                                                  \n",
      " conv2d_135 (Conv2D)            (None, 3, 3, 192)    215040      ['activation_134[0][0]']         \n",
      "                                                                                                  \n",
      " batch_normalization_132 (Batch  (None, 3, 3, 192)   576         ['conv2d_132[0][0]']             \n",
      " Normalization)                                                                                   \n",
      "                                                                                                  \n",
      " batch_normalization_135 (Batch  (None, 3, 3, 192)   576         ['conv2d_135[0][0]']             \n",
      " Normalization)                                                                                   \n",
      "                                                                                                  \n",
      " activation_132 (Activation)    (None, 3, 3, 192)    0           ['batch_normalization_132[0][0]']\n",
      "                                                                                                  \n",
      " activation_135 (Activation)    (None, 3, 3, 192)    0           ['batch_normalization_135[0][0]']\n",
      "                                                                                                  \n",
      " block17_15_mixed (Concatenate)  (None, 3, 3, 384)   0           ['activation_132[0][0]',         \n",
      "                                                                  'activation_135[0][0]']         \n",
      "                                                                                                  \n",
      " block17_15_conv (Conv2D)       (None, 3, 3, 1088)   418880      ['block17_15_mixed[0][0]']       \n",
      "                                                                                                  \n",
      " custom_scale_layer_24 (CustomS  (None, 3, 3, 1088)  0           ['block17_14_ac[0][0]',          \n",
      " caleLayer)                                                       'block17_15_conv[0][0]']        \n",
      "                                                                                                  \n",
      " block17_15_ac (Activation)     (None, 3, 3, 1088)   0           ['custom_scale_layer_24[0][0]']  \n",
      "                                                                                                  \n",
      " conv2d_137 (Conv2D)            (None, 3, 3, 128)    139264      ['block17_15_ac[0][0]']          \n",
      "                                                                                                  \n",
      " batch_normalization_137 (Batch  (None, 3, 3, 128)   384         ['conv2d_137[0][0]']             \n",
      " Normalization)                                                                                   \n",
      "                                                                                                  \n",
      " activation_137 (Activation)    (None, 3, 3, 128)    0           ['batch_normalization_137[0][0]']\n",
      "                                                                                                  \n",
      " conv2d_138 (Conv2D)            (None, 3, 3, 160)    143360      ['activation_137[0][0]']         \n",
      "                                                                                                  \n",
      " batch_normalization_138 (Batch  (None, 3, 3, 160)   480         ['conv2d_138[0][0]']             \n"
     ]
    },
    {
     "name": "stdout",
     "output_type": "stream",
     "text": [
      " Normalization)                                                                                   \n",
      "                                                                                                  \n",
      " activation_138 (Activation)    (None, 3, 3, 160)    0           ['batch_normalization_138[0][0]']\n",
      "                                                                                                  \n",
      " conv2d_136 (Conv2D)            (None, 3, 3, 192)    208896      ['block17_15_ac[0][0]']          \n",
      "                                                                                                  \n",
      " conv2d_139 (Conv2D)            (None, 3, 3, 192)    215040      ['activation_138[0][0]']         \n",
      "                                                                                                  \n",
      " batch_normalization_136 (Batch  (None, 3, 3, 192)   576         ['conv2d_136[0][0]']             \n",
      " Normalization)                                                                                   \n",
      "                                                                                                  \n",
      " batch_normalization_139 (Batch  (None, 3, 3, 192)   576         ['conv2d_139[0][0]']             \n",
      " Normalization)                                                                                   \n",
      "                                                                                                  \n",
      " activation_136 (Activation)    (None, 3, 3, 192)    0           ['batch_normalization_136[0][0]']\n",
      "                                                                                                  \n",
      " activation_139 (Activation)    (None, 3, 3, 192)    0           ['batch_normalization_139[0][0]']\n",
      "                                                                                                  \n",
      " block17_16_mixed (Concatenate)  (None, 3, 3, 384)   0           ['activation_136[0][0]',         \n",
      "                                                                  'activation_139[0][0]']         \n",
      "                                                                                                  \n",
      " block17_16_conv (Conv2D)       (None, 3, 3, 1088)   418880      ['block17_16_mixed[0][0]']       \n",
      "                                                                                                  \n",
      " custom_scale_layer_25 (CustomS  (None, 3, 3, 1088)  0           ['block17_15_ac[0][0]',          \n",
      " caleLayer)                                                       'block17_16_conv[0][0]']        \n",
      "                                                                                                  \n",
      " block17_16_ac (Activation)     (None, 3, 3, 1088)   0           ['custom_scale_layer_25[0][0]']  \n",
      "                                                                                                  \n",
      " conv2d_141 (Conv2D)            (None, 3, 3, 128)    139264      ['block17_16_ac[0][0]']          \n",
      "                                                                                                  \n",
      " batch_normalization_141 (Batch  (None, 3, 3, 128)   384         ['conv2d_141[0][0]']             \n",
      " Normalization)                                                                                   \n",
      "                                                                                                  \n",
      " activation_141 (Activation)    (None, 3, 3, 128)    0           ['batch_normalization_141[0][0]']\n",
      "                                                                                                  \n",
      " conv2d_142 (Conv2D)            (None, 3, 3, 160)    143360      ['activation_141[0][0]']         \n",
      "                                                                                                  \n",
      " batch_normalization_142 (Batch  (None, 3, 3, 160)   480         ['conv2d_142[0][0]']             \n",
      " Normalization)                                                                                   \n",
      "                                                                                                  \n",
      " activation_142 (Activation)    (None, 3, 3, 160)    0           ['batch_normalization_142[0][0]']\n",
      "                                                                                                  \n",
      " conv2d_140 (Conv2D)            (None, 3, 3, 192)    208896      ['block17_16_ac[0][0]']          \n",
      "                                                                                                  \n",
      " conv2d_143 (Conv2D)            (None, 3, 3, 192)    215040      ['activation_142[0][0]']         \n",
      "                                                                                                  \n",
      " batch_normalization_140 (Batch  (None, 3, 3, 192)   576         ['conv2d_140[0][0]']             \n",
      " Normalization)                                                                                   \n",
      "                                                                                                  \n",
      " batch_normalization_143 (Batch  (None, 3, 3, 192)   576         ['conv2d_143[0][0]']             \n",
      " Normalization)                                                                                   \n",
      "                                                                                                  \n",
      " activation_140 (Activation)    (None, 3, 3, 192)    0           ['batch_normalization_140[0][0]']\n",
      "                                                                                                  \n",
      " activation_143 (Activation)    (None, 3, 3, 192)    0           ['batch_normalization_143[0][0]']\n",
      "                                                                                                  \n",
      " block17_17_mixed (Concatenate)  (None, 3, 3, 384)   0           ['activation_140[0][0]',         \n",
      "                                                                  'activation_143[0][0]']         \n",
      "                                                                                                  \n",
      " block17_17_conv (Conv2D)       (None, 3, 3, 1088)   418880      ['block17_17_mixed[0][0]']       \n",
      "                                                                                                  \n",
      " custom_scale_layer_26 (CustomS  (None, 3, 3, 1088)  0           ['block17_16_ac[0][0]',          \n",
      " caleLayer)                                                       'block17_17_conv[0][0]']        \n",
      "                                                                                                  \n",
      " block17_17_ac (Activation)     (None, 3, 3, 1088)   0           ['custom_scale_layer_26[0][0]']  \n",
      "                                                                                                  \n",
      " conv2d_145 (Conv2D)            (None, 3, 3, 128)    139264      ['block17_17_ac[0][0]']          \n",
      "                                                                                                  \n",
      " batch_normalization_145 (Batch  (None, 3, 3, 128)   384         ['conv2d_145[0][0]']             \n",
      " Normalization)                                                                                   \n",
      "                                                                                                  \n",
      " activation_145 (Activation)    (None, 3, 3, 128)    0           ['batch_normalization_145[0][0]']\n",
      "                                                                                                  \n",
      " conv2d_146 (Conv2D)            (None, 3, 3, 160)    143360      ['activation_145[0][0]']         \n",
      "                                                                                                  \n",
      " batch_normalization_146 (Batch  (None, 3, 3, 160)   480         ['conv2d_146[0][0]']             \n",
      " Normalization)                                                                                   \n",
      "                                                                                                  \n",
      " activation_146 (Activation)    (None, 3, 3, 160)    0           ['batch_normalization_146[0][0]']\n",
      "                                                                                                  \n",
      " conv2d_144 (Conv2D)            (None, 3, 3, 192)    208896      ['block17_17_ac[0][0]']          \n",
      "                                                                                                  \n",
      " conv2d_147 (Conv2D)            (None, 3, 3, 192)    215040      ['activation_146[0][0]']         \n"
     ]
    },
    {
     "name": "stdout",
     "output_type": "stream",
     "text": [
      "                                                                                                  \n",
      " batch_normalization_144 (Batch  (None, 3, 3, 192)   576         ['conv2d_144[0][0]']             \n",
      " Normalization)                                                                                   \n",
      "                                                                                                  \n",
      " batch_normalization_147 (Batch  (None, 3, 3, 192)   576         ['conv2d_147[0][0]']             \n",
      " Normalization)                                                                                   \n",
      "                                                                                                  \n",
      " activation_144 (Activation)    (None, 3, 3, 192)    0           ['batch_normalization_144[0][0]']\n",
      "                                                                                                  \n",
      " activation_147 (Activation)    (None, 3, 3, 192)    0           ['batch_normalization_147[0][0]']\n",
      "                                                                                                  \n",
      " block17_18_mixed (Concatenate)  (None, 3, 3, 384)   0           ['activation_144[0][0]',         \n",
      "                                                                  'activation_147[0][0]']         \n",
      "                                                                                                  \n",
      " block17_18_conv (Conv2D)       (None, 3, 3, 1088)   418880      ['block17_18_mixed[0][0]']       \n",
      "                                                                                                  \n",
      " custom_scale_layer_27 (CustomS  (None, 3, 3, 1088)  0           ['block17_17_ac[0][0]',          \n",
      " caleLayer)                                                       'block17_18_conv[0][0]']        \n",
      "                                                                                                  \n",
      " block17_18_ac (Activation)     (None, 3, 3, 1088)   0           ['custom_scale_layer_27[0][0]']  \n",
      "                                                                                                  \n",
      " conv2d_149 (Conv2D)            (None, 3, 3, 128)    139264      ['block17_18_ac[0][0]']          \n",
      "                                                                                                  \n",
      " batch_normalization_149 (Batch  (None, 3, 3, 128)   384         ['conv2d_149[0][0]']             \n",
      " Normalization)                                                                                   \n",
      "                                                                                                  \n",
      " activation_149 (Activation)    (None, 3, 3, 128)    0           ['batch_normalization_149[0][0]']\n",
      "                                                                                                  \n",
      " conv2d_150 (Conv2D)            (None, 3, 3, 160)    143360      ['activation_149[0][0]']         \n",
      "                                                                                                  \n",
      " batch_normalization_150 (Batch  (None, 3, 3, 160)   480         ['conv2d_150[0][0]']             \n",
      " Normalization)                                                                                   \n",
      "                                                                                                  \n",
      " activation_150 (Activation)    (None, 3, 3, 160)    0           ['batch_normalization_150[0][0]']\n",
      "                                                                                                  \n",
      " conv2d_148 (Conv2D)            (None, 3, 3, 192)    208896      ['block17_18_ac[0][0]']          \n",
      "                                                                                                  \n",
      " conv2d_151 (Conv2D)            (None, 3, 3, 192)    215040      ['activation_150[0][0]']         \n",
      "                                                                                                  \n",
      " batch_normalization_148 (Batch  (None, 3, 3, 192)   576         ['conv2d_148[0][0]']             \n",
      " Normalization)                                                                                   \n",
      "                                                                                                  \n",
      " batch_normalization_151 (Batch  (None, 3, 3, 192)   576         ['conv2d_151[0][0]']             \n",
      " Normalization)                                                                                   \n",
      "                                                                                                  \n",
      " activation_148 (Activation)    (None, 3, 3, 192)    0           ['batch_normalization_148[0][0]']\n",
      "                                                                                                  \n",
      " activation_151 (Activation)    (None, 3, 3, 192)    0           ['batch_normalization_151[0][0]']\n",
      "                                                                                                  \n",
      " block17_19_mixed (Concatenate)  (None, 3, 3, 384)   0           ['activation_148[0][0]',         \n",
      "                                                                  'activation_151[0][0]']         \n",
      "                                                                                                  \n",
      " block17_19_conv (Conv2D)       (None, 3, 3, 1088)   418880      ['block17_19_mixed[0][0]']       \n",
      "                                                                                                  \n",
      " custom_scale_layer_28 (CustomS  (None, 3, 3, 1088)  0           ['block17_18_ac[0][0]',          \n",
      " caleLayer)                                                       'block17_19_conv[0][0]']        \n",
      "                                                                                                  \n",
      " block17_19_ac (Activation)     (None, 3, 3, 1088)   0           ['custom_scale_layer_28[0][0]']  \n",
      "                                                                                                  \n",
      " conv2d_153 (Conv2D)            (None, 3, 3, 128)    139264      ['block17_19_ac[0][0]']          \n",
      "                                                                                                  \n",
      " batch_normalization_153 (Batch  (None, 3, 3, 128)   384         ['conv2d_153[0][0]']             \n",
      " Normalization)                                                                                   \n",
      "                                                                                                  \n",
      " activation_153 (Activation)    (None, 3, 3, 128)    0           ['batch_normalization_153[0][0]']\n",
      "                                                                                                  \n",
      " conv2d_154 (Conv2D)            (None, 3, 3, 160)    143360      ['activation_153[0][0]']         \n",
      "                                                                                                  \n",
      " batch_normalization_154 (Batch  (None, 3, 3, 160)   480         ['conv2d_154[0][0]']             \n",
      " Normalization)                                                                                   \n",
      "                                                                                                  \n",
      " activation_154 (Activation)    (None, 3, 3, 160)    0           ['batch_normalization_154[0][0]']\n",
      "                                                                                                  \n",
      " conv2d_152 (Conv2D)            (None, 3, 3, 192)    208896      ['block17_19_ac[0][0]']          \n",
      "                                                                                                  \n",
      " conv2d_155 (Conv2D)            (None, 3, 3, 192)    215040      ['activation_154[0][0]']         \n",
      "                                                                                                  \n",
      " batch_normalization_152 (Batch  (None, 3, 3, 192)   576         ['conv2d_152[0][0]']             \n",
      " Normalization)                                                                                   \n",
      "                                                                                                  \n",
      " batch_normalization_155 (Batch  (None, 3, 3, 192)   576         ['conv2d_155[0][0]']             \n",
      " Normalization)                                                                                   \n",
      "                                                                                                  \n"
     ]
    },
    {
     "name": "stdout",
     "output_type": "stream",
     "text": [
      " activation_152 (Activation)    (None, 3, 3, 192)    0           ['batch_normalization_152[0][0]']\n",
      "                                                                                                  \n",
      " activation_155 (Activation)    (None, 3, 3, 192)    0           ['batch_normalization_155[0][0]']\n",
      "                                                                                                  \n",
      " block17_20_mixed (Concatenate)  (None, 3, 3, 384)   0           ['activation_152[0][0]',         \n",
      "                                                                  'activation_155[0][0]']         \n",
      "                                                                                                  \n",
      " block17_20_conv (Conv2D)       (None, 3, 3, 1088)   418880      ['block17_20_mixed[0][0]']       \n",
      "                                                                                                  \n",
      " custom_scale_layer_29 (CustomS  (None, 3, 3, 1088)  0           ['block17_19_ac[0][0]',          \n",
      " caleLayer)                                                       'block17_20_conv[0][0]']        \n",
      "                                                                                                  \n",
      " block17_20_ac (Activation)     (None, 3, 3, 1088)   0           ['custom_scale_layer_29[0][0]']  \n",
      "                                                                                                  \n",
      " conv2d_160 (Conv2D)            (None, 3, 3, 256)    278528      ['block17_20_ac[0][0]']          \n",
      "                                                                                                  \n",
      " batch_normalization_160 (Batch  (None, 3, 3, 256)   768         ['conv2d_160[0][0]']             \n",
      " Normalization)                                                                                   \n",
      "                                                                                                  \n",
      " activation_160 (Activation)    (None, 3, 3, 256)    0           ['batch_normalization_160[0][0]']\n",
      "                                                                                                  \n",
      " conv2d_156 (Conv2D)            (None, 3, 3, 256)    278528      ['block17_20_ac[0][0]']          \n",
      "                                                                                                  \n",
      " conv2d_158 (Conv2D)            (None, 3, 3, 256)    278528      ['block17_20_ac[0][0]']          \n",
      "                                                                                                  \n",
      " conv2d_161 (Conv2D)            (None, 3, 3, 288)    663552      ['activation_160[0][0]']         \n",
      "                                                                                                  \n",
      " batch_normalization_156 (Batch  (None, 3, 3, 256)   768         ['conv2d_156[0][0]']             \n",
      " Normalization)                                                                                   \n",
      "                                                                                                  \n",
      " batch_normalization_158 (Batch  (None, 3, 3, 256)   768         ['conv2d_158[0][0]']             \n",
      " Normalization)                                                                                   \n",
      "                                                                                                  \n",
      " batch_normalization_161 (Batch  (None, 3, 3, 288)   864         ['conv2d_161[0][0]']             \n",
      " Normalization)                                                                                   \n",
      "                                                                                                  \n",
      " activation_156 (Activation)    (None, 3, 3, 256)    0           ['batch_normalization_156[0][0]']\n",
      "                                                                                                  \n",
      " activation_158 (Activation)    (None, 3, 3, 256)    0           ['batch_normalization_158[0][0]']\n",
      "                                                                                                  \n",
      " activation_161 (Activation)    (None, 3, 3, 288)    0           ['batch_normalization_161[0][0]']\n",
      "                                                                                                  \n",
      " conv2d_157 (Conv2D)            (None, 1, 1, 384)    884736      ['activation_156[0][0]']         \n",
      "                                                                                                  \n",
      " conv2d_159 (Conv2D)            (None, 1, 1, 288)    663552      ['activation_158[0][0]']         \n",
      "                                                                                                  \n",
      " conv2d_162 (Conv2D)            (None, 1, 1, 320)    829440      ['activation_161[0][0]']         \n",
      "                                                                                                  \n",
      " batch_normalization_157 (Batch  (None, 1, 1, 384)   1152        ['conv2d_157[0][0]']             \n",
      " Normalization)                                                                                   \n",
      "                                                                                                  \n",
      " batch_normalization_159 (Batch  (None, 1, 1, 288)   864         ['conv2d_159[0][0]']             \n",
      " Normalization)                                                                                   \n",
      "                                                                                                  \n",
      " batch_normalization_162 (Batch  (None, 1, 1, 320)   960         ['conv2d_162[0][0]']             \n",
      " Normalization)                                                                                   \n",
      "                                                                                                  \n",
      " activation_157 (Activation)    (None, 1, 1, 384)    0           ['batch_normalization_157[0][0]']\n",
      "                                                                                                  \n",
      " activation_159 (Activation)    (None, 1, 1, 288)    0           ['batch_normalization_159[0][0]']\n",
      "                                                                                                  \n",
      " activation_162 (Activation)    (None, 1, 1, 320)    0           ['batch_normalization_162[0][0]']\n",
      "                                                                                                  \n",
      " max_pooling2d_3 (MaxPooling2D)  (None, 1, 1, 1088)  0           ['block17_20_ac[0][0]']          \n",
      "                                                                                                  \n",
      " mixed_7a (Concatenate)         (None, 1, 1, 2080)   0           ['activation_157[0][0]',         \n",
      "                                                                  'activation_159[0][0]',         \n",
      "                                                                  'activation_162[0][0]',         \n",
      "                                                                  'max_pooling2d_3[0][0]']        \n",
      "                                                                                                  \n",
      " conv2d_164 (Conv2D)            (None, 1, 1, 192)    399360      ['mixed_7a[0][0]']               \n",
      "                                                                                                  \n",
      " batch_normalization_164 (Batch  (None, 1, 1, 192)   576         ['conv2d_164[0][0]']             \n",
      " Normalization)                                                                                   \n",
      "                                                                                                  \n",
      " activation_164 (Activation)    (None, 1, 1, 192)    0           ['batch_normalization_164[0][0]']\n",
      "                                                                                                  \n",
      " conv2d_165 (Conv2D)            (None, 1, 1, 224)    129024      ['activation_164[0][0]']         \n",
      "                                                                                                  \n",
      " batch_normalization_165 (Batch  (None, 1, 1, 224)   672         ['conv2d_165[0][0]']             \n",
      " Normalization)                                                                                   \n",
      "                                                                                                  \n",
      " activation_165 (Activation)    (None, 1, 1, 224)    0           ['batch_normalization_165[0][0]']\n"
     ]
    },
    {
     "name": "stdout",
     "output_type": "stream",
     "text": [
      "                                                                                                  \n",
      " conv2d_163 (Conv2D)            (None, 1, 1, 192)    399360      ['mixed_7a[0][0]']               \n",
      "                                                                                                  \n",
      " conv2d_166 (Conv2D)            (None, 1, 1, 256)    172032      ['activation_165[0][0]']         \n",
      "                                                                                                  \n",
      " batch_normalization_163 (Batch  (None, 1, 1, 192)   576         ['conv2d_163[0][0]']             \n",
      " Normalization)                                                                                   \n",
      "                                                                                                  \n",
      " batch_normalization_166 (Batch  (None, 1, 1, 256)   768         ['conv2d_166[0][0]']             \n",
      " Normalization)                                                                                   \n",
      "                                                                                                  \n",
      " activation_163 (Activation)    (None, 1, 1, 192)    0           ['batch_normalization_163[0][0]']\n",
      "                                                                                                  \n",
      " activation_166 (Activation)    (None, 1, 1, 256)    0           ['batch_normalization_166[0][0]']\n",
      "                                                                                                  \n",
      " block8_1_mixed (Concatenate)   (None, 1, 1, 448)    0           ['activation_163[0][0]',         \n",
      "                                                                  'activation_166[0][0]']         \n",
      "                                                                                                  \n",
      " block8_1_conv (Conv2D)         (None, 1, 1, 2080)   933920      ['block8_1_mixed[0][0]']         \n",
      "                                                                                                  \n",
      " custom_scale_layer_30 (CustomS  (None, 1, 1, 2080)  0           ['mixed_7a[0][0]',               \n",
      " caleLayer)                                                       'block8_1_conv[0][0]']          \n",
      "                                                                                                  \n",
      " block8_1_ac (Activation)       (None, 1, 1, 2080)   0           ['custom_scale_layer_30[0][0]']  \n",
      "                                                                                                  \n",
      " conv2d_168 (Conv2D)            (None, 1, 1, 192)    399360      ['block8_1_ac[0][0]']            \n",
      "                                                                                                  \n",
      " batch_normalization_168 (Batch  (None, 1, 1, 192)   576         ['conv2d_168[0][0]']             \n",
      " Normalization)                                                                                   \n",
      "                                                                                                  \n",
      " activation_168 (Activation)    (None, 1, 1, 192)    0           ['batch_normalization_168[0][0]']\n",
      "                                                                                                  \n",
      " conv2d_169 (Conv2D)            (None, 1, 1, 224)    129024      ['activation_168[0][0]']         \n",
      "                                                                                                  \n",
      " batch_normalization_169 (Batch  (None, 1, 1, 224)   672         ['conv2d_169[0][0]']             \n",
      " Normalization)                                                                                   \n",
      "                                                                                                  \n",
      " activation_169 (Activation)    (None, 1, 1, 224)    0           ['batch_normalization_169[0][0]']\n",
      "                                                                                                  \n",
      " conv2d_167 (Conv2D)            (None, 1, 1, 192)    399360      ['block8_1_ac[0][0]']            \n",
      "                                                                                                  \n",
      " conv2d_170 (Conv2D)            (None, 1, 1, 256)    172032      ['activation_169[0][0]']         \n",
      "                                                                                                  \n",
      " batch_normalization_167 (Batch  (None, 1, 1, 192)   576         ['conv2d_167[0][0]']             \n",
      " Normalization)                                                                                   \n",
      "                                                                                                  \n",
      " batch_normalization_170 (Batch  (None, 1, 1, 256)   768         ['conv2d_170[0][0]']             \n",
      " Normalization)                                                                                   \n",
      "                                                                                                  \n",
      " activation_167 (Activation)    (None, 1, 1, 192)    0           ['batch_normalization_167[0][0]']\n",
      "                                                                                                  \n",
      " activation_170 (Activation)    (None, 1, 1, 256)    0           ['batch_normalization_170[0][0]']\n",
      "                                                                                                  \n",
      " block8_2_mixed (Concatenate)   (None, 1, 1, 448)    0           ['activation_167[0][0]',         \n",
      "                                                                  'activation_170[0][0]']         \n",
      "                                                                                                  \n",
      " block8_2_conv (Conv2D)         (None, 1, 1, 2080)   933920      ['block8_2_mixed[0][0]']         \n",
      "                                                                                                  \n",
      " custom_scale_layer_31 (CustomS  (None, 1, 1, 2080)  0           ['block8_1_ac[0][0]',            \n",
      " caleLayer)                                                       'block8_2_conv[0][0]']          \n",
      "                                                                                                  \n",
      " block8_2_ac (Activation)       (None, 1, 1, 2080)   0           ['custom_scale_layer_31[0][0]']  \n",
      "                                                                                                  \n",
      " conv2d_172 (Conv2D)            (None, 1, 1, 192)    399360      ['block8_2_ac[0][0]']            \n",
      "                                                                                                  \n",
      " batch_normalization_172 (Batch  (None, 1, 1, 192)   576         ['conv2d_172[0][0]']             \n",
      " Normalization)                                                                                   \n",
      "                                                                                                  \n",
      " activation_172 (Activation)    (None, 1, 1, 192)    0           ['batch_normalization_172[0][0]']\n",
      "                                                                                                  \n",
      " conv2d_173 (Conv2D)            (None, 1, 1, 224)    129024      ['activation_172[0][0]']         \n",
      "                                                                                                  \n",
      " batch_normalization_173 (Batch  (None, 1, 1, 224)   672         ['conv2d_173[0][0]']             \n",
      " Normalization)                                                                                   \n",
      "                                                                                                  \n",
      " activation_173 (Activation)    (None, 1, 1, 224)    0           ['batch_normalization_173[0][0]']\n",
      "                                                                                                  \n",
      " conv2d_171 (Conv2D)            (None, 1, 1, 192)    399360      ['block8_2_ac[0][0]']            \n",
      "                                                                                                  \n",
      " conv2d_174 (Conv2D)            (None, 1, 1, 256)    172032      ['activation_173[0][0]']         \n",
      "                                                                                                  \n",
      " batch_normalization_171 (Batch  (None, 1, 1, 192)   576         ['conv2d_171[0][0]']             \n",
      " Normalization)                                                                                   \n"
     ]
    },
    {
     "name": "stdout",
     "output_type": "stream",
     "text": [
      "                                                                                                  \n",
      " batch_normalization_174 (Batch  (None, 1, 1, 256)   768         ['conv2d_174[0][0]']             \n",
      " Normalization)                                                                                   \n",
      "                                                                                                  \n",
      " activation_171 (Activation)    (None, 1, 1, 192)    0           ['batch_normalization_171[0][0]']\n",
      "                                                                                                  \n",
      " activation_174 (Activation)    (None, 1, 1, 256)    0           ['batch_normalization_174[0][0]']\n",
      "                                                                                                  \n",
      " block8_3_mixed (Concatenate)   (None, 1, 1, 448)    0           ['activation_171[0][0]',         \n",
      "                                                                  'activation_174[0][0]']         \n",
      "                                                                                                  \n",
      " block8_3_conv (Conv2D)         (None, 1, 1, 2080)   933920      ['block8_3_mixed[0][0]']         \n",
      "                                                                                                  \n",
      " custom_scale_layer_32 (CustomS  (None, 1, 1, 2080)  0           ['block8_2_ac[0][0]',            \n",
      " caleLayer)                                                       'block8_3_conv[0][0]']          \n",
      "                                                                                                  \n",
      " block8_3_ac (Activation)       (None, 1, 1, 2080)   0           ['custom_scale_layer_32[0][0]']  \n",
      "                                                                                                  \n",
      " conv2d_176 (Conv2D)            (None, 1, 1, 192)    399360      ['block8_3_ac[0][0]']            \n",
      "                                                                                                  \n",
      " batch_normalization_176 (Batch  (None, 1, 1, 192)   576         ['conv2d_176[0][0]']             \n",
      " Normalization)                                                                                   \n",
      "                                                                                                  \n",
      " activation_176 (Activation)    (None, 1, 1, 192)    0           ['batch_normalization_176[0][0]']\n",
      "                                                                                                  \n",
      " conv2d_177 (Conv2D)            (None, 1, 1, 224)    129024      ['activation_176[0][0]']         \n",
      "                                                                                                  \n",
      " batch_normalization_177 (Batch  (None, 1, 1, 224)   672         ['conv2d_177[0][0]']             \n",
      " Normalization)                                                                                   \n",
      "                                                                                                  \n",
      " activation_177 (Activation)    (None, 1, 1, 224)    0           ['batch_normalization_177[0][0]']\n",
      "                                                                                                  \n",
      " conv2d_175 (Conv2D)            (None, 1, 1, 192)    399360      ['block8_3_ac[0][0]']            \n",
      "                                                                                                  \n",
      " conv2d_178 (Conv2D)            (None, 1, 1, 256)    172032      ['activation_177[0][0]']         \n",
      "                                                                                                  \n",
      " batch_normalization_175 (Batch  (None, 1, 1, 192)   576         ['conv2d_175[0][0]']             \n",
      " Normalization)                                                                                   \n",
      "                                                                                                  \n",
      " batch_normalization_178 (Batch  (None, 1, 1, 256)   768         ['conv2d_178[0][0]']             \n",
      " Normalization)                                                                                   \n",
      "                                                                                                  \n",
      " activation_175 (Activation)    (None, 1, 1, 192)    0           ['batch_normalization_175[0][0]']\n",
      "                                                                                                  \n",
      " activation_178 (Activation)    (None, 1, 1, 256)    0           ['batch_normalization_178[0][0]']\n",
      "                                                                                                  \n",
      " block8_4_mixed (Concatenate)   (None, 1, 1, 448)    0           ['activation_175[0][0]',         \n",
      "                                                                  'activation_178[0][0]']         \n",
      "                                                                                                  \n",
      " block8_4_conv (Conv2D)         (None, 1, 1, 2080)   933920      ['block8_4_mixed[0][0]']         \n",
      "                                                                                                  \n",
      " custom_scale_layer_33 (CustomS  (None, 1, 1, 2080)  0           ['block8_3_ac[0][0]',            \n",
      " caleLayer)                                                       'block8_4_conv[0][0]']          \n",
      "                                                                                                  \n",
      " block8_4_ac (Activation)       (None, 1, 1, 2080)   0           ['custom_scale_layer_33[0][0]']  \n",
      "                                                                                                  \n",
      " conv2d_180 (Conv2D)            (None, 1, 1, 192)    399360      ['block8_4_ac[0][0]']            \n",
      "                                                                                                  \n",
      " batch_normalization_180 (Batch  (None, 1, 1, 192)   576         ['conv2d_180[0][0]']             \n",
      " Normalization)                                                                                   \n",
      "                                                                                                  \n",
      " activation_180 (Activation)    (None, 1, 1, 192)    0           ['batch_normalization_180[0][0]']\n",
      "                                                                                                  \n",
      " conv2d_181 (Conv2D)            (None, 1, 1, 224)    129024      ['activation_180[0][0]']         \n",
      "                                                                                                  \n",
      " batch_normalization_181 (Batch  (None, 1, 1, 224)   672         ['conv2d_181[0][0]']             \n",
      " Normalization)                                                                                   \n",
      "                                                                                                  \n",
      " activation_181 (Activation)    (None, 1, 1, 224)    0           ['batch_normalization_181[0][0]']\n",
      "                                                                                                  \n",
      " conv2d_179 (Conv2D)            (None, 1, 1, 192)    399360      ['block8_4_ac[0][0]']            \n",
      "                                                                                                  \n",
      " conv2d_182 (Conv2D)            (None, 1, 1, 256)    172032      ['activation_181[0][0]']         \n",
      "                                                                                                  \n",
      " batch_normalization_179 (Batch  (None, 1, 1, 192)   576         ['conv2d_179[0][0]']             \n",
      " Normalization)                                                                                   \n",
      "                                                                                                  \n",
      " batch_normalization_182 (Batch  (None, 1, 1, 256)   768         ['conv2d_182[0][0]']             \n",
      " Normalization)                                                                                   \n",
      "                                                                                                  \n",
      " activation_179 (Activation)    (None, 1, 1, 192)    0           ['batch_normalization_179[0][0]']\n",
      "                                                                                                  \n",
      " activation_182 (Activation)    (None, 1, 1, 256)    0           ['batch_normalization_182[0][0]']\n"
     ]
    },
    {
     "name": "stdout",
     "output_type": "stream",
     "text": [
      "                                                                                                  \n",
      " block8_5_mixed (Concatenate)   (None, 1, 1, 448)    0           ['activation_179[0][0]',         \n",
      "                                                                  'activation_182[0][0]']         \n",
      "                                                                                                  \n",
      " block8_5_conv (Conv2D)         (None, 1, 1, 2080)   933920      ['block8_5_mixed[0][0]']         \n",
      "                                                                                                  \n",
      " custom_scale_layer_34 (CustomS  (None, 1, 1, 2080)  0           ['block8_4_ac[0][0]',            \n",
      " caleLayer)                                                       'block8_5_conv[0][0]']          \n",
      "                                                                                                  \n",
      " block8_5_ac (Activation)       (None, 1, 1, 2080)   0           ['custom_scale_layer_34[0][0]']  \n",
      "                                                                                                  \n",
      " conv2d_184 (Conv2D)            (None, 1, 1, 192)    399360      ['block8_5_ac[0][0]']            \n",
      "                                                                                                  \n",
      " batch_normalization_184 (Batch  (None, 1, 1, 192)   576         ['conv2d_184[0][0]']             \n",
      " Normalization)                                                                                   \n",
      "                                                                                                  \n",
      " activation_184 (Activation)    (None, 1, 1, 192)    0           ['batch_normalization_184[0][0]']\n",
      "                                                                                                  \n",
      " conv2d_185 (Conv2D)            (None, 1, 1, 224)    129024      ['activation_184[0][0]']         \n",
      "                                                                                                  \n",
      " batch_normalization_185 (Batch  (None, 1, 1, 224)   672         ['conv2d_185[0][0]']             \n",
      " Normalization)                                                                                   \n",
      "                                                                                                  \n",
      " activation_185 (Activation)    (None, 1, 1, 224)    0           ['batch_normalization_185[0][0]']\n",
      "                                                                                                  \n",
      " conv2d_183 (Conv2D)            (None, 1, 1, 192)    399360      ['block8_5_ac[0][0]']            \n",
      "                                                                                                  \n",
      " conv2d_186 (Conv2D)            (None, 1, 1, 256)    172032      ['activation_185[0][0]']         \n",
      "                                                                                                  \n",
      " batch_normalization_183 (Batch  (None, 1, 1, 192)   576         ['conv2d_183[0][0]']             \n",
      " Normalization)                                                                                   \n",
      "                                                                                                  \n",
      " batch_normalization_186 (Batch  (None, 1, 1, 256)   768         ['conv2d_186[0][0]']             \n",
      " Normalization)                                                                                   \n",
      "                                                                                                  \n",
      " activation_183 (Activation)    (None, 1, 1, 192)    0           ['batch_normalization_183[0][0]']\n",
      "                                                                                                  \n",
      " activation_186 (Activation)    (None, 1, 1, 256)    0           ['batch_normalization_186[0][0]']\n",
      "                                                                                                  \n",
      " block8_6_mixed (Concatenate)   (None, 1, 1, 448)    0           ['activation_183[0][0]',         \n",
      "                                                                  'activation_186[0][0]']         \n",
      "                                                                                                  \n",
      " block8_6_conv (Conv2D)         (None, 1, 1, 2080)   933920      ['block8_6_mixed[0][0]']         \n",
      "                                                                                                  \n",
      " custom_scale_layer_35 (CustomS  (None, 1, 1, 2080)  0           ['block8_5_ac[0][0]',            \n",
      " caleLayer)                                                       'block8_6_conv[0][0]']          \n",
      "                                                                                                  \n",
      " block8_6_ac (Activation)       (None, 1, 1, 2080)   0           ['custom_scale_layer_35[0][0]']  \n",
      "                                                                                                  \n",
      " conv2d_188 (Conv2D)            (None, 1, 1, 192)    399360      ['block8_6_ac[0][0]']            \n",
      "                                                                                                  \n",
      " batch_normalization_188 (Batch  (None, 1, 1, 192)   576         ['conv2d_188[0][0]']             \n",
      " Normalization)                                                                                   \n",
      "                                                                                                  \n",
      " activation_188 (Activation)    (None, 1, 1, 192)    0           ['batch_normalization_188[0][0]']\n",
      "                                                                                                  \n",
      " conv2d_189 (Conv2D)            (None, 1, 1, 224)    129024      ['activation_188[0][0]']         \n",
      "                                                                                                  \n",
      " batch_normalization_189 (Batch  (None, 1, 1, 224)   672         ['conv2d_189[0][0]']             \n",
      " Normalization)                                                                                   \n",
      "                                                                                                  \n",
      " activation_189 (Activation)    (None, 1, 1, 224)    0           ['batch_normalization_189[0][0]']\n",
      "                                                                                                  \n",
      " conv2d_187 (Conv2D)            (None, 1, 1, 192)    399360      ['block8_6_ac[0][0]']            \n",
      "                                                                                                  \n",
      " conv2d_190 (Conv2D)            (None, 1, 1, 256)    172032      ['activation_189[0][0]']         \n",
      "                                                                                                  \n",
      " batch_normalization_187 (Batch  (None, 1, 1, 192)   576         ['conv2d_187[0][0]']             \n",
      " Normalization)                                                                                   \n",
      "                                                                                                  \n",
      " batch_normalization_190 (Batch  (None, 1, 1, 256)   768         ['conv2d_190[0][0]']             \n",
      " Normalization)                                                                                   \n",
      "                                                                                                  \n",
      " activation_187 (Activation)    (None, 1, 1, 192)    0           ['batch_normalization_187[0][0]']\n",
      "                                                                                                  \n",
      " activation_190 (Activation)    (None, 1, 1, 256)    0           ['batch_normalization_190[0][0]']\n",
      "                                                                                                  \n",
      " block8_7_mixed (Concatenate)   (None, 1, 1, 448)    0           ['activation_187[0][0]',         \n",
      "                                                                  'activation_190[0][0]']         \n",
      "                                                                                                  \n",
      " block8_7_conv (Conv2D)         (None, 1, 1, 2080)   933920      ['block8_7_mixed[0][0]']         \n",
      "                                                                                                  \n",
      " custom_scale_layer_36 (CustomS  (None, 1, 1, 2080)  0           ['block8_6_ac[0][0]',            \n"
     ]
    },
    {
     "name": "stdout",
     "output_type": "stream",
     "text": [
      " caleLayer)                                                       'block8_7_conv[0][0]']          \n",
      "                                                                                                  \n",
      " block8_7_ac (Activation)       (None, 1, 1, 2080)   0           ['custom_scale_layer_36[0][0]']  \n",
      "                                                                                                  \n",
      " conv2d_192 (Conv2D)            (None, 1, 1, 192)    399360      ['block8_7_ac[0][0]']            \n",
      "                                                                                                  \n",
      " batch_normalization_192 (Batch  (None, 1, 1, 192)   576         ['conv2d_192[0][0]']             \n",
      " Normalization)                                                                                   \n",
      "                                                                                                  \n",
      " activation_192 (Activation)    (None, 1, 1, 192)    0           ['batch_normalization_192[0][0]']\n",
      "                                                                                                  \n",
      " conv2d_193 (Conv2D)            (None, 1, 1, 224)    129024      ['activation_192[0][0]']         \n",
      "                                                                                                  \n",
      " batch_normalization_193 (Batch  (None, 1, 1, 224)   672         ['conv2d_193[0][0]']             \n",
      " Normalization)                                                                                   \n",
      "                                                                                                  \n",
      " activation_193 (Activation)    (None, 1, 1, 224)    0           ['batch_normalization_193[0][0]']\n",
      "                                                                                                  \n",
      " conv2d_191 (Conv2D)            (None, 1, 1, 192)    399360      ['block8_7_ac[0][0]']            \n",
      "                                                                                                  \n",
      " conv2d_194 (Conv2D)            (None, 1, 1, 256)    172032      ['activation_193[0][0]']         \n",
      "                                                                                                  \n",
      " batch_normalization_191 (Batch  (None, 1, 1, 192)   576         ['conv2d_191[0][0]']             \n",
      " Normalization)                                                                                   \n",
      "                                                                                                  \n",
      " batch_normalization_194 (Batch  (None, 1, 1, 256)   768         ['conv2d_194[0][0]']             \n",
      " Normalization)                                                                                   \n",
      "                                                                                                  \n",
      " activation_191 (Activation)    (None, 1, 1, 192)    0           ['batch_normalization_191[0][0]']\n",
      "                                                                                                  \n",
      " activation_194 (Activation)    (None, 1, 1, 256)    0           ['batch_normalization_194[0][0]']\n",
      "                                                                                                  \n",
      " block8_8_mixed (Concatenate)   (None, 1, 1, 448)    0           ['activation_191[0][0]',         \n",
      "                                                                  'activation_194[0][0]']         \n",
      "                                                                                                  \n",
      " block8_8_conv (Conv2D)         (None, 1, 1, 2080)   933920      ['block8_8_mixed[0][0]']         \n",
      "                                                                                                  \n",
      " custom_scale_layer_37 (CustomS  (None, 1, 1, 2080)  0           ['block8_7_ac[0][0]',            \n",
      " caleLayer)                                                       'block8_8_conv[0][0]']          \n",
      "                                                                                                  \n",
      " block8_8_ac (Activation)       (None, 1, 1, 2080)   0           ['custom_scale_layer_37[0][0]']  \n",
      "                                                                                                  \n",
      " conv2d_196 (Conv2D)            (None, 1, 1, 192)    399360      ['block8_8_ac[0][0]']            \n",
      "                                                                                                  \n",
      " batch_normalization_196 (Batch  (None, 1, 1, 192)   576         ['conv2d_196[0][0]']             \n",
      " Normalization)                                                                                   \n",
      "                                                                                                  \n",
      " activation_196 (Activation)    (None, 1, 1, 192)    0           ['batch_normalization_196[0][0]']\n",
      "                                                                                                  \n",
      " conv2d_197 (Conv2D)            (None, 1, 1, 224)    129024      ['activation_196[0][0]']         \n",
      "                                                                                                  \n",
      " batch_normalization_197 (Batch  (None, 1, 1, 224)   672         ['conv2d_197[0][0]']             \n",
      " Normalization)                                                                                   \n",
      "                                                                                                  \n",
      " activation_197 (Activation)    (None, 1, 1, 224)    0           ['batch_normalization_197[0][0]']\n",
      "                                                                                                  \n",
      " conv2d_195 (Conv2D)            (None, 1, 1, 192)    399360      ['block8_8_ac[0][0]']            \n",
      "                                                                                                  \n",
      " conv2d_198 (Conv2D)            (None, 1, 1, 256)    172032      ['activation_197[0][0]']         \n",
      "                                                                                                  \n",
      " batch_normalization_195 (Batch  (None, 1, 1, 192)   576         ['conv2d_195[0][0]']             \n",
      " Normalization)                                                                                   \n",
      "                                                                                                  \n",
      " batch_normalization_198 (Batch  (None, 1, 1, 256)   768         ['conv2d_198[0][0]']             \n",
      " Normalization)                                                                                   \n",
      "                                                                                                  \n",
      " activation_195 (Activation)    (None, 1, 1, 192)    0           ['batch_normalization_195[0][0]']\n",
      "                                                                                                  \n",
      " activation_198 (Activation)    (None, 1, 1, 256)    0           ['batch_normalization_198[0][0]']\n",
      "                                                                                                  \n",
      " block8_9_mixed (Concatenate)   (None, 1, 1, 448)    0           ['activation_195[0][0]',         \n",
      "                                                                  'activation_198[0][0]']         \n",
      "                                                                                                  \n",
      " block8_9_conv (Conv2D)         (None, 1, 1, 2080)   933920      ['block8_9_mixed[0][0]']         \n",
      "                                                                                                  \n",
      " custom_scale_layer_38 (CustomS  (None, 1, 1, 2080)  0           ['block8_8_ac[0][0]',            \n",
      " caleLayer)                                                       'block8_9_conv[0][0]']          \n",
      "                                                                                                  \n",
      " block8_9_ac (Activation)       (None, 1, 1, 2080)   0           ['custom_scale_layer_38[0][0]']  \n",
      "                                                                                                  \n",
      " conv2d_200 (Conv2D)            (None, 1, 1, 192)    399360      ['block8_9_ac[0][0]']            \n",
      "                                                                                                  \n",
      " batch_normalization_200 (Batch  (None, 1, 1, 192)   576         ['conv2d_200[0][0]']             \n"
     ]
    },
    {
     "name": "stdout",
     "output_type": "stream",
     "text": [
      " Normalization)                                                                                   \n",
      "                                                                                                  \n",
      " activation_200 (Activation)    (None, 1, 1, 192)    0           ['batch_normalization_200[0][0]']\n",
      "                                                                                                  \n",
      " conv2d_201 (Conv2D)            (None, 1, 1, 224)    129024      ['activation_200[0][0]']         \n",
      "                                                                                                  \n",
      " batch_normalization_201 (Batch  (None, 1, 1, 224)   672         ['conv2d_201[0][0]']             \n",
      " Normalization)                                                                                   \n",
      "                                                                                                  \n",
      " activation_201 (Activation)    (None, 1, 1, 224)    0           ['batch_normalization_201[0][0]']\n",
      "                                                                                                  \n",
      " conv2d_199 (Conv2D)            (None, 1, 1, 192)    399360      ['block8_9_ac[0][0]']            \n",
      "                                                                                                  \n",
      " conv2d_202 (Conv2D)            (None, 1, 1, 256)    172032      ['activation_201[0][0]']         \n",
      "                                                                                                  \n",
      " batch_normalization_199 (Batch  (None, 1, 1, 192)   576         ['conv2d_199[0][0]']             \n",
      " Normalization)                                                                                   \n",
      "                                                                                                  \n",
      " batch_normalization_202 (Batch  (None, 1, 1, 256)   768         ['conv2d_202[0][0]']             \n",
      " Normalization)                                                                                   \n",
      "                                                                                                  \n",
      " activation_199 (Activation)    (None, 1, 1, 192)    0           ['batch_normalization_199[0][0]']\n",
      "                                                                                                  \n",
      " activation_202 (Activation)    (None, 1, 1, 256)    0           ['batch_normalization_202[0][0]']\n",
      "                                                                                                  \n",
      " block8_10_mixed (Concatenate)  (None, 1, 1, 448)    0           ['activation_199[0][0]',         \n",
      "                                                                  'activation_202[0][0]']         \n",
      "                                                                                                  \n",
      " block8_10_conv (Conv2D)        (None, 1, 1, 2080)   933920      ['block8_10_mixed[0][0]']        \n",
      "                                                                                                  \n",
      " custom_scale_layer_39 (CustomS  (None, 1, 1, 2080)  0           ['block8_9_ac[0][0]',            \n",
      " caleLayer)                                                       'block8_10_conv[0][0]']         \n",
      "                                                                                                  \n",
      " conv_7b (Conv2D)               (None, 1, 1, 1536)   3194880     ['custom_scale_layer_39[0][0]']  \n",
      "                                                                                                  \n",
      " conv_7b_bn (BatchNormalization  (None, 1, 1, 1536)  4608        ['conv_7b[0][0]']                \n",
      " )                                                                                                \n",
      "                                                                                                  \n",
      " conv_7b_ac (Activation)        (None, 1, 1, 1536)   0           ['conv_7b_bn[0][0]']             \n",
      "                                                                                                  \n",
      " avg_pool (GlobalAveragePooling  (None, 1536)        0           ['conv_7b_ac[0][0]']             \n",
      " 2D)                                                                                              \n",
      "                                                                                                  \n",
      " flatten (Flatten)              (None, 1536)         0           ['avg_pool[0][0]']               \n",
      "                                                                                                  \n",
      " dense (Dense)                  (None, 64)           98368       ['flatten[0][0]']                \n",
      "                                                                                                  \n",
      " dense_1 (Dense)                (None, 64)           4160        ['dense[0][0]']                  \n",
      "                                                                                                  \n",
      "==================================================================================================\n",
      "Total params: 54,439,264\n",
      "Trainable params: 54,378,720\n",
      "Non-trainable params: 60,544\n",
      "__________________________________________________________________________________________________\n"
     ]
    }
   ],
   "source": [
    "new_model.compile(loss='categorical_crossentropy',\n",
    "                  optimizer=keras.optimizers.Adam(lr=1e-5),\n",
    "                  metrics=['accuracy'])\n",
    "\n",
    "# Freezing the weights\n",
    "for layer in base_model.layers[-20:]:\n",
    "    layer.trainable = True\n",
    "    \n",
    "new_model.summary()"
   ]
  },
  {
   "cell_type": "code",
   "execution_count": 7,
   "id": "3624b0c0",
   "metadata": {},
   "outputs": [
    {
     "name": "stderr",
     "output_type": "stream",
     "text": [
      "WARNING:absl:`lr` is deprecated in Keras optimizer, please use `learning_rate` or use the legacy optimizer, e.g.,tf.keras.optimizers.legacy.Adam.\n"
     ]
    },
    {
     "name": "stdout",
     "output_type": "stream",
     "text": [
      "Epoch 1/100\n"
     ]
    },
    {
     "name": "stderr",
     "output_type": "stream",
     "text": [
      "2023-05-14 13:44:22.178377: I tensorflow/core/common_runtime/executor.cc:1197] [/device:CPU:0] (DEBUG INFO) Executor start aborting (this does not indicate an error and you can ignore this message): INVALID_ARGUMENT: You must feed a value for placeholder tensor 'Placeholder/_0' with dtype int32\n",
      "\t [[{{node Placeholder/_0}}]]\n"
     ]
    },
    {
     "name": "stdout",
     "output_type": "stream",
     "text": [
      "4/4 [==============================] - ETA: 0s - loss: 0.5085 - f1_score: 0.0041WARNING:tensorflow:Early stopping conditioned on metric `F1Score(name=f1_score,dtype=float32,num_classes=64,average=macro,threshold=None)` which is not available. Available metrics are: loss,f1_score\n"
     ]
    },
    {
     "name": "stderr",
     "output_type": "stream",
     "text": [
      "WARNING:tensorflow:Early stopping conditioned on metric `F1Score(name=f1_score,dtype=float32,num_classes=64,average=macro,threshold=None)` which is not available. Available metrics are: loss,f1_score\n"
     ]
    },
    {
     "name": "stdout",
     "output_type": "stream",
     "text": [
      "4/4 [==============================] - 30s 534ms/step - loss: 0.5085 - f1_score: 0.0041\n",
      "Epoch 2/100\n",
      "4/4 [==============================] - ETA: 0s - loss: 0.2485 - f1_score: 0.0057WARNING:tensorflow:Early stopping conditioned on metric `F1Score(name=f1_score,dtype=float32,num_classes=64,average=macro,threshold=None)` which is not available. Available metrics are: loss,f1_score\n"
     ]
    },
    {
     "name": "stderr",
     "output_type": "stream",
     "text": [
      "WARNING:tensorflow:Early stopping conditioned on metric `F1Score(name=f1_score,dtype=float32,num_classes=64,average=macro,threshold=None)` which is not available. Available metrics are: loss,f1_score\n"
     ]
    },
    {
     "name": "stdout",
     "output_type": "stream",
     "text": [
      "4/4 [==============================] - 3s 848ms/step - loss: 0.2485 - f1_score: 0.0057\n",
      "Epoch 3/100\n",
      "4/4 [==============================] - ETA: 0s - loss: 0.1240 - f1_score: 0.0140WARNING:tensorflow:Early stopping conditioned on metric `F1Score(name=f1_score,dtype=float32,num_classes=64,average=macro,threshold=None)` which is not available. Available metrics are: loss,f1_score\n"
     ]
    },
    {
     "name": "stderr",
     "output_type": "stream",
     "text": [
      "WARNING:tensorflow:Early stopping conditioned on metric `F1Score(name=f1_score,dtype=float32,num_classes=64,average=macro,threshold=None)` which is not available. Available metrics are: loss,f1_score\n"
     ]
    },
    {
     "name": "stdout",
     "output_type": "stream",
     "text": [
      "4/4 [==============================] - 3s 689ms/step - loss: 0.1240 - f1_score: 0.0140\n",
      "Epoch 4/100\n",
      "4/4 [==============================] - ETA: 0s - loss: 0.0780 - f1_score: 0.0973WARNING:tensorflow:Early stopping conditioned on metric `F1Score(name=f1_score,dtype=float32,num_classes=64,average=macro,threshold=None)` which is not available. Available metrics are: loss,f1_score\n"
     ]
    },
    {
     "name": "stderr",
     "output_type": "stream",
     "text": [
      "WARNING:tensorflow:Early stopping conditioned on metric `F1Score(name=f1_score,dtype=float32,num_classes=64,average=macro,threshold=None)` which is not available. Available metrics are: loss,f1_score\n"
     ]
    },
    {
     "name": "stdout",
     "output_type": "stream",
     "text": [
      "4/4 [==============================] - 2s 466ms/step - loss: 0.0780 - f1_score: 0.0973\n",
      "Epoch 5/100\n",
      "4/4 [==============================] - ETA: 0s - loss: 0.0607 - f1_score: 0.3610WARNING:tensorflow:Early stopping conditioned on metric `F1Score(name=f1_score,dtype=float32,num_classes=64,average=macro,threshold=None)` which is not available. Available metrics are: loss,f1_score\n"
     ]
    },
    {
     "name": "stderr",
     "output_type": "stream",
     "text": [
      "WARNING:tensorflow:Early stopping conditioned on metric `F1Score(name=f1_score,dtype=float32,num_classes=64,average=macro,threshold=None)` which is not available. Available metrics are: loss,f1_score\n"
     ]
    },
    {
     "name": "stdout",
     "output_type": "stream",
     "text": [
      "4/4 [==============================] - 2s 553ms/step - loss: 0.0607 - f1_score: 0.3610\n",
      "Epoch 6/100\n",
      "4/4 [==============================] - ETA: 0s - loss: 0.0421 - f1_score: 0.5524WARNING:tensorflow:Early stopping conditioned on metric `F1Score(name=f1_score,dtype=float32,num_classes=64,average=macro,threshold=None)` which is not available. Available metrics are: loss,f1_score\n"
     ]
    },
    {
     "name": "stderr",
     "output_type": "stream",
     "text": [
      "WARNING:tensorflow:Early stopping conditioned on metric `F1Score(name=f1_score,dtype=float32,num_classes=64,average=macro,threshold=None)` which is not available. Available metrics are: loss,f1_score\n"
     ]
    },
    {
     "name": "stdout",
     "output_type": "stream",
     "text": [
      "4/4 [==============================] - 3s 552ms/step - loss: 0.0421 - f1_score: 0.5524\n",
      "Epoch 7/100\n",
      "4/4 [==============================] - ETA: 0s - loss: 0.0276 - f1_score: 0.7448WARNING:tensorflow:Early stopping conditioned on metric `F1Score(name=f1_score,dtype=float32,num_classes=64,average=macro,threshold=None)` which is not available. Available metrics are: loss,f1_score\n"
     ]
    },
    {
     "name": "stderr",
     "output_type": "stream",
     "text": [
      "WARNING:tensorflow:Early stopping conditioned on metric `F1Score(name=f1_score,dtype=float32,num_classes=64,average=macro,threshold=None)` which is not available. Available metrics are: loss,f1_score\n"
     ]
    },
    {
     "name": "stdout",
     "output_type": "stream",
     "text": [
      "4/4 [==============================] - 2s 453ms/step - loss: 0.0276 - f1_score: 0.7448\n",
      "Epoch 8/100\n",
      "4/4 [==============================] - ETA: 0s - loss: 0.0184 - f1_score: 0.8568WARNING:tensorflow:Early stopping conditioned on metric `F1Score(name=f1_score,dtype=float32,num_classes=64,average=macro,threshold=None)` which is not available. Available metrics are: loss,f1_score\n"
     ]
    },
    {
     "name": "stderr",
     "output_type": "stream",
     "text": [
      "WARNING:tensorflow:Early stopping conditioned on metric `F1Score(name=f1_score,dtype=float32,num_classes=64,average=macro,threshold=None)` which is not available. Available metrics are: loss,f1_score\n"
     ]
    },
    {
     "name": "stdout",
     "output_type": "stream",
     "text": [
      "4/4 [==============================] - 2s 516ms/step - loss: 0.0184 - f1_score: 0.8568\n",
      "Epoch 9/100\n",
      "4/4 [==============================] - ETA: 0s - loss: 0.0135 - f1_score: 0.9792WARNING:tensorflow:Early stopping conditioned on metric `F1Score(name=f1_score,dtype=float32,num_classes=64,average=macro,threshold=None)` which is not available. Available metrics are: loss,f1_score\n"
     ]
    },
    {
     "name": "stderr",
     "output_type": "stream",
     "text": [
      "WARNING:tensorflow:Early stopping conditioned on metric `F1Score(name=f1_score,dtype=float32,num_classes=64,average=macro,threshold=None)` which is not available. Available metrics are: loss,f1_score\n"
     ]
    },
    {
     "name": "stdout",
     "output_type": "stream",
     "text": [
      "4/4 [==============================] - 2s 542ms/step - loss: 0.0135 - f1_score: 0.9792\n",
      "Epoch 10/100\n",
      "4/4 [==============================] - ETA: 0s - loss: 0.0094 - f1_score: 0.9792WARNING:tensorflow:Early stopping conditioned on metric `F1Score(name=f1_score,dtype=float32,num_classes=64,average=macro,threshold=None)` which is not available. Available metrics are: loss,f1_score\n"
     ]
    },
    {
     "name": "stderr",
     "output_type": "stream",
     "text": [
      "WARNING:tensorflow:Early stopping conditioned on metric `F1Score(name=f1_score,dtype=float32,num_classes=64,average=macro,threshold=None)` which is not available. Available metrics are: loss,f1_score\n"
     ]
    },
    {
     "name": "stdout",
     "output_type": "stream",
     "text": [
      "4/4 [==============================] - 2s 589ms/step - loss: 0.0094 - f1_score: 0.9792\n",
      "Epoch 11/100\n",
      "4/4 [==============================] - ETA: 0s - loss: 0.0066 - f1_score: 1.0000WARNING:tensorflow:Early stopping conditioned on metric `F1Score(name=f1_score,dtype=float32,num_classes=64,average=macro,threshold=None)` which is not available. Available metrics are: loss,f1_score\n"
     ]
    },
    {
     "name": "stderr",
     "output_type": "stream",
     "text": [
      "WARNING:tensorflow:Early stopping conditioned on metric `F1Score(name=f1_score,dtype=float32,num_classes=64,average=macro,threshold=None)` which is not available. Available metrics are: loss,f1_score\n"
     ]
    },
    {
     "name": "stdout",
     "output_type": "stream",
     "text": [
      "4/4 [==============================] - 2s 493ms/step - loss: 0.0066 - f1_score: 1.0000\n",
      "Epoch 12/100\n",
      "4/4 [==============================] - ETA: 0s - loss: 0.0048 - f1_score: 1.0000WARNING:tensorflow:Early stopping conditioned on metric `F1Score(name=f1_score,dtype=float32,num_classes=64,average=macro,threshold=None)` which is not available. Available metrics are: loss,f1_score\n"
     ]
    },
    {
     "name": "stderr",
     "output_type": "stream",
     "text": [
      "WARNING:tensorflow:Early stopping conditioned on metric `F1Score(name=f1_score,dtype=float32,num_classes=64,average=macro,threshold=None)` which is not available. Available metrics are: loss,f1_score\n"
     ]
    },
    {
     "name": "stdout",
     "output_type": "stream",
     "text": [
      "4/4 [==============================] - 2s 446ms/step - loss: 0.0048 - f1_score: 1.0000\n",
      "Epoch 13/100\n",
      "4/4 [==============================] - ETA: 0s - loss: 0.0039 - f1_score: 1.0000WARNING:tensorflow:Early stopping conditioned on metric `F1Score(name=f1_score,dtype=float32,num_classes=64,average=macro,threshold=None)` which is not available. Available metrics are: loss,f1_score\n"
     ]
    },
    {
     "name": "stderr",
     "output_type": "stream",
     "text": [
      "WARNING:tensorflow:Early stopping conditioned on metric `F1Score(name=f1_score,dtype=float32,num_classes=64,average=macro,threshold=None)` which is not available. Available metrics are: loss,f1_score\n"
     ]
    },
    {
     "name": "stdout",
     "output_type": "stream",
     "text": [
      "4/4 [==============================] - 2s 467ms/step - loss: 0.0039 - f1_score: 1.0000\n",
      "Epoch 14/100\n",
      "4/4 [==============================] - ETA: 0s - loss: 0.0031 - f1_score: 1.0000WARNING:tensorflow:Early stopping conditioned on metric `F1Score(name=f1_score,dtype=float32,num_classes=64,average=macro,threshold=None)` which is not available. Available metrics are: loss,f1_score\n"
     ]
    },
    {
     "name": "stderr",
     "output_type": "stream",
     "text": [
      "WARNING:tensorflow:Early stopping conditioned on metric `F1Score(name=f1_score,dtype=float32,num_classes=64,average=macro,threshold=None)` which is not available. Available metrics are: loss,f1_score\n"
     ]
    },
    {
     "name": "stdout",
     "output_type": "stream",
     "text": [
      "4/4 [==============================] - 2s 440ms/step - loss: 0.0031 - f1_score: 1.0000\n",
      "Epoch 15/100\n",
      "4/4 [==============================] - ETA: 0s - loss: 0.0025 - f1_score: 1.0000WARNING:tensorflow:Early stopping conditioned on metric `F1Score(name=f1_score,dtype=float32,num_classes=64,average=macro,threshold=None)` which is not available. Available metrics are: loss,f1_score\n"
     ]
    },
    {
     "name": "stderr",
     "output_type": "stream",
     "text": [
      "WARNING:tensorflow:Early stopping conditioned on metric `F1Score(name=f1_score,dtype=float32,num_classes=64,average=macro,threshold=None)` which is not available. Available metrics are: loss,f1_score\n"
     ]
    },
    {
     "name": "stdout",
     "output_type": "stream",
     "text": [
      "4/4 [==============================] - 2s 574ms/step - loss: 0.0025 - f1_score: 1.0000\n",
      "Epoch 16/100\n",
      "4/4 [==============================] - ETA: 0s - loss: 0.0023 - f1_score: 1.0000WARNING:tensorflow:Early stopping conditioned on metric `F1Score(name=f1_score,dtype=float32,num_classes=64,average=macro,threshold=None)` which is not available. Available metrics are: loss,f1_score\n"
     ]
    },
    {
     "name": "stderr",
     "output_type": "stream",
     "text": [
      "WARNING:tensorflow:Early stopping conditioned on metric `F1Score(name=f1_score,dtype=float32,num_classes=64,average=macro,threshold=None)` which is not available. Available metrics are: loss,f1_score\n"
     ]
    },
    {
     "name": "stdout",
     "output_type": "stream",
     "text": [
      "4/4 [==============================] - 2s 544ms/step - loss: 0.0023 - f1_score: 1.0000\n",
      "Epoch 17/100\n",
      "4/4 [==============================] - ETA: 0s - loss: 0.0020 - f1_score: 1.0000WARNING:tensorflow:Early stopping conditioned on metric `F1Score(name=f1_score,dtype=float32,num_classes=64,average=macro,threshold=None)` which is not available. Available metrics are: loss,f1_score\n"
     ]
    },
    {
     "name": "stderr",
     "output_type": "stream",
     "text": [
      "WARNING:tensorflow:Early stopping conditioned on metric `F1Score(name=f1_score,dtype=float32,num_classes=64,average=macro,threshold=None)` which is not available. Available metrics are: loss,f1_score\n"
     ]
    },
    {
     "name": "stdout",
     "output_type": "stream",
     "text": [
      "4/4 [==============================] - 2s 489ms/step - loss: 0.0020 - f1_score: 1.0000\n",
      "Epoch 18/100\n",
      "4/4 [==============================] - ETA: 0s - loss: 0.0016 - f1_score: 1.0000WARNING:tensorflow:Early stopping conditioned on metric `F1Score(name=f1_score,dtype=float32,num_classes=64,average=macro,threshold=None)` which is not available. Available metrics are: loss,f1_score\n"
     ]
    },
    {
     "name": "stderr",
     "output_type": "stream",
     "text": [
      "WARNING:tensorflow:Early stopping conditioned on metric `F1Score(name=f1_score,dtype=float32,num_classes=64,average=macro,threshold=None)` which is not available. Available metrics are: loss,f1_score\n"
     ]
    },
    {
     "name": "stdout",
     "output_type": "stream",
     "text": [
      "4/4 [==============================] - 2s 487ms/step - loss: 0.0016 - f1_score: 1.0000\n",
      "Epoch 19/100\n",
      "4/4 [==============================] - ETA: 0s - loss: 0.0015 - f1_score: 1.0000WARNING:tensorflow:Early stopping conditioned on metric `F1Score(name=f1_score,dtype=float32,num_classes=64,average=macro,threshold=None)` which is not available. Available metrics are: loss,f1_score\n"
     ]
    },
    {
     "name": "stderr",
     "output_type": "stream",
     "text": [
      "WARNING:tensorflow:Early stopping conditioned on metric `F1Score(name=f1_score,dtype=float32,num_classes=64,average=macro,threshold=None)` which is not available. Available metrics are: loss,f1_score\n"
     ]
    },
    {
     "name": "stdout",
     "output_type": "stream",
     "text": [
      "4/4 [==============================] - 2s 428ms/step - loss: 0.0015 - f1_score: 1.0000\n",
      "Epoch 20/100\n",
      "4/4 [==============================] - ETA: 0s - loss: 0.0014 - f1_score: 1.0000WARNING:tensorflow:Early stopping conditioned on metric `F1Score(name=f1_score,dtype=float32,num_classes=64,average=macro,threshold=None)` which is not available. Available metrics are: loss,f1_score\n"
     ]
    },
    {
     "name": "stderr",
     "output_type": "stream",
     "text": [
      "WARNING:tensorflow:Early stopping conditioned on metric `F1Score(name=f1_score,dtype=float32,num_classes=64,average=macro,threshold=None)` which is not available. Available metrics are: loss,f1_score\n"
     ]
    },
    {
     "name": "stdout",
     "output_type": "stream",
     "text": [
      "4/4 [==============================] - 2s 410ms/step - loss: 0.0014 - f1_score: 1.0000\n",
      "Epoch 21/100\n",
      "4/4 [==============================] - ETA: 0s - loss: 0.0011 - f1_score: 1.0000WARNING:tensorflow:Early stopping conditioned on metric `F1Score(name=f1_score,dtype=float32,num_classes=64,average=macro,threshold=None)` which is not available. Available metrics are: loss,f1_score\n"
     ]
    },
    {
     "name": "stderr",
     "output_type": "stream",
     "text": [
      "WARNING:tensorflow:Early stopping conditioned on metric `F1Score(name=f1_score,dtype=float32,num_classes=64,average=macro,threshold=None)` which is not available. Available metrics are: loss,f1_score\n"
     ]
    },
    {
     "name": "stdout",
     "output_type": "stream",
     "text": [
      "4/4 [==============================] - 2s 439ms/step - loss: 0.0011 - f1_score: 1.0000\n",
      "Epoch 22/100\n",
      "4/4 [==============================] - ETA: 0s - loss: 0.0011 - f1_score: 1.0000WARNING:tensorflow:Early stopping conditioned on metric `F1Score(name=f1_score,dtype=float32,num_classes=64,average=macro,threshold=None)` which is not available. Available metrics are: loss,f1_score\n"
     ]
    },
    {
     "name": "stderr",
     "output_type": "stream",
     "text": [
      "WARNING:tensorflow:Early stopping conditioned on metric `F1Score(name=f1_score,dtype=float32,num_classes=64,average=macro,threshold=None)` which is not available. Available metrics are: loss,f1_score\n"
     ]
    },
    {
     "name": "stdout",
     "output_type": "stream",
     "text": [
      "4/4 [==============================] - 2s 411ms/step - loss: 0.0011 - f1_score: 1.0000\n",
      "Epoch 23/100\n",
      "4/4 [==============================] - ETA: 0s - loss: 9.9822e-04 - f1_score: 1.0000WARNING:tensorflow:Early stopping conditioned on metric `F1Score(name=f1_score,dtype=float32,num_classes=64,average=macro,threshold=None)` which is not available. Available metrics are: loss,f1_score\n"
     ]
    },
    {
     "name": "stderr",
     "output_type": "stream",
     "text": [
      "WARNING:tensorflow:Early stopping conditioned on metric `F1Score(name=f1_score,dtype=float32,num_classes=64,average=macro,threshold=None)` which is not available. Available metrics are: loss,f1_score\n"
     ]
    },
    {
     "name": "stdout",
     "output_type": "stream",
     "text": [
      "4/4 [==============================] - 2s 411ms/step - loss: 9.9822e-04 - f1_score: 1.0000\n",
      "Epoch 24/100\n",
      "4/4 [==============================] - ETA: 0s - loss: 9.0020e-04 - f1_score: 1.0000WARNING:tensorflow:Early stopping conditioned on metric `F1Score(name=f1_score,dtype=float32,num_classes=64,average=macro,threshold=None)` which is not available. Available metrics are: loss,f1_score\n"
     ]
    },
    {
     "name": "stderr",
     "output_type": "stream",
     "text": [
      "WARNING:tensorflow:Early stopping conditioned on metric `F1Score(name=f1_score,dtype=float32,num_classes=64,average=macro,threshold=None)` which is not available. Available metrics are: loss,f1_score\n"
     ]
    },
    {
     "name": "stdout",
     "output_type": "stream",
     "text": [
      "4/4 [==============================] - 2s 406ms/step - loss: 9.0020e-04 - f1_score: 1.0000\n",
      "Epoch 25/100\n",
      "4/4 [==============================] - ETA: 0s - loss: 8.4256e-04 - f1_score: 1.0000WARNING:tensorflow:Early stopping conditioned on metric `F1Score(name=f1_score,dtype=float32,num_classes=64,average=macro,threshold=None)` which is not available. Available metrics are: loss,f1_score\n"
     ]
    },
    {
     "name": "stderr",
     "output_type": "stream",
     "text": [
      "WARNING:tensorflow:Early stopping conditioned on metric `F1Score(name=f1_score,dtype=float32,num_classes=64,average=macro,threshold=None)` which is not available. Available metrics are: loss,f1_score\n"
     ]
    },
    {
     "name": "stdout",
     "output_type": "stream",
     "text": [
      "4/4 [==============================] - 2s 420ms/step - loss: 8.4256e-04 - f1_score: 1.0000\n",
      "Epoch 26/100\n",
      "4/4 [==============================] - ETA: 0s - loss: 8.2587e-04 - f1_score: 1.0000WARNING:tensorflow:Early stopping conditioned on metric `F1Score(name=f1_score,dtype=float32,num_classes=64,average=macro,threshold=None)` which is not available. Available metrics are: loss,f1_score\n"
     ]
    },
    {
     "name": "stderr",
     "output_type": "stream",
     "text": [
      "WARNING:tensorflow:Early stopping conditioned on metric `F1Score(name=f1_score,dtype=float32,num_classes=64,average=macro,threshold=None)` which is not available. Available metrics are: loss,f1_score\n"
     ]
    },
    {
     "name": "stdout",
     "output_type": "stream",
     "text": [
      "4/4 [==============================] - 2s 434ms/step - loss: 8.2587e-04 - f1_score: 1.0000\n",
      "Epoch 27/100\n",
      "4/4 [==============================] - ETA: 0s - loss: 9.4250e-04 - f1_score: 1.0000WARNING:tensorflow:Early stopping conditioned on metric `F1Score(name=f1_score,dtype=float32,num_classes=64,average=macro,threshold=None)` which is not available. Available metrics are: loss,f1_score\n"
     ]
    },
    {
     "name": "stderr",
     "output_type": "stream",
     "text": [
      "WARNING:tensorflow:Early stopping conditioned on metric `F1Score(name=f1_score,dtype=float32,num_classes=64,average=macro,threshold=None)` which is not available. Available metrics are: loss,f1_score\n"
     ]
    },
    {
     "name": "stdout",
     "output_type": "stream",
     "text": [
      "4/4 [==============================] - 2s 414ms/step - loss: 9.4250e-04 - f1_score: 1.0000\n",
      "Epoch 28/100\n",
      "4/4 [==============================] - ETA: 0s - loss: 7.4161e-04 - f1_score: 1.0000WARNING:tensorflow:Early stopping conditioned on metric `F1Score(name=f1_score,dtype=float32,num_classes=64,average=macro,threshold=None)` which is not available. Available metrics are: loss,f1_score\n"
     ]
    },
    {
     "name": "stderr",
     "output_type": "stream",
     "text": [
      "WARNING:tensorflow:Early stopping conditioned on metric `F1Score(name=f1_score,dtype=float32,num_classes=64,average=macro,threshold=None)` which is not available. Available metrics are: loss,f1_score\n"
     ]
    },
    {
     "name": "stdout",
     "output_type": "stream",
     "text": [
      "4/4 [==============================] - 2s 398ms/step - loss: 7.4161e-04 - f1_score: 1.0000\n",
      "Epoch 29/100\n",
      "4/4 [==============================] - ETA: 0s - loss: 6.7248e-04 - f1_score: 1.0000WARNING:tensorflow:Early stopping conditioned on metric `F1Score(name=f1_score,dtype=float32,num_classes=64,average=macro,threshold=None)` which is not available. Available metrics are: loss,f1_score\n"
     ]
    },
    {
     "name": "stderr",
     "output_type": "stream",
     "text": [
      "WARNING:tensorflow:Early stopping conditioned on metric `F1Score(name=f1_score,dtype=float32,num_classes=64,average=macro,threshold=None)` which is not available. Available metrics are: loss,f1_score\n"
     ]
    },
    {
     "name": "stdout",
     "output_type": "stream",
     "text": [
      "4/4 [==============================] - 2s 403ms/step - loss: 6.7248e-04 - f1_score: 1.0000\n",
      "Epoch 30/100\n",
      "4/4 [==============================] - ETA: 0s - loss: 6.4719e-04 - f1_score: 1.0000WARNING:tensorflow:Early stopping conditioned on metric `F1Score(name=f1_score,dtype=float32,num_classes=64,average=macro,threshold=None)` which is not available. Available metrics are: loss,f1_score\n"
     ]
    },
    {
     "name": "stderr",
     "output_type": "stream",
     "text": [
      "WARNING:tensorflow:Early stopping conditioned on metric `F1Score(name=f1_score,dtype=float32,num_classes=64,average=macro,threshold=None)` which is not available. Available metrics are: loss,f1_score\n"
     ]
    },
    {
     "name": "stdout",
     "output_type": "stream",
     "text": [
      "4/4 [==============================] - 2s 408ms/step - loss: 6.4719e-04 - f1_score: 1.0000\n",
      "Epoch 31/100\n",
      "4/4 [==============================] - ETA: 0s - loss: 6.1361e-04 - f1_score: 1.0000WARNING:tensorflow:Early stopping conditioned on metric `F1Score(name=f1_score,dtype=float32,num_classes=64,average=macro,threshold=None)` which is not available. Available metrics are: loss,f1_score\n"
     ]
    },
    {
     "name": "stderr",
     "output_type": "stream",
     "text": [
      "WARNING:tensorflow:Early stopping conditioned on metric `F1Score(name=f1_score,dtype=float32,num_classes=64,average=macro,threshold=None)` which is not available. Available metrics are: loss,f1_score\n"
     ]
    },
    {
     "name": "stdout",
     "output_type": "stream",
     "text": [
      "4/4 [==============================] - 2s 467ms/step - loss: 6.1361e-04 - f1_score: 1.0000\n",
      "Epoch 32/100\n",
      "4/4 [==============================] - ETA: 0s - loss: 5.6563e-04 - f1_score: 1.0000WARNING:tensorflow:Early stopping conditioned on metric `F1Score(name=f1_score,dtype=float32,num_classes=64,average=macro,threshold=None)` which is not available. Available metrics are: loss,f1_score\n"
     ]
    },
    {
     "name": "stderr",
     "output_type": "stream",
     "text": [
      "WARNING:tensorflow:Early stopping conditioned on metric `F1Score(name=f1_score,dtype=float32,num_classes=64,average=macro,threshold=None)` which is not available. Available metrics are: loss,f1_score\n"
     ]
    },
    {
     "name": "stdout",
     "output_type": "stream",
     "text": [
      "4/4 [==============================] - 2s 429ms/step - loss: 5.6563e-04 - f1_score: 1.0000\n",
      "Epoch 33/100\n",
      "4/4 [==============================] - ETA: 0s - loss: 5.5950e-04 - f1_score: 1.0000WARNING:tensorflow:Early stopping conditioned on metric `F1Score(name=f1_score,dtype=float32,num_classes=64,average=macro,threshold=None)` which is not available. Available metrics are: loss,f1_score\n"
     ]
    },
    {
     "name": "stderr",
     "output_type": "stream",
     "text": [
      "WARNING:tensorflow:Early stopping conditioned on metric `F1Score(name=f1_score,dtype=float32,num_classes=64,average=macro,threshold=None)` which is not available. Available metrics are: loss,f1_score\n"
     ]
    },
    {
     "name": "stdout",
     "output_type": "stream",
     "text": [
      "4/4 [==============================] - 2s 417ms/step - loss: 5.5950e-04 - f1_score: 1.0000\n",
      "Epoch 34/100\n",
      "4/4 [==============================] - ETA: 0s - loss: 5.2881e-04 - f1_score: 1.0000WARNING:tensorflow:Early stopping conditioned on metric `F1Score(name=f1_score,dtype=float32,num_classes=64,average=macro,threshold=None)` which is not available. Available metrics are: loss,f1_score\n"
     ]
    },
    {
     "name": "stderr",
     "output_type": "stream",
     "text": [
      "WARNING:tensorflow:Early stopping conditioned on metric `F1Score(name=f1_score,dtype=float32,num_classes=64,average=macro,threshold=None)` which is not available. Available metrics are: loss,f1_score\n"
     ]
    },
    {
     "name": "stdout",
     "output_type": "stream",
     "text": [
      "4/4 [==============================] - 2s 412ms/step - loss: 5.2881e-04 - f1_score: 1.0000\n",
      "Epoch 35/100\n",
      "4/4 [==============================] - ETA: 0s - loss: 5.1395e-04 - f1_score: 1.0000WARNING:tensorflow:Early stopping conditioned on metric `F1Score(name=f1_score,dtype=float32,num_classes=64,average=macro,threshold=None)` which is not available. Available metrics are: loss,f1_score\n"
     ]
    },
    {
     "name": "stderr",
     "output_type": "stream",
     "text": [
      "WARNING:tensorflow:Early stopping conditioned on metric `F1Score(name=f1_score,dtype=float32,num_classes=64,average=macro,threshold=None)` which is not available. Available metrics are: loss,f1_score\n"
     ]
    },
    {
     "name": "stdout",
     "output_type": "stream",
     "text": [
      "4/4 [==============================] - 2s 413ms/step - loss: 5.1395e-04 - f1_score: 1.0000\n",
      "Epoch 36/100\n",
      "4/4 [==============================] - ETA: 0s - loss: 5.0109e-04 - f1_score: 1.0000WARNING:tensorflow:Early stopping conditioned on metric `F1Score(name=f1_score,dtype=float32,num_classes=64,average=macro,threshold=None)` which is not available. Available metrics are: loss,f1_score\n"
     ]
    },
    {
     "name": "stderr",
     "output_type": "stream",
     "text": [
      "WARNING:tensorflow:Early stopping conditioned on metric `F1Score(name=f1_score,dtype=float32,num_classes=64,average=macro,threshold=None)` which is not available. Available metrics are: loss,f1_score\n"
     ]
    },
    {
     "name": "stdout",
     "output_type": "stream",
     "text": [
      "4/4 [==============================] - 2s 421ms/step - loss: 5.0109e-04 - f1_score: 1.0000\n",
      "Epoch 37/100\n",
      "4/4 [==============================] - ETA: 0s - loss: 4.5437e-04 - f1_score: 1.0000WARNING:tensorflow:Early stopping conditioned on metric `F1Score(name=f1_score,dtype=float32,num_classes=64,average=macro,threshold=None)` which is not available. Available metrics are: loss,f1_score\n"
     ]
    },
    {
     "name": "stderr",
     "output_type": "stream",
     "text": [
      "WARNING:tensorflow:Early stopping conditioned on metric `F1Score(name=f1_score,dtype=float32,num_classes=64,average=macro,threshold=None)` which is not available. Available metrics are: loss,f1_score\n"
     ]
    },
    {
     "name": "stdout",
     "output_type": "stream",
     "text": [
      "4/4 [==============================] - 2s 427ms/step - loss: 4.5437e-04 - f1_score: 1.0000\n",
      "Epoch 38/100\n",
      "4/4 [==============================] - ETA: 0s - loss: 4.3491e-04 - f1_score: 1.0000WARNING:tensorflow:Early stopping conditioned on metric `F1Score(name=f1_score,dtype=float32,num_classes=64,average=macro,threshold=None)` which is not available. Available metrics are: loss,f1_score\n"
     ]
    },
    {
     "name": "stderr",
     "output_type": "stream",
     "text": [
      "WARNING:tensorflow:Early stopping conditioned on metric `F1Score(name=f1_score,dtype=float32,num_classes=64,average=macro,threshold=None)` which is not available. Available metrics are: loss,f1_score\n"
     ]
    },
    {
     "name": "stdout",
     "output_type": "stream",
     "text": [
      "4/4 [==============================] - 2s 434ms/step - loss: 4.3491e-04 - f1_score: 1.0000\n",
      "Epoch 39/100\n",
      "4/4 [==============================] - ETA: 0s - loss: 4.3875e-04 - f1_score: 1.0000WARNING:tensorflow:Early stopping conditioned on metric `F1Score(name=f1_score,dtype=float32,num_classes=64,average=macro,threshold=None)` which is not available. Available metrics are: loss,f1_score\n"
     ]
    },
    {
     "name": "stderr",
     "output_type": "stream",
     "text": [
      "WARNING:tensorflow:Early stopping conditioned on metric `F1Score(name=f1_score,dtype=float32,num_classes=64,average=macro,threshold=None)` which is not available. Available metrics are: loss,f1_score\n"
     ]
    },
    {
     "name": "stdout",
     "output_type": "stream",
     "text": [
      "4/4 [==============================] - 2s 686ms/step - loss: 4.3875e-04 - f1_score: 1.0000\n",
      "Epoch 40/100\n",
      "4/4 [==============================] - ETA: 0s - loss: 4.0977e-04 - f1_score: 1.0000WARNING:tensorflow:Early stopping conditioned on metric `F1Score(name=f1_score,dtype=float32,num_classes=64,average=macro,threshold=None)` which is not available. Available metrics are: loss,f1_score\n"
     ]
    },
    {
     "name": "stderr",
     "output_type": "stream",
     "text": [
      "WARNING:tensorflow:Early stopping conditioned on metric `F1Score(name=f1_score,dtype=float32,num_classes=64,average=macro,threshold=None)` which is not available. Available metrics are: loss,f1_score\n"
     ]
    },
    {
     "name": "stdout",
     "output_type": "stream",
     "text": [
      "4/4 [==============================] - 4s 985ms/step - loss: 4.0977e-04 - f1_score: 1.0000\n",
      "Epoch 41/100\n",
      "4/4 [==============================] - ETA: 0s - loss: 4.0029e-04 - f1_score: 1.0000WARNING:tensorflow:Early stopping conditioned on metric `F1Score(name=f1_score,dtype=float32,num_classes=64,average=macro,threshold=None)` which is not available. Available metrics are: loss,f1_score\n"
     ]
    },
    {
     "name": "stderr",
     "output_type": "stream",
     "text": [
      "WARNING:tensorflow:Early stopping conditioned on metric `F1Score(name=f1_score,dtype=float32,num_classes=64,average=macro,threshold=None)` which is not available. Available metrics are: loss,f1_score\n"
     ]
    },
    {
     "name": "stdout",
     "output_type": "stream",
     "text": [
      "4/4 [==============================] - 6s 2s/step - loss: 4.0029e-04 - f1_score: 1.0000\n",
      "Epoch 42/100\n",
      "4/4 [==============================] - ETA: 0s - loss: 3.8369e-04 - f1_score: 1.0000WARNING:tensorflow:Early stopping conditioned on metric `F1Score(name=f1_score,dtype=float32,num_classes=64,average=macro,threshold=None)` which is not available. Available metrics are: loss,f1_score\n"
     ]
    },
    {
     "name": "stderr",
     "output_type": "stream",
     "text": [
      "WARNING:tensorflow:Early stopping conditioned on metric `F1Score(name=f1_score,dtype=float32,num_classes=64,average=macro,threshold=None)` which is not available. Available metrics are: loss,f1_score\n"
     ]
    },
    {
     "name": "stdout",
     "output_type": "stream",
     "text": [
      "4/4 [==============================] - 5s 1s/step - loss: 3.8369e-04 - f1_score: 1.0000\n",
      "Epoch 43/100\n",
      "4/4 [==============================] - ETA: 0s - loss: 3.8071e-04 - f1_score: 1.0000WARNING:tensorflow:Early stopping conditioned on metric `F1Score(name=f1_score,dtype=float32,num_classes=64,average=macro,threshold=None)` which is not available. Available metrics are: loss,f1_score\n"
     ]
    },
    {
     "name": "stderr",
     "output_type": "stream",
     "text": [
      "WARNING:tensorflow:Early stopping conditioned on metric `F1Score(name=f1_score,dtype=float32,num_classes=64,average=macro,threshold=None)` which is not available. Available metrics are: loss,f1_score\n"
     ]
    },
    {
     "name": "stdout",
     "output_type": "stream",
     "text": [
      "4/4 [==============================] - 4s 1s/step - loss: 3.8071e-04 - f1_score: 1.0000\n",
      "Epoch 44/100\n",
      "4/4 [==============================] - ETA: 0s - loss: 3.5346e-04 - f1_score: 1.0000WARNING:tensorflow:Early stopping conditioned on metric `F1Score(name=f1_score,dtype=float32,num_classes=64,average=macro,threshold=None)` which is not available. Available metrics are: loss,f1_score\n"
     ]
    },
    {
     "name": "stderr",
     "output_type": "stream",
     "text": [
      "WARNING:tensorflow:Early stopping conditioned on metric `F1Score(name=f1_score,dtype=float32,num_classes=64,average=macro,threshold=None)` which is not available. Available metrics are: loss,f1_score\n"
     ]
    },
    {
     "name": "stdout",
     "output_type": "stream",
     "text": [
      "4/4 [==============================] - 4s 969ms/step - loss: 3.5346e-04 - f1_score: 1.0000\n",
      "Epoch 45/100\n",
      "4/4 [==============================] - ETA: 0s - loss: 3.6117e-04 - f1_score: 1.0000WARNING:tensorflow:Early stopping conditioned on metric `F1Score(name=f1_score,dtype=float32,num_classes=64,average=macro,threshold=None)` which is not available. Available metrics are: loss,f1_score\n"
     ]
    },
    {
     "name": "stderr",
     "output_type": "stream",
     "text": [
      "WARNING:tensorflow:Early stopping conditioned on metric `F1Score(name=f1_score,dtype=float32,num_classes=64,average=macro,threshold=None)` which is not available. Available metrics are: loss,f1_score\n"
     ]
    },
    {
     "name": "stdout",
     "output_type": "stream",
     "text": [
      "4/4 [==============================] - 4s 971ms/step - loss: 3.6117e-04 - f1_score: 1.0000\n",
      "Epoch 46/100\n",
      "4/4 [==============================] - ETA: 0s - loss: 3.5598e-04 - f1_score: 1.0000WARNING:tensorflow:Early stopping conditioned on metric `F1Score(name=f1_score,dtype=float32,num_classes=64,average=macro,threshold=None)` which is not available. Available metrics are: loss,f1_score\n"
     ]
    },
    {
     "name": "stderr",
     "output_type": "stream",
     "text": [
      "WARNING:tensorflow:Early stopping conditioned on metric `F1Score(name=f1_score,dtype=float32,num_classes=64,average=macro,threshold=None)` which is not available. Available metrics are: loss,f1_score\n"
     ]
    },
    {
     "name": "stdout",
     "output_type": "stream",
     "text": [
      "4/4 [==============================] - 4s 988ms/step - loss: 3.5598e-04 - f1_score: 1.0000\n",
      "Epoch 47/100\n",
      "4/4 [==============================] - ETA: 0s - loss: 3.3783e-04 - f1_score: 1.0000WARNING:tensorflow:Early stopping conditioned on metric `F1Score(name=f1_score,dtype=float32,num_classes=64,average=macro,threshold=None)` which is not available. Available metrics are: loss,f1_score\n"
     ]
    },
    {
     "name": "stderr",
     "output_type": "stream",
     "text": [
      "WARNING:tensorflow:Early stopping conditioned on metric `F1Score(name=f1_score,dtype=float32,num_classes=64,average=macro,threshold=None)` which is not available. Available metrics are: loss,f1_score\n"
     ]
    },
    {
     "name": "stdout",
     "output_type": "stream",
     "text": [
      "4/4 [==============================] - 4s 1s/step - loss: 3.3783e-04 - f1_score: 1.0000\n",
      "Epoch 48/100\n",
      "4/4 [==============================] - ETA: 0s - loss: 3.1749e-04 - f1_score: 1.0000WARNING:tensorflow:Early stopping conditioned on metric `F1Score(name=f1_score,dtype=float32,num_classes=64,average=macro,threshold=None)` which is not available. Available metrics are: loss,f1_score\n"
     ]
    },
    {
     "name": "stderr",
     "output_type": "stream",
     "text": [
      "WARNING:tensorflow:Early stopping conditioned on metric `F1Score(name=f1_score,dtype=float32,num_classes=64,average=macro,threshold=None)` which is not available. Available metrics are: loss,f1_score\n"
     ]
    },
    {
     "name": "stdout",
     "output_type": "stream",
     "text": [
      "4/4 [==============================] - 4s 938ms/step - loss: 3.1749e-04 - f1_score: 1.0000\n",
      "Epoch 49/100\n",
      "4/4 [==============================] - ETA: 0s - loss: 3.1583e-04 - f1_score: 1.0000WARNING:tensorflow:Early stopping conditioned on metric `F1Score(name=f1_score,dtype=float32,num_classes=64,average=macro,threshold=None)` which is not available. Available metrics are: loss,f1_score\n"
     ]
    },
    {
     "name": "stderr",
     "output_type": "stream",
     "text": [
      "WARNING:tensorflow:Early stopping conditioned on metric `F1Score(name=f1_score,dtype=float32,num_classes=64,average=macro,threshold=None)` which is not available. Available metrics are: loss,f1_score\n"
     ]
    },
    {
     "name": "stdout",
     "output_type": "stream",
     "text": [
      "4/4 [==============================] - 4s 948ms/step - loss: 3.1583e-04 - f1_score: 1.0000\n",
      "Epoch 50/100\n",
      "4/4 [==============================] - ETA: 0s - loss: 2.9334e-04 - f1_score: 1.0000WARNING:tensorflow:Early stopping conditioned on metric `F1Score(name=f1_score,dtype=float32,num_classes=64,average=macro,threshold=None)` which is not available. Available metrics are: loss,f1_score\n"
     ]
    },
    {
     "name": "stderr",
     "output_type": "stream",
     "text": [
      "WARNING:tensorflow:Early stopping conditioned on metric `F1Score(name=f1_score,dtype=float32,num_classes=64,average=macro,threshold=None)` which is not available. Available metrics are: loss,f1_score\n"
     ]
    },
    {
     "name": "stdout",
     "output_type": "stream",
     "text": [
      "4/4 [==============================] - 4s 983ms/step - loss: 2.9334e-04 - f1_score: 1.0000\n",
      "Epoch 51/100\n",
      "4/4 [==============================] - ETA: 0s - loss: 3.0560e-04 - f1_score: 1.0000WARNING:tensorflow:Early stopping conditioned on metric `F1Score(name=f1_score,dtype=float32,num_classes=64,average=macro,threshold=None)` which is not available. Available metrics are: loss,f1_score\n"
     ]
    },
    {
     "name": "stderr",
     "output_type": "stream",
     "text": [
      "WARNING:tensorflow:Early stopping conditioned on metric `F1Score(name=f1_score,dtype=float32,num_classes=64,average=macro,threshold=None)` which is not available. Available metrics are: loss,f1_score\n"
     ]
    },
    {
     "name": "stdout",
     "output_type": "stream",
     "text": [
      "4/4 [==============================] - 4s 890ms/step - loss: 3.0560e-04 - f1_score: 1.0000\n",
      "Epoch 52/100\n",
      "4/4 [==============================] - ETA: 0s - loss: 2.9921e-04 - f1_score: 1.0000WARNING:tensorflow:Early stopping conditioned on metric `F1Score(name=f1_score,dtype=float32,num_classes=64,average=macro,threshold=None)` which is not available. Available metrics are: loss,f1_score\n"
     ]
    },
    {
     "name": "stderr",
     "output_type": "stream",
     "text": [
      "WARNING:tensorflow:Early stopping conditioned on metric `F1Score(name=f1_score,dtype=float32,num_classes=64,average=macro,threshold=None)` which is not available. Available metrics are: loss,f1_score\n"
     ]
    },
    {
     "name": "stdout",
     "output_type": "stream",
     "text": [
      "4/4 [==============================] - 3s 759ms/step - loss: 2.9921e-04 - f1_score: 1.0000\n",
      "Epoch 53/100\n",
      "4/4 [==============================] - ETA: 0s - loss: 2.7410e-04 - f1_score: 1.0000WARNING:tensorflow:Early stopping conditioned on metric `F1Score(name=f1_score,dtype=float32,num_classes=64,average=macro,threshold=None)` which is not available. Available metrics are: loss,f1_score\n"
     ]
    },
    {
     "name": "stderr",
     "output_type": "stream",
     "text": [
      "WARNING:tensorflow:Early stopping conditioned on metric `F1Score(name=f1_score,dtype=float32,num_classes=64,average=macro,threshold=None)` which is not available. Available metrics are: loss,f1_score\n"
     ]
    },
    {
     "name": "stdout",
     "output_type": "stream",
     "text": [
      "4/4 [==============================] - 4s 884ms/step - loss: 2.7410e-04 - f1_score: 1.0000\n",
      "Epoch 54/100\n",
      "4/4 [==============================] - ETA: 0s - loss: 2.7082e-04 - f1_score: 1.0000WARNING:tensorflow:Early stopping conditioned on metric `F1Score(name=f1_score,dtype=float32,num_classes=64,average=macro,threshold=None)` which is not available. Available metrics are: loss,f1_score\n"
     ]
    },
    {
     "name": "stderr",
     "output_type": "stream",
     "text": [
      "WARNING:tensorflow:Early stopping conditioned on metric `F1Score(name=f1_score,dtype=float32,num_classes=64,average=macro,threshold=None)` which is not available. Available metrics are: loss,f1_score\n"
     ]
    },
    {
     "name": "stdout",
     "output_type": "stream",
     "text": [
      "4/4 [==============================] - 3s 638ms/step - loss: 2.7082e-04 - f1_score: 1.0000\n",
      "Epoch 55/100\n",
      "4/4 [==============================] - ETA: 0s - loss: 2.6613e-04 - f1_score: 1.0000WARNING:tensorflow:Early stopping conditioned on metric `F1Score(name=f1_score,dtype=float32,num_classes=64,average=macro,threshold=None)` which is not available. Available metrics are: loss,f1_score\n"
     ]
    },
    {
     "name": "stderr",
     "output_type": "stream",
     "text": [
      "WARNING:tensorflow:Early stopping conditioned on metric `F1Score(name=f1_score,dtype=float32,num_classes=64,average=macro,threshold=None)` which is not available. Available metrics are: loss,f1_score\n"
     ]
    },
    {
     "name": "stdout",
     "output_type": "stream",
     "text": [
      "4/4 [==============================] - 3s 658ms/step - loss: 2.6613e-04 - f1_score: 1.0000\n",
      "Epoch 56/100\n",
      "4/4 [==============================] - ETA: 0s - loss: 2.5410e-04 - f1_score: 1.0000WARNING:tensorflow:Early stopping conditioned on metric `F1Score(name=f1_score,dtype=float32,num_classes=64,average=macro,threshold=None)` which is not available. Available metrics are: loss,f1_score\n"
     ]
    },
    {
     "name": "stderr",
     "output_type": "stream",
     "text": [
      "WARNING:tensorflow:Early stopping conditioned on metric `F1Score(name=f1_score,dtype=float32,num_classes=64,average=macro,threshold=None)` which is not available. Available metrics are: loss,f1_score\n"
     ]
    },
    {
     "name": "stdout",
     "output_type": "stream",
     "text": [
      "4/4 [==============================] - 3s 800ms/step - loss: 2.5410e-04 - f1_score: 1.0000\n",
      "Epoch 57/100\n",
      "4/4 [==============================] - ETA: 0s - loss: 2.4621e-04 - f1_score: 1.0000WARNING:tensorflow:Early stopping conditioned on metric `F1Score(name=f1_score,dtype=float32,num_classes=64,average=macro,threshold=None)` which is not available. Available metrics are: loss,f1_score\n"
     ]
    },
    {
     "name": "stderr",
     "output_type": "stream",
     "text": [
      "WARNING:tensorflow:Early stopping conditioned on metric `F1Score(name=f1_score,dtype=float32,num_classes=64,average=macro,threshold=None)` which is not available. Available metrics are: loss,f1_score\n"
     ]
    },
    {
     "name": "stdout",
     "output_type": "stream",
     "text": [
      "4/4 [==============================] - 2s 588ms/step - loss: 2.4621e-04 - f1_score: 1.0000\n",
      "Epoch 58/100\n",
      "4/4 [==============================] - ETA: 0s - loss: 2.4924e-04 - f1_score: 1.0000WARNING:tensorflow:Early stopping conditioned on metric `F1Score(name=f1_score,dtype=float32,num_classes=64,average=macro,threshold=None)` which is not available. Available metrics are: loss,f1_score\n"
     ]
    },
    {
     "name": "stderr",
     "output_type": "stream",
     "text": [
      "WARNING:tensorflow:Early stopping conditioned on metric `F1Score(name=f1_score,dtype=float32,num_classes=64,average=macro,threshold=None)` which is not available. Available metrics are: loss,f1_score\n"
     ]
    },
    {
     "name": "stdout",
     "output_type": "stream",
     "text": [
      "4/4 [==============================] - 3s 954ms/step - loss: 2.4924e-04 - f1_score: 1.0000\n",
      "Epoch 59/100\n",
      "4/4 [==============================] - ETA: 0s - loss: 2.5535e-04 - f1_score: 1.0000WARNING:tensorflow:Early stopping conditioned on metric `F1Score(name=f1_score,dtype=float32,num_classes=64,average=macro,threshold=None)` which is not available. Available metrics are: loss,f1_score\n"
     ]
    },
    {
     "name": "stderr",
     "output_type": "stream",
     "text": [
      "WARNING:tensorflow:Early stopping conditioned on metric `F1Score(name=f1_score,dtype=float32,num_classes=64,average=macro,threshold=None)` which is not available. Available metrics are: loss,f1_score\n"
     ]
    },
    {
     "name": "stdout",
     "output_type": "stream",
     "text": [
      "4/4 [==============================] - 3s 655ms/step - loss: 2.5535e-04 - f1_score: 1.0000\n",
      "Epoch 60/100\n",
      "4/4 [==============================] - ETA: 0s - loss: 2.5451e-04 - f1_score: 1.0000WARNING:tensorflow:Early stopping conditioned on metric `F1Score(name=f1_score,dtype=float32,num_classes=64,average=macro,threshold=None)` which is not available. Available metrics are: loss,f1_score\n"
     ]
    },
    {
     "name": "stderr",
     "output_type": "stream",
     "text": [
      "WARNING:tensorflow:Early stopping conditioned on metric `F1Score(name=f1_score,dtype=float32,num_classes=64,average=macro,threshold=None)` which is not available. Available metrics are: loss,f1_score\n"
     ]
    },
    {
     "name": "stdout",
     "output_type": "stream",
     "text": [
      "4/4 [==============================] - 2s 586ms/step - loss: 2.5451e-04 - f1_score: 1.0000\n",
      "Epoch 61/100\n",
      "4/4 [==============================] - ETA: 0s - loss: 2.3030e-04 - f1_score: 1.0000WARNING:tensorflow:Early stopping conditioned on metric `F1Score(name=f1_score,dtype=float32,num_classes=64,average=macro,threshold=None)` which is not available. Available metrics are: loss,f1_score\n"
     ]
    },
    {
     "name": "stderr",
     "output_type": "stream",
     "text": [
      "WARNING:tensorflow:Early stopping conditioned on metric `F1Score(name=f1_score,dtype=float32,num_classes=64,average=macro,threshold=None)` which is not available. Available metrics are: loss,f1_score\n"
     ]
    },
    {
     "name": "stdout",
     "output_type": "stream",
     "text": [
      "4/4 [==============================] - 5s 1s/step - loss: 2.3030e-04 - f1_score: 1.0000\n",
      "Epoch 62/100\n",
      "4/4 [==============================] - ETA: 0s - loss: 2.2722e-04 - f1_score: 1.0000WARNING:tensorflow:Early stopping conditioned on metric `F1Score(name=f1_score,dtype=float32,num_classes=64,average=macro,threshold=None)` which is not available. Available metrics are: loss,f1_score\n"
     ]
    },
    {
     "name": "stderr",
     "output_type": "stream",
     "text": [
      "WARNING:tensorflow:Early stopping conditioned on metric `F1Score(name=f1_score,dtype=float32,num_classes=64,average=macro,threshold=None)` which is not available. Available metrics are: loss,f1_score\n"
     ]
    },
    {
     "name": "stdout",
     "output_type": "stream",
     "text": [
      "4/4 [==============================] - 5s 1s/step - loss: 2.2722e-04 - f1_score: 1.0000\n",
      "Epoch 63/100\n",
      "4/4 [==============================] - ETA: 0s - loss: 2.2611e-04 - f1_score: 1.0000WARNING:tensorflow:Early stopping conditioned on metric `F1Score(name=f1_score,dtype=float32,num_classes=64,average=macro,threshold=None)` which is not available. Available metrics are: loss,f1_score\n"
     ]
    },
    {
     "name": "stderr",
     "output_type": "stream",
     "text": [
      "WARNING:tensorflow:Early stopping conditioned on metric `F1Score(name=f1_score,dtype=float32,num_classes=64,average=macro,threshold=None)` which is not available. Available metrics are: loss,f1_score\n"
     ]
    },
    {
     "name": "stdout",
     "output_type": "stream",
     "text": [
      "4/4 [==============================] - 2s 584ms/step - loss: 2.2611e-04 - f1_score: 1.0000\n",
      "Epoch 64/100\n",
      "4/4 [==============================] - ETA: 0s - loss: 2.0730e-04 - f1_score: 1.0000WARNING:tensorflow:Early stopping conditioned on metric `F1Score(name=f1_score,dtype=float32,num_classes=64,average=macro,threshold=None)` which is not available. Available metrics are: loss,f1_score\n"
     ]
    },
    {
     "name": "stderr",
     "output_type": "stream",
     "text": [
      "WARNING:tensorflow:Early stopping conditioned on metric `F1Score(name=f1_score,dtype=float32,num_classes=64,average=macro,threshold=None)` which is not available. Available metrics are: loss,f1_score\n"
     ]
    },
    {
     "name": "stdout",
     "output_type": "stream",
     "text": [
      "4/4 [==============================] - 2s 586ms/step - loss: 2.0730e-04 - f1_score: 1.0000\n",
      "Epoch 65/100\n",
      "4/4 [==============================] - ETA: 0s - loss: 2.1035e-04 - f1_score: 1.0000WARNING:tensorflow:Early stopping conditioned on metric `F1Score(name=f1_score,dtype=float32,num_classes=64,average=macro,threshold=None)` which is not available. Available metrics are: loss,f1_score\n"
     ]
    },
    {
     "name": "stderr",
     "output_type": "stream",
     "text": [
      "WARNING:tensorflow:Early stopping conditioned on metric `F1Score(name=f1_score,dtype=float32,num_classes=64,average=macro,threshold=None)` which is not available. Available metrics are: loss,f1_score\n"
     ]
    },
    {
     "name": "stdout",
     "output_type": "stream",
     "text": [
      "4/4 [==============================] - 3s 647ms/step - loss: 2.1035e-04 - f1_score: 1.0000\n",
      "Epoch 66/100\n",
      "4/4 [==============================] - ETA: 0s - loss: 2.0022e-04 - f1_score: 1.0000WARNING:tensorflow:Early stopping conditioned on metric `F1Score(name=f1_score,dtype=float32,num_classes=64,average=macro,threshold=None)` which is not available. Available metrics are: loss,f1_score\n"
     ]
    },
    {
     "name": "stderr",
     "output_type": "stream",
     "text": [
      "WARNING:tensorflow:Early stopping conditioned on metric `F1Score(name=f1_score,dtype=float32,num_classes=64,average=macro,threshold=None)` which is not available. Available metrics are: loss,f1_score\n"
     ]
    },
    {
     "name": "stdout",
     "output_type": "stream",
     "text": [
      "4/4 [==============================] - 3s 757ms/step - loss: 2.0022e-04 - f1_score: 1.0000\n",
      "Epoch 67/100\n",
      "4/4 [==============================] - ETA: 0s - loss: 1.8954e-04 - f1_score: 1.0000WARNING:tensorflow:Early stopping conditioned on metric `F1Score(name=f1_score,dtype=float32,num_classes=64,average=macro,threshold=None)` which is not available. Available metrics are: loss,f1_score\n"
     ]
    },
    {
     "name": "stderr",
     "output_type": "stream",
     "text": [
      "WARNING:tensorflow:Early stopping conditioned on metric `F1Score(name=f1_score,dtype=float32,num_classes=64,average=macro,threshold=None)` which is not available. Available metrics are: loss,f1_score\n"
     ]
    },
    {
     "name": "stdout",
     "output_type": "stream",
     "text": [
      "4/4 [==============================] - 3s 745ms/step - loss: 1.8954e-04 - f1_score: 1.0000\n",
      "Epoch 68/100\n",
      "4/4 [==============================] - ETA: 0s - loss: 1.9135e-04 - f1_score: 1.0000WARNING:tensorflow:Early stopping conditioned on metric `F1Score(name=f1_score,dtype=float32,num_classes=64,average=macro,threshold=None)` which is not available. Available metrics are: loss,f1_score\n"
     ]
    },
    {
     "name": "stderr",
     "output_type": "stream",
     "text": [
      "WARNING:tensorflow:Early stopping conditioned on metric `F1Score(name=f1_score,dtype=float32,num_classes=64,average=macro,threshold=None)` which is not available. Available metrics are: loss,f1_score\n"
     ]
    },
    {
     "name": "stdout",
     "output_type": "stream",
     "text": [
      "4/4 [==============================] - 2s 582ms/step - loss: 1.9135e-04 - f1_score: 1.0000\n",
      "Epoch 69/100\n",
      "4/4 [==============================] - ETA: 0s - loss: 1.7966e-04 - f1_score: 1.0000WARNING:tensorflow:Early stopping conditioned on metric `F1Score(name=f1_score,dtype=float32,num_classes=64,average=macro,threshold=None)` which is not available. Available metrics are: loss,f1_score\n"
     ]
    },
    {
     "name": "stderr",
     "output_type": "stream",
     "text": [
      "WARNING:tensorflow:Early stopping conditioned on metric `F1Score(name=f1_score,dtype=float32,num_classes=64,average=macro,threshold=None)` which is not available. Available metrics are: loss,f1_score\n"
     ]
    },
    {
     "name": "stdout",
     "output_type": "stream",
     "text": [
      "4/4 [==============================] - 2s 572ms/step - loss: 1.7966e-04 - f1_score: 1.0000\n",
      "Epoch 70/100\n",
      "4/4 [==============================] - ETA: 0s - loss: 1.8945e-04 - f1_score: 1.0000WARNING:tensorflow:Early stopping conditioned on metric `F1Score(name=f1_score,dtype=float32,num_classes=64,average=macro,threshold=None)` which is not available. Available metrics are: loss,f1_score\n"
     ]
    },
    {
     "name": "stderr",
     "output_type": "stream",
     "text": [
      "WARNING:tensorflow:Early stopping conditioned on metric `F1Score(name=f1_score,dtype=float32,num_classes=64,average=macro,threshold=None)` which is not available. Available metrics are: loss,f1_score\n"
     ]
    },
    {
     "name": "stdout",
     "output_type": "stream",
     "text": [
      "4/4 [==============================] - 2s 575ms/step - loss: 1.8945e-04 - f1_score: 1.0000\n",
      "Epoch 71/100\n",
      "4/4 [==============================] - ETA: 0s - loss: 1.8513e-04 - f1_score: 1.0000WARNING:tensorflow:Early stopping conditioned on metric `F1Score(name=f1_score,dtype=float32,num_classes=64,average=macro,threshold=None)` which is not available. Available metrics are: loss,f1_score\n"
     ]
    },
    {
     "name": "stderr",
     "output_type": "stream",
     "text": [
      "WARNING:tensorflow:Early stopping conditioned on metric `F1Score(name=f1_score,dtype=float32,num_classes=64,average=macro,threshold=None)` which is not available. Available metrics are: loss,f1_score\n"
     ]
    },
    {
     "name": "stdout",
     "output_type": "stream",
     "text": [
      "4/4 [==============================] - 2s 587ms/step - loss: 1.8513e-04 - f1_score: 1.0000\n",
      "Epoch 72/100\n",
      "4/4 [==============================] - ETA: 0s - loss: 1.7945e-04 - f1_score: 1.0000WARNING:tensorflow:Early stopping conditioned on metric `F1Score(name=f1_score,dtype=float32,num_classes=64,average=macro,threshold=None)` which is not available. Available metrics are: loss,f1_score\n"
     ]
    },
    {
     "name": "stderr",
     "output_type": "stream",
     "text": [
      "WARNING:tensorflow:Early stopping conditioned on metric `F1Score(name=f1_score,dtype=float32,num_classes=64,average=macro,threshold=None)` which is not available. Available metrics are: loss,f1_score\n"
     ]
    },
    {
     "name": "stdout",
     "output_type": "stream",
     "text": [
      "4/4 [==============================] - 2s 574ms/step - loss: 1.7945e-04 - f1_score: 1.0000\n",
      "Epoch 73/100\n",
      "4/4 [==============================] - ETA: 0s - loss: 1.8052e-04 - f1_score: 1.0000WARNING:tensorflow:Early stopping conditioned on metric `F1Score(name=f1_score,dtype=float32,num_classes=64,average=macro,threshold=None)` which is not available. Available metrics are: loss,f1_score\n"
     ]
    },
    {
     "name": "stderr",
     "output_type": "stream",
     "text": [
      "WARNING:tensorflow:Early stopping conditioned on metric `F1Score(name=f1_score,dtype=float32,num_classes=64,average=macro,threshold=None)` which is not available. Available metrics are: loss,f1_score\n"
     ]
    },
    {
     "name": "stdout",
     "output_type": "stream",
     "text": [
      "4/4 [==============================] - 2s 579ms/step - loss: 1.8052e-04 - f1_score: 1.0000\n",
      "Epoch 74/100\n",
      "4/4 [==============================] - ETA: 0s - loss: 1.7321e-04 - f1_score: 1.0000WARNING:tensorflow:Early stopping conditioned on metric `F1Score(name=f1_score,dtype=float32,num_classes=64,average=macro,threshold=None)` which is not available. Available metrics are: loss,f1_score\n"
     ]
    },
    {
     "name": "stderr",
     "output_type": "stream",
     "text": [
      "WARNING:tensorflow:Early stopping conditioned on metric `F1Score(name=f1_score,dtype=float32,num_classes=64,average=macro,threshold=None)` which is not available. Available metrics are: loss,f1_score\n"
     ]
    },
    {
     "name": "stdout",
     "output_type": "stream",
     "text": [
      "4/4 [==============================] - 2s 575ms/step - loss: 1.7321e-04 - f1_score: 1.0000\n",
      "Epoch 75/100\n",
      "4/4 [==============================] - ETA: 0s - loss: 1.7048e-04 - f1_score: 1.0000WARNING:tensorflow:Early stopping conditioned on metric `F1Score(name=f1_score,dtype=float32,num_classes=64,average=macro,threshold=None)` which is not available. Available metrics are: loss,f1_score\n"
     ]
    },
    {
     "name": "stderr",
     "output_type": "stream",
     "text": [
      "WARNING:tensorflow:Early stopping conditioned on metric `F1Score(name=f1_score,dtype=float32,num_classes=64,average=macro,threshold=None)` which is not available. Available metrics are: loss,f1_score\n"
     ]
    },
    {
     "name": "stdout",
     "output_type": "stream",
     "text": [
      "4/4 [==============================] - 2s 575ms/step - loss: 1.7048e-04 - f1_score: 1.0000\n",
      "Epoch 76/100\n",
      "4/4 [==============================] - ETA: 0s - loss: 1.6756e-04 - f1_score: 1.0000WARNING:tensorflow:Early stopping conditioned on metric `F1Score(name=f1_score,dtype=float32,num_classes=64,average=macro,threshold=None)` which is not available. Available metrics are: loss,f1_score\n"
     ]
    },
    {
     "name": "stderr",
     "output_type": "stream",
     "text": [
      "WARNING:tensorflow:Early stopping conditioned on metric `F1Score(name=f1_score,dtype=float32,num_classes=64,average=macro,threshold=None)` which is not available. Available metrics are: loss,f1_score\n"
     ]
    },
    {
     "name": "stdout",
     "output_type": "stream",
     "text": [
      "4/4 [==============================] - 2s 570ms/step - loss: 1.6756e-04 - f1_score: 1.0000\n",
      "Epoch 77/100\n",
      "4/4 [==============================] - ETA: 0s - loss: 1.6324e-04 - f1_score: 1.0000WARNING:tensorflow:Early stopping conditioned on metric `F1Score(name=f1_score,dtype=float32,num_classes=64,average=macro,threshold=None)` which is not available. Available metrics are: loss,f1_score\n"
     ]
    },
    {
     "name": "stderr",
     "output_type": "stream",
     "text": [
      "WARNING:tensorflow:Early stopping conditioned on metric `F1Score(name=f1_score,dtype=float32,num_classes=64,average=macro,threshold=None)` which is not available. Available metrics are: loss,f1_score\n"
     ]
    },
    {
     "name": "stdout",
     "output_type": "stream",
     "text": [
      "4/4 [==============================] - 2s 571ms/step - loss: 1.6324e-04 - f1_score: 1.0000\n",
      "Epoch 78/100\n",
      "4/4 [==============================] - ETA: 0s - loss: 1.5458e-04 - f1_score: 1.0000WARNING:tensorflow:Early stopping conditioned on metric `F1Score(name=f1_score,dtype=float32,num_classes=64,average=macro,threshold=None)` which is not available. Available metrics are: loss,f1_score\n"
     ]
    },
    {
     "name": "stderr",
     "output_type": "stream",
     "text": [
      "WARNING:tensorflow:Early stopping conditioned on metric `F1Score(name=f1_score,dtype=float32,num_classes=64,average=macro,threshold=None)` which is not available. Available metrics are: loss,f1_score\n"
     ]
    },
    {
     "name": "stdout",
     "output_type": "stream",
     "text": [
      "4/4 [==============================] - 2s 570ms/step - loss: 1.5458e-04 - f1_score: 1.0000\n",
      "Epoch 79/100\n",
      "4/4 [==============================] - ETA: 0s - loss: 1.5097e-04 - f1_score: 1.0000WARNING:tensorflow:Early stopping conditioned on metric `F1Score(name=f1_score,dtype=float32,num_classes=64,average=macro,threshold=None)` which is not available. Available metrics are: loss,f1_score\n"
     ]
    },
    {
     "name": "stderr",
     "output_type": "stream",
     "text": [
      "WARNING:tensorflow:Early stopping conditioned on metric `F1Score(name=f1_score,dtype=float32,num_classes=64,average=macro,threshold=None)` which is not available. Available metrics are: loss,f1_score\n"
     ]
    },
    {
     "name": "stdout",
     "output_type": "stream",
     "text": [
      "4/4 [==============================] - 2s 578ms/step - loss: 1.5097e-04 - f1_score: 1.0000\n",
      "Epoch 80/100\n",
      "4/4 [==============================] - ETA: 0s - loss: 1.5003e-04 - f1_score: 1.0000WARNING:tensorflow:Early stopping conditioned on metric `F1Score(name=f1_score,dtype=float32,num_classes=64,average=macro,threshold=None)` which is not available. Available metrics are: loss,f1_score\n"
     ]
    },
    {
     "name": "stderr",
     "output_type": "stream",
     "text": [
      "WARNING:tensorflow:Early stopping conditioned on metric `F1Score(name=f1_score,dtype=float32,num_classes=64,average=macro,threshold=None)` which is not available. Available metrics are: loss,f1_score\n"
     ]
    },
    {
     "name": "stdout",
     "output_type": "stream",
     "text": [
      "4/4 [==============================] - 3s 635ms/step - loss: 1.5003e-04 - f1_score: 1.0000\n",
      "Epoch 81/100\n",
      "4/4 [==============================] - ETA: 0s - loss: 1.4941e-04 - f1_score: 1.0000WARNING:tensorflow:Early stopping conditioned on metric `F1Score(name=f1_score,dtype=float32,num_classes=64,average=macro,threshold=None)` which is not available. Available metrics are: loss,f1_score\n"
     ]
    },
    {
     "name": "stderr",
     "output_type": "stream",
     "text": [
      "WARNING:tensorflow:Early stopping conditioned on metric `F1Score(name=f1_score,dtype=float32,num_classes=64,average=macro,threshold=None)` which is not available. Available metrics are: loss,f1_score\n"
     ]
    },
    {
     "name": "stdout",
     "output_type": "stream",
     "text": [
      "4/4 [==============================] - 3s 698ms/step - loss: 1.4941e-04 - f1_score: 1.0000\n",
      "Epoch 82/100\n",
      "4/4 [==============================] - ETA: 0s - loss: 1.4207e-04 - f1_score: 1.0000WARNING:tensorflow:Early stopping conditioned on metric `F1Score(name=f1_score,dtype=float32,num_classes=64,average=macro,threshold=None)` which is not available. Available metrics are: loss,f1_score\n"
     ]
    },
    {
     "name": "stderr",
     "output_type": "stream",
     "text": [
      "WARNING:tensorflow:Early stopping conditioned on metric `F1Score(name=f1_score,dtype=float32,num_classes=64,average=macro,threshold=None)` which is not available. Available metrics are: loss,f1_score\n"
     ]
    },
    {
     "name": "stdout",
     "output_type": "stream",
     "text": [
      "4/4 [==============================] - 4s 990ms/step - loss: 1.4207e-04 - f1_score: 1.0000\n",
      "Epoch 83/100\n",
      "4/4 [==============================] - ETA: 0s - loss: 1.4106e-04 - f1_score: 1.0000WARNING:tensorflow:Early stopping conditioned on metric `F1Score(name=f1_score,dtype=float32,num_classes=64,average=macro,threshold=None)` which is not available. Available metrics are: loss,f1_score\n"
     ]
    },
    {
     "name": "stderr",
     "output_type": "stream",
     "text": [
      "WARNING:tensorflow:Early stopping conditioned on metric `F1Score(name=f1_score,dtype=float32,num_classes=64,average=macro,threshold=None)` which is not available. Available metrics are: loss,f1_score\n"
     ]
    },
    {
     "name": "stdout",
     "output_type": "stream",
     "text": [
      "4/4 [==============================] - 3s 833ms/step - loss: 1.4106e-04 - f1_score: 1.0000\n",
      "Epoch 84/100\n",
      "4/4 [==============================] - ETA: 0s - loss: 1.3940e-04 - f1_score: 1.0000WARNING:tensorflow:Early stopping conditioned on metric `F1Score(name=f1_score,dtype=float32,num_classes=64,average=macro,threshold=None)` which is not available. Available metrics are: loss,f1_score\n"
     ]
    },
    {
     "name": "stderr",
     "output_type": "stream",
     "text": [
      "WARNING:tensorflow:Early stopping conditioned on metric `F1Score(name=f1_score,dtype=float32,num_classes=64,average=macro,threshold=None)` which is not available. Available metrics are: loss,f1_score\n"
     ]
    },
    {
     "name": "stdout",
     "output_type": "stream",
     "text": [
      "4/4 [==============================] - 2s 419ms/step - loss: 1.3940e-04 - f1_score: 1.0000\n",
      "Epoch 85/100\n",
      "4/4 [==============================] - ETA: 0s - loss: 1.3495e-04 - f1_score: 1.0000WARNING:tensorflow:Early stopping conditioned on metric `F1Score(name=f1_score,dtype=float32,num_classes=64,average=macro,threshold=None)` which is not available. Available metrics are: loss,f1_score\n"
     ]
    },
    {
     "name": "stderr",
     "output_type": "stream",
     "text": [
      "WARNING:tensorflow:Early stopping conditioned on metric `F1Score(name=f1_score,dtype=float32,num_classes=64,average=macro,threshold=None)` which is not available. Available metrics are: loss,f1_score\n"
     ]
    },
    {
     "name": "stdout",
     "output_type": "stream",
     "text": [
      "4/4 [==============================] - 2s 377ms/step - loss: 1.3495e-04 - f1_score: 1.0000\n",
      "Epoch 86/100\n",
      "4/4 [==============================] - ETA: 0s - loss: 1.3314e-04 - f1_score: 1.0000WARNING:tensorflow:Early stopping conditioned on metric `F1Score(name=f1_score,dtype=float32,num_classes=64,average=macro,threshold=None)` which is not available. Available metrics are: loss,f1_score\n"
     ]
    },
    {
     "name": "stderr",
     "output_type": "stream",
     "text": [
      "WARNING:tensorflow:Early stopping conditioned on metric `F1Score(name=f1_score,dtype=float32,num_classes=64,average=macro,threshold=None)` which is not available. Available metrics are: loss,f1_score\n"
     ]
    },
    {
     "name": "stdout",
     "output_type": "stream",
     "text": [
      "4/4 [==============================] - 2s 377ms/step - loss: 1.3314e-04 - f1_score: 1.0000\n",
      "Epoch 87/100\n",
      "4/4 [==============================] - ETA: 0s - loss: 1.3413e-04 - f1_score: 1.0000WARNING:tensorflow:Early stopping conditioned on metric `F1Score(name=f1_score,dtype=float32,num_classes=64,average=macro,threshold=None)` which is not available. Available metrics are: loss,f1_score\n"
     ]
    },
    {
     "name": "stderr",
     "output_type": "stream",
     "text": [
      "WARNING:tensorflow:Early stopping conditioned on metric `F1Score(name=f1_score,dtype=float32,num_classes=64,average=macro,threshold=None)` which is not available. Available metrics are: loss,f1_score\n"
     ]
    },
    {
     "name": "stdout",
     "output_type": "stream",
     "text": [
      "4/4 [==============================] - 2s 403ms/step - loss: 1.3413e-04 - f1_score: 1.0000\n",
      "Epoch 88/100\n",
      "4/4 [==============================] - ETA: 0s - loss: 1.3292e-04 - f1_score: 1.0000WARNING:tensorflow:Early stopping conditioned on metric `F1Score(name=f1_score,dtype=float32,num_classes=64,average=macro,threshold=None)` which is not available. Available metrics are: loss,f1_score\n"
     ]
    },
    {
     "name": "stderr",
     "output_type": "stream",
     "text": [
      "WARNING:tensorflow:Early stopping conditioned on metric `F1Score(name=f1_score,dtype=float32,num_classes=64,average=macro,threshold=None)` which is not available. Available metrics are: loss,f1_score\n"
     ]
    },
    {
     "name": "stdout",
     "output_type": "stream",
     "text": [
      "4/4 [==============================] - 2s 375ms/step - loss: 1.3292e-04 - f1_score: 1.0000\n",
      "Epoch 89/100\n",
      "4/4 [==============================] - ETA: 0s - loss: 1.2761e-04 - f1_score: 1.0000WARNING:tensorflow:Early stopping conditioned on metric `F1Score(name=f1_score,dtype=float32,num_classes=64,average=macro,threshold=None)` which is not available. Available metrics are: loss,f1_score\n"
     ]
    },
    {
     "name": "stderr",
     "output_type": "stream",
     "text": [
      "WARNING:tensorflow:Early stopping conditioned on metric `F1Score(name=f1_score,dtype=float32,num_classes=64,average=macro,threshold=None)` which is not available. Available metrics are: loss,f1_score\n"
     ]
    },
    {
     "name": "stdout",
     "output_type": "stream",
     "text": [
      "4/4 [==============================] - 2s 377ms/step - loss: 1.2761e-04 - f1_score: 1.0000\n",
      "Epoch 90/100\n",
      "4/4 [==============================] - ETA: 0s - loss: 1.2582e-04 - f1_score: 1.0000WARNING:tensorflow:Early stopping conditioned on metric `F1Score(name=f1_score,dtype=float32,num_classes=64,average=macro,threshold=None)` which is not available. Available metrics are: loss,f1_score\n"
     ]
    },
    {
     "name": "stderr",
     "output_type": "stream",
     "text": [
      "WARNING:tensorflow:Early stopping conditioned on metric `F1Score(name=f1_score,dtype=float32,num_classes=64,average=macro,threshold=None)` which is not available. Available metrics are: loss,f1_score\n"
     ]
    },
    {
     "name": "stdout",
     "output_type": "stream",
     "text": [
      "4/4 [==============================] - 2s 385ms/step - loss: 1.2582e-04 - f1_score: 1.0000\n",
      "Epoch 91/100\n",
      "4/4 [==============================] - ETA: 0s - loss: 1.2271e-04 - f1_score: 1.0000WARNING:tensorflow:Early stopping conditioned on metric `F1Score(name=f1_score,dtype=float32,num_classes=64,average=macro,threshold=None)` which is not available. Available metrics are: loss,f1_score\n"
     ]
    },
    {
     "name": "stderr",
     "output_type": "stream",
     "text": [
      "WARNING:tensorflow:Early stopping conditioned on metric `F1Score(name=f1_score,dtype=float32,num_classes=64,average=macro,threshold=None)` which is not available. Available metrics are: loss,f1_score\n"
     ]
    },
    {
     "name": "stdout",
     "output_type": "stream",
     "text": [
      "4/4 [==============================] - 2s 419ms/step - loss: 1.2271e-04 - f1_score: 1.0000\n",
      "Epoch 92/100\n",
      "4/4 [==============================] - ETA: 0s - loss: 1.2440e-04 - f1_score: 1.0000WARNING:tensorflow:Early stopping conditioned on metric `F1Score(name=f1_score,dtype=float32,num_classes=64,average=macro,threshold=None)` which is not available. Available metrics are: loss,f1_score\n"
     ]
    },
    {
     "name": "stderr",
     "output_type": "stream",
     "text": [
      "WARNING:tensorflow:Early stopping conditioned on metric `F1Score(name=f1_score,dtype=float32,num_classes=64,average=macro,threshold=None)` which is not available. Available metrics are: loss,f1_score\n"
     ]
    },
    {
     "name": "stdout",
     "output_type": "stream",
     "text": [
      "4/4 [==============================] - 2s 402ms/step - loss: 1.2440e-04 - f1_score: 1.0000\n",
      "Epoch 93/100\n",
      "4/4 [==============================] - ETA: 0s - loss: 1.2414e-04 - f1_score: 1.0000WARNING:tensorflow:Early stopping conditioned on metric `F1Score(name=f1_score,dtype=float32,num_classes=64,average=macro,threshold=None)` which is not available. Available metrics are: loss,f1_score\n"
     ]
    },
    {
     "name": "stderr",
     "output_type": "stream",
     "text": [
      "WARNING:tensorflow:Early stopping conditioned on metric `F1Score(name=f1_score,dtype=float32,num_classes=64,average=macro,threshold=None)` which is not available. Available metrics are: loss,f1_score\n"
     ]
    },
    {
     "name": "stdout",
     "output_type": "stream",
     "text": [
      "4/4 [==============================] - 2s 439ms/step - loss: 1.2414e-04 - f1_score: 1.0000\n",
      "Epoch 94/100\n",
      "4/4 [==============================] - ETA: 0s - loss: 1.2151e-04 - f1_score: 1.0000WARNING:tensorflow:Early stopping conditioned on metric `F1Score(name=f1_score,dtype=float32,num_classes=64,average=macro,threshold=None)` which is not available. Available metrics are: loss,f1_score\n"
     ]
    },
    {
     "name": "stderr",
     "output_type": "stream",
     "text": [
      "WARNING:tensorflow:Early stopping conditioned on metric `F1Score(name=f1_score,dtype=float32,num_classes=64,average=macro,threshold=None)` which is not available. Available metrics are: loss,f1_score\n"
     ]
    },
    {
     "name": "stdout",
     "output_type": "stream",
     "text": [
      "4/4 [==============================] - 2s 390ms/step - loss: 1.2151e-04 - f1_score: 1.0000\n",
      "Epoch 95/100\n",
      "4/4 [==============================] - ETA: 0s - loss: 1.2007e-04 - f1_score: 1.0000WARNING:tensorflow:Early stopping conditioned on metric `F1Score(name=f1_score,dtype=float32,num_classes=64,average=macro,threshold=None)` which is not available. Available metrics are: loss,f1_score\n"
     ]
    },
    {
     "name": "stderr",
     "output_type": "stream",
     "text": [
      "WARNING:tensorflow:Early stopping conditioned on metric `F1Score(name=f1_score,dtype=float32,num_classes=64,average=macro,threshold=None)` which is not available. Available metrics are: loss,f1_score\n"
     ]
    },
    {
     "name": "stdout",
     "output_type": "stream",
     "text": [
      "4/4 [==============================] - 2s 460ms/step - loss: 1.2007e-04 - f1_score: 1.0000\n",
      "Epoch 96/100\n",
      "4/4 [==============================] - ETA: 0s - loss: 1.1487e-04 - f1_score: 1.0000WARNING:tensorflow:Early stopping conditioned on metric `F1Score(name=f1_score,dtype=float32,num_classes=64,average=macro,threshold=None)` which is not available. Available metrics are: loss,f1_score\n"
     ]
    },
    {
     "name": "stderr",
     "output_type": "stream",
     "text": [
      "WARNING:tensorflow:Early stopping conditioned on metric `F1Score(name=f1_score,dtype=float32,num_classes=64,average=macro,threshold=None)` which is not available. Available metrics are: loss,f1_score\n"
     ]
    },
    {
     "name": "stdout",
     "output_type": "stream",
     "text": [
      "4/4 [==============================] - 2s 457ms/step - loss: 1.1487e-04 - f1_score: 1.0000\n",
      "Epoch 97/100\n",
      "4/4 [==============================] - ETA: 0s - loss: 1.1493e-04 - f1_score: 1.0000WARNING:tensorflow:Early stopping conditioned on metric `F1Score(name=f1_score,dtype=float32,num_classes=64,average=macro,threshold=None)` which is not available. Available metrics are: loss,f1_score\n"
     ]
    },
    {
     "name": "stderr",
     "output_type": "stream",
     "text": [
      "WARNING:tensorflow:Early stopping conditioned on metric `F1Score(name=f1_score,dtype=float32,num_classes=64,average=macro,threshold=None)` which is not available. Available metrics are: loss,f1_score\n"
     ]
    },
    {
     "name": "stdout",
     "output_type": "stream",
     "text": [
      "4/4 [==============================] - 2s 401ms/step - loss: 1.1493e-04 - f1_score: 1.0000\n",
      "Epoch 98/100\n",
      "4/4 [==============================] - ETA: 0s - loss: 1.1160e-04 - f1_score: 1.0000WARNING:tensorflow:Early stopping conditioned on metric `F1Score(name=f1_score,dtype=float32,num_classes=64,average=macro,threshold=None)` which is not available. Available metrics are: loss,f1_score\n"
     ]
    },
    {
     "name": "stderr",
     "output_type": "stream",
     "text": [
      "WARNING:tensorflow:Early stopping conditioned on metric `F1Score(name=f1_score,dtype=float32,num_classes=64,average=macro,threshold=None)` which is not available. Available metrics are: loss,f1_score\n"
     ]
    },
    {
     "name": "stdout",
     "output_type": "stream",
     "text": [
      "4/4 [==============================] - 2s 513ms/step - loss: 1.1160e-04 - f1_score: 1.0000\n",
      "Epoch 99/100\n",
      "4/4 [==============================] - ETA: 0s - loss: 1.1300e-04 - f1_score: 1.0000WARNING:tensorflow:Early stopping conditioned on metric `F1Score(name=f1_score,dtype=float32,num_classes=64,average=macro,threshold=None)` which is not available. Available metrics are: loss,f1_score\n"
     ]
    },
    {
     "name": "stderr",
     "output_type": "stream",
     "text": [
      "WARNING:tensorflow:Early stopping conditioned on metric `F1Score(name=f1_score,dtype=float32,num_classes=64,average=macro,threshold=None)` which is not available. Available metrics are: loss,f1_score\n"
     ]
    },
    {
     "name": "stdout",
     "output_type": "stream",
     "text": [
      "4/4 [==============================] - 2s 489ms/step - loss: 1.1300e-04 - f1_score: 1.0000\n",
      "Epoch 100/100\n",
      "4/4 [==============================] - ETA: 0s - loss: 1.1099e-04 - f1_score: 1.0000WARNING:tensorflow:Early stopping conditioned on metric `F1Score(name=f1_score,dtype=float32,num_classes=64,average=macro,threshold=None)` which is not available. Available metrics are: loss,f1_score\n"
     ]
    },
    {
     "name": "stderr",
     "output_type": "stream",
     "text": [
      "WARNING:tensorflow:Early stopping conditioned on metric `F1Score(name=f1_score,dtype=float32,num_classes=64,average=macro,threshold=None)` which is not available. Available metrics are: loss,f1_score\n"
     ]
    },
    {
     "name": "stdout",
     "output_type": "stream",
     "text": [
      "\b\b\b\b\b\b\b\b\b\b\b\b\b\b\b\b\b\b\b\b\b\b\b\b\b\b\b\b\b\b\b\b\b\b\b\b\b\b\b\b\b\b\b\b\b\b\b\b\b\b\b\b\b\b\b\b\b\b\b\b\b\b\b\b\b\b\b\b\b\b\b\b\b\b\b\b\b\b\b\b\b\b\b\b\r",
      "4/4 [==============================] - 2s 442ms/step - loss: 1.1099e-04 - f1_score: 1.0000\n"
     ]
    },
    {
     "data": {
      "text/plain": [
       "<keras.callbacks.History at 0x7f71141cb690>"
      ]
     },
     "execution_count": 7,
     "metadata": {},
     "output_type": "execute_result"
    }
   ],
   "source": [
    "f1 = tfa.metrics.F1Score(num_classes=64, average='macro')\n",
    "\n",
    "callbacks = keras.callbacks.EarlyStopping(monitor=f1, patience=3, mode='max', restore_best_weights=True)\n",
    "\n",
    "new_model.compile(loss=tf.keras.losses.BinaryCrossentropy(), optimizer=keras.optimizers.Adam(lr=1e-4), \n",
    "              metrics= [f1])\n",
    "\n",
    "\n",
    "new_model.fit(train_data, epochs=100, callbacks=callbacks)"
   ]
  },
  {
   "cell_type": "code",
   "execution_count": 8,
   "id": "162d30ee",
   "metadata": {},
   "outputs": [
    {
     "name": "stderr",
     "output_type": "stream",
     "text": [
      "WARNING:absl:Found untraced functions such as _jit_compiled_convolution_op, _jit_compiled_convolution_op, _jit_compiled_convolution_op, _jit_compiled_convolution_op, _jit_compiled_convolution_op while saving (showing 5 of 245). These functions will not be directly callable after loading.\n"
     ]
    },
    {
     "name": "stdout",
     "output_type": "stream",
     "text": [
      "INFO:tensorflow:Assets written to: saved_model/assets\n"
     ]
    },
    {
     "name": "stderr",
     "output_type": "stream",
     "text": [
      "INFO:tensorflow:Assets written to: saved_model/assets\n"
     ]
    }
   ],
   "source": [
    "new_model.save('saved_model')"
   ]
  }
 ],
 "metadata": {
  "kernelspec": {
   "display_name": "Python 3 (ipykernel)",
   "language": "python",
   "name": "python3"
  },
  "language_info": {
   "codemirror_mode": {
    "name": "ipython",
    "version": 3
   },
   "file_extension": ".py",
   "mimetype": "text/x-python",
   "name": "python",
   "nbconvert_exporter": "python",
   "pygments_lexer": "ipython3",
   "version": "3.11.2"
  }
 },
 "nbformat": 4,
 "nbformat_minor": 5
}
