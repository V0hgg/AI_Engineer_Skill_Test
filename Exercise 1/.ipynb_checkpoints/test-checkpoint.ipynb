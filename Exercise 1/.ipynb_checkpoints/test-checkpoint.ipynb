{
 "cells": [
  {
   "cell_type": "code",
   "execution_count": 41,
   "id": "52cc8b84",
   "metadata": {
    "scrolled": true
   },
   "outputs": [],
   "source": [
    "import pandas as pd\n",
    "import numpy as np\n",
    "import tensorflow as tf\n",
    "import tensorflow.keras as keras\n",
    "from tqdm import tqdm\n",
    "import PIL\n",
    "from PIL import Image\n",
    "from PIL import Image, ImageDraw, ImageOps\n",
    "import os "
   ]
  },
  {
   "cell_type": "code",
   "execution_count": 42,
   "id": "78a0a074",
   "metadata": {
    "scrolled": true
   },
   "outputs": [
    {
     "name": "stdout",
     "output_type": "stream",
     "text": [
      "WARNING:tensorflow:Unable to restore custom metric. Please ensure that the layer implements `get_config` and `from_config` when saving. In addition, please use the `custom_objects` arg when calling `load_model()`.\n"
     ]
    }
   ],
   "source": [
    "model = tf.keras.models.load_model('./saved_model',compile=False)"
   ]
  },
  {
   "cell_type": "code",
   "execution_count": 43,
   "id": "0e1a538b",
   "metadata": {
    "scrolled": true
   },
   "outputs": [],
   "source": [
    "# # Set the path to the folder containing the input images\n",
    "# input_folder_path = './test_data/test_images'\n",
    "\n",
    "# # Set the path to the folder where the cropped images will be saved\n",
    "# output_folder_path = './resize_test'\n",
    "\n",
    "# # Set the radius of the circular crop in pixels\n",
    "# radius = 40\n",
    "\n",
    "# # Load the list of image names from a CSV file\n",
    "# test = pd.read_csv('./test_data/test.txt', sep='\\t', header=None, names=['image', 'label'])\n",
    "\n",
    "# # Loop over all image files in the list\n",
    "# for img_name in tqdm(test['image']):\n",
    "#     # Open the input image file\n",
    "#     input_image_path = os.path.join(input_folder_path, str(img_name))\n",
    "#     with Image.open(input_image_path) as input_image:\n",
    "#         # Crop the left half of the image\n",
    "#         width, height = input_image.size\n",
    "#         left_half = (0, 0, width//4, height)\n",
    "#         cropped_image = input_image.crop(left_half)\n",
    "#         cropped_image.save(os.path.join(output_folder_path, 'cropped.png'))\n",
    "\n",
    "#         # Create a new image with a black background\n",
    "#         mask = Image.new('L', cropped_image.size, 0)\n",
    "\n",
    "#         # Draw a white circle in the center of the mask\n",
    "#         draw = ImageDraw.Draw(mask)\n",
    "#         draw.ellipse((cropped_image.width//2-radius, cropped_image.height//2-radius, cropped_image.width//2+radius, cropped_image.height//2+radius), fill=255)\n",
    "#         mask.save(os.path.join(output_folder_path, 'mask.png'))\n",
    "\n",
    "#         # Paste the cropped circular region onto a new image\n",
    "#         output_image = Image.new('RGBA', cropped_image.size, (255, 255, 255, 0))\n",
    "#         output_image.paste(cropped_image, mask=mask)\n",
    "#         output_image.save(os.path.join(output_folder_path, 'output1.png'))\n",
    "\n",
    "#         # Resize the output image to (256, 256) dimensions\n",
    "#         output_image = output_image.resize((128, 128))\n",
    "#         output_image.save(os.path.join(output_folder_path, 'output2.png'))\n",
    "\n",
    "#         # Save the output image to the output folder as PNG\n",
    "#         output_image_path = os.path.join(output_folder_path, img_name[:-4] + '.png')\n",
    "#         output_image.save(output_image_path)"
   ]
  },
  {
   "cell_type": "code",
   "execution_count": 44,
   "id": "c0046896",
   "metadata": {
    "scrolled": true
   },
   "outputs": [
    {
     "name": "stderr",
     "output_type": "stream",
     "text": [
      "100%|████████████████████████████████████████████████████| 98/98 [00:00<00:00, 455.93it/s]\n"
     ]
    }
   ],
   "source": [
    "test = pd.read_csv('./test_data/test.txt', header = None, sep = '\\t', names = [\"image\", \"label\"])\n",
    "\n",
    "for img_name in tqdm(test['image']):\n",
    "    path = './test_data/test_images/'+str(img_name)\n",
    "    with PIL.Image.open(path) as img:\n",
    "        width, height = img.size\n",
    "        left_half = (0, 0, width//4,height)\n",
    "        img = img.crop(left_half)\n",
    "        img = img.resize((299,299))\n",
    "        img.save(f'./{\"resize_test\"}/{img_name}')"
   ]
  },
  {
   "cell_type": "code",
   "execution_count": 45,
   "id": "6dec62ef",
   "metadata": {
    "scrolled": true
   },
   "outputs": [
    {
     "name": "stdout",
     "output_type": "stream",
     "text": [
      "Found 98 validated image filenames.\n"
     ]
    },
    {
     "name": "stderr",
     "output_type": "stream",
     "text": [
      "2023-05-13 14:19:09.372398: I tensorflow/core/common_runtime/executor.cc:1197] [/device:CPU:0] (DEBUG INFO) Executor start aborting (this does not indicate an error and you can ignore this message): INVALID_ARGUMENT: You must feed a value for placeholder tensor 'Placeholder/_0' with dtype int32\n",
      "\t [[{{node Placeholder/_0}}]]\n"
     ]
    },
    {
     "name": "stdout",
     "output_type": "stream",
     "text": [
      "4/4 [==============================] - 14s 3s/step\n"
     ]
    }
   ],
   "source": [
    "# test['image'] = test['image'].str.replace('.jpg', '.png')\n",
    "\n",
    "datagen = keras.preprocessing.image.ImageDataGenerator(rescale=1/255.0,\n",
    "                                                        preprocessing_function=None,\n",
    "                                                        data_format=None,\n",
    "                                                    )\n",
    "test_data = datagen.flow_from_dataframe(\n",
    "    test,\n",
    "    directory = './resize_test',\n",
    "    x_col=\"image\",\n",
    "    y_col= None,\n",
    "    color_mode=\"rgb\",\n",
    "    target_size = (299,299),\n",
    "    classes=None,\n",
    "    class_mode=None,\n",
    "    batch_size=32,\n",
    "    shuffle=False,\n",
    "    seed=40,\n",
    ")\n",
    "\n",
    "preds = model.predict(test_data)\n",
    "# print(preds)\n",
    "preds = preds.tolist()\n",
    "\n",
    "indices = []\n",
    "for pred in preds:\n",
    "#     print(pred)\n",
    "    max_pred= 0.0\n",
    "    temp = []\n",
    "    for category in pred:\n",
    "        if category>max_pred:\n",
    "#             temp.append(pred.index(category))\n",
    "#             break\n",
    "            max_pred = category\n",
    "    temp.append(pred.index(max_pred))\n",
    "    if temp!=[]:\n",
    "        indices.append(temp)\n",
    "    else:\n",
    "        temp.append(np.argmax(pred))\n",
    "        indices.append(temp)\n",
    "\n",
    "# print(indices)"
   ]
  },
  {
   "cell_type": "code",
   "execution_count": 46,
   "id": "41d357dc",
   "metadata": {
    "scrolled": true
   },
   "outputs": [
    {
     "name": "stdout",
     "output_type": "stream",
     "text": [
      "Found 64 validated image filenames belonging to 64 classes.\n",
      "{0: 'Ahri', 1: 'Akali', 2: 'Alistar', 3: 'Amumu', 4: 'Annie', 5: 'Ashe', 6: 'AurelionSol', 7: 'Blitzcrank', 8: 'Braum', 9: 'Camille', 10: 'Corki', 11: 'Darius', 12: 'Diana', 13: 'DrMundo', 14: 'Draven', 15: 'Evelynn', 16: 'Ezreal', 17: 'Fiora', 18: 'Fizz', 19: 'Galio', 20: 'Garen', 21: 'Gragas', 22: 'Graves', 23: 'Janna', 24: 'JarvanIV', 25: 'Jax', 26: 'Jhin', 27: 'Jinx', 28: 'Kaisa', 29: 'Katarina', 30: 'Kennen', 31: 'Khazix', 32: 'LeeSin', 33: 'Leona', 34: 'Lulu', 35: 'Lux', 36: 'Malphite', 37: 'MasterYi', 38: 'MissFortune', 39: 'MonkeyKing', 40: 'Nami', 41: 'Nasus', 42: 'Olaf', 43: 'Orianna', 44: 'Pantheon', 45: 'Rakan', 46: 'Rammus', 47: 'Rengar', 48: 'Seraphine', 49: 'Shyvana', 50: 'Singed', 51: 'Sona', 52: 'Soraka', 53: 'Teemo', 54: 'Tristana', 55: 'Tryndamere', 56: 'TwistedFate', 57: 'Varus', 58: 'Vayne', 59: 'Vi', 60: 'XinZhao', 61: 'Yasuo', 62: 'Zed', 63: 'Ziggs'}\n",
      "['Fizz', 'MissFortune', 'Blitzcrank', 'Pantheon', 'Blitzcrank', 'Orianna', 'Fizz', 'Orianna', 'Blitzcrank', 'Blitzcrank', 'Fizz', 'Blitzcrank', 'DrMundo', 'Blitzcrank', 'Blitzcrank', 'Blitzcrank', 'Evelynn', 'Graves', 'Graves', 'Blitzcrank', 'Kaisa', 'Fizz', 'MissFortune', 'Fizz', 'Blitzcrank', 'Blitzcrank', 'Blitzcrank', 'Blitzcrank', 'Blitzcrank', 'Blitzcrank', 'Graves', 'Blitzcrank', 'Blitzcrank', 'Fizz', 'Blitzcrank', 'Jax', 'Graves', 'Blitzcrank', 'Kaisa', 'AurelionSol', 'Evelynn', 'Graves', 'Blitzcrank', 'Corki', 'Blitzcrank', 'Corki', 'Blitzcrank', 'Fizz', 'Blitzcrank', 'Corki', 'Graves', 'Blitzcrank', 'Fizz', 'Jax', 'Graves', 'Pantheon', 'Blitzcrank', 'Jax', 'Blitzcrank', 'Seraphine', 'AurelionSol', 'Fizz', 'DrMundo', 'Jax', 'Fizz', 'Blitzcrank', 'Blitzcrank', 'Blitzcrank', 'Blitzcrank', 'Evelynn', 'Orianna', 'Blitzcrank', 'Jax', 'Corki', 'Blitzcrank', 'Graves', 'Fizz', 'Blitzcrank', 'Fizz', 'Pantheon', 'Blitzcrank', 'Blitzcrank', 'Fizz', 'MissFortune', 'Blitzcrank', 'Blitzcrank', 'Khazix', 'Blitzcrank', 'Blitzcrank', 'Evelynn', 'Blitzcrank', 'DrMundo', 'Blitzcrank', 'Graves', 'Blitzcrank', 'Graves', 'Blitzcrank', 'Fizz']\n"
     ]
    }
   ],
   "source": [
    "train = pd.read_csv('train.csv', header=None, names=[\"image\", \"labels\"])\n",
    "train_data = datagen.flow_from_dataframe(\n",
    "    train,\n",
    "    directory='./train_dataset',\n",
    "    x_col=\"image\",\n",
    "    y_col= 'labels',\n",
    "    color_mode=\"rgb\",\n",
    "    target_size = (299,299),\n",
    "    class_mode=\"categorical\",\n",
    "    batch_size=4,\n",
    "    shuffle=False,\n",
    "    seed=40,\n",
    ")\n",
    "labels = (train_data.class_indices)\n",
    "labels = dict((v,k) for k,v in labels.items())\n",
    "print(labels)\n",
    "\n",
    "testlabels = []\n",
    "\n",
    "\n",
    "for image in indices:\n",
    "    temp = []\n",
    "    for i in image:\n",
    "        temp.append(str(labels[i]))\n",
    "    testlabels.append(' '.join(temp))\n",
    "\n",
    "print(testlabels)"
   ]
  },
  {
   "cell_type": "code",
   "execution_count": 47,
   "id": "0a5d8742",
   "metadata": {
    "scrolled": true
   },
   "outputs": [],
   "source": [
    "test['predict'] = testlabels\n",
    "df = pd.DataFrame(test)\n",
    "df.to_csv('test.csv', index=False)"
   ]
  },
  {
   "cell_type": "code",
   "execution_count": 48,
   "id": "0ce09ee9",
   "metadata": {
    "scrolled": true
   },
   "outputs": [
    {
     "data": {
      "text/html": [
       "<div>\n",
       "<style scoped>\n",
       "    .dataframe tbody tr th:only-of-type {\n",
       "        vertical-align: middle;\n",
       "    }\n",
       "\n",
       "    .dataframe tbody tr th {\n",
       "        vertical-align: top;\n",
       "    }\n",
       "\n",
       "    .dataframe thead th {\n",
       "        text-align: right;\n",
       "    }\n",
       "</style>\n",
       "<table border=\"1\" class=\"dataframe\">\n",
       "  <thead>\n",
       "    <tr style=\"text-align: right;\">\n",
       "      <th></th>\n",
       "      <th>image</th>\n",
       "      <th>label</th>\n",
       "      <th>predict</th>\n",
       "    </tr>\n",
       "  </thead>\n",
       "  <tbody>\n",
       "    <tr>\n",
       "      <th>0</th>\n",
       "      <td>Jinx_630613568339321_round1_Dr.-Mundo_06-04-20...</td>\n",
       "      <td>Jinx</td>\n",
       "      <td>Fizz</td>\n",
       "    </tr>\n",
       "    <tr>\n",
       "      <th>1</th>\n",
       "      <td>Darius_1115082439004174_round1_Darius_05-19-20...</td>\n",
       "      <td>Darius</td>\n",
       "      <td>MissFortune</td>\n",
       "    </tr>\n",
       "    <tr>\n",
       "      <th>2</th>\n",
       "      <td>Jinx_v1033497503_round5_Sona_05-25-2021.mp4_85...</td>\n",
       "      <td>Jinx</td>\n",
       "      <td>Blitzcrank</td>\n",
       "    </tr>\n",
       "    <tr>\n",
       "      <th>3</th>\n",
       "      <td>Miss_232154245077306_round1_Lee-Sin_06-14-2021...</td>\n",
       "      <td>Miss_Fortune</td>\n",
       "      <td>Pantheon</td>\n",
       "    </tr>\n",
       "    <tr>\n",
       "      <th>4</th>\n",
       "      <td>Jinx_182388960412791_round6_Jinx_05-04-2021.mp...</td>\n",
       "      <td>Jinx</td>\n",
       "      <td>Blitzcrank</td>\n",
       "    </tr>\n",
       "    <tr>\n",
       "      <th>...</th>\n",
       "      <td>...</td>\n",
       "      <td>...</td>\n",
       "      <td>...</td>\n",
       "    </tr>\n",
       "    <tr>\n",
       "      <th>93</th>\n",
       "      <td>Ahri_278220660753197_round6_Ahri_06-02-2021.mp...</td>\n",
       "      <td>Ahri</td>\n",
       "      <td>Graves</td>\n",
       "    </tr>\n",
       "    <tr>\n",
       "      <th>94</th>\n",
       "      <td>Annie_2996176217280056_round1_Akali_06-11-2021...</td>\n",
       "      <td>Annie</td>\n",
       "      <td>Blitzcrank</td>\n",
       "    </tr>\n",
       "    <tr>\n",
       "      <th>95</th>\n",
       "      <td>Dr_1140587809775566_round3_Dr.-Mundo_06-08-202...</td>\n",
       "      <td>Dr._Mundo</td>\n",
       "      <td>Graves</td>\n",
       "    </tr>\n",
       "    <tr>\n",
       "      <th>96</th>\n",
       "      <td>Annie_4448886761788772_round5_Varus_05-04-2021...</td>\n",
       "      <td>Annie</td>\n",
       "      <td>Blitzcrank</td>\n",
       "    </tr>\n",
       "    <tr>\n",
       "      <th>97</th>\n",
       "      <td>Fizz_20zGr1wVrzM_round2_Ezreal_05-27-2021_new....</td>\n",
       "      <td>Fizz</td>\n",
       "      <td>Fizz</td>\n",
       "    </tr>\n",
       "  </tbody>\n",
       "</table>\n",
       "<p>98 rows × 3 columns</p>\n",
       "</div>"
      ],
      "text/plain": [
       "                                                image         label  \\\n",
       "0   Jinx_630613568339321_round1_Dr.-Mundo_06-04-20...          Jinx   \n",
       "1   Darius_1115082439004174_round1_Darius_05-19-20...        Darius   \n",
       "2   Jinx_v1033497503_round5_Sona_05-25-2021.mp4_85...          Jinx   \n",
       "3   Miss_232154245077306_round1_Lee-Sin_06-14-2021...  Miss_Fortune   \n",
       "4   Jinx_182388960412791_round6_Jinx_05-04-2021.mp...          Jinx   \n",
       "..                                                ...           ...   \n",
       "93  Ahri_278220660753197_round6_Ahri_06-02-2021.mp...          Ahri   \n",
       "94  Annie_2996176217280056_round1_Akali_06-11-2021...         Annie   \n",
       "95  Dr_1140587809775566_round3_Dr.-Mundo_06-08-202...     Dr._Mundo   \n",
       "96  Annie_4448886761788772_round5_Varus_05-04-2021...         Annie   \n",
       "97  Fizz_20zGr1wVrzM_round2_Ezreal_05-27-2021_new....          Fizz   \n",
       "\n",
       "        predict  \n",
       "0          Fizz  \n",
       "1   MissFortune  \n",
       "2    Blitzcrank  \n",
       "3      Pantheon  \n",
       "4    Blitzcrank  \n",
       "..          ...  \n",
       "93       Graves  \n",
       "94   Blitzcrank  \n",
       "95       Graves  \n",
       "96   Blitzcrank  \n",
       "97         Fizz  \n",
       "\n",
       "[98 rows x 3 columns]"
      ]
     },
     "execution_count": 48,
     "metadata": {},
     "output_type": "execute_result"
    }
   ],
   "source": [
    "test"
   ]
  }
 ],
 "metadata": {
  "kernelspec": {
   "display_name": "Python 3 (ipykernel)",
   "language": "python",
   "name": "python3"
  },
  "language_info": {
   "codemirror_mode": {
    "name": "ipython",
    "version": 3
   },
   "file_extension": ".py",
   "mimetype": "text/x-python",
   "name": "python",
   "nbconvert_exporter": "python",
   "pygments_lexer": "ipython3",
   "version": "3.11.2"
  }
 },
 "nbformat": 4,
 "nbformat_minor": 5
}
