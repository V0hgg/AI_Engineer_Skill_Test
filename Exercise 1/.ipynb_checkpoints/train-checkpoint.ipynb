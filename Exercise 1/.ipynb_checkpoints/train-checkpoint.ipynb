{
 "cells": [
  {
   "cell_type": "code",
   "execution_count": 15,
   "id": "1ee56cbe",
   "metadata": {},
   "outputs": [],
   "source": [
    "import pandas as pd\n",
    "import numpy as np\n",
    "import tensorflow as tf\n",
    "import tensorflow.keras as keras\n",
    "from sklearn.preprocessing import MultiLabelBinarizer\n",
    "import PIL\n",
    "import cv2\n",
    "import matplotlib.pyplot as plt\n",
    "import seaborn as sns\n",
    "import os\n",
    "import random\n",
    "from tqdm import tqdm\n",
    "import tensorflow_addons as tfa\n",
    "import random\n",
    "from tensorflow.keras.applications import InceptionResNetV2\n",
    "import urllib.request\n",
    "\n",
    "pd.set_option(\"display.max_columns\", None)"
   ]
  },
  {
   "cell_type": "code",
   "execution_count": 16,
   "id": "be47749a",
   "metadata": {},
   "outputs": [
    {
     "name": "stdout",
     "output_type": "stream",
     "text": [
      "Train ammount: 64\n",
      "Train columns: Index(['image', 'labels'], dtype='object')\n",
      "TwistedFate    1\n",
      "Garen          1\n",
      "Ahri           1\n",
      "Orianna        1\n",
      "Tryndamere     1\n",
      "              ..\n",
      "Fiora          1\n",
      "Tristana       1\n",
      "Diana          1\n",
      "DrMundo        1\n",
      "Kaisa          1\n",
      "Name: labels, Length: 64, dtype: int64\n"
     ]
    }
   ],
   "source": [
    "train = pd.read_csv('train.csv', header=None, names=[\"image\", \"labels\"])\n",
    "print(\"Train ammount:\",len(train))\n",
    "print(\"Train columns:\", train.columns)\n",
    "print(train['labels'].value_counts())"
   ]
  },
  {
   "cell_type": "code",
   "execution_count": 17,
   "id": "a2a93bb7",
   "metadata": {},
   "outputs": [
    {
     "name": "stdout",
     "output_type": "stream",
     "text": [
      "Found 64 validated image filenames belonging to 64 classes.\n"
     ]
    }
   ],
   "source": [
    "# %%time\n",
    "# datagen = keras.preprocessing.image.ImageDataGenerator(rescale=1/255.0,\n",
    "#                                                         preprocessing_function=None,\n",
    "#                                                         data_format=None,\n",
    "#                                                     )\n",
    "\n",
    "# train_data = datagen.flow_from_dataframe(\n",
    "#     train,\n",
    "#     directory='./train_dataset',\n",
    "# #     directory='./train_dataset_round',\n",
    "#     x_col=\"image\",\n",
    "#     y_col= 'labels',\n",
    "#     color_mode=\"rgb\",\n",
    "#     target_size = (256,256),\n",
    "#     class_mode=\"categorical\",\n",
    "#     batch_size=32,\n",
    "#     shuffle=False,\n",
    "#     seed=40,\n",
    "# )\n",
    "\n",
    "datagen = keras.preprocessing.image.ImageDataGenerator(\n",
    "    rescale=1./255,\n",
    "    rotation_range=20,\n",
    "    width_shift_range=0.1,\n",
    "    height_shift_range=0.1,\n",
    "    shear_range=0.2,\n",
    "    zoom_range=0.2,\n",
    "    horizontal_flip=True,\n",
    "    fill_mode='nearest'\n",
    ")\n",
    "\n",
    "train_data = datagen.flow_from_dataframe(\n",
    "    train,\n",
    "    directory='./train_dataset',\n",
    "#     directory='./train_dataset_round',\n",
    "    x_col=\"image\",\n",
    "    y_col= 'labels',\n",
    "    color_mode=\"rgb\",\n",
    "    target_size = (75,75),\n",
    "    class_mode=\"categorical\",\n",
    "    batch_size=16,\n",
    "    shuffle=False,\n",
    "    seed=40,\n",
    ")"
   ]
  },
  {
   "cell_type": "code",
   "execution_count": 18,
   "id": "ffa84ae0",
   "metadata": {},
   "outputs": [
    {
     "name": "stdout",
     "output_type": "stream",
     "text": [
      "KerasTensor(type_spec=TensorSpec(shape=(None, 75, 75, 3), dtype=tf.float32, name='input_3'), name='input_3', description=\"created by layer 'input_3'\")\n",
      "KerasTensor(type_spec=TensorSpec(shape=(None, 64), dtype=tf.float32, name=None), name='dense_5/Softmax:0', description=\"created by layer 'dense_5'\")\n"
     ]
    }
   ],
   "source": [
    "seed = 1200\n",
    "tf.random.set_seed(seed)\n",
    "num_classes = 64\n",
    "\n",
    "# url = 'https://github.com/fchollet/deep-learning-models/releases/download/v0.7/inception_resnet_v2_weights_tf_dim_ordering_tf_kernels_notop.h5'\n",
    "\n",
    "# weights_path = './keras-pretrained-models/inception_resnet_v2_weights_tf_dim_ordering_tf_kernels_notop.h5'\n",
    "\n",
    "url = 'https://github.com/fchollet/deep-learning-models/releases/download/v0.7/inception_resnet_v2_weights_tf_dim_ordering_tf_kernels.h5'\n",
    "\n",
    "weights_path = './keras-pretrained-models/inception_resnet_v2_weights_tf_dim_ordering_tf_kernels.h5'\n",
    "\n",
    "if not os.path.exists(weights_path):\n",
    "    urllib.request.urlretrieve(url, weights_path)\n",
    "    \n",
    "# Load the pre-trained InceptionResNetV2 model\n",
    "base_model = keras.applications.InceptionResNetV2(weights=weights_path, include_top=False, input_shape=(75, 75, 3))\n",
    "\n",
    "# Remove the last layer of the model\n",
    "x = base_model.layers[-2].output\n",
    "\n",
    "# Add a new fully connected layer with 64 output neurons\n",
    "x = keras.layers.Flatten()(x)\n",
    "x = keras.layers.Dense(64, activation='relu')(x)\n",
    "output = keras.layers.Dense(num_classes, activation='softmax')(x)\n",
    "\n",
    "# Create a new model with the modified architecture\n",
    "new_model = keras.models.Model(inputs=base_model.input, outputs=output)\n",
    "\n",
    "print(new_model.input)\n",
    "print(new_model.output)"
   ]
  },
  {
   "cell_type": "code",
   "execution_count": 19,
   "id": "ad76b963",
   "metadata": {},
   "outputs": [
    {
     "name": "stderr",
     "output_type": "stream",
     "text": [
      "WARNING:absl:`lr` is deprecated in Keras optimizer, please use `learning_rate` or use the legacy optimizer, e.g.,tf.keras.optimizers.legacy.Adam.\n"
     ]
    },
    {
     "name": "stdout",
     "output_type": "stream",
     "text": [
      "Model: \"model_2\"\n",
      "__________________________________________________________________________________________________\n",
      " Layer (type)                   Output Shape         Param #     Connected to                     \n",
      "==================================================================================================\n",
      " input_3 (InputLayer)           [(None, 75, 75, 3)]  0           []                               \n",
      "                                                                                                  \n",
      " conv2d_406 (Conv2D)            (None, 37, 37, 32)   864         ['input_3[0][0]']                \n",
      "                                                                                                  \n",
      " batch_normalization_406 (Batch  (None, 37, 37, 32)  96          ['conv2d_406[0][0]']             \n",
      " Normalization)                                                                                   \n",
      "                                                                                                  \n",
      " activation_406 (Activation)    (None, 37, 37, 32)   0           ['batch_normalization_406[0][0]']\n",
      "                                                                                                  \n",
      " conv2d_407 (Conv2D)            (None, 35, 35, 32)   9216        ['activation_406[0][0]']         \n",
      "                                                                                                  \n",
      " batch_normalization_407 (Batch  (None, 35, 35, 32)  96          ['conv2d_407[0][0]']             \n",
      " Normalization)                                                                                   \n",
      "                                                                                                  \n",
      " activation_407 (Activation)    (None, 35, 35, 32)   0           ['batch_normalization_407[0][0]']\n",
      "                                                                                                  \n",
      " conv2d_408 (Conv2D)            (None, 35, 35, 64)   18432       ['activation_407[0][0]']         \n",
      "                                                                                                  \n",
      " batch_normalization_408 (Batch  (None, 35, 35, 64)  192         ['conv2d_408[0][0]']             \n",
      " Normalization)                                                                                   \n",
      "                                                                                                  \n",
      " activation_408 (Activation)    (None, 35, 35, 64)   0           ['batch_normalization_408[0][0]']\n",
      "                                                                                                  \n",
      " max_pooling2d_8 (MaxPooling2D)  (None, 17, 17, 64)  0           ['activation_408[0][0]']         \n",
      "                                                                                                  \n",
      " conv2d_409 (Conv2D)            (None, 17, 17, 80)   5120        ['max_pooling2d_8[0][0]']        \n",
      "                                                                                                  \n",
      " batch_normalization_409 (Batch  (None, 17, 17, 80)  240         ['conv2d_409[0][0]']             \n",
      " Normalization)                                                                                   \n",
      "                                                                                                  \n",
      " activation_409 (Activation)    (None, 17, 17, 80)   0           ['batch_normalization_409[0][0]']\n",
      "                                                                                                  \n",
      " conv2d_410 (Conv2D)            (None, 15, 15, 192)  138240      ['activation_409[0][0]']         \n",
      "                                                                                                  \n",
      " batch_normalization_410 (Batch  (None, 15, 15, 192)  576        ['conv2d_410[0][0]']             \n",
      " Normalization)                                                                                   \n",
      "                                                                                                  \n",
      " activation_410 (Activation)    (None, 15, 15, 192)  0           ['batch_normalization_410[0][0]']\n",
      "                                                                                                  \n",
      " max_pooling2d_9 (MaxPooling2D)  (None, 7, 7, 192)   0           ['activation_410[0][0]']         \n",
      "                                                                                                  \n",
      " conv2d_414 (Conv2D)            (None, 7, 7, 64)     12288       ['max_pooling2d_9[0][0]']        \n",
      "                                                                                                  \n",
      " batch_normalization_414 (Batch  (None, 7, 7, 64)    192         ['conv2d_414[0][0]']             \n",
      " Normalization)                                                                                   \n",
      "                                                                                                  \n",
      " activation_414 (Activation)    (None, 7, 7, 64)     0           ['batch_normalization_414[0][0]']\n",
      "                                                                                                  \n",
      " conv2d_412 (Conv2D)            (None, 7, 7, 48)     9216        ['max_pooling2d_9[0][0]']        \n",
      "                                                                                                  \n",
      " conv2d_415 (Conv2D)            (None, 7, 7, 96)     55296       ['activation_414[0][0]']         \n",
      "                                                                                                  \n",
      " batch_normalization_412 (Batch  (None, 7, 7, 48)    144         ['conv2d_412[0][0]']             \n",
      " Normalization)                                                                                   \n",
      "                                                                                                  \n",
      " batch_normalization_415 (Batch  (None, 7, 7, 96)    288         ['conv2d_415[0][0]']             \n",
      " Normalization)                                                                                   \n",
      "                                                                                                  \n",
      " activation_412 (Activation)    (None, 7, 7, 48)     0           ['batch_normalization_412[0][0]']\n",
      "                                                                                                  \n",
      " activation_415 (Activation)    (None, 7, 7, 96)     0           ['batch_normalization_415[0][0]']\n",
      "                                                                                                  \n",
      " average_pooling2d_2 (AveragePo  (None, 7, 7, 192)   0           ['max_pooling2d_9[0][0]']        \n",
      " oling2D)                                                                                         \n",
      "                                                                                                  \n",
      " conv2d_411 (Conv2D)            (None, 7, 7, 96)     18432       ['max_pooling2d_9[0][0]']        \n",
      "                                                                                                  \n",
      " conv2d_413 (Conv2D)            (None, 7, 7, 64)     76800       ['activation_412[0][0]']         \n",
      "                                                                                                  \n",
      " conv2d_416 (Conv2D)            (None, 7, 7, 96)     82944       ['activation_415[0][0]']         \n",
      "                                                                                                  \n",
      " conv2d_417 (Conv2D)            (None, 7, 7, 64)     12288       ['average_pooling2d_2[0][0]']    \n",
      "                                                                                                  \n",
      " batch_normalization_411 (Batch  (None, 7, 7, 96)    288         ['conv2d_411[0][0]']             \n",
      " Normalization)                                                                                   \n",
      "                                                                                                  \n",
      " batch_normalization_413 (Batch  (None, 7, 7, 64)    192         ['conv2d_413[0][0]']             \n",
      " Normalization)                                                                                   \n",
      "                                                                                                  \n",
      " batch_normalization_416 (Batch  (None, 7, 7, 96)    288         ['conv2d_416[0][0]']             \n"
     ]
    },
    {
     "name": "stdout",
     "output_type": "stream",
     "text": [
      " Normalization)                                                                                   \n",
      "                                                                                                  \n",
      " batch_normalization_417 (Batch  (None, 7, 7, 64)    192         ['conv2d_417[0][0]']             \n",
      " Normalization)                                                                                   \n",
      "                                                                                                  \n",
      " activation_411 (Activation)    (None, 7, 7, 96)     0           ['batch_normalization_411[0][0]']\n",
      "                                                                                                  \n",
      " activation_413 (Activation)    (None, 7, 7, 64)     0           ['batch_normalization_413[0][0]']\n",
      "                                                                                                  \n",
      " activation_416 (Activation)    (None, 7, 7, 96)     0           ['batch_normalization_416[0][0]']\n",
      "                                                                                                  \n",
      " activation_417 (Activation)    (None, 7, 7, 64)     0           ['batch_normalization_417[0][0]']\n",
      "                                                                                                  \n",
      " mixed_5b (Concatenate)         (None, 7, 7, 320)    0           ['activation_411[0][0]',         \n",
      "                                                                  'activation_413[0][0]',         \n",
      "                                                                  'activation_416[0][0]',         \n",
      "                                                                  'activation_417[0][0]']         \n",
      "                                                                                                  \n",
      " conv2d_421 (Conv2D)            (None, 7, 7, 32)     10240       ['mixed_5b[0][0]']               \n",
      "                                                                                                  \n",
      " batch_normalization_421 (Batch  (None, 7, 7, 32)    96          ['conv2d_421[0][0]']             \n",
      " Normalization)                                                                                   \n",
      "                                                                                                  \n",
      " activation_421 (Activation)    (None, 7, 7, 32)     0           ['batch_normalization_421[0][0]']\n",
      "                                                                                                  \n",
      " conv2d_419 (Conv2D)            (None, 7, 7, 32)     10240       ['mixed_5b[0][0]']               \n",
      "                                                                                                  \n",
      " conv2d_422 (Conv2D)            (None, 7, 7, 48)     13824       ['activation_421[0][0]']         \n",
      "                                                                                                  \n",
      " batch_normalization_419 (Batch  (None, 7, 7, 32)    96          ['conv2d_419[0][0]']             \n",
      " Normalization)                                                                                   \n",
      "                                                                                                  \n",
      " batch_normalization_422 (Batch  (None, 7, 7, 48)    144         ['conv2d_422[0][0]']             \n",
      " Normalization)                                                                                   \n",
      "                                                                                                  \n",
      " activation_419 (Activation)    (None, 7, 7, 32)     0           ['batch_normalization_419[0][0]']\n",
      "                                                                                                  \n",
      " activation_422 (Activation)    (None, 7, 7, 48)     0           ['batch_normalization_422[0][0]']\n",
      "                                                                                                  \n",
      " conv2d_418 (Conv2D)            (None, 7, 7, 32)     10240       ['mixed_5b[0][0]']               \n",
      "                                                                                                  \n",
      " conv2d_420 (Conv2D)            (None, 7, 7, 32)     9216        ['activation_419[0][0]']         \n",
      "                                                                                                  \n",
      " conv2d_423 (Conv2D)            (None, 7, 7, 64)     27648       ['activation_422[0][0]']         \n",
      "                                                                                                  \n",
      " batch_normalization_418 (Batch  (None, 7, 7, 32)    96          ['conv2d_418[0][0]']             \n",
      " Normalization)                                                                                   \n",
      "                                                                                                  \n",
      " batch_normalization_420 (Batch  (None, 7, 7, 32)    96          ['conv2d_420[0][0]']             \n",
      " Normalization)                                                                                   \n",
      "                                                                                                  \n",
      " batch_normalization_423 (Batch  (None, 7, 7, 64)    192         ['conv2d_423[0][0]']             \n",
      " Normalization)                                                                                   \n",
      "                                                                                                  \n",
      " activation_418 (Activation)    (None, 7, 7, 32)     0           ['batch_normalization_418[0][0]']\n",
      "                                                                                                  \n",
      " activation_420 (Activation)    (None, 7, 7, 32)     0           ['batch_normalization_420[0][0]']\n",
      "                                                                                                  \n",
      " activation_423 (Activation)    (None, 7, 7, 64)     0           ['batch_normalization_423[0][0]']\n",
      "                                                                                                  \n",
      " block35_1_mixed (Concatenate)  (None, 7, 7, 128)    0           ['activation_418[0][0]',         \n",
      "                                                                  'activation_420[0][0]',         \n",
      "                                                                  'activation_423[0][0]']         \n",
      "                                                                                                  \n",
      " block35_1_conv (Conv2D)        (None, 7, 7, 320)    41280       ['block35_1_mixed[0][0]']        \n",
      "                                                                                                  \n",
      " custom_scale_layer_80 (CustomS  (None, 7, 7, 320)   0           ['mixed_5b[0][0]',               \n",
      " caleLayer)                                                       'block35_1_conv[0][0]']         \n",
      "                                                                                                  \n",
      " block35_1_ac (Activation)      (None, 7, 7, 320)    0           ['custom_scale_layer_80[0][0]']  \n",
      "                                                                                                  \n",
      " conv2d_427 (Conv2D)            (None, 7, 7, 32)     10240       ['block35_1_ac[0][0]']           \n",
      "                                                                                                  \n",
      " batch_normalization_427 (Batch  (None, 7, 7, 32)    96          ['conv2d_427[0][0]']             \n",
      " Normalization)                                                                                   \n",
      "                                                                                                  \n",
      " activation_427 (Activation)    (None, 7, 7, 32)     0           ['batch_normalization_427[0][0]']\n",
      "                                                                                                  \n",
      " conv2d_425 (Conv2D)            (None, 7, 7, 32)     10240       ['block35_1_ac[0][0]']           \n",
      "                                                                                                  \n",
      " conv2d_428 (Conv2D)            (None, 7, 7, 48)     13824       ['activation_427[0][0]']         \n",
      "                                                                                                  \n",
      " batch_normalization_425 (Batch  (None, 7, 7, 32)    96          ['conv2d_425[0][0]']             \n"
     ]
    },
    {
     "name": "stdout",
     "output_type": "stream",
     "text": [
      " Normalization)                                                                                   \n",
      "                                                                                                  \n",
      " batch_normalization_428 (Batch  (None, 7, 7, 48)    144         ['conv2d_428[0][0]']             \n",
      " Normalization)                                                                                   \n",
      "                                                                                                  \n",
      " activation_425 (Activation)    (None, 7, 7, 32)     0           ['batch_normalization_425[0][0]']\n",
      "                                                                                                  \n",
      " activation_428 (Activation)    (None, 7, 7, 48)     0           ['batch_normalization_428[0][0]']\n",
      "                                                                                                  \n",
      " conv2d_424 (Conv2D)            (None, 7, 7, 32)     10240       ['block35_1_ac[0][0]']           \n",
      "                                                                                                  \n",
      " conv2d_426 (Conv2D)            (None, 7, 7, 32)     9216        ['activation_425[0][0]']         \n",
      "                                                                                                  \n",
      " conv2d_429 (Conv2D)            (None, 7, 7, 64)     27648       ['activation_428[0][0]']         \n",
      "                                                                                                  \n",
      " batch_normalization_424 (Batch  (None, 7, 7, 32)    96          ['conv2d_424[0][0]']             \n",
      " Normalization)                                                                                   \n",
      "                                                                                                  \n",
      " batch_normalization_426 (Batch  (None, 7, 7, 32)    96          ['conv2d_426[0][0]']             \n",
      " Normalization)                                                                                   \n",
      "                                                                                                  \n",
      " batch_normalization_429 (Batch  (None, 7, 7, 64)    192         ['conv2d_429[0][0]']             \n",
      " Normalization)                                                                                   \n",
      "                                                                                                  \n",
      " activation_424 (Activation)    (None, 7, 7, 32)     0           ['batch_normalization_424[0][0]']\n",
      "                                                                                                  \n",
      " activation_426 (Activation)    (None, 7, 7, 32)     0           ['batch_normalization_426[0][0]']\n",
      "                                                                                                  \n",
      " activation_429 (Activation)    (None, 7, 7, 64)     0           ['batch_normalization_429[0][0]']\n",
      "                                                                                                  \n",
      " block35_2_mixed (Concatenate)  (None, 7, 7, 128)    0           ['activation_424[0][0]',         \n",
      "                                                                  'activation_426[0][0]',         \n",
      "                                                                  'activation_429[0][0]']         \n",
      "                                                                                                  \n",
      " block35_2_conv (Conv2D)        (None, 7, 7, 320)    41280       ['block35_2_mixed[0][0]']        \n",
      "                                                                                                  \n",
      " custom_scale_layer_81 (CustomS  (None, 7, 7, 320)   0           ['block35_1_ac[0][0]',           \n",
      " caleLayer)                                                       'block35_2_conv[0][0]']         \n",
      "                                                                                                  \n",
      " block35_2_ac (Activation)      (None, 7, 7, 320)    0           ['custom_scale_layer_81[0][0]']  \n",
      "                                                                                                  \n",
      " conv2d_433 (Conv2D)            (None, 7, 7, 32)     10240       ['block35_2_ac[0][0]']           \n",
      "                                                                                                  \n",
      " batch_normalization_433 (Batch  (None, 7, 7, 32)    96          ['conv2d_433[0][0]']             \n",
      " Normalization)                                                                                   \n",
      "                                                                                                  \n",
      " activation_433 (Activation)    (None, 7, 7, 32)     0           ['batch_normalization_433[0][0]']\n",
      "                                                                                                  \n",
      " conv2d_431 (Conv2D)            (None, 7, 7, 32)     10240       ['block35_2_ac[0][0]']           \n",
      "                                                                                                  \n",
      " conv2d_434 (Conv2D)            (None, 7, 7, 48)     13824       ['activation_433[0][0]']         \n",
      "                                                                                                  \n",
      " batch_normalization_431 (Batch  (None, 7, 7, 32)    96          ['conv2d_431[0][0]']             \n",
      " Normalization)                                                                                   \n",
      "                                                                                                  \n",
      " batch_normalization_434 (Batch  (None, 7, 7, 48)    144         ['conv2d_434[0][0]']             \n",
      " Normalization)                                                                                   \n",
      "                                                                                                  \n",
      " activation_431 (Activation)    (None, 7, 7, 32)     0           ['batch_normalization_431[0][0]']\n",
      "                                                                                                  \n",
      " activation_434 (Activation)    (None, 7, 7, 48)     0           ['batch_normalization_434[0][0]']\n",
      "                                                                                                  \n",
      " conv2d_430 (Conv2D)            (None, 7, 7, 32)     10240       ['block35_2_ac[0][0]']           \n",
      "                                                                                                  \n",
      " conv2d_432 (Conv2D)            (None, 7, 7, 32)     9216        ['activation_431[0][0]']         \n",
      "                                                                                                  \n",
      " conv2d_435 (Conv2D)            (None, 7, 7, 64)     27648       ['activation_434[0][0]']         \n",
      "                                                                                                  \n",
      " batch_normalization_430 (Batch  (None, 7, 7, 32)    96          ['conv2d_430[0][0]']             \n",
      " Normalization)                                                                                   \n",
      "                                                                                                  \n",
      " batch_normalization_432 (Batch  (None, 7, 7, 32)    96          ['conv2d_432[0][0]']             \n",
      " Normalization)                                                                                   \n",
      "                                                                                                  \n",
      " batch_normalization_435 (Batch  (None, 7, 7, 64)    192         ['conv2d_435[0][0]']             \n",
      " Normalization)                                                                                   \n",
      "                                                                                                  \n",
      " activation_430 (Activation)    (None, 7, 7, 32)     0           ['batch_normalization_430[0][0]']\n",
      "                                                                                                  \n",
      " activation_432 (Activation)    (None, 7, 7, 32)     0           ['batch_normalization_432[0][0]']\n",
      "                                                                                                  \n",
      " activation_435 (Activation)    (None, 7, 7, 64)     0           ['batch_normalization_435[0][0]']\n",
      "                                                                                                  \n"
     ]
    },
    {
     "name": "stdout",
     "output_type": "stream",
     "text": [
      " block35_3_mixed (Concatenate)  (None, 7, 7, 128)    0           ['activation_430[0][0]',         \n",
      "                                                                  'activation_432[0][0]',         \n",
      "                                                                  'activation_435[0][0]']         \n",
      "                                                                                                  \n",
      " block35_3_conv (Conv2D)        (None, 7, 7, 320)    41280       ['block35_3_mixed[0][0]']        \n",
      "                                                                                                  \n",
      " custom_scale_layer_82 (CustomS  (None, 7, 7, 320)   0           ['block35_2_ac[0][0]',           \n",
      " caleLayer)                                                       'block35_3_conv[0][0]']         \n",
      "                                                                                                  \n",
      " block35_3_ac (Activation)      (None, 7, 7, 320)    0           ['custom_scale_layer_82[0][0]']  \n",
      "                                                                                                  \n",
      " conv2d_439 (Conv2D)            (None, 7, 7, 32)     10240       ['block35_3_ac[0][0]']           \n",
      "                                                                                                  \n",
      " batch_normalization_439 (Batch  (None, 7, 7, 32)    96          ['conv2d_439[0][0]']             \n",
      " Normalization)                                                                                   \n",
      "                                                                                                  \n",
      " activation_439 (Activation)    (None, 7, 7, 32)     0           ['batch_normalization_439[0][0]']\n",
      "                                                                                                  \n",
      " conv2d_437 (Conv2D)            (None, 7, 7, 32)     10240       ['block35_3_ac[0][0]']           \n",
      "                                                                                                  \n",
      " conv2d_440 (Conv2D)            (None, 7, 7, 48)     13824       ['activation_439[0][0]']         \n",
      "                                                                                                  \n",
      " batch_normalization_437 (Batch  (None, 7, 7, 32)    96          ['conv2d_437[0][0]']             \n",
      " Normalization)                                                                                   \n",
      "                                                                                                  \n",
      " batch_normalization_440 (Batch  (None, 7, 7, 48)    144         ['conv2d_440[0][0]']             \n",
      " Normalization)                                                                                   \n",
      "                                                                                                  \n",
      " activation_437 (Activation)    (None, 7, 7, 32)     0           ['batch_normalization_437[0][0]']\n",
      "                                                                                                  \n",
      " activation_440 (Activation)    (None, 7, 7, 48)     0           ['batch_normalization_440[0][0]']\n",
      "                                                                                                  \n",
      " conv2d_436 (Conv2D)            (None, 7, 7, 32)     10240       ['block35_3_ac[0][0]']           \n",
      "                                                                                                  \n",
      " conv2d_438 (Conv2D)            (None, 7, 7, 32)     9216        ['activation_437[0][0]']         \n",
      "                                                                                                  \n",
      " conv2d_441 (Conv2D)            (None, 7, 7, 64)     27648       ['activation_440[0][0]']         \n",
      "                                                                                                  \n",
      " batch_normalization_436 (Batch  (None, 7, 7, 32)    96          ['conv2d_436[0][0]']             \n",
      " Normalization)                                                                                   \n",
      "                                                                                                  \n",
      " batch_normalization_438 (Batch  (None, 7, 7, 32)    96          ['conv2d_438[0][0]']             \n",
      " Normalization)                                                                                   \n",
      "                                                                                                  \n",
      " batch_normalization_441 (Batch  (None, 7, 7, 64)    192         ['conv2d_441[0][0]']             \n",
      " Normalization)                                                                                   \n",
      "                                                                                                  \n",
      " activation_436 (Activation)    (None, 7, 7, 32)     0           ['batch_normalization_436[0][0]']\n",
      "                                                                                                  \n",
      " activation_438 (Activation)    (None, 7, 7, 32)     0           ['batch_normalization_438[0][0]']\n",
      "                                                                                                  \n",
      " activation_441 (Activation)    (None, 7, 7, 64)     0           ['batch_normalization_441[0][0]']\n",
      "                                                                                                  \n",
      " block35_4_mixed (Concatenate)  (None, 7, 7, 128)    0           ['activation_436[0][0]',         \n",
      "                                                                  'activation_438[0][0]',         \n",
      "                                                                  'activation_441[0][0]']         \n",
      "                                                                                                  \n",
      " block35_4_conv (Conv2D)        (None, 7, 7, 320)    41280       ['block35_4_mixed[0][0]']        \n",
      "                                                                                                  \n",
      " custom_scale_layer_83 (CustomS  (None, 7, 7, 320)   0           ['block35_3_ac[0][0]',           \n",
      " caleLayer)                                                       'block35_4_conv[0][0]']         \n",
      "                                                                                                  \n",
      " block35_4_ac (Activation)      (None, 7, 7, 320)    0           ['custom_scale_layer_83[0][0]']  \n",
      "                                                                                                  \n",
      " conv2d_445 (Conv2D)            (None, 7, 7, 32)     10240       ['block35_4_ac[0][0]']           \n",
      "                                                                                                  \n",
      " batch_normalization_445 (Batch  (None, 7, 7, 32)    96          ['conv2d_445[0][0]']             \n",
      " Normalization)                                                                                   \n",
      "                                                                                                  \n",
      " activation_445 (Activation)    (None, 7, 7, 32)     0           ['batch_normalization_445[0][0]']\n",
      "                                                                                                  \n",
      " conv2d_443 (Conv2D)            (None, 7, 7, 32)     10240       ['block35_4_ac[0][0]']           \n",
      "                                                                                                  \n",
      " conv2d_446 (Conv2D)            (None, 7, 7, 48)     13824       ['activation_445[0][0]']         \n",
      "                                                                                                  \n",
      " batch_normalization_443 (Batch  (None, 7, 7, 32)    96          ['conv2d_443[0][0]']             \n",
      " Normalization)                                                                                   \n",
      "                                                                                                  \n",
      " batch_normalization_446 (Batch  (None, 7, 7, 48)    144         ['conv2d_446[0][0]']             \n",
      " Normalization)                                                                                   \n",
      "                                                                                                  \n",
      " activation_443 (Activation)    (None, 7, 7, 32)     0           ['batch_normalization_443[0][0]']\n",
      "                                                                                                  \n"
     ]
    },
    {
     "name": "stdout",
     "output_type": "stream",
     "text": [
      " activation_446 (Activation)    (None, 7, 7, 48)     0           ['batch_normalization_446[0][0]']\n",
      "                                                                                                  \n",
      " conv2d_442 (Conv2D)            (None, 7, 7, 32)     10240       ['block35_4_ac[0][0]']           \n",
      "                                                                                                  \n",
      " conv2d_444 (Conv2D)            (None, 7, 7, 32)     9216        ['activation_443[0][0]']         \n",
      "                                                                                                  \n",
      " conv2d_447 (Conv2D)            (None, 7, 7, 64)     27648       ['activation_446[0][0]']         \n",
      "                                                                                                  \n",
      " batch_normalization_442 (Batch  (None, 7, 7, 32)    96          ['conv2d_442[0][0]']             \n",
      " Normalization)                                                                                   \n",
      "                                                                                                  \n",
      " batch_normalization_444 (Batch  (None, 7, 7, 32)    96          ['conv2d_444[0][0]']             \n",
      " Normalization)                                                                                   \n",
      "                                                                                                  \n",
      " batch_normalization_447 (Batch  (None, 7, 7, 64)    192         ['conv2d_447[0][0]']             \n",
      " Normalization)                                                                                   \n",
      "                                                                                                  \n",
      " activation_442 (Activation)    (None, 7, 7, 32)     0           ['batch_normalization_442[0][0]']\n",
      "                                                                                                  \n",
      " activation_444 (Activation)    (None, 7, 7, 32)     0           ['batch_normalization_444[0][0]']\n",
      "                                                                                                  \n",
      " activation_447 (Activation)    (None, 7, 7, 64)     0           ['batch_normalization_447[0][0]']\n",
      "                                                                                                  \n",
      " block35_5_mixed (Concatenate)  (None, 7, 7, 128)    0           ['activation_442[0][0]',         \n",
      "                                                                  'activation_444[0][0]',         \n",
      "                                                                  'activation_447[0][0]']         \n",
      "                                                                                                  \n",
      " block35_5_conv (Conv2D)        (None, 7, 7, 320)    41280       ['block35_5_mixed[0][0]']        \n",
      "                                                                                                  \n",
      " custom_scale_layer_84 (CustomS  (None, 7, 7, 320)   0           ['block35_4_ac[0][0]',           \n",
      " caleLayer)                                                       'block35_5_conv[0][0]']         \n",
      "                                                                                                  \n",
      " block35_5_ac (Activation)      (None, 7, 7, 320)    0           ['custom_scale_layer_84[0][0]']  \n",
      "                                                                                                  \n",
      " conv2d_451 (Conv2D)            (None, 7, 7, 32)     10240       ['block35_5_ac[0][0]']           \n",
      "                                                                                                  \n",
      " batch_normalization_451 (Batch  (None, 7, 7, 32)    96          ['conv2d_451[0][0]']             \n",
      " Normalization)                                                                                   \n",
      "                                                                                                  \n",
      " activation_451 (Activation)    (None, 7, 7, 32)     0           ['batch_normalization_451[0][0]']\n",
      "                                                                                                  \n",
      " conv2d_449 (Conv2D)            (None, 7, 7, 32)     10240       ['block35_5_ac[0][0]']           \n",
      "                                                                                                  \n",
      " conv2d_452 (Conv2D)            (None, 7, 7, 48)     13824       ['activation_451[0][0]']         \n",
      "                                                                                                  \n",
      " batch_normalization_449 (Batch  (None, 7, 7, 32)    96          ['conv2d_449[0][0]']             \n",
      " Normalization)                                                                                   \n",
      "                                                                                                  \n",
      " batch_normalization_452 (Batch  (None, 7, 7, 48)    144         ['conv2d_452[0][0]']             \n",
      " Normalization)                                                                                   \n",
      "                                                                                                  \n",
      " activation_449 (Activation)    (None, 7, 7, 32)     0           ['batch_normalization_449[0][0]']\n",
      "                                                                                                  \n",
      " activation_452 (Activation)    (None, 7, 7, 48)     0           ['batch_normalization_452[0][0]']\n",
      "                                                                                                  \n",
      " conv2d_448 (Conv2D)            (None, 7, 7, 32)     10240       ['block35_5_ac[0][0]']           \n",
      "                                                                                                  \n",
      " conv2d_450 (Conv2D)            (None, 7, 7, 32)     9216        ['activation_449[0][0]']         \n",
      "                                                                                                  \n",
      " conv2d_453 (Conv2D)            (None, 7, 7, 64)     27648       ['activation_452[0][0]']         \n",
      "                                                                                                  \n",
      " batch_normalization_448 (Batch  (None, 7, 7, 32)    96          ['conv2d_448[0][0]']             \n",
      " Normalization)                                                                                   \n",
      "                                                                                                  \n",
      " batch_normalization_450 (Batch  (None, 7, 7, 32)    96          ['conv2d_450[0][0]']             \n",
      " Normalization)                                                                                   \n",
      "                                                                                                  \n",
      " batch_normalization_453 (Batch  (None, 7, 7, 64)    192         ['conv2d_453[0][0]']             \n",
      " Normalization)                                                                                   \n",
      "                                                                                                  \n",
      " activation_448 (Activation)    (None, 7, 7, 32)     0           ['batch_normalization_448[0][0]']\n",
      "                                                                                                  \n",
      " activation_450 (Activation)    (None, 7, 7, 32)     0           ['batch_normalization_450[0][0]']\n",
      "                                                                                                  \n",
      " activation_453 (Activation)    (None, 7, 7, 64)     0           ['batch_normalization_453[0][0]']\n",
      "                                                                                                  \n",
      " block35_6_mixed (Concatenate)  (None, 7, 7, 128)    0           ['activation_448[0][0]',         \n",
      "                                                                  'activation_450[0][0]',         \n",
      "                                                                  'activation_453[0][0]']         \n",
      "                                                                                                  \n",
      " block35_6_conv (Conv2D)        (None, 7, 7, 320)    41280       ['block35_6_mixed[0][0]']        \n",
      "                                                                                                  \n",
      " custom_scale_layer_85 (CustomS  (None, 7, 7, 320)   0           ['block35_5_ac[0][0]',           \n"
     ]
    },
    {
     "name": "stdout",
     "output_type": "stream",
     "text": [
      " caleLayer)                                                       'block35_6_conv[0][0]']         \n",
      "                                                                                                  \n",
      " block35_6_ac (Activation)      (None, 7, 7, 320)    0           ['custom_scale_layer_85[0][0]']  \n",
      "                                                                                                  \n",
      " conv2d_457 (Conv2D)            (None, 7, 7, 32)     10240       ['block35_6_ac[0][0]']           \n",
      "                                                                                                  \n",
      " batch_normalization_457 (Batch  (None, 7, 7, 32)    96          ['conv2d_457[0][0]']             \n",
      " Normalization)                                                                                   \n",
      "                                                                                                  \n",
      " activation_457 (Activation)    (None, 7, 7, 32)     0           ['batch_normalization_457[0][0]']\n",
      "                                                                                                  \n",
      " conv2d_455 (Conv2D)            (None, 7, 7, 32)     10240       ['block35_6_ac[0][0]']           \n",
      "                                                                                                  \n",
      " conv2d_458 (Conv2D)            (None, 7, 7, 48)     13824       ['activation_457[0][0]']         \n",
      "                                                                                                  \n",
      " batch_normalization_455 (Batch  (None, 7, 7, 32)    96          ['conv2d_455[0][0]']             \n",
      " Normalization)                                                                                   \n",
      "                                                                                                  \n",
      " batch_normalization_458 (Batch  (None, 7, 7, 48)    144         ['conv2d_458[0][0]']             \n",
      " Normalization)                                                                                   \n",
      "                                                                                                  \n",
      " activation_455 (Activation)    (None, 7, 7, 32)     0           ['batch_normalization_455[0][0]']\n",
      "                                                                                                  \n",
      " activation_458 (Activation)    (None, 7, 7, 48)     0           ['batch_normalization_458[0][0]']\n",
      "                                                                                                  \n",
      " conv2d_454 (Conv2D)            (None, 7, 7, 32)     10240       ['block35_6_ac[0][0]']           \n",
      "                                                                                                  \n",
      " conv2d_456 (Conv2D)            (None, 7, 7, 32)     9216        ['activation_455[0][0]']         \n",
      "                                                                                                  \n",
      " conv2d_459 (Conv2D)            (None, 7, 7, 64)     27648       ['activation_458[0][0]']         \n",
      "                                                                                                  \n",
      " batch_normalization_454 (Batch  (None, 7, 7, 32)    96          ['conv2d_454[0][0]']             \n",
      " Normalization)                                                                                   \n",
      "                                                                                                  \n",
      " batch_normalization_456 (Batch  (None, 7, 7, 32)    96          ['conv2d_456[0][0]']             \n",
      " Normalization)                                                                                   \n",
      "                                                                                                  \n",
      " batch_normalization_459 (Batch  (None, 7, 7, 64)    192         ['conv2d_459[0][0]']             \n",
      " Normalization)                                                                                   \n",
      "                                                                                                  \n",
      " activation_454 (Activation)    (None, 7, 7, 32)     0           ['batch_normalization_454[0][0]']\n",
      "                                                                                                  \n",
      " activation_456 (Activation)    (None, 7, 7, 32)     0           ['batch_normalization_456[0][0]']\n",
      "                                                                                                  \n",
      " activation_459 (Activation)    (None, 7, 7, 64)     0           ['batch_normalization_459[0][0]']\n",
      "                                                                                                  \n",
      " block35_7_mixed (Concatenate)  (None, 7, 7, 128)    0           ['activation_454[0][0]',         \n",
      "                                                                  'activation_456[0][0]',         \n",
      "                                                                  'activation_459[0][0]']         \n",
      "                                                                                                  \n",
      " block35_7_conv (Conv2D)        (None, 7, 7, 320)    41280       ['block35_7_mixed[0][0]']        \n",
      "                                                                                                  \n",
      " custom_scale_layer_86 (CustomS  (None, 7, 7, 320)   0           ['block35_6_ac[0][0]',           \n",
      " caleLayer)                                                       'block35_7_conv[0][0]']         \n",
      "                                                                                                  \n",
      " block35_7_ac (Activation)      (None, 7, 7, 320)    0           ['custom_scale_layer_86[0][0]']  \n",
      "                                                                                                  \n",
      " conv2d_463 (Conv2D)            (None, 7, 7, 32)     10240       ['block35_7_ac[0][0]']           \n",
      "                                                                                                  \n",
      " batch_normalization_463 (Batch  (None, 7, 7, 32)    96          ['conv2d_463[0][0]']             \n",
      " Normalization)                                                                                   \n",
      "                                                                                                  \n",
      " activation_463 (Activation)    (None, 7, 7, 32)     0           ['batch_normalization_463[0][0]']\n",
      "                                                                                                  \n",
      " conv2d_461 (Conv2D)            (None, 7, 7, 32)     10240       ['block35_7_ac[0][0]']           \n",
      "                                                                                                  \n",
      " conv2d_464 (Conv2D)            (None, 7, 7, 48)     13824       ['activation_463[0][0]']         \n",
      "                                                                                                  \n",
      " batch_normalization_461 (Batch  (None, 7, 7, 32)    96          ['conv2d_461[0][0]']             \n",
      " Normalization)                                                                                   \n",
      "                                                                                                  \n",
      " batch_normalization_464 (Batch  (None, 7, 7, 48)    144         ['conv2d_464[0][0]']             \n",
      " Normalization)                                                                                   \n",
      "                                                                                                  \n",
      " activation_461 (Activation)    (None, 7, 7, 32)     0           ['batch_normalization_461[0][0]']\n",
      "                                                                                                  \n",
      " activation_464 (Activation)    (None, 7, 7, 48)     0           ['batch_normalization_464[0][0]']\n",
      "                                                                                                  \n",
      " conv2d_460 (Conv2D)            (None, 7, 7, 32)     10240       ['block35_7_ac[0][0]']           \n",
      "                                                                                                  \n",
      " conv2d_462 (Conv2D)            (None, 7, 7, 32)     9216        ['activation_461[0][0]']         \n",
      "                                                                                                  \n",
      " conv2d_465 (Conv2D)            (None, 7, 7, 64)     27648       ['activation_464[0][0]']         \n"
     ]
    },
    {
     "name": "stdout",
     "output_type": "stream",
     "text": [
      "                                                                                                  \n",
      " batch_normalization_460 (Batch  (None, 7, 7, 32)    96          ['conv2d_460[0][0]']             \n",
      " Normalization)                                                                                   \n",
      "                                                                                                  \n",
      " batch_normalization_462 (Batch  (None, 7, 7, 32)    96          ['conv2d_462[0][0]']             \n",
      " Normalization)                                                                                   \n",
      "                                                                                                  \n",
      " batch_normalization_465 (Batch  (None, 7, 7, 64)    192         ['conv2d_465[0][0]']             \n",
      " Normalization)                                                                                   \n",
      "                                                                                                  \n",
      " activation_460 (Activation)    (None, 7, 7, 32)     0           ['batch_normalization_460[0][0]']\n",
      "                                                                                                  \n",
      " activation_462 (Activation)    (None, 7, 7, 32)     0           ['batch_normalization_462[0][0]']\n",
      "                                                                                                  \n",
      " activation_465 (Activation)    (None, 7, 7, 64)     0           ['batch_normalization_465[0][0]']\n",
      "                                                                                                  \n",
      " block35_8_mixed (Concatenate)  (None, 7, 7, 128)    0           ['activation_460[0][0]',         \n",
      "                                                                  'activation_462[0][0]',         \n",
      "                                                                  'activation_465[0][0]']         \n",
      "                                                                                                  \n",
      " block35_8_conv (Conv2D)        (None, 7, 7, 320)    41280       ['block35_8_mixed[0][0]']        \n",
      "                                                                                                  \n",
      " custom_scale_layer_87 (CustomS  (None, 7, 7, 320)   0           ['block35_7_ac[0][0]',           \n",
      " caleLayer)                                                       'block35_8_conv[0][0]']         \n",
      "                                                                                                  \n",
      " block35_8_ac (Activation)      (None, 7, 7, 320)    0           ['custom_scale_layer_87[0][0]']  \n",
      "                                                                                                  \n",
      " conv2d_469 (Conv2D)            (None, 7, 7, 32)     10240       ['block35_8_ac[0][0]']           \n",
      "                                                                                                  \n",
      " batch_normalization_469 (Batch  (None, 7, 7, 32)    96          ['conv2d_469[0][0]']             \n",
      " Normalization)                                                                                   \n",
      "                                                                                                  \n",
      " activation_469 (Activation)    (None, 7, 7, 32)     0           ['batch_normalization_469[0][0]']\n",
      "                                                                                                  \n",
      " conv2d_467 (Conv2D)            (None, 7, 7, 32)     10240       ['block35_8_ac[0][0]']           \n",
      "                                                                                                  \n",
      " conv2d_470 (Conv2D)            (None, 7, 7, 48)     13824       ['activation_469[0][0]']         \n",
      "                                                                                                  \n",
      " batch_normalization_467 (Batch  (None, 7, 7, 32)    96          ['conv2d_467[0][0]']             \n",
      " Normalization)                                                                                   \n",
      "                                                                                                  \n",
      " batch_normalization_470 (Batch  (None, 7, 7, 48)    144         ['conv2d_470[0][0]']             \n",
      " Normalization)                                                                                   \n",
      "                                                                                                  \n",
      " activation_467 (Activation)    (None, 7, 7, 32)     0           ['batch_normalization_467[0][0]']\n",
      "                                                                                                  \n",
      " activation_470 (Activation)    (None, 7, 7, 48)     0           ['batch_normalization_470[0][0]']\n",
      "                                                                                                  \n",
      " conv2d_466 (Conv2D)            (None, 7, 7, 32)     10240       ['block35_8_ac[0][0]']           \n",
      "                                                                                                  \n",
      " conv2d_468 (Conv2D)            (None, 7, 7, 32)     9216        ['activation_467[0][0]']         \n",
      "                                                                                                  \n",
      " conv2d_471 (Conv2D)            (None, 7, 7, 64)     27648       ['activation_470[0][0]']         \n",
      "                                                                                                  \n",
      " batch_normalization_466 (Batch  (None, 7, 7, 32)    96          ['conv2d_466[0][0]']             \n",
      " Normalization)                                                                                   \n",
      "                                                                                                  \n",
      " batch_normalization_468 (Batch  (None, 7, 7, 32)    96          ['conv2d_468[0][0]']             \n",
      " Normalization)                                                                                   \n",
      "                                                                                                  \n",
      " batch_normalization_471 (Batch  (None, 7, 7, 64)    192         ['conv2d_471[0][0]']             \n",
      " Normalization)                                                                                   \n",
      "                                                                                                  \n",
      " activation_466 (Activation)    (None, 7, 7, 32)     0           ['batch_normalization_466[0][0]']\n",
      "                                                                                                  \n",
      " activation_468 (Activation)    (None, 7, 7, 32)     0           ['batch_normalization_468[0][0]']\n",
      "                                                                                                  \n",
      " activation_471 (Activation)    (None, 7, 7, 64)     0           ['batch_normalization_471[0][0]']\n",
      "                                                                                                  \n",
      " block35_9_mixed (Concatenate)  (None, 7, 7, 128)    0           ['activation_466[0][0]',         \n",
      "                                                                  'activation_468[0][0]',         \n",
      "                                                                  'activation_471[0][0]']         \n",
      "                                                                                                  \n",
      " block35_9_conv (Conv2D)        (None, 7, 7, 320)    41280       ['block35_9_mixed[0][0]']        \n",
      "                                                                                                  \n",
      " custom_scale_layer_88 (CustomS  (None, 7, 7, 320)   0           ['block35_8_ac[0][0]',           \n",
      " caleLayer)                                                       'block35_9_conv[0][0]']         \n",
      "                                                                                                  \n",
      " block35_9_ac (Activation)      (None, 7, 7, 320)    0           ['custom_scale_layer_88[0][0]']  \n",
      "                                                                                                  \n",
      " conv2d_475 (Conv2D)            (None, 7, 7, 32)     10240       ['block35_9_ac[0][0]']           \n",
      "                                                                                                  \n",
      " batch_normalization_475 (Batch  (None, 7, 7, 32)    96          ['conv2d_475[0][0]']             \n"
     ]
    },
    {
     "name": "stdout",
     "output_type": "stream",
     "text": [
      " Normalization)                                                                                   \n",
      "                                                                                                  \n",
      " activation_475 (Activation)    (None, 7, 7, 32)     0           ['batch_normalization_475[0][0]']\n",
      "                                                                                                  \n",
      " conv2d_473 (Conv2D)            (None, 7, 7, 32)     10240       ['block35_9_ac[0][0]']           \n",
      "                                                                                                  \n",
      " conv2d_476 (Conv2D)            (None, 7, 7, 48)     13824       ['activation_475[0][0]']         \n",
      "                                                                                                  \n",
      " batch_normalization_473 (Batch  (None, 7, 7, 32)    96          ['conv2d_473[0][0]']             \n",
      " Normalization)                                                                                   \n",
      "                                                                                                  \n",
      " batch_normalization_476 (Batch  (None, 7, 7, 48)    144         ['conv2d_476[0][0]']             \n",
      " Normalization)                                                                                   \n",
      "                                                                                                  \n",
      " activation_473 (Activation)    (None, 7, 7, 32)     0           ['batch_normalization_473[0][0]']\n",
      "                                                                                                  \n",
      " activation_476 (Activation)    (None, 7, 7, 48)     0           ['batch_normalization_476[0][0]']\n",
      "                                                                                                  \n",
      " conv2d_472 (Conv2D)            (None, 7, 7, 32)     10240       ['block35_9_ac[0][0]']           \n",
      "                                                                                                  \n",
      " conv2d_474 (Conv2D)            (None, 7, 7, 32)     9216        ['activation_473[0][0]']         \n",
      "                                                                                                  \n",
      " conv2d_477 (Conv2D)            (None, 7, 7, 64)     27648       ['activation_476[0][0]']         \n",
      "                                                                                                  \n",
      " batch_normalization_472 (Batch  (None, 7, 7, 32)    96          ['conv2d_472[0][0]']             \n",
      " Normalization)                                                                                   \n",
      "                                                                                                  \n",
      " batch_normalization_474 (Batch  (None, 7, 7, 32)    96          ['conv2d_474[0][0]']             \n",
      " Normalization)                                                                                   \n",
      "                                                                                                  \n",
      " batch_normalization_477 (Batch  (None, 7, 7, 64)    192         ['conv2d_477[0][0]']             \n",
      " Normalization)                                                                                   \n",
      "                                                                                                  \n",
      " activation_472 (Activation)    (None, 7, 7, 32)     0           ['batch_normalization_472[0][0]']\n",
      "                                                                                                  \n",
      " activation_474 (Activation)    (None, 7, 7, 32)     0           ['batch_normalization_474[0][0]']\n",
      "                                                                                                  \n",
      " activation_477 (Activation)    (None, 7, 7, 64)     0           ['batch_normalization_477[0][0]']\n",
      "                                                                                                  \n",
      " block35_10_mixed (Concatenate)  (None, 7, 7, 128)   0           ['activation_472[0][0]',         \n",
      "                                                                  'activation_474[0][0]',         \n",
      "                                                                  'activation_477[0][0]']         \n",
      "                                                                                                  \n",
      " block35_10_conv (Conv2D)       (None, 7, 7, 320)    41280       ['block35_10_mixed[0][0]']       \n",
      "                                                                                                  \n",
      " custom_scale_layer_89 (CustomS  (None, 7, 7, 320)   0           ['block35_9_ac[0][0]',           \n",
      " caleLayer)                                                       'block35_10_conv[0][0]']        \n",
      "                                                                                                  \n",
      " block35_10_ac (Activation)     (None, 7, 7, 320)    0           ['custom_scale_layer_89[0][0]']  \n",
      "                                                                                                  \n",
      " conv2d_479 (Conv2D)            (None, 7, 7, 256)    81920       ['block35_10_ac[0][0]']          \n",
      "                                                                                                  \n",
      " batch_normalization_479 (Batch  (None, 7, 7, 256)   768         ['conv2d_479[0][0]']             \n",
      " Normalization)                                                                                   \n",
      "                                                                                                  \n",
      " activation_479 (Activation)    (None, 7, 7, 256)    0           ['batch_normalization_479[0][0]']\n",
      "                                                                                                  \n",
      " conv2d_480 (Conv2D)            (None, 7, 7, 256)    589824      ['activation_479[0][0]']         \n",
      "                                                                                                  \n",
      " batch_normalization_480 (Batch  (None, 7, 7, 256)   768         ['conv2d_480[0][0]']             \n",
      " Normalization)                                                                                   \n",
      "                                                                                                  \n",
      " activation_480 (Activation)    (None, 7, 7, 256)    0           ['batch_normalization_480[0][0]']\n",
      "                                                                                                  \n",
      " conv2d_478 (Conv2D)            (None, 3, 3, 384)    1105920     ['block35_10_ac[0][0]']          \n",
      "                                                                                                  \n",
      " conv2d_481 (Conv2D)            (None, 3, 3, 384)    884736      ['activation_480[0][0]']         \n",
      "                                                                                                  \n",
      " batch_normalization_478 (Batch  (None, 3, 3, 384)   1152        ['conv2d_478[0][0]']             \n",
      " Normalization)                                                                                   \n",
      "                                                                                                  \n",
      " batch_normalization_481 (Batch  (None, 3, 3, 384)   1152        ['conv2d_481[0][0]']             \n",
      " Normalization)                                                                                   \n",
      "                                                                                                  \n",
      " activation_478 (Activation)    (None, 3, 3, 384)    0           ['batch_normalization_478[0][0]']\n",
      "                                                                                                  \n",
      " activation_481 (Activation)    (None, 3, 3, 384)    0           ['batch_normalization_481[0][0]']\n",
      "                                                                                                  \n",
      " max_pooling2d_10 (MaxPooling2D  (None, 3, 3, 320)   0           ['block35_10_ac[0][0]']          \n",
      " )                                                                                                \n",
      "                                                                                                  \n",
      " mixed_6a (Concatenate)         (None, 3, 3, 1088)   0           ['activation_478[0][0]',         \n",
      "                                                                  'activation_481[0][0]',         \n"
     ]
    },
    {
     "name": "stdout",
     "output_type": "stream",
     "text": [
      "                                                                  'max_pooling2d_10[0][0]']       \n",
      "                                                                                                  \n",
      " conv2d_483 (Conv2D)            (None, 3, 3, 128)    139264      ['mixed_6a[0][0]']               \n",
      "                                                                                                  \n",
      " batch_normalization_483 (Batch  (None, 3, 3, 128)   384         ['conv2d_483[0][0]']             \n",
      " Normalization)                                                                                   \n",
      "                                                                                                  \n",
      " activation_483 (Activation)    (None, 3, 3, 128)    0           ['batch_normalization_483[0][0]']\n",
      "                                                                                                  \n",
      " conv2d_484 (Conv2D)            (None, 3, 3, 160)    143360      ['activation_483[0][0]']         \n",
      "                                                                                                  \n",
      " batch_normalization_484 (Batch  (None, 3, 3, 160)   480         ['conv2d_484[0][0]']             \n",
      " Normalization)                                                                                   \n",
      "                                                                                                  \n",
      " activation_484 (Activation)    (None, 3, 3, 160)    0           ['batch_normalization_484[0][0]']\n",
      "                                                                                                  \n",
      " conv2d_482 (Conv2D)            (None, 3, 3, 192)    208896      ['mixed_6a[0][0]']               \n",
      "                                                                                                  \n",
      " conv2d_485 (Conv2D)            (None, 3, 3, 192)    215040      ['activation_484[0][0]']         \n",
      "                                                                                                  \n",
      " batch_normalization_482 (Batch  (None, 3, 3, 192)   576         ['conv2d_482[0][0]']             \n",
      " Normalization)                                                                                   \n",
      "                                                                                                  \n",
      " batch_normalization_485 (Batch  (None, 3, 3, 192)   576         ['conv2d_485[0][0]']             \n",
      " Normalization)                                                                                   \n",
      "                                                                                                  \n",
      " activation_482 (Activation)    (None, 3, 3, 192)    0           ['batch_normalization_482[0][0]']\n",
      "                                                                                                  \n",
      " activation_485 (Activation)    (None, 3, 3, 192)    0           ['batch_normalization_485[0][0]']\n",
      "                                                                                                  \n",
      " block17_1_mixed (Concatenate)  (None, 3, 3, 384)    0           ['activation_482[0][0]',         \n",
      "                                                                  'activation_485[0][0]']         \n",
      "                                                                                                  \n",
      " block17_1_conv (Conv2D)        (None, 3, 3, 1088)   418880      ['block17_1_mixed[0][0]']        \n",
      "                                                                                                  \n",
      " custom_scale_layer_90 (CustomS  (None, 3, 3, 1088)  0           ['mixed_6a[0][0]',               \n",
      " caleLayer)                                                       'block17_1_conv[0][0]']         \n",
      "                                                                                                  \n",
      " block17_1_ac (Activation)      (None, 3, 3, 1088)   0           ['custom_scale_layer_90[0][0]']  \n",
      "                                                                                                  \n",
      " conv2d_487 (Conv2D)            (None, 3, 3, 128)    139264      ['block17_1_ac[0][0]']           \n",
      "                                                                                                  \n",
      " batch_normalization_487 (Batch  (None, 3, 3, 128)   384         ['conv2d_487[0][0]']             \n",
      " Normalization)                                                                                   \n",
      "                                                                                                  \n",
      " activation_487 (Activation)    (None, 3, 3, 128)    0           ['batch_normalization_487[0][0]']\n",
      "                                                                                                  \n",
      " conv2d_488 (Conv2D)            (None, 3, 3, 160)    143360      ['activation_487[0][0]']         \n",
      "                                                                                                  \n",
      " batch_normalization_488 (Batch  (None, 3, 3, 160)   480         ['conv2d_488[0][0]']             \n",
      " Normalization)                                                                                   \n",
      "                                                                                                  \n",
      " activation_488 (Activation)    (None, 3, 3, 160)    0           ['batch_normalization_488[0][0]']\n",
      "                                                                                                  \n",
      " conv2d_486 (Conv2D)            (None, 3, 3, 192)    208896      ['block17_1_ac[0][0]']           \n",
      "                                                                                                  \n",
      " conv2d_489 (Conv2D)            (None, 3, 3, 192)    215040      ['activation_488[0][0]']         \n",
      "                                                                                                  \n",
      " batch_normalization_486 (Batch  (None, 3, 3, 192)   576         ['conv2d_486[0][0]']             \n",
      " Normalization)                                                                                   \n",
      "                                                                                                  \n",
      " batch_normalization_489 (Batch  (None, 3, 3, 192)   576         ['conv2d_489[0][0]']             \n",
      " Normalization)                                                                                   \n",
      "                                                                                                  \n",
      " activation_486 (Activation)    (None, 3, 3, 192)    0           ['batch_normalization_486[0][0]']\n",
      "                                                                                                  \n",
      " activation_489 (Activation)    (None, 3, 3, 192)    0           ['batch_normalization_489[0][0]']\n",
      "                                                                                                  \n",
      " block17_2_mixed (Concatenate)  (None, 3, 3, 384)    0           ['activation_486[0][0]',         \n",
      "                                                                  'activation_489[0][0]']         \n",
      "                                                                                                  \n",
      " block17_2_conv (Conv2D)        (None, 3, 3, 1088)   418880      ['block17_2_mixed[0][0]']        \n",
      "                                                                                                  \n",
      " custom_scale_layer_91 (CustomS  (None, 3, 3, 1088)  0           ['block17_1_ac[0][0]',           \n",
      " caleLayer)                                                       'block17_2_conv[0][0]']         \n",
      "                                                                                                  \n",
      " block17_2_ac (Activation)      (None, 3, 3, 1088)   0           ['custom_scale_layer_91[0][0]']  \n",
      "                                                                                                  \n",
      " conv2d_491 (Conv2D)            (None, 3, 3, 128)    139264      ['block17_2_ac[0][0]']           \n",
      "                                                                                                  \n",
      " batch_normalization_491 (Batch  (None, 3, 3, 128)   384         ['conv2d_491[0][0]']             \n",
      " Normalization)                                                                                   \n",
      "                                                                                                  \n"
     ]
    },
    {
     "name": "stdout",
     "output_type": "stream",
     "text": [
      " activation_491 (Activation)    (None, 3, 3, 128)    0           ['batch_normalization_491[0][0]']\n",
      "                                                                                                  \n",
      " conv2d_492 (Conv2D)            (None, 3, 3, 160)    143360      ['activation_491[0][0]']         \n",
      "                                                                                                  \n",
      " batch_normalization_492 (Batch  (None, 3, 3, 160)   480         ['conv2d_492[0][0]']             \n",
      " Normalization)                                                                                   \n",
      "                                                                                                  \n",
      " activation_492 (Activation)    (None, 3, 3, 160)    0           ['batch_normalization_492[0][0]']\n",
      "                                                                                                  \n",
      " conv2d_490 (Conv2D)            (None, 3, 3, 192)    208896      ['block17_2_ac[0][0]']           \n",
      "                                                                                                  \n",
      " conv2d_493 (Conv2D)            (None, 3, 3, 192)    215040      ['activation_492[0][0]']         \n",
      "                                                                                                  \n",
      " batch_normalization_490 (Batch  (None, 3, 3, 192)   576         ['conv2d_490[0][0]']             \n",
      " Normalization)                                                                                   \n",
      "                                                                                                  \n",
      " batch_normalization_493 (Batch  (None, 3, 3, 192)   576         ['conv2d_493[0][0]']             \n",
      " Normalization)                                                                                   \n",
      "                                                                                                  \n",
      " activation_490 (Activation)    (None, 3, 3, 192)    0           ['batch_normalization_490[0][0]']\n",
      "                                                                                                  \n",
      " activation_493 (Activation)    (None, 3, 3, 192)    0           ['batch_normalization_493[0][0]']\n",
      "                                                                                                  \n",
      " block17_3_mixed (Concatenate)  (None, 3, 3, 384)    0           ['activation_490[0][0]',         \n",
      "                                                                  'activation_493[0][0]']         \n",
      "                                                                                                  \n",
      " block17_3_conv (Conv2D)        (None, 3, 3, 1088)   418880      ['block17_3_mixed[0][0]']        \n",
      "                                                                                                  \n",
      " custom_scale_layer_92 (CustomS  (None, 3, 3, 1088)  0           ['block17_2_ac[0][0]',           \n",
      " caleLayer)                                                       'block17_3_conv[0][0]']         \n",
      "                                                                                                  \n",
      " block17_3_ac (Activation)      (None, 3, 3, 1088)   0           ['custom_scale_layer_92[0][0]']  \n",
      "                                                                                                  \n",
      " conv2d_495 (Conv2D)            (None, 3, 3, 128)    139264      ['block17_3_ac[0][0]']           \n",
      "                                                                                                  \n",
      " batch_normalization_495 (Batch  (None, 3, 3, 128)   384         ['conv2d_495[0][0]']             \n",
      " Normalization)                                                                                   \n",
      "                                                                                                  \n",
      " activation_495 (Activation)    (None, 3, 3, 128)    0           ['batch_normalization_495[0][0]']\n",
      "                                                                                                  \n",
      " conv2d_496 (Conv2D)            (None, 3, 3, 160)    143360      ['activation_495[0][0]']         \n",
      "                                                                                                  \n",
      " batch_normalization_496 (Batch  (None, 3, 3, 160)   480         ['conv2d_496[0][0]']             \n",
      " Normalization)                                                                                   \n",
      "                                                                                                  \n",
      " activation_496 (Activation)    (None, 3, 3, 160)    0           ['batch_normalization_496[0][0]']\n",
      "                                                                                                  \n",
      " conv2d_494 (Conv2D)            (None, 3, 3, 192)    208896      ['block17_3_ac[0][0]']           \n",
      "                                                                                                  \n",
      " conv2d_497 (Conv2D)            (None, 3, 3, 192)    215040      ['activation_496[0][0]']         \n",
      "                                                                                                  \n",
      " batch_normalization_494 (Batch  (None, 3, 3, 192)   576         ['conv2d_494[0][0]']             \n",
      " Normalization)                                                                                   \n",
      "                                                                                                  \n",
      " batch_normalization_497 (Batch  (None, 3, 3, 192)   576         ['conv2d_497[0][0]']             \n",
      " Normalization)                                                                                   \n",
      "                                                                                                  \n",
      " activation_494 (Activation)    (None, 3, 3, 192)    0           ['batch_normalization_494[0][0]']\n",
      "                                                                                                  \n",
      " activation_497 (Activation)    (None, 3, 3, 192)    0           ['batch_normalization_497[0][0]']\n",
      "                                                                                                  \n",
      " block17_4_mixed (Concatenate)  (None, 3, 3, 384)    0           ['activation_494[0][0]',         \n",
      "                                                                  'activation_497[0][0]']         \n",
      "                                                                                                  \n",
      " block17_4_conv (Conv2D)        (None, 3, 3, 1088)   418880      ['block17_4_mixed[0][0]']        \n",
      "                                                                                                  \n",
      " custom_scale_layer_93 (CustomS  (None, 3, 3, 1088)  0           ['block17_3_ac[0][0]',           \n",
      " caleLayer)                                                       'block17_4_conv[0][0]']         \n",
      "                                                                                                  \n",
      " block17_4_ac (Activation)      (None, 3, 3, 1088)   0           ['custom_scale_layer_93[0][0]']  \n",
      "                                                                                                  \n",
      " conv2d_499 (Conv2D)            (None, 3, 3, 128)    139264      ['block17_4_ac[0][0]']           \n",
      "                                                                                                  \n",
      " batch_normalization_499 (Batch  (None, 3, 3, 128)   384         ['conv2d_499[0][0]']             \n",
      " Normalization)                                                                                   \n",
      "                                                                                                  \n",
      " activation_499 (Activation)    (None, 3, 3, 128)    0           ['batch_normalization_499[0][0]']\n",
      "                                                                                                  \n",
      " conv2d_500 (Conv2D)            (None, 3, 3, 160)    143360      ['activation_499[0][0]']         \n",
      "                                                                                                  \n",
      " batch_normalization_500 (Batch  (None, 3, 3, 160)   480         ['conv2d_500[0][0]']             \n",
      " Normalization)                                                                                   \n",
      "                                                                                                  \n"
     ]
    },
    {
     "name": "stdout",
     "output_type": "stream",
     "text": [
      " activation_500 (Activation)    (None, 3, 3, 160)    0           ['batch_normalization_500[0][0]']\n",
      "                                                                                                  \n",
      " conv2d_498 (Conv2D)            (None, 3, 3, 192)    208896      ['block17_4_ac[0][0]']           \n",
      "                                                                                                  \n",
      " conv2d_501 (Conv2D)            (None, 3, 3, 192)    215040      ['activation_500[0][0]']         \n",
      "                                                                                                  \n",
      " batch_normalization_498 (Batch  (None, 3, 3, 192)   576         ['conv2d_498[0][0]']             \n",
      " Normalization)                                                                                   \n",
      "                                                                                                  \n",
      " batch_normalization_501 (Batch  (None, 3, 3, 192)   576         ['conv2d_501[0][0]']             \n",
      " Normalization)                                                                                   \n",
      "                                                                                                  \n",
      " activation_498 (Activation)    (None, 3, 3, 192)    0           ['batch_normalization_498[0][0]']\n",
      "                                                                                                  \n",
      " activation_501 (Activation)    (None, 3, 3, 192)    0           ['batch_normalization_501[0][0]']\n",
      "                                                                                                  \n",
      " block17_5_mixed (Concatenate)  (None, 3, 3, 384)    0           ['activation_498[0][0]',         \n",
      "                                                                  'activation_501[0][0]']         \n",
      "                                                                                                  \n",
      " block17_5_conv (Conv2D)        (None, 3, 3, 1088)   418880      ['block17_5_mixed[0][0]']        \n",
      "                                                                                                  \n",
      " custom_scale_layer_94 (CustomS  (None, 3, 3, 1088)  0           ['block17_4_ac[0][0]',           \n",
      " caleLayer)                                                       'block17_5_conv[0][0]']         \n",
      "                                                                                                  \n",
      " block17_5_ac (Activation)      (None, 3, 3, 1088)   0           ['custom_scale_layer_94[0][0]']  \n",
      "                                                                                                  \n",
      " conv2d_503 (Conv2D)            (None, 3, 3, 128)    139264      ['block17_5_ac[0][0]']           \n",
      "                                                                                                  \n",
      " batch_normalization_503 (Batch  (None, 3, 3, 128)   384         ['conv2d_503[0][0]']             \n",
      " Normalization)                                                                                   \n",
      "                                                                                                  \n",
      " activation_503 (Activation)    (None, 3, 3, 128)    0           ['batch_normalization_503[0][0]']\n",
      "                                                                                                  \n",
      " conv2d_504 (Conv2D)            (None, 3, 3, 160)    143360      ['activation_503[0][0]']         \n",
      "                                                                                                  \n",
      " batch_normalization_504 (Batch  (None, 3, 3, 160)   480         ['conv2d_504[0][0]']             \n",
      " Normalization)                                                                                   \n",
      "                                                                                                  \n",
      " activation_504 (Activation)    (None, 3, 3, 160)    0           ['batch_normalization_504[0][0]']\n",
      "                                                                                                  \n",
      " conv2d_502 (Conv2D)            (None, 3, 3, 192)    208896      ['block17_5_ac[0][0]']           \n",
      "                                                                                                  \n",
      " conv2d_505 (Conv2D)            (None, 3, 3, 192)    215040      ['activation_504[0][0]']         \n",
      "                                                                                                  \n",
      " batch_normalization_502 (Batch  (None, 3, 3, 192)   576         ['conv2d_502[0][0]']             \n",
      " Normalization)                                                                                   \n",
      "                                                                                                  \n",
      " batch_normalization_505 (Batch  (None, 3, 3, 192)   576         ['conv2d_505[0][0]']             \n",
      " Normalization)                                                                                   \n",
      "                                                                                                  \n",
      " activation_502 (Activation)    (None, 3, 3, 192)    0           ['batch_normalization_502[0][0]']\n",
      "                                                                                                  \n",
      " activation_505 (Activation)    (None, 3, 3, 192)    0           ['batch_normalization_505[0][0]']\n",
      "                                                                                                  \n",
      " block17_6_mixed (Concatenate)  (None, 3, 3, 384)    0           ['activation_502[0][0]',         \n",
      "                                                                  'activation_505[0][0]']         \n",
      "                                                                                                  \n",
      " block17_6_conv (Conv2D)        (None, 3, 3, 1088)   418880      ['block17_6_mixed[0][0]']        \n",
      "                                                                                                  \n",
      " custom_scale_layer_95 (CustomS  (None, 3, 3, 1088)  0           ['block17_5_ac[0][0]',           \n",
      " caleLayer)                                                       'block17_6_conv[0][0]']         \n",
      "                                                                                                  \n",
      " block17_6_ac (Activation)      (None, 3, 3, 1088)   0           ['custom_scale_layer_95[0][0]']  \n",
      "                                                                                                  \n",
      " conv2d_507 (Conv2D)            (None, 3, 3, 128)    139264      ['block17_6_ac[0][0]']           \n",
      "                                                                                                  \n",
      " batch_normalization_507 (Batch  (None, 3, 3, 128)   384         ['conv2d_507[0][0]']             \n",
      " Normalization)                                                                                   \n",
      "                                                                                                  \n",
      " activation_507 (Activation)    (None, 3, 3, 128)    0           ['batch_normalization_507[0][0]']\n",
      "                                                                                                  \n",
      " conv2d_508 (Conv2D)            (None, 3, 3, 160)    143360      ['activation_507[0][0]']         \n",
      "                                                                                                  \n",
      " batch_normalization_508 (Batch  (None, 3, 3, 160)   480         ['conv2d_508[0][0]']             \n",
      " Normalization)                                                                                   \n",
      "                                                                                                  \n",
      " activation_508 (Activation)    (None, 3, 3, 160)    0           ['batch_normalization_508[0][0]']\n",
      "                                                                                                  \n",
      " conv2d_506 (Conv2D)            (None, 3, 3, 192)    208896      ['block17_6_ac[0][0]']           \n",
      "                                                                                                  \n",
      " conv2d_509 (Conv2D)            (None, 3, 3, 192)    215040      ['activation_508[0][0]']         \n",
      "                                                                                                  \n",
      " batch_normalization_506 (Batch  (None, 3, 3, 192)   576         ['conv2d_506[0][0]']             \n"
     ]
    },
    {
     "name": "stdout",
     "output_type": "stream",
     "text": [
      " Normalization)                                                                                   \n",
      "                                                                                                  \n",
      " batch_normalization_509 (Batch  (None, 3, 3, 192)   576         ['conv2d_509[0][0]']             \n",
      " Normalization)                                                                                   \n",
      "                                                                                                  \n",
      " activation_506 (Activation)    (None, 3, 3, 192)    0           ['batch_normalization_506[0][0]']\n",
      "                                                                                                  \n",
      " activation_509 (Activation)    (None, 3, 3, 192)    0           ['batch_normalization_509[0][0]']\n",
      "                                                                                                  \n",
      " block17_7_mixed (Concatenate)  (None, 3, 3, 384)    0           ['activation_506[0][0]',         \n",
      "                                                                  'activation_509[0][0]']         \n",
      "                                                                                                  \n",
      " block17_7_conv (Conv2D)        (None, 3, 3, 1088)   418880      ['block17_7_mixed[0][0]']        \n",
      "                                                                                                  \n",
      " custom_scale_layer_96 (CustomS  (None, 3, 3, 1088)  0           ['block17_6_ac[0][0]',           \n",
      " caleLayer)                                                       'block17_7_conv[0][0]']         \n",
      "                                                                                                  \n",
      " block17_7_ac (Activation)      (None, 3, 3, 1088)   0           ['custom_scale_layer_96[0][0]']  \n",
      "                                                                                                  \n",
      " conv2d_511 (Conv2D)            (None, 3, 3, 128)    139264      ['block17_7_ac[0][0]']           \n",
      "                                                                                                  \n",
      " batch_normalization_511 (Batch  (None, 3, 3, 128)   384         ['conv2d_511[0][0]']             \n",
      " Normalization)                                                                                   \n",
      "                                                                                                  \n",
      " activation_511 (Activation)    (None, 3, 3, 128)    0           ['batch_normalization_511[0][0]']\n",
      "                                                                                                  \n",
      " conv2d_512 (Conv2D)            (None, 3, 3, 160)    143360      ['activation_511[0][0]']         \n",
      "                                                                                                  \n",
      " batch_normalization_512 (Batch  (None, 3, 3, 160)   480         ['conv2d_512[0][0]']             \n",
      " Normalization)                                                                                   \n",
      "                                                                                                  \n",
      " activation_512 (Activation)    (None, 3, 3, 160)    0           ['batch_normalization_512[0][0]']\n",
      "                                                                                                  \n",
      " conv2d_510 (Conv2D)            (None, 3, 3, 192)    208896      ['block17_7_ac[0][0]']           \n",
      "                                                                                                  \n",
      " conv2d_513 (Conv2D)            (None, 3, 3, 192)    215040      ['activation_512[0][0]']         \n",
      "                                                                                                  \n",
      " batch_normalization_510 (Batch  (None, 3, 3, 192)   576         ['conv2d_510[0][0]']             \n",
      " Normalization)                                                                                   \n",
      "                                                                                                  \n",
      " batch_normalization_513 (Batch  (None, 3, 3, 192)   576         ['conv2d_513[0][0]']             \n",
      " Normalization)                                                                                   \n",
      "                                                                                                  \n",
      " activation_510 (Activation)    (None, 3, 3, 192)    0           ['batch_normalization_510[0][0]']\n",
      "                                                                                                  \n",
      " activation_513 (Activation)    (None, 3, 3, 192)    0           ['batch_normalization_513[0][0]']\n",
      "                                                                                                  \n",
      " block17_8_mixed (Concatenate)  (None, 3, 3, 384)    0           ['activation_510[0][0]',         \n",
      "                                                                  'activation_513[0][0]']         \n",
      "                                                                                                  \n",
      " block17_8_conv (Conv2D)        (None, 3, 3, 1088)   418880      ['block17_8_mixed[0][0]']        \n",
      "                                                                                                  \n",
      " custom_scale_layer_97 (CustomS  (None, 3, 3, 1088)  0           ['block17_7_ac[0][0]',           \n",
      " caleLayer)                                                       'block17_8_conv[0][0]']         \n",
      "                                                                                                  \n",
      " block17_8_ac (Activation)      (None, 3, 3, 1088)   0           ['custom_scale_layer_97[0][0]']  \n",
      "                                                                                                  \n",
      " conv2d_515 (Conv2D)            (None, 3, 3, 128)    139264      ['block17_8_ac[0][0]']           \n",
      "                                                                                                  \n",
      " batch_normalization_515 (Batch  (None, 3, 3, 128)   384         ['conv2d_515[0][0]']             \n",
      " Normalization)                                                                                   \n",
      "                                                                                                  \n",
      " activation_515 (Activation)    (None, 3, 3, 128)    0           ['batch_normalization_515[0][0]']\n",
      "                                                                                                  \n",
      " conv2d_516 (Conv2D)            (None, 3, 3, 160)    143360      ['activation_515[0][0]']         \n",
      "                                                                                                  \n",
      " batch_normalization_516 (Batch  (None, 3, 3, 160)   480         ['conv2d_516[0][0]']             \n",
      " Normalization)                                                                                   \n",
      "                                                                                                  \n",
      " activation_516 (Activation)    (None, 3, 3, 160)    0           ['batch_normalization_516[0][0]']\n",
      "                                                                                                  \n",
      " conv2d_514 (Conv2D)            (None, 3, 3, 192)    208896      ['block17_8_ac[0][0]']           \n",
      "                                                                                                  \n",
      " conv2d_517 (Conv2D)            (None, 3, 3, 192)    215040      ['activation_516[0][0]']         \n",
      "                                                                                                  \n",
      " batch_normalization_514 (Batch  (None, 3, 3, 192)   576         ['conv2d_514[0][0]']             \n",
      " Normalization)                                                                                   \n",
      "                                                                                                  \n",
      " batch_normalization_517 (Batch  (None, 3, 3, 192)   576         ['conv2d_517[0][0]']             \n",
      " Normalization)                                                                                   \n",
      "                                                                                                  \n",
      " activation_514 (Activation)    (None, 3, 3, 192)    0           ['batch_normalization_514[0][0]']\n",
      "                                                                                                  \n"
     ]
    },
    {
     "name": "stdout",
     "output_type": "stream",
     "text": [
      " activation_517 (Activation)    (None, 3, 3, 192)    0           ['batch_normalization_517[0][0]']\n",
      "                                                                                                  \n",
      " block17_9_mixed (Concatenate)  (None, 3, 3, 384)    0           ['activation_514[0][0]',         \n",
      "                                                                  'activation_517[0][0]']         \n",
      "                                                                                                  \n",
      " block17_9_conv (Conv2D)        (None, 3, 3, 1088)   418880      ['block17_9_mixed[0][0]']        \n",
      "                                                                                                  \n",
      " custom_scale_layer_98 (CustomS  (None, 3, 3, 1088)  0           ['block17_8_ac[0][0]',           \n",
      " caleLayer)                                                       'block17_9_conv[0][0]']         \n",
      "                                                                                                  \n",
      " block17_9_ac (Activation)      (None, 3, 3, 1088)   0           ['custom_scale_layer_98[0][0]']  \n",
      "                                                                                                  \n",
      " conv2d_519 (Conv2D)            (None, 3, 3, 128)    139264      ['block17_9_ac[0][0]']           \n",
      "                                                                                                  \n",
      " batch_normalization_519 (Batch  (None, 3, 3, 128)   384         ['conv2d_519[0][0]']             \n",
      " Normalization)                                                                                   \n",
      "                                                                                                  \n",
      " activation_519 (Activation)    (None, 3, 3, 128)    0           ['batch_normalization_519[0][0]']\n",
      "                                                                                                  \n",
      " conv2d_520 (Conv2D)            (None, 3, 3, 160)    143360      ['activation_519[0][0]']         \n",
      "                                                                                                  \n",
      " batch_normalization_520 (Batch  (None, 3, 3, 160)   480         ['conv2d_520[0][0]']             \n",
      " Normalization)                                                                                   \n",
      "                                                                                                  \n",
      " activation_520 (Activation)    (None, 3, 3, 160)    0           ['batch_normalization_520[0][0]']\n",
      "                                                                                                  \n",
      " conv2d_518 (Conv2D)            (None, 3, 3, 192)    208896      ['block17_9_ac[0][0]']           \n",
      "                                                                                                  \n",
      " conv2d_521 (Conv2D)            (None, 3, 3, 192)    215040      ['activation_520[0][0]']         \n",
      "                                                                                                  \n",
      " batch_normalization_518 (Batch  (None, 3, 3, 192)   576         ['conv2d_518[0][0]']             \n",
      " Normalization)                                                                                   \n",
      "                                                                                                  \n",
      " batch_normalization_521 (Batch  (None, 3, 3, 192)   576         ['conv2d_521[0][0]']             \n",
      " Normalization)                                                                                   \n",
      "                                                                                                  \n",
      " activation_518 (Activation)    (None, 3, 3, 192)    0           ['batch_normalization_518[0][0]']\n",
      "                                                                                                  \n",
      " activation_521 (Activation)    (None, 3, 3, 192)    0           ['batch_normalization_521[0][0]']\n",
      "                                                                                                  \n",
      " block17_10_mixed (Concatenate)  (None, 3, 3, 384)   0           ['activation_518[0][0]',         \n",
      "                                                                  'activation_521[0][0]']         \n",
      "                                                                                                  \n",
      " block17_10_conv (Conv2D)       (None, 3, 3, 1088)   418880      ['block17_10_mixed[0][0]']       \n",
      "                                                                                                  \n",
      " custom_scale_layer_99 (CustomS  (None, 3, 3, 1088)  0           ['block17_9_ac[0][0]',           \n",
      " caleLayer)                                                       'block17_10_conv[0][0]']        \n",
      "                                                                                                  \n",
      " block17_10_ac (Activation)     (None, 3, 3, 1088)   0           ['custom_scale_layer_99[0][0]']  \n",
      "                                                                                                  \n",
      " conv2d_523 (Conv2D)            (None, 3, 3, 128)    139264      ['block17_10_ac[0][0]']          \n",
      "                                                                                                  \n",
      " batch_normalization_523 (Batch  (None, 3, 3, 128)   384         ['conv2d_523[0][0]']             \n",
      " Normalization)                                                                                   \n",
      "                                                                                                  \n",
      " activation_523 (Activation)    (None, 3, 3, 128)    0           ['batch_normalization_523[0][0]']\n",
      "                                                                                                  \n",
      " conv2d_524 (Conv2D)            (None, 3, 3, 160)    143360      ['activation_523[0][0]']         \n",
      "                                                                                                  \n",
      " batch_normalization_524 (Batch  (None, 3, 3, 160)   480         ['conv2d_524[0][0]']             \n",
      " Normalization)                                                                                   \n",
      "                                                                                                  \n",
      " activation_524 (Activation)    (None, 3, 3, 160)    0           ['batch_normalization_524[0][0]']\n",
      "                                                                                                  \n",
      " conv2d_522 (Conv2D)            (None, 3, 3, 192)    208896      ['block17_10_ac[0][0]']          \n",
      "                                                                                                  \n",
      " conv2d_525 (Conv2D)            (None, 3, 3, 192)    215040      ['activation_524[0][0]']         \n",
      "                                                                                                  \n",
      " batch_normalization_522 (Batch  (None, 3, 3, 192)   576         ['conv2d_522[0][0]']             \n",
      " Normalization)                                                                                   \n",
      "                                                                                                  \n",
      " batch_normalization_525 (Batch  (None, 3, 3, 192)   576         ['conv2d_525[0][0]']             \n",
      " Normalization)                                                                                   \n",
      "                                                                                                  \n",
      " activation_522 (Activation)    (None, 3, 3, 192)    0           ['batch_normalization_522[0][0]']\n",
      "                                                                                                  \n",
      " activation_525 (Activation)    (None, 3, 3, 192)    0           ['batch_normalization_525[0][0]']\n",
      "                                                                                                  \n",
      " block17_11_mixed (Concatenate)  (None, 3, 3, 384)   0           ['activation_522[0][0]',         \n",
      "                                                                  'activation_525[0][0]']         \n",
      "                                                                                                  \n",
      " block17_11_conv (Conv2D)       (None, 3, 3, 1088)   418880      ['block17_11_mixed[0][0]']       \n",
      "                                                                                                  \n"
     ]
    },
    {
     "name": "stdout",
     "output_type": "stream",
     "text": [
      " custom_scale_layer_100 (Custom  (None, 3, 3, 1088)  0           ['block17_10_ac[0][0]',          \n",
      " ScaleLayer)                                                      'block17_11_conv[0][0]']        \n",
      "                                                                                                  \n",
      " block17_11_ac (Activation)     (None, 3, 3, 1088)   0           ['custom_scale_layer_100[0][0]'] \n",
      "                                                                                                  \n",
      " conv2d_527 (Conv2D)            (None, 3, 3, 128)    139264      ['block17_11_ac[0][0]']          \n",
      "                                                                                                  \n",
      " batch_normalization_527 (Batch  (None, 3, 3, 128)   384         ['conv2d_527[0][0]']             \n",
      " Normalization)                                                                                   \n",
      "                                                                                                  \n",
      " activation_527 (Activation)    (None, 3, 3, 128)    0           ['batch_normalization_527[0][0]']\n",
      "                                                                                                  \n",
      " conv2d_528 (Conv2D)            (None, 3, 3, 160)    143360      ['activation_527[0][0]']         \n",
      "                                                                                                  \n",
      " batch_normalization_528 (Batch  (None, 3, 3, 160)   480         ['conv2d_528[0][0]']             \n",
      " Normalization)                                                                                   \n",
      "                                                                                                  \n",
      " activation_528 (Activation)    (None, 3, 3, 160)    0           ['batch_normalization_528[0][0]']\n",
      "                                                                                                  \n",
      " conv2d_526 (Conv2D)            (None, 3, 3, 192)    208896      ['block17_11_ac[0][0]']          \n",
      "                                                                                                  \n",
      " conv2d_529 (Conv2D)            (None, 3, 3, 192)    215040      ['activation_528[0][0]']         \n",
      "                                                                                                  \n",
      " batch_normalization_526 (Batch  (None, 3, 3, 192)   576         ['conv2d_526[0][0]']             \n",
      " Normalization)                                                                                   \n",
      "                                                                                                  \n",
      " batch_normalization_529 (Batch  (None, 3, 3, 192)   576         ['conv2d_529[0][0]']             \n",
      " Normalization)                                                                                   \n",
      "                                                                                                  \n",
      " activation_526 (Activation)    (None, 3, 3, 192)    0           ['batch_normalization_526[0][0]']\n",
      "                                                                                                  \n",
      " activation_529 (Activation)    (None, 3, 3, 192)    0           ['batch_normalization_529[0][0]']\n",
      "                                                                                                  \n",
      " block17_12_mixed (Concatenate)  (None, 3, 3, 384)   0           ['activation_526[0][0]',         \n",
      "                                                                  'activation_529[0][0]']         \n",
      "                                                                                                  \n",
      " block17_12_conv (Conv2D)       (None, 3, 3, 1088)   418880      ['block17_12_mixed[0][0]']       \n",
      "                                                                                                  \n",
      " custom_scale_layer_101 (Custom  (None, 3, 3, 1088)  0           ['block17_11_ac[0][0]',          \n",
      " ScaleLayer)                                                      'block17_12_conv[0][0]']        \n",
      "                                                                                                  \n",
      " block17_12_ac (Activation)     (None, 3, 3, 1088)   0           ['custom_scale_layer_101[0][0]'] \n",
      "                                                                                                  \n",
      " conv2d_531 (Conv2D)            (None, 3, 3, 128)    139264      ['block17_12_ac[0][0]']          \n",
      "                                                                                                  \n",
      " batch_normalization_531 (Batch  (None, 3, 3, 128)   384         ['conv2d_531[0][0]']             \n",
      " Normalization)                                                                                   \n",
      "                                                                                                  \n",
      " activation_531 (Activation)    (None, 3, 3, 128)    0           ['batch_normalization_531[0][0]']\n",
      "                                                                                                  \n",
      " conv2d_532 (Conv2D)            (None, 3, 3, 160)    143360      ['activation_531[0][0]']         \n",
      "                                                                                                  \n",
      " batch_normalization_532 (Batch  (None, 3, 3, 160)   480         ['conv2d_532[0][0]']             \n",
      " Normalization)                                                                                   \n",
      "                                                                                                  \n",
      " activation_532 (Activation)    (None, 3, 3, 160)    0           ['batch_normalization_532[0][0]']\n",
      "                                                                                                  \n",
      " conv2d_530 (Conv2D)            (None, 3, 3, 192)    208896      ['block17_12_ac[0][0]']          \n",
      "                                                                                                  \n",
      " conv2d_533 (Conv2D)            (None, 3, 3, 192)    215040      ['activation_532[0][0]']         \n",
      "                                                                                                  \n",
      " batch_normalization_530 (Batch  (None, 3, 3, 192)   576         ['conv2d_530[0][0]']             \n",
      " Normalization)                                                                                   \n",
      "                                                                                                  \n",
      " batch_normalization_533 (Batch  (None, 3, 3, 192)   576         ['conv2d_533[0][0]']             \n",
      " Normalization)                                                                                   \n",
      "                                                                                                  \n",
      " activation_530 (Activation)    (None, 3, 3, 192)    0           ['batch_normalization_530[0][0]']\n",
      "                                                                                                  \n",
      " activation_533 (Activation)    (None, 3, 3, 192)    0           ['batch_normalization_533[0][0]']\n",
      "                                                                                                  \n",
      " block17_13_mixed (Concatenate)  (None, 3, 3, 384)   0           ['activation_530[0][0]',         \n",
      "                                                                  'activation_533[0][0]']         \n",
      "                                                                                                  \n",
      " block17_13_conv (Conv2D)       (None, 3, 3, 1088)   418880      ['block17_13_mixed[0][0]']       \n",
      "                                                                                                  \n",
      " custom_scale_layer_102 (Custom  (None, 3, 3, 1088)  0           ['block17_12_ac[0][0]',          \n",
      " ScaleLayer)                                                      'block17_13_conv[0][0]']        \n",
      "                                                                                                  \n",
      " block17_13_ac (Activation)     (None, 3, 3, 1088)   0           ['custom_scale_layer_102[0][0]'] \n",
      "                                                                                                  \n",
      " conv2d_535 (Conv2D)            (None, 3, 3, 128)    139264      ['block17_13_ac[0][0]']          \n",
      "                                                                                                  \n"
     ]
    },
    {
     "name": "stdout",
     "output_type": "stream",
     "text": [
      " batch_normalization_535 (Batch  (None, 3, 3, 128)   384         ['conv2d_535[0][0]']             \n",
      " Normalization)                                                                                   \n",
      "                                                                                                  \n",
      " activation_535 (Activation)    (None, 3, 3, 128)    0           ['batch_normalization_535[0][0]']\n",
      "                                                                                                  \n",
      " conv2d_536 (Conv2D)            (None, 3, 3, 160)    143360      ['activation_535[0][0]']         \n",
      "                                                                                                  \n",
      " batch_normalization_536 (Batch  (None, 3, 3, 160)   480         ['conv2d_536[0][0]']             \n",
      " Normalization)                                                                                   \n",
      "                                                                                                  \n",
      " activation_536 (Activation)    (None, 3, 3, 160)    0           ['batch_normalization_536[0][0]']\n",
      "                                                                                                  \n",
      " conv2d_534 (Conv2D)            (None, 3, 3, 192)    208896      ['block17_13_ac[0][0]']          \n",
      "                                                                                                  \n",
      " conv2d_537 (Conv2D)            (None, 3, 3, 192)    215040      ['activation_536[0][0]']         \n",
      "                                                                                                  \n",
      " batch_normalization_534 (Batch  (None, 3, 3, 192)   576         ['conv2d_534[0][0]']             \n",
      " Normalization)                                                                                   \n",
      "                                                                                                  \n",
      " batch_normalization_537 (Batch  (None, 3, 3, 192)   576         ['conv2d_537[0][0]']             \n",
      " Normalization)                                                                                   \n",
      "                                                                                                  \n",
      " activation_534 (Activation)    (None, 3, 3, 192)    0           ['batch_normalization_534[0][0]']\n",
      "                                                                                                  \n",
      " activation_537 (Activation)    (None, 3, 3, 192)    0           ['batch_normalization_537[0][0]']\n",
      "                                                                                                  \n",
      " block17_14_mixed (Concatenate)  (None, 3, 3, 384)   0           ['activation_534[0][0]',         \n",
      "                                                                  'activation_537[0][0]']         \n",
      "                                                                                                  \n",
      " block17_14_conv (Conv2D)       (None, 3, 3, 1088)   418880      ['block17_14_mixed[0][0]']       \n",
      "                                                                                                  \n",
      " custom_scale_layer_103 (Custom  (None, 3, 3, 1088)  0           ['block17_13_ac[0][0]',          \n",
      " ScaleLayer)                                                      'block17_14_conv[0][0]']        \n",
      "                                                                                                  \n",
      " block17_14_ac (Activation)     (None, 3, 3, 1088)   0           ['custom_scale_layer_103[0][0]'] \n",
      "                                                                                                  \n",
      " conv2d_539 (Conv2D)            (None, 3, 3, 128)    139264      ['block17_14_ac[0][0]']          \n",
      "                                                                                                  \n",
      " batch_normalization_539 (Batch  (None, 3, 3, 128)   384         ['conv2d_539[0][0]']             \n",
      " Normalization)                                                                                   \n",
      "                                                                                                  \n",
      " activation_539 (Activation)    (None, 3, 3, 128)    0           ['batch_normalization_539[0][0]']\n",
      "                                                                                                  \n",
      " conv2d_540 (Conv2D)            (None, 3, 3, 160)    143360      ['activation_539[0][0]']         \n",
      "                                                                                                  \n",
      " batch_normalization_540 (Batch  (None, 3, 3, 160)   480         ['conv2d_540[0][0]']             \n",
      " Normalization)                                                                                   \n",
      "                                                                                                  \n",
      " activation_540 (Activation)    (None, 3, 3, 160)    0           ['batch_normalization_540[0][0]']\n",
      "                                                                                                  \n",
      " conv2d_538 (Conv2D)            (None, 3, 3, 192)    208896      ['block17_14_ac[0][0]']          \n",
      "                                                                                                  \n",
      " conv2d_541 (Conv2D)            (None, 3, 3, 192)    215040      ['activation_540[0][0]']         \n",
      "                                                                                                  \n",
      " batch_normalization_538 (Batch  (None, 3, 3, 192)   576         ['conv2d_538[0][0]']             \n",
      " Normalization)                                                                                   \n",
      "                                                                                                  \n",
      " batch_normalization_541 (Batch  (None, 3, 3, 192)   576         ['conv2d_541[0][0]']             \n",
      " Normalization)                                                                                   \n",
      "                                                                                                  \n",
      " activation_538 (Activation)    (None, 3, 3, 192)    0           ['batch_normalization_538[0][0]']\n",
      "                                                                                                  \n",
      " activation_541 (Activation)    (None, 3, 3, 192)    0           ['batch_normalization_541[0][0]']\n",
      "                                                                                                  \n",
      " block17_15_mixed (Concatenate)  (None, 3, 3, 384)   0           ['activation_538[0][0]',         \n",
      "                                                                  'activation_541[0][0]']         \n",
      "                                                                                                  \n",
      " block17_15_conv (Conv2D)       (None, 3, 3, 1088)   418880      ['block17_15_mixed[0][0]']       \n",
      "                                                                                                  \n",
      " custom_scale_layer_104 (Custom  (None, 3, 3, 1088)  0           ['block17_14_ac[0][0]',          \n",
      " ScaleLayer)                                                      'block17_15_conv[0][0]']        \n",
      "                                                                                                  \n",
      " block17_15_ac (Activation)     (None, 3, 3, 1088)   0           ['custom_scale_layer_104[0][0]'] \n",
      "                                                                                                  \n",
      " conv2d_543 (Conv2D)            (None, 3, 3, 128)    139264      ['block17_15_ac[0][0]']          \n",
      "                                                                                                  \n",
      " batch_normalization_543 (Batch  (None, 3, 3, 128)   384         ['conv2d_543[0][0]']             \n",
      " Normalization)                                                                                   \n",
      "                                                                                                  \n",
      " activation_543 (Activation)    (None, 3, 3, 128)    0           ['batch_normalization_543[0][0]']\n",
      "                                                                                                  \n",
      " conv2d_544 (Conv2D)            (None, 3, 3, 160)    143360      ['activation_543[0][0]']         \n",
      "                                                                                                  \n"
     ]
    },
    {
     "name": "stdout",
     "output_type": "stream",
     "text": [
      " batch_normalization_544 (Batch  (None, 3, 3, 160)   480         ['conv2d_544[0][0]']             \n",
      " Normalization)                                                                                   \n",
      "                                                                                                  \n",
      " activation_544 (Activation)    (None, 3, 3, 160)    0           ['batch_normalization_544[0][0]']\n",
      "                                                                                                  \n",
      " conv2d_542 (Conv2D)            (None, 3, 3, 192)    208896      ['block17_15_ac[0][0]']          \n",
      "                                                                                                  \n",
      " conv2d_545 (Conv2D)            (None, 3, 3, 192)    215040      ['activation_544[0][0]']         \n",
      "                                                                                                  \n",
      " batch_normalization_542 (Batch  (None, 3, 3, 192)   576         ['conv2d_542[0][0]']             \n",
      " Normalization)                                                                                   \n",
      "                                                                                                  \n",
      " batch_normalization_545 (Batch  (None, 3, 3, 192)   576         ['conv2d_545[0][0]']             \n",
      " Normalization)                                                                                   \n",
      "                                                                                                  \n",
      " activation_542 (Activation)    (None, 3, 3, 192)    0           ['batch_normalization_542[0][0]']\n",
      "                                                                                                  \n",
      " activation_545 (Activation)    (None, 3, 3, 192)    0           ['batch_normalization_545[0][0]']\n",
      "                                                                                                  \n",
      " block17_16_mixed (Concatenate)  (None, 3, 3, 384)   0           ['activation_542[0][0]',         \n",
      "                                                                  'activation_545[0][0]']         \n",
      "                                                                                                  \n",
      " block17_16_conv (Conv2D)       (None, 3, 3, 1088)   418880      ['block17_16_mixed[0][0]']       \n",
      "                                                                                                  \n",
      " custom_scale_layer_105 (Custom  (None, 3, 3, 1088)  0           ['block17_15_ac[0][0]',          \n",
      " ScaleLayer)                                                      'block17_16_conv[0][0]']        \n",
      "                                                                                                  \n",
      " block17_16_ac (Activation)     (None, 3, 3, 1088)   0           ['custom_scale_layer_105[0][0]'] \n",
      "                                                                                                  \n",
      " conv2d_547 (Conv2D)            (None, 3, 3, 128)    139264      ['block17_16_ac[0][0]']          \n",
      "                                                                                                  \n",
      " batch_normalization_547 (Batch  (None, 3, 3, 128)   384         ['conv2d_547[0][0]']             \n",
      " Normalization)                                                                                   \n",
      "                                                                                                  \n",
      " activation_547 (Activation)    (None, 3, 3, 128)    0           ['batch_normalization_547[0][0]']\n",
      "                                                                                                  \n",
      " conv2d_548 (Conv2D)            (None, 3, 3, 160)    143360      ['activation_547[0][0]']         \n",
      "                                                                                                  \n",
      " batch_normalization_548 (Batch  (None, 3, 3, 160)   480         ['conv2d_548[0][0]']             \n",
      " Normalization)                                                                                   \n",
      "                                                                                                  \n",
      " activation_548 (Activation)    (None, 3, 3, 160)    0           ['batch_normalization_548[0][0]']\n",
      "                                                                                                  \n",
      " conv2d_546 (Conv2D)            (None, 3, 3, 192)    208896      ['block17_16_ac[0][0]']          \n",
      "                                                                                                  \n",
      " conv2d_549 (Conv2D)            (None, 3, 3, 192)    215040      ['activation_548[0][0]']         \n",
      "                                                                                                  \n",
      " batch_normalization_546 (Batch  (None, 3, 3, 192)   576         ['conv2d_546[0][0]']             \n",
      " Normalization)                                                                                   \n",
      "                                                                                                  \n",
      " batch_normalization_549 (Batch  (None, 3, 3, 192)   576         ['conv2d_549[0][0]']             \n",
      " Normalization)                                                                                   \n",
      "                                                                                                  \n",
      " activation_546 (Activation)    (None, 3, 3, 192)    0           ['batch_normalization_546[0][0]']\n",
      "                                                                                                  \n",
      " activation_549 (Activation)    (None, 3, 3, 192)    0           ['batch_normalization_549[0][0]']\n",
      "                                                                                                  \n",
      " block17_17_mixed (Concatenate)  (None, 3, 3, 384)   0           ['activation_546[0][0]',         \n",
      "                                                                  'activation_549[0][0]']         \n",
      "                                                                                                  \n",
      " block17_17_conv (Conv2D)       (None, 3, 3, 1088)   418880      ['block17_17_mixed[0][0]']       \n",
      "                                                                                                  \n",
      " custom_scale_layer_106 (Custom  (None, 3, 3, 1088)  0           ['block17_16_ac[0][0]',          \n",
      " ScaleLayer)                                                      'block17_17_conv[0][0]']        \n",
      "                                                                                                  \n",
      " block17_17_ac (Activation)     (None, 3, 3, 1088)   0           ['custom_scale_layer_106[0][0]'] \n",
      "                                                                                                  \n",
      " conv2d_551 (Conv2D)            (None, 3, 3, 128)    139264      ['block17_17_ac[0][0]']          \n",
      "                                                                                                  \n",
      " batch_normalization_551 (Batch  (None, 3, 3, 128)   384         ['conv2d_551[0][0]']             \n",
      " Normalization)                                                                                   \n",
      "                                                                                                  \n",
      " activation_551 (Activation)    (None, 3, 3, 128)    0           ['batch_normalization_551[0][0]']\n",
      "                                                                                                  \n",
      " conv2d_552 (Conv2D)            (None, 3, 3, 160)    143360      ['activation_551[0][0]']         \n",
      "                                                                                                  \n",
      " batch_normalization_552 (Batch  (None, 3, 3, 160)   480         ['conv2d_552[0][0]']             \n",
      " Normalization)                                                                                   \n",
      "                                                                                                  \n",
      " activation_552 (Activation)    (None, 3, 3, 160)    0           ['batch_normalization_552[0][0]']\n",
      "                                                                                                  \n",
      " conv2d_550 (Conv2D)            (None, 3, 3, 192)    208896      ['block17_17_ac[0][0]']          \n",
      "                                                                                                  \n"
     ]
    },
    {
     "name": "stdout",
     "output_type": "stream",
     "text": [
      " conv2d_553 (Conv2D)            (None, 3, 3, 192)    215040      ['activation_552[0][0]']         \n",
      "                                                                                                  \n",
      " batch_normalization_550 (Batch  (None, 3, 3, 192)   576         ['conv2d_550[0][0]']             \n",
      " Normalization)                                                                                   \n",
      "                                                                                                  \n",
      " batch_normalization_553 (Batch  (None, 3, 3, 192)   576         ['conv2d_553[0][0]']             \n",
      " Normalization)                                                                                   \n",
      "                                                                                                  \n",
      " activation_550 (Activation)    (None, 3, 3, 192)    0           ['batch_normalization_550[0][0]']\n",
      "                                                                                                  \n",
      " activation_553 (Activation)    (None, 3, 3, 192)    0           ['batch_normalization_553[0][0]']\n",
      "                                                                                                  \n",
      " block17_18_mixed (Concatenate)  (None, 3, 3, 384)   0           ['activation_550[0][0]',         \n",
      "                                                                  'activation_553[0][0]']         \n",
      "                                                                                                  \n",
      " block17_18_conv (Conv2D)       (None, 3, 3, 1088)   418880      ['block17_18_mixed[0][0]']       \n",
      "                                                                                                  \n",
      " custom_scale_layer_107 (Custom  (None, 3, 3, 1088)  0           ['block17_17_ac[0][0]',          \n",
      " ScaleLayer)                                                      'block17_18_conv[0][0]']        \n",
      "                                                                                                  \n",
      " block17_18_ac (Activation)     (None, 3, 3, 1088)   0           ['custom_scale_layer_107[0][0]'] \n",
      "                                                                                                  \n",
      " conv2d_555 (Conv2D)            (None, 3, 3, 128)    139264      ['block17_18_ac[0][0]']          \n",
      "                                                                                                  \n",
      " batch_normalization_555 (Batch  (None, 3, 3, 128)   384         ['conv2d_555[0][0]']             \n",
      " Normalization)                                                                                   \n",
      "                                                                                                  \n",
      " activation_555 (Activation)    (None, 3, 3, 128)    0           ['batch_normalization_555[0][0]']\n",
      "                                                                                                  \n",
      " conv2d_556 (Conv2D)            (None, 3, 3, 160)    143360      ['activation_555[0][0]']         \n",
      "                                                                                                  \n",
      " batch_normalization_556 (Batch  (None, 3, 3, 160)   480         ['conv2d_556[0][0]']             \n",
      " Normalization)                                                                                   \n",
      "                                                                                                  \n",
      " activation_556 (Activation)    (None, 3, 3, 160)    0           ['batch_normalization_556[0][0]']\n",
      "                                                                                                  \n",
      " conv2d_554 (Conv2D)            (None, 3, 3, 192)    208896      ['block17_18_ac[0][0]']          \n",
      "                                                                                                  \n",
      " conv2d_557 (Conv2D)            (None, 3, 3, 192)    215040      ['activation_556[0][0]']         \n",
      "                                                                                                  \n",
      " batch_normalization_554 (Batch  (None, 3, 3, 192)   576         ['conv2d_554[0][0]']             \n",
      " Normalization)                                                                                   \n",
      "                                                                                                  \n",
      " batch_normalization_557 (Batch  (None, 3, 3, 192)   576         ['conv2d_557[0][0]']             \n",
      " Normalization)                                                                                   \n",
      "                                                                                                  \n",
      " activation_554 (Activation)    (None, 3, 3, 192)    0           ['batch_normalization_554[0][0]']\n",
      "                                                                                                  \n",
      " activation_557 (Activation)    (None, 3, 3, 192)    0           ['batch_normalization_557[0][0]']\n",
      "                                                                                                  \n",
      " block17_19_mixed (Concatenate)  (None, 3, 3, 384)   0           ['activation_554[0][0]',         \n",
      "                                                                  'activation_557[0][0]']         \n",
      "                                                                                                  \n",
      " block17_19_conv (Conv2D)       (None, 3, 3, 1088)   418880      ['block17_19_mixed[0][0]']       \n",
      "                                                                                                  \n",
      " custom_scale_layer_108 (Custom  (None, 3, 3, 1088)  0           ['block17_18_ac[0][0]',          \n",
      " ScaleLayer)                                                      'block17_19_conv[0][0]']        \n",
      "                                                                                                  \n",
      " block17_19_ac (Activation)     (None, 3, 3, 1088)   0           ['custom_scale_layer_108[0][0]'] \n",
      "                                                                                                  \n",
      " conv2d_559 (Conv2D)            (None, 3, 3, 128)    139264      ['block17_19_ac[0][0]']          \n",
      "                                                                                                  \n",
      " batch_normalization_559 (Batch  (None, 3, 3, 128)   384         ['conv2d_559[0][0]']             \n",
      " Normalization)                                                                                   \n",
      "                                                                                                  \n",
      " activation_559 (Activation)    (None, 3, 3, 128)    0           ['batch_normalization_559[0][0]']\n",
      "                                                                                                  \n",
      " conv2d_560 (Conv2D)            (None, 3, 3, 160)    143360      ['activation_559[0][0]']         \n",
      "                                                                                                  \n",
      " batch_normalization_560 (Batch  (None, 3, 3, 160)   480         ['conv2d_560[0][0]']             \n",
      " Normalization)                                                                                   \n",
      "                                                                                                  \n",
      " activation_560 (Activation)    (None, 3, 3, 160)    0           ['batch_normalization_560[0][0]']\n",
      "                                                                                                  \n",
      " conv2d_558 (Conv2D)            (None, 3, 3, 192)    208896      ['block17_19_ac[0][0]']          \n",
      "                                                                                                  \n",
      " conv2d_561 (Conv2D)            (None, 3, 3, 192)    215040      ['activation_560[0][0]']         \n",
      "                                                                                                  \n",
      " batch_normalization_558 (Batch  (None, 3, 3, 192)   576         ['conv2d_558[0][0]']             \n",
      " Normalization)                                                                                   \n",
      "                                                                                                  \n",
      " batch_normalization_561 (Batch  (None, 3, 3, 192)   576         ['conv2d_561[0][0]']             \n",
      " Normalization)                                                                                   \n"
     ]
    },
    {
     "name": "stdout",
     "output_type": "stream",
     "text": [
      "                                                                                                  \n",
      " activation_558 (Activation)    (None, 3, 3, 192)    0           ['batch_normalization_558[0][0]']\n",
      "                                                                                                  \n",
      " activation_561 (Activation)    (None, 3, 3, 192)    0           ['batch_normalization_561[0][0]']\n",
      "                                                                                                  \n",
      " block17_20_mixed (Concatenate)  (None, 3, 3, 384)   0           ['activation_558[0][0]',         \n",
      "                                                                  'activation_561[0][0]']         \n",
      "                                                                                                  \n",
      " block17_20_conv (Conv2D)       (None, 3, 3, 1088)   418880      ['block17_20_mixed[0][0]']       \n",
      "                                                                                                  \n",
      " custom_scale_layer_109 (Custom  (None, 3, 3, 1088)  0           ['block17_19_ac[0][0]',          \n",
      " ScaleLayer)                                                      'block17_20_conv[0][0]']        \n",
      "                                                                                                  \n",
      " block17_20_ac (Activation)     (None, 3, 3, 1088)   0           ['custom_scale_layer_109[0][0]'] \n",
      "                                                                                                  \n",
      " conv2d_566 (Conv2D)            (None, 3, 3, 256)    278528      ['block17_20_ac[0][0]']          \n",
      "                                                                                                  \n",
      " batch_normalization_566 (Batch  (None, 3, 3, 256)   768         ['conv2d_566[0][0]']             \n",
      " Normalization)                                                                                   \n",
      "                                                                                                  \n",
      " activation_566 (Activation)    (None, 3, 3, 256)    0           ['batch_normalization_566[0][0]']\n",
      "                                                                                                  \n",
      " conv2d_562 (Conv2D)            (None, 3, 3, 256)    278528      ['block17_20_ac[0][0]']          \n",
      "                                                                                                  \n",
      " conv2d_564 (Conv2D)            (None, 3, 3, 256)    278528      ['block17_20_ac[0][0]']          \n",
      "                                                                                                  \n",
      " conv2d_567 (Conv2D)            (None, 3, 3, 288)    663552      ['activation_566[0][0]']         \n",
      "                                                                                                  \n",
      " batch_normalization_562 (Batch  (None, 3, 3, 256)   768         ['conv2d_562[0][0]']             \n",
      " Normalization)                                                                                   \n",
      "                                                                                                  \n",
      " batch_normalization_564 (Batch  (None, 3, 3, 256)   768         ['conv2d_564[0][0]']             \n",
      " Normalization)                                                                                   \n",
      "                                                                                                  \n",
      " batch_normalization_567 (Batch  (None, 3, 3, 288)   864         ['conv2d_567[0][0]']             \n",
      " Normalization)                                                                                   \n",
      "                                                                                                  \n",
      " activation_562 (Activation)    (None, 3, 3, 256)    0           ['batch_normalization_562[0][0]']\n",
      "                                                                                                  \n",
      " activation_564 (Activation)    (None, 3, 3, 256)    0           ['batch_normalization_564[0][0]']\n",
      "                                                                                                  \n",
      " activation_567 (Activation)    (None, 3, 3, 288)    0           ['batch_normalization_567[0][0]']\n",
      "                                                                                                  \n",
      " conv2d_563 (Conv2D)            (None, 1, 1, 384)    884736      ['activation_562[0][0]']         \n",
      "                                                                                                  \n",
      " conv2d_565 (Conv2D)            (None, 1, 1, 288)    663552      ['activation_564[0][0]']         \n",
      "                                                                                                  \n",
      " conv2d_568 (Conv2D)            (None, 1, 1, 320)    829440      ['activation_567[0][0]']         \n",
      "                                                                                                  \n",
      " batch_normalization_563 (Batch  (None, 1, 1, 384)   1152        ['conv2d_563[0][0]']             \n",
      " Normalization)                                                                                   \n",
      "                                                                                                  \n",
      " batch_normalization_565 (Batch  (None, 1, 1, 288)   864         ['conv2d_565[0][0]']             \n",
      " Normalization)                                                                                   \n",
      "                                                                                                  \n",
      " batch_normalization_568 (Batch  (None, 1, 1, 320)   960         ['conv2d_568[0][0]']             \n",
      " Normalization)                                                                                   \n",
      "                                                                                                  \n",
      " activation_563 (Activation)    (None, 1, 1, 384)    0           ['batch_normalization_563[0][0]']\n",
      "                                                                                                  \n",
      " activation_565 (Activation)    (None, 1, 1, 288)    0           ['batch_normalization_565[0][0]']\n",
      "                                                                                                  \n",
      " activation_568 (Activation)    (None, 1, 1, 320)    0           ['batch_normalization_568[0][0]']\n",
      "                                                                                                  \n",
      " max_pooling2d_11 (MaxPooling2D  (None, 1, 1, 1088)  0           ['block17_20_ac[0][0]']          \n",
      " )                                                                                                \n",
      "                                                                                                  \n",
      " mixed_7a (Concatenate)         (None, 1, 1, 2080)   0           ['activation_563[0][0]',         \n",
      "                                                                  'activation_565[0][0]',         \n",
      "                                                                  'activation_568[0][0]',         \n",
      "                                                                  'max_pooling2d_11[0][0]']       \n",
      "                                                                                                  \n",
      " conv2d_570 (Conv2D)            (None, 1, 1, 192)    399360      ['mixed_7a[0][0]']               \n",
      "                                                                                                  \n",
      " batch_normalization_570 (Batch  (None, 1, 1, 192)   576         ['conv2d_570[0][0]']             \n",
      " Normalization)                                                                                   \n",
      "                                                                                                  \n",
      " activation_570 (Activation)    (None, 1, 1, 192)    0           ['batch_normalization_570[0][0]']\n",
      "                                                                                                  \n",
      " conv2d_571 (Conv2D)            (None, 1, 1, 224)    129024      ['activation_570[0][0]']         \n",
      "                                                                                                  \n",
      " batch_normalization_571 (Batch  (None, 1, 1, 224)   672         ['conv2d_571[0][0]']             \n",
      " Normalization)                                                                                   \n"
     ]
    },
    {
     "name": "stdout",
     "output_type": "stream",
     "text": [
      "                                                                                                  \n",
      " activation_571 (Activation)    (None, 1, 1, 224)    0           ['batch_normalization_571[0][0]']\n",
      "                                                                                                  \n",
      " conv2d_569 (Conv2D)            (None, 1, 1, 192)    399360      ['mixed_7a[0][0]']               \n",
      "                                                                                                  \n",
      " conv2d_572 (Conv2D)            (None, 1, 1, 256)    172032      ['activation_571[0][0]']         \n",
      "                                                                                                  \n",
      " batch_normalization_569 (Batch  (None, 1, 1, 192)   576         ['conv2d_569[0][0]']             \n",
      " Normalization)                                                                                   \n",
      "                                                                                                  \n",
      " batch_normalization_572 (Batch  (None, 1, 1, 256)   768         ['conv2d_572[0][0]']             \n",
      " Normalization)                                                                                   \n",
      "                                                                                                  \n",
      " activation_569 (Activation)    (None, 1, 1, 192)    0           ['batch_normalization_569[0][0]']\n",
      "                                                                                                  \n",
      " activation_572 (Activation)    (None, 1, 1, 256)    0           ['batch_normalization_572[0][0]']\n",
      "                                                                                                  \n",
      " block8_1_mixed (Concatenate)   (None, 1, 1, 448)    0           ['activation_569[0][0]',         \n",
      "                                                                  'activation_572[0][0]']         \n",
      "                                                                                                  \n",
      " block8_1_conv (Conv2D)         (None, 1, 1, 2080)   933920      ['block8_1_mixed[0][0]']         \n",
      "                                                                                                  \n",
      " custom_scale_layer_110 (Custom  (None, 1, 1, 2080)  0           ['mixed_7a[0][0]',               \n",
      " ScaleLayer)                                                      'block8_1_conv[0][0]']          \n",
      "                                                                                                  \n",
      " block8_1_ac (Activation)       (None, 1, 1, 2080)   0           ['custom_scale_layer_110[0][0]'] \n",
      "                                                                                                  \n",
      " conv2d_574 (Conv2D)            (None, 1, 1, 192)    399360      ['block8_1_ac[0][0]']            \n",
      "                                                                                                  \n",
      " batch_normalization_574 (Batch  (None, 1, 1, 192)   576         ['conv2d_574[0][0]']             \n",
      " Normalization)                                                                                   \n",
      "                                                                                                  \n",
      " activation_574 (Activation)    (None, 1, 1, 192)    0           ['batch_normalization_574[0][0]']\n",
      "                                                                                                  \n",
      " conv2d_575 (Conv2D)            (None, 1, 1, 224)    129024      ['activation_574[0][0]']         \n",
      "                                                                                                  \n",
      " batch_normalization_575 (Batch  (None, 1, 1, 224)   672         ['conv2d_575[0][0]']             \n",
      " Normalization)                                                                                   \n",
      "                                                                                                  \n",
      " activation_575 (Activation)    (None, 1, 1, 224)    0           ['batch_normalization_575[0][0]']\n",
      "                                                                                                  \n",
      " conv2d_573 (Conv2D)            (None, 1, 1, 192)    399360      ['block8_1_ac[0][0]']            \n",
      "                                                                                                  \n",
      " conv2d_576 (Conv2D)            (None, 1, 1, 256)    172032      ['activation_575[0][0]']         \n",
      "                                                                                                  \n",
      " batch_normalization_573 (Batch  (None, 1, 1, 192)   576         ['conv2d_573[0][0]']             \n",
      " Normalization)                                                                                   \n",
      "                                                                                                  \n",
      " batch_normalization_576 (Batch  (None, 1, 1, 256)   768         ['conv2d_576[0][0]']             \n",
      " Normalization)                                                                                   \n",
      "                                                                                                  \n",
      " activation_573 (Activation)    (None, 1, 1, 192)    0           ['batch_normalization_573[0][0]']\n",
      "                                                                                                  \n",
      " activation_576 (Activation)    (None, 1, 1, 256)    0           ['batch_normalization_576[0][0]']\n",
      "                                                                                                  \n",
      " block8_2_mixed (Concatenate)   (None, 1, 1, 448)    0           ['activation_573[0][0]',         \n",
      "                                                                  'activation_576[0][0]']         \n",
      "                                                                                                  \n",
      " block8_2_conv (Conv2D)         (None, 1, 1, 2080)   933920      ['block8_2_mixed[0][0]']         \n",
      "                                                                                                  \n",
      " custom_scale_layer_111 (Custom  (None, 1, 1, 2080)  0           ['block8_1_ac[0][0]',            \n",
      " ScaleLayer)                                                      'block8_2_conv[0][0]']          \n",
      "                                                                                                  \n",
      " block8_2_ac (Activation)       (None, 1, 1, 2080)   0           ['custom_scale_layer_111[0][0]'] \n",
      "                                                                                                  \n",
      " conv2d_578 (Conv2D)            (None, 1, 1, 192)    399360      ['block8_2_ac[0][0]']            \n",
      "                                                                                                  \n",
      " batch_normalization_578 (Batch  (None, 1, 1, 192)   576         ['conv2d_578[0][0]']             \n",
      " Normalization)                                                                                   \n",
      "                                                                                                  \n",
      " activation_578 (Activation)    (None, 1, 1, 192)    0           ['batch_normalization_578[0][0]']\n",
      "                                                                                                  \n",
      " conv2d_579 (Conv2D)            (None, 1, 1, 224)    129024      ['activation_578[0][0]']         \n",
      "                                                                                                  \n",
      " batch_normalization_579 (Batch  (None, 1, 1, 224)   672         ['conv2d_579[0][0]']             \n",
      " Normalization)                                                                                   \n",
      "                                                                                                  \n",
      " activation_579 (Activation)    (None, 1, 1, 224)    0           ['batch_normalization_579[0][0]']\n",
      "                                                                                                  \n",
      " conv2d_577 (Conv2D)            (None, 1, 1, 192)    399360      ['block8_2_ac[0][0]']            \n",
      "                                                                                                  \n",
      " conv2d_580 (Conv2D)            (None, 1, 1, 256)    172032      ['activation_579[0][0]']         \n",
      "                                                                                                  \n"
     ]
    },
    {
     "name": "stdout",
     "output_type": "stream",
     "text": [
      " batch_normalization_577 (Batch  (None, 1, 1, 192)   576         ['conv2d_577[0][0]']             \n",
      " Normalization)                                                                                   \n",
      "                                                                                                  \n",
      " batch_normalization_580 (Batch  (None, 1, 1, 256)   768         ['conv2d_580[0][0]']             \n",
      " Normalization)                                                                                   \n",
      "                                                                                                  \n",
      " activation_577 (Activation)    (None, 1, 1, 192)    0           ['batch_normalization_577[0][0]']\n",
      "                                                                                                  \n",
      " activation_580 (Activation)    (None, 1, 1, 256)    0           ['batch_normalization_580[0][0]']\n",
      "                                                                                                  \n",
      " block8_3_mixed (Concatenate)   (None, 1, 1, 448)    0           ['activation_577[0][0]',         \n",
      "                                                                  'activation_580[0][0]']         \n",
      "                                                                                                  \n",
      " block8_3_conv (Conv2D)         (None, 1, 1, 2080)   933920      ['block8_3_mixed[0][0]']         \n",
      "                                                                                                  \n",
      " custom_scale_layer_112 (Custom  (None, 1, 1, 2080)  0           ['block8_2_ac[0][0]',            \n",
      " ScaleLayer)                                                      'block8_3_conv[0][0]']          \n",
      "                                                                                                  \n",
      " block8_3_ac (Activation)       (None, 1, 1, 2080)   0           ['custom_scale_layer_112[0][0]'] \n",
      "                                                                                                  \n",
      " conv2d_582 (Conv2D)            (None, 1, 1, 192)    399360      ['block8_3_ac[0][0]']            \n",
      "                                                                                                  \n",
      " batch_normalization_582 (Batch  (None, 1, 1, 192)   576         ['conv2d_582[0][0]']             \n",
      " Normalization)                                                                                   \n",
      "                                                                                                  \n",
      " activation_582 (Activation)    (None, 1, 1, 192)    0           ['batch_normalization_582[0][0]']\n",
      "                                                                                                  \n",
      " conv2d_583 (Conv2D)            (None, 1, 1, 224)    129024      ['activation_582[0][0]']         \n",
      "                                                                                                  \n",
      " batch_normalization_583 (Batch  (None, 1, 1, 224)   672         ['conv2d_583[0][0]']             \n",
      " Normalization)                                                                                   \n",
      "                                                                                                  \n",
      " activation_583 (Activation)    (None, 1, 1, 224)    0           ['batch_normalization_583[0][0]']\n",
      "                                                                                                  \n",
      " conv2d_581 (Conv2D)            (None, 1, 1, 192)    399360      ['block8_3_ac[0][0]']            \n",
      "                                                                                                  \n",
      " conv2d_584 (Conv2D)            (None, 1, 1, 256)    172032      ['activation_583[0][0]']         \n",
      "                                                                                                  \n",
      " batch_normalization_581 (Batch  (None, 1, 1, 192)   576         ['conv2d_581[0][0]']             \n",
      " Normalization)                                                                                   \n",
      "                                                                                                  \n",
      " batch_normalization_584 (Batch  (None, 1, 1, 256)   768         ['conv2d_584[0][0]']             \n",
      " Normalization)                                                                                   \n",
      "                                                                                                  \n",
      " activation_581 (Activation)    (None, 1, 1, 192)    0           ['batch_normalization_581[0][0]']\n",
      "                                                                                                  \n",
      " activation_584 (Activation)    (None, 1, 1, 256)    0           ['batch_normalization_584[0][0]']\n",
      "                                                                                                  \n",
      " block8_4_mixed (Concatenate)   (None, 1, 1, 448)    0           ['activation_581[0][0]',         \n",
      "                                                                  'activation_584[0][0]']         \n",
      "                                                                                                  \n",
      " block8_4_conv (Conv2D)         (None, 1, 1, 2080)   933920      ['block8_4_mixed[0][0]']         \n",
      "                                                                                                  \n",
      " custom_scale_layer_113 (Custom  (None, 1, 1, 2080)  0           ['block8_3_ac[0][0]',            \n",
      " ScaleLayer)                                                      'block8_4_conv[0][0]']          \n",
      "                                                                                                  \n",
      " block8_4_ac (Activation)       (None, 1, 1, 2080)   0           ['custom_scale_layer_113[0][0]'] \n",
      "                                                                                                  \n",
      " conv2d_586 (Conv2D)            (None, 1, 1, 192)    399360      ['block8_4_ac[0][0]']            \n",
      "                                                                                                  \n",
      " batch_normalization_586 (Batch  (None, 1, 1, 192)   576         ['conv2d_586[0][0]']             \n",
      " Normalization)                                                                                   \n",
      "                                                                                                  \n",
      " activation_586 (Activation)    (None, 1, 1, 192)    0           ['batch_normalization_586[0][0]']\n",
      "                                                                                                  \n",
      " conv2d_587 (Conv2D)            (None, 1, 1, 224)    129024      ['activation_586[0][0]']         \n",
      "                                                                                                  \n",
      " batch_normalization_587 (Batch  (None, 1, 1, 224)   672         ['conv2d_587[0][0]']             \n",
      " Normalization)                                                                                   \n",
      "                                                                                                  \n",
      " activation_587 (Activation)    (None, 1, 1, 224)    0           ['batch_normalization_587[0][0]']\n",
      "                                                                                                  \n",
      " conv2d_585 (Conv2D)            (None, 1, 1, 192)    399360      ['block8_4_ac[0][0]']            \n",
      "                                                                                                  \n",
      " conv2d_588 (Conv2D)            (None, 1, 1, 256)    172032      ['activation_587[0][0]']         \n",
      "                                                                                                  \n",
      " batch_normalization_585 (Batch  (None, 1, 1, 192)   576         ['conv2d_585[0][0]']             \n",
      " Normalization)                                                                                   \n",
      "                                                                                                  \n",
      " batch_normalization_588 (Batch  (None, 1, 1, 256)   768         ['conv2d_588[0][0]']             \n",
      " Normalization)                                                                                   \n",
      "                                                                                                  \n",
      " activation_585 (Activation)    (None, 1, 1, 192)    0           ['batch_normalization_585[0][0]']\n"
     ]
    },
    {
     "name": "stdout",
     "output_type": "stream",
     "text": [
      "                                                                                                  \n",
      " activation_588 (Activation)    (None, 1, 1, 256)    0           ['batch_normalization_588[0][0]']\n",
      "                                                                                                  \n",
      " block8_5_mixed (Concatenate)   (None, 1, 1, 448)    0           ['activation_585[0][0]',         \n",
      "                                                                  'activation_588[0][0]']         \n",
      "                                                                                                  \n",
      " block8_5_conv (Conv2D)         (None, 1, 1, 2080)   933920      ['block8_5_mixed[0][0]']         \n",
      "                                                                                                  \n",
      " custom_scale_layer_114 (Custom  (None, 1, 1, 2080)  0           ['block8_4_ac[0][0]',            \n",
      " ScaleLayer)                                                      'block8_5_conv[0][0]']          \n",
      "                                                                                                  \n",
      " block8_5_ac (Activation)       (None, 1, 1, 2080)   0           ['custom_scale_layer_114[0][0]'] \n",
      "                                                                                                  \n",
      " conv2d_590 (Conv2D)            (None, 1, 1, 192)    399360      ['block8_5_ac[0][0]']            \n",
      "                                                                                                  \n",
      " batch_normalization_590 (Batch  (None, 1, 1, 192)   576         ['conv2d_590[0][0]']             \n",
      " Normalization)                                                                                   \n",
      "                                                                                                  \n",
      " activation_590 (Activation)    (None, 1, 1, 192)    0           ['batch_normalization_590[0][0]']\n",
      "                                                                                                  \n",
      " conv2d_591 (Conv2D)            (None, 1, 1, 224)    129024      ['activation_590[0][0]']         \n",
      "                                                                                                  \n",
      " batch_normalization_591 (Batch  (None, 1, 1, 224)   672         ['conv2d_591[0][0]']             \n",
      " Normalization)                                                                                   \n",
      "                                                                                                  \n",
      " activation_591 (Activation)    (None, 1, 1, 224)    0           ['batch_normalization_591[0][0]']\n",
      "                                                                                                  \n",
      " conv2d_589 (Conv2D)            (None, 1, 1, 192)    399360      ['block8_5_ac[0][0]']            \n",
      "                                                                                                  \n",
      " conv2d_592 (Conv2D)            (None, 1, 1, 256)    172032      ['activation_591[0][0]']         \n",
      "                                                                                                  \n",
      " batch_normalization_589 (Batch  (None, 1, 1, 192)   576         ['conv2d_589[0][0]']             \n",
      " Normalization)                                                                                   \n",
      "                                                                                                  \n",
      " batch_normalization_592 (Batch  (None, 1, 1, 256)   768         ['conv2d_592[0][0]']             \n",
      " Normalization)                                                                                   \n",
      "                                                                                                  \n",
      " activation_589 (Activation)    (None, 1, 1, 192)    0           ['batch_normalization_589[0][0]']\n",
      "                                                                                                  \n",
      " activation_592 (Activation)    (None, 1, 1, 256)    0           ['batch_normalization_592[0][0]']\n",
      "                                                                                                  \n",
      " block8_6_mixed (Concatenate)   (None, 1, 1, 448)    0           ['activation_589[0][0]',         \n",
      "                                                                  'activation_592[0][0]']         \n",
      "                                                                                                  \n",
      " block8_6_conv (Conv2D)         (None, 1, 1, 2080)   933920      ['block8_6_mixed[0][0]']         \n",
      "                                                                                                  \n",
      " custom_scale_layer_115 (Custom  (None, 1, 1, 2080)  0           ['block8_5_ac[0][0]',            \n",
      " ScaleLayer)                                                      'block8_6_conv[0][0]']          \n",
      "                                                                                                  \n",
      " block8_6_ac (Activation)       (None, 1, 1, 2080)   0           ['custom_scale_layer_115[0][0]'] \n",
      "                                                                                                  \n",
      " conv2d_594 (Conv2D)            (None, 1, 1, 192)    399360      ['block8_6_ac[0][0]']            \n",
      "                                                                                                  \n",
      " batch_normalization_594 (Batch  (None, 1, 1, 192)   576         ['conv2d_594[0][0]']             \n",
      " Normalization)                                                                                   \n",
      "                                                                                                  \n",
      " activation_594 (Activation)    (None, 1, 1, 192)    0           ['batch_normalization_594[0][0]']\n",
      "                                                                                                  \n",
      " conv2d_595 (Conv2D)            (None, 1, 1, 224)    129024      ['activation_594[0][0]']         \n",
      "                                                                                                  \n",
      " batch_normalization_595 (Batch  (None, 1, 1, 224)   672         ['conv2d_595[0][0]']             \n",
      " Normalization)                                                                                   \n",
      "                                                                                                  \n",
      " activation_595 (Activation)    (None, 1, 1, 224)    0           ['batch_normalization_595[0][0]']\n",
      "                                                                                                  \n",
      " conv2d_593 (Conv2D)            (None, 1, 1, 192)    399360      ['block8_6_ac[0][0]']            \n",
      "                                                                                                  \n",
      " conv2d_596 (Conv2D)            (None, 1, 1, 256)    172032      ['activation_595[0][0]']         \n",
      "                                                                                                  \n",
      " batch_normalization_593 (Batch  (None, 1, 1, 192)   576         ['conv2d_593[0][0]']             \n",
      " Normalization)                                                                                   \n",
      "                                                                                                  \n",
      " batch_normalization_596 (Batch  (None, 1, 1, 256)   768         ['conv2d_596[0][0]']             \n",
      " Normalization)                                                                                   \n",
      "                                                                                                  \n",
      " activation_593 (Activation)    (None, 1, 1, 192)    0           ['batch_normalization_593[0][0]']\n",
      "                                                                                                  \n",
      " activation_596 (Activation)    (None, 1, 1, 256)    0           ['batch_normalization_596[0][0]']\n",
      "                                                                                                  \n",
      " block8_7_mixed (Concatenate)   (None, 1, 1, 448)    0           ['activation_593[0][0]',         \n",
      "                                                                  'activation_596[0][0]']         \n",
      "                                                                                                  \n",
      " block8_7_conv (Conv2D)         (None, 1, 1, 2080)   933920      ['block8_7_mixed[0][0]']         \n"
     ]
    },
    {
     "name": "stdout",
     "output_type": "stream",
     "text": [
      "                                                                                                  \n",
      " custom_scale_layer_116 (Custom  (None, 1, 1, 2080)  0           ['block8_6_ac[0][0]',            \n",
      " ScaleLayer)                                                      'block8_7_conv[0][0]']          \n",
      "                                                                                                  \n",
      " block8_7_ac (Activation)       (None, 1, 1, 2080)   0           ['custom_scale_layer_116[0][0]'] \n",
      "                                                                                                  \n",
      " conv2d_598 (Conv2D)            (None, 1, 1, 192)    399360      ['block8_7_ac[0][0]']            \n",
      "                                                                                                  \n",
      " batch_normalization_598 (Batch  (None, 1, 1, 192)   576         ['conv2d_598[0][0]']             \n",
      " Normalization)                                                                                   \n",
      "                                                                                                  \n",
      " activation_598 (Activation)    (None, 1, 1, 192)    0           ['batch_normalization_598[0][0]']\n",
      "                                                                                                  \n",
      " conv2d_599 (Conv2D)            (None, 1, 1, 224)    129024      ['activation_598[0][0]']         \n",
      "                                                                                                  \n",
      " batch_normalization_599 (Batch  (None, 1, 1, 224)   672         ['conv2d_599[0][0]']             \n",
      " Normalization)                                                                                   \n",
      "                                                                                                  \n",
      " activation_599 (Activation)    (None, 1, 1, 224)    0           ['batch_normalization_599[0][0]']\n",
      "                                                                                                  \n",
      " conv2d_597 (Conv2D)            (None, 1, 1, 192)    399360      ['block8_7_ac[0][0]']            \n",
      "                                                                                                  \n",
      " conv2d_600 (Conv2D)            (None, 1, 1, 256)    172032      ['activation_599[0][0]']         \n",
      "                                                                                                  \n",
      " batch_normalization_597 (Batch  (None, 1, 1, 192)   576         ['conv2d_597[0][0]']             \n",
      " Normalization)                                                                                   \n",
      "                                                                                                  \n",
      " batch_normalization_600 (Batch  (None, 1, 1, 256)   768         ['conv2d_600[0][0]']             \n",
      " Normalization)                                                                                   \n",
      "                                                                                                  \n",
      " activation_597 (Activation)    (None, 1, 1, 192)    0           ['batch_normalization_597[0][0]']\n",
      "                                                                                                  \n",
      " activation_600 (Activation)    (None, 1, 1, 256)    0           ['batch_normalization_600[0][0]']\n",
      "                                                                                                  \n",
      " block8_8_mixed (Concatenate)   (None, 1, 1, 448)    0           ['activation_597[0][0]',         \n",
      "                                                                  'activation_600[0][0]']         \n",
      "                                                                                                  \n",
      " block8_8_conv (Conv2D)         (None, 1, 1, 2080)   933920      ['block8_8_mixed[0][0]']         \n",
      "                                                                                                  \n",
      " custom_scale_layer_117 (Custom  (None, 1, 1, 2080)  0           ['block8_7_ac[0][0]',            \n",
      " ScaleLayer)                                                      'block8_8_conv[0][0]']          \n",
      "                                                                                                  \n",
      " block8_8_ac (Activation)       (None, 1, 1, 2080)   0           ['custom_scale_layer_117[0][0]'] \n",
      "                                                                                                  \n",
      " conv2d_602 (Conv2D)            (None, 1, 1, 192)    399360      ['block8_8_ac[0][0]']            \n",
      "                                                                                                  \n",
      " batch_normalization_602 (Batch  (None, 1, 1, 192)   576         ['conv2d_602[0][0]']             \n",
      " Normalization)                                                                                   \n",
      "                                                                                                  \n",
      " activation_602 (Activation)    (None, 1, 1, 192)    0           ['batch_normalization_602[0][0]']\n",
      "                                                                                                  \n",
      " conv2d_603 (Conv2D)            (None, 1, 1, 224)    129024      ['activation_602[0][0]']         \n",
      "                                                                                                  \n",
      " batch_normalization_603 (Batch  (None, 1, 1, 224)   672         ['conv2d_603[0][0]']             \n",
      " Normalization)                                                                                   \n",
      "                                                                                                  \n",
      " activation_603 (Activation)    (None, 1, 1, 224)    0           ['batch_normalization_603[0][0]']\n",
      "                                                                                                  \n",
      " conv2d_601 (Conv2D)            (None, 1, 1, 192)    399360      ['block8_8_ac[0][0]']            \n",
      "                                                                                                  \n",
      " conv2d_604 (Conv2D)            (None, 1, 1, 256)    172032      ['activation_603[0][0]']         \n",
      "                                                                                                  \n",
      " batch_normalization_601 (Batch  (None, 1, 1, 192)   576         ['conv2d_601[0][0]']             \n",
      " Normalization)                                                                                   \n",
      "                                                                                                  \n",
      " batch_normalization_604 (Batch  (None, 1, 1, 256)   768         ['conv2d_604[0][0]']             \n",
      " Normalization)                                                                                   \n",
      "                                                                                                  \n",
      " activation_601 (Activation)    (None, 1, 1, 192)    0           ['batch_normalization_601[0][0]']\n",
      "                                                                                                  \n",
      " activation_604 (Activation)    (None, 1, 1, 256)    0           ['batch_normalization_604[0][0]']\n",
      "                                                                                                  \n",
      " block8_9_mixed (Concatenate)   (None, 1, 1, 448)    0           ['activation_601[0][0]',         \n",
      "                                                                  'activation_604[0][0]']         \n",
      "                                                                                                  \n",
      " block8_9_conv (Conv2D)         (None, 1, 1, 2080)   933920      ['block8_9_mixed[0][0]']         \n",
      "                                                                                                  \n",
      " custom_scale_layer_118 (Custom  (None, 1, 1, 2080)  0           ['block8_8_ac[0][0]',            \n",
      " ScaleLayer)                                                      'block8_9_conv[0][0]']          \n",
      "                                                                                                  \n",
      " block8_9_ac (Activation)       (None, 1, 1, 2080)   0           ['custom_scale_layer_118[0][0]'] \n",
      "                                                                                                  \n",
      " conv2d_606 (Conv2D)            (None, 1, 1, 192)    399360      ['block8_9_ac[0][0]']            \n"
     ]
    },
    {
     "name": "stdout",
     "output_type": "stream",
     "text": [
      "                                                                                                  \n",
      " batch_normalization_606 (Batch  (None, 1, 1, 192)   576         ['conv2d_606[0][0]']             \n",
      " Normalization)                                                                                   \n",
      "                                                                                                  \n",
      " activation_606 (Activation)    (None, 1, 1, 192)    0           ['batch_normalization_606[0][0]']\n",
      "                                                                                                  \n",
      " conv2d_607 (Conv2D)            (None, 1, 1, 224)    129024      ['activation_606[0][0]']         \n",
      "                                                                                                  \n",
      " batch_normalization_607 (Batch  (None, 1, 1, 224)   672         ['conv2d_607[0][0]']             \n",
      " Normalization)                                                                                   \n",
      "                                                                                                  \n",
      " activation_607 (Activation)    (None, 1, 1, 224)    0           ['batch_normalization_607[0][0]']\n",
      "                                                                                                  \n",
      " conv2d_605 (Conv2D)            (None, 1, 1, 192)    399360      ['block8_9_ac[0][0]']            \n",
      "                                                                                                  \n",
      " conv2d_608 (Conv2D)            (None, 1, 1, 256)    172032      ['activation_607[0][0]']         \n",
      "                                                                                                  \n",
      " batch_normalization_605 (Batch  (None, 1, 1, 192)   576         ['conv2d_605[0][0]']             \n",
      " Normalization)                                                                                   \n",
      "                                                                                                  \n",
      " batch_normalization_608 (Batch  (None, 1, 1, 256)   768         ['conv2d_608[0][0]']             \n",
      " Normalization)                                                                                   \n",
      "                                                                                                  \n",
      " activation_605 (Activation)    (None, 1, 1, 192)    0           ['batch_normalization_605[0][0]']\n",
      "                                                                                                  \n",
      " activation_608 (Activation)    (None, 1, 1, 256)    0           ['batch_normalization_608[0][0]']\n",
      "                                                                                                  \n",
      " block8_10_mixed (Concatenate)  (None, 1, 1, 448)    0           ['activation_605[0][0]',         \n",
      "                                                                  'activation_608[0][0]']         \n",
      "                                                                                                  \n",
      " block8_10_conv (Conv2D)        (None, 1, 1, 2080)   933920      ['block8_10_mixed[0][0]']        \n",
      "                                                                                                  \n",
      " custom_scale_layer_119 (Custom  (None, 1, 1, 2080)  0           ['block8_9_ac[0][0]',            \n",
      " ScaleLayer)                                                      'block8_10_conv[0][0]']         \n",
      "                                                                                                  \n",
      " conv_7b (Conv2D)               (None, 1, 1, 1536)   3194880     ['custom_scale_layer_119[0][0]'] \n",
      "                                                                                                  \n",
      " conv_7b_bn (BatchNormalization  (None, 1, 1, 1536)  4608        ['conv_7b[0][0]']                \n",
      " )                                                                                                \n",
      "                                                                                                  \n",
      " flatten_2 (Flatten)            (None, 1536)         0           ['conv_7b_bn[0][0]']             \n",
      "                                                                                                  \n",
      " dense_4 (Dense)                (None, 64)           98368       ['flatten_2[0][0]']              \n",
      "                                                                                                  \n",
      " dense_5 (Dense)                (None, 64)           4160        ['dense_4[0][0]']                \n",
      "                                                                                                  \n",
      "==================================================================================================\n",
      "Total params: 54,439,264\n",
      "Trainable params: 54,378,720\n",
      "Non-trainable params: 60,544\n",
      "__________________________________________________________________________________________________\n"
     ]
    }
   ],
   "source": [
    "new_model.compile(loss='categorical_crossentropy',\n",
    "                  optimizer=keras.optimizers.Adam(lr=1e-5),\n",
    "                  metrics=['accuracy'])\n",
    "\n",
    "# Freezing the weights\n",
    "for layer in base_model.layers[-20:]:\n",
    "    layer.trainable = True\n",
    "    \n",
    "new_model.summary()"
   ]
  },
  {
   "cell_type": "code",
   "execution_count": 20,
   "id": "3624b0c0",
   "metadata": {},
   "outputs": [
    {
     "name": "stderr",
     "output_type": "stream",
     "text": [
      "WARNING:absl:`lr` is deprecated in Keras optimizer, please use `learning_rate` or use the legacy optimizer, e.g.,tf.keras.optimizers.legacy.Adam.\n",
      "2023-05-13 13:14:00.199903: I tensorflow/core/common_runtime/executor.cc:1197] [/device:CPU:0] (DEBUG INFO) Executor start aborting (this does not indicate an error and you can ignore this message): INVALID_ARGUMENT: You must feed a value for placeholder tensor 'Placeholder/_0' with dtype int32\n",
      "\t [[{{node Placeholder/_0}}]]\n"
     ]
    },
    {
     "name": "stdout",
     "output_type": "stream",
     "text": [
      "Epoch 1/100\n",
      "4/4 [==============================] - ETA: 0s - loss: 0.7281 - f1_score: 0.0234  WARNING:tensorflow:Early stopping conditioned on metric `F1Score(name=f1_score,dtype=float32,num_classes=64,average=macro,threshold=None)` which is not available. Available metrics are: loss,f1_score\n"
     ]
    },
    {
     "name": "stderr",
     "output_type": "stream",
     "text": [
      "WARNING:tensorflow:Early stopping conditioned on metric `F1Score(name=f1_score,dtype=float32,num_classes=64,average=macro,threshold=None)` which is not available. Available metrics are: loss,f1_score\n"
     ]
    },
    {
     "name": "stdout",
     "output_type": "stream",
     "text": [
      "4/4 [==============================] - 28s 465ms/step - loss: 0.7281 - f1_score: 0.0234\n",
      "Epoch 2/100\n",
      "4/4 [==============================] - ETA: 0s - loss: 0.5613 - f1_score: 0.0000e+00WARNING:tensorflow:Early stopping conditioned on metric `F1Score(name=f1_score,dtype=float32,num_classes=64,average=macro,threshold=None)` which is not available. Available metrics are: loss,f1_score\n"
     ]
    },
    {
     "name": "stderr",
     "output_type": "stream",
     "text": [
      "WARNING:tensorflow:Early stopping conditioned on metric `F1Score(name=f1_score,dtype=float32,num_classes=64,average=macro,threshold=None)` which is not available. Available metrics are: loss,f1_score\n"
     ]
    },
    {
     "name": "stdout",
     "output_type": "stream",
     "text": [
      "4/4 [==============================] - 1s 357ms/step - loss: 0.5613 - f1_score: 0.0000e+00\n",
      "Epoch 3/100\n",
      "4/4 [==============================] - ETA: 0s - loss: 0.3618 - f1_score: 0.0297WARNING:tensorflow:Early stopping conditioned on metric `F1Score(name=f1_score,dtype=float32,num_classes=64,average=macro,threshold=None)` which is not available. Available metrics are: loss,f1_score\n"
     ]
    },
    {
     "name": "stderr",
     "output_type": "stream",
     "text": [
      "WARNING:tensorflow:Early stopping conditioned on metric `F1Score(name=f1_score,dtype=float32,num_classes=64,average=macro,threshold=None)` which is not available. Available metrics are: loss,f1_score\n"
     ]
    },
    {
     "name": "stdout",
     "output_type": "stream",
     "text": [
      "4/4 [==============================] - 1s 356ms/step - loss: 0.3618 - f1_score: 0.0297\n",
      "Epoch 4/100\n",
      "4/4 [==============================] - ETA: 0s - loss: 0.2310 - f1_score: 0.0365WARNING:tensorflow:Early stopping conditioned on metric `F1Score(name=f1_score,dtype=float32,num_classes=64,average=macro,threshold=None)` which is not available. Available metrics are: loss,f1_score\n"
     ]
    },
    {
     "name": "stderr",
     "output_type": "stream",
     "text": [
      "WARNING:tensorflow:Early stopping conditioned on metric `F1Score(name=f1_score,dtype=float32,num_classes=64,average=macro,threshold=None)` which is not available. Available metrics are: loss,f1_score\n"
     ]
    },
    {
     "name": "stdout",
     "output_type": "stream",
     "text": [
      "4/4 [==============================] - 1s 356ms/step - loss: 0.2310 - f1_score: 0.0365\n",
      "Epoch 5/100\n",
      "4/4 [==============================] - ETA: 0s - loss: 0.1441 - f1_score: 0.0322WARNING:tensorflow:Early stopping conditioned on metric `F1Score(name=f1_score,dtype=float32,num_classes=64,average=macro,threshold=None)` which is not available. Available metrics are: loss,f1_score\n"
     ]
    },
    {
     "name": "stderr",
     "output_type": "stream",
     "text": [
      "WARNING:tensorflow:Early stopping conditioned on metric `F1Score(name=f1_score,dtype=float32,num_classes=64,average=macro,threshold=None)` which is not available. Available metrics are: loss,f1_score\n"
     ]
    },
    {
     "name": "stdout",
     "output_type": "stream",
     "text": [
      "4/4 [==============================] - 1s 365ms/step - loss: 0.1441 - f1_score: 0.0322\n",
      "Epoch 6/100\n",
      "4/4 [==============================] - ETA: 0s - loss: 0.1211 - f1_score: 0.0087  WARNING:tensorflow:Early stopping conditioned on metric `F1Score(name=f1_score,dtype=float32,num_classes=64,average=macro,threshold=None)` which is not available. Available metrics are: loss,f1_score\n"
     ]
    },
    {
     "name": "stderr",
     "output_type": "stream",
     "text": [
      "WARNING:tensorflow:Early stopping conditioned on metric `F1Score(name=f1_score,dtype=float32,num_classes=64,average=macro,threshold=None)` which is not available. Available metrics are: loss,f1_score\n"
     ]
    },
    {
     "name": "stdout",
     "output_type": "stream",
     "text": [
      "4/4 [==============================] - 1s 370ms/step - loss: 0.1211 - f1_score: 0.0087\n",
      "Epoch 7/100\n",
      "4/4 [==============================] - ETA: 0s - loss: 0.1010 - f1_score: 0.0211WARNING:tensorflow:Early stopping conditioned on metric `F1Score(name=f1_score,dtype=float32,num_classes=64,average=macro,threshold=None)` which is not available. Available metrics are: loss,f1_score\n"
     ]
    },
    {
     "name": "stderr",
     "output_type": "stream",
     "text": [
      "WARNING:tensorflow:Early stopping conditioned on metric `F1Score(name=f1_score,dtype=float32,num_classes=64,average=macro,threshold=None)` which is not available. Available metrics are: loss,f1_score\n"
     ]
    },
    {
     "name": "stdout",
     "output_type": "stream",
     "text": [
      "4/4 [==============================] - 2s 367ms/step - loss: 0.1010 - f1_score: 0.0211\n",
      "Epoch 8/100\n",
      "4/4 [==============================] - ETA: 0s - loss: 0.1012 - f1_score: 0.0000e+00WARNING:tensorflow:Early stopping conditioned on metric `F1Score(name=f1_score,dtype=float32,num_classes=64,average=macro,threshold=None)` which is not available. Available metrics are: loss,f1_score\n"
     ]
    },
    {
     "name": "stderr",
     "output_type": "stream",
     "text": [
      "WARNING:tensorflow:Early stopping conditioned on metric `F1Score(name=f1_score,dtype=float32,num_classes=64,average=macro,threshold=None)` which is not available. Available metrics are: loss,f1_score\n"
     ]
    },
    {
     "name": "stdout",
     "output_type": "stream",
     "text": [
      "4/4 [==============================] - 2s 365ms/step - loss: 0.1012 - f1_score: 0.0000e+00\n",
      "Epoch 9/100\n",
      "4/4 [==============================] - ETA: 0s - loss: 0.0929 - f1_score: 0.0123WARNING:tensorflow:Early stopping conditioned on metric `F1Score(name=f1_score,dtype=float32,num_classes=64,average=macro,threshold=None)` which is not available. Available metrics are: loss,f1_score\n"
     ]
    },
    {
     "name": "stderr",
     "output_type": "stream",
     "text": [
      "WARNING:tensorflow:Early stopping conditioned on metric `F1Score(name=f1_score,dtype=float32,num_classes=64,average=macro,threshold=None)` which is not available. Available metrics are: loss,f1_score\n"
     ]
    },
    {
     "name": "stdout",
     "output_type": "stream",
     "text": [
      "4/4 [==============================] - 2s 367ms/step - loss: 0.0929 - f1_score: 0.0123\n",
      "Epoch 10/100\n",
      "4/4 [==============================] - ETA: 0s - loss: 0.0981 - f1_score: 0.0123    WARNING:tensorflow:Early stopping conditioned on metric `F1Score(name=f1_score,dtype=float32,num_classes=64,average=macro,threshold=None)` which is not available. Available metrics are: loss,f1_score\n"
     ]
    },
    {
     "name": "stderr",
     "output_type": "stream",
     "text": [
      "WARNING:tensorflow:Early stopping conditioned on metric `F1Score(name=f1_score,dtype=float32,num_classes=64,average=macro,threshold=None)` which is not available. Available metrics are: loss,f1_score\n"
     ]
    },
    {
     "name": "stdout",
     "output_type": "stream",
     "text": [
      "4/4 [==============================] - 1s 367ms/step - loss: 0.0981 - f1_score: 0.0123\n",
      "Epoch 11/100\n",
      "4/4 [==============================] - ETA: 0s - loss: 0.0905 - f1_score: 0.0574WARNING:tensorflow:Early stopping conditioned on metric `F1Score(name=f1_score,dtype=float32,num_classes=64,average=macro,threshold=None)` which is not available. Available metrics are: loss,f1_score\n"
     ]
    },
    {
     "name": "stderr",
     "output_type": "stream",
     "text": [
      "WARNING:tensorflow:Early stopping conditioned on metric `F1Score(name=f1_score,dtype=float32,num_classes=64,average=macro,threshold=None)` which is not available. Available metrics are: loss,f1_score\n"
     ]
    },
    {
     "name": "stdout",
     "output_type": "stream",
     "text": [
      "4/4 [==============================] - 1s 369ms/step - loss: 0.0905 - f1_score: 0.0574\n",
      "Epoch 12/100\n",
      "4/4 [==============================] - ETA: 0s - loss: 0.0852 - f1_score: 0.0223WARNING:tensorflow:Early stopping conditioned on metric `F1Score(name=f1_score,dtype=float32,num_classes=64,average=macro,threshold=None)` which is not available. Available metrics are: loss,f1_score\n"
     ]
    },
    {
     "name": "stderr",
     "output_type": "stream",
     "text": [
      "WARNING:tensorflow:Early stopping conditioned on metric `F1Score(name=f1_score,dtype=float32,num_classes=64,average=macro,threshold=None)` which is not available. Available metrics are: loss,f1_score\n"
     ]
    },
    {
     "name": "stdout",
     "output_type": "stream",
     "text": [
      "4/4 [==============================] - 2s 373ms/step - loss: 0.0852 - f1_score: 0.0223\n",
      "Epoch 13/100\n",
      "4/4 [==============================] - ETA: 0s - loss: 0.0825 - f1_score: 0.1190WARNING:tensorflow:Early stopping conditioned on metric `F1Score(name=f1_score,dtype=float32,num_classes=64,average=macro,threshold=None)` which is not available. Available metrics are: loss,f1_score\n"
     ]
    },
    {
     "name": "stderr",
     "output_type": "stream",
     "text": [
      "WARNING:tensorflow:Early stopping conditioned on metric `F1Score(name=f1_score,dtype=float32,num_classes=64,average=macro,threshold=None)` which is not available. Available metrics are: loss,f1_score\n"
     ]
    },
    {
     "name": "stdout",
     "output_type": "stream",
     "text": [
      "4/4 [==============================] - 2s 377ms/step - loss: 0.0825 - f1_score: 0.1190\n",
      "Epoch 14/100\n",
      "4/4 [==============================] - ETA: 0s - loss: 0.0886 - f1_score: 0.1193WARNING:tensorflow:Early stopping conditioned on metric `F1Score(name=f1_score,dtype=float32,num_classes=64,average=macro,threshold=None)` which is not available. Available metrics are: loss,f1_score\n"
     ]
    },
    {
     "name": "stderr",
     "output_type": "stream",
     "text": [
      "WARNING:tensorflow:Early stopping conditioned on metric `F1Score(name=f1_score,dtype=float32,num_classes=64,average=macro,threshold=None)` which is not available. Available metrics are: loss,f1_score\n"
     ]
    },
    {
     "name": "stdout",
     "output_type": "stream",
     "text": [
      "4/4 [==============================] - 2s 372ms/step - loss: 0.0886 - f1_score: 0.1193\n",
      "Epoch 15/100\n",
      "4/4 [==============================] - ETA: 0s - loss: 0.0911 - f1_score: 0.0732WARNING:tensorflow:Early stopping conditioned on metric `F1Score(name=f1_score,dtype=float32,num_classes=64,average=macro,threshold=None)` which is not available. Available metrics are: loss,f1_score\n"
     ]
    },
    {
     "name": "stderr",
     "output_type": "stream",
     "text": [
      "WARNING:tensorflow:Early stopping conditioned on metric `F1Score(name=f1_score,dtype=float32,num_classes=64,average=macro,threshold=None)` which is not available. Available metrics are: loss,f1_score\n"
     ]
    },
    {
     "name": "stdout",
     "output_type": "stream",
     "text": [
      "4/4 [==============================] - 2s 373ms/step - loss: 0.0911 - f1_score: 0.0732\n",
      "Epoch 16/100\n",
      "4/4 [==============================] - ETA: 0s - loss: 0.0826 - f1_score: 0.1138WARNING:tensorflow:Early stopping conditioned on metric `F1Score(name=f1_score,dtype=float32,num_classes=64,average=macro,threshold=None)` which is not available. Available metrics are: loss,f1_score\n"
     ]
    },
    {
     "name": "stderr",
     "output_type": "stream",
     "text": [
      "WARNING:tensorflow:Early stopping conditioned on metric `F1Score(name=f1_score,dtype=float32,num_classes=64,average=macro,threshold=None)` which is not available. Available metrics are: loss,f1_score\n"
     ]
    },
    {
     "name": "stdout",
     "output_type": "stream",
     "text": [
      "4/4 [==============================] - 1s 367ms/step - loss: 0.0826 - f1_score: 0.1138\n",
      "Epoch 17/100\n",
      "4/4 [==============================] - ETA: 0s - loss: 0.0802 - f1_score: 0.1487WARNING:tensorflow:Early stopping conditioned on metric `F1Score(name=f1_score,dtype=float32,num_classes=64,average=macro,threshold=None)` which is not available. Available metrics are: loss,f1_score\n"
     ]
    },
    {
     "name": "stderr",
     "output_type": "stream",
     "text": [
      "WARNING:tensorflow:Early stopping conditioned on metric `F1Score(name=f1_score,dtype=float32,num_classes=64,average=macro,threshold=None)` which is not available. Available metrics are: loss,f1_score\n"
     ]
    },
    {
     "name": "stdout",
     "output_type": "stream",
     "text": [
      "4/4 [==============================] - 2s 371ms/step - loss: 0.0802 - f1_score: 0.1487\n",
      "Epoch 18/100\n",
      "4/4 [==============================] - ETA: 0s - loss: 0.0811 - f1_score: 0.1157WARNING:tensorflow:Early stopping conditioned on metric `F1Score(name=f1_score,dtype=float32,num_classes=64,average=macro,threshold=None)` which is not available. Available metrics are: loss,f1_score\n"
     ]
    },
    {
     "name": "stderr",
     "output_type": "stream",
     "text": [
      "WARNING:tensorflow:Early stopping conditioned on metric `F1Score(name=f1_score,dtype=float32,num_classes=64,average=macro,threshold=None)` which is not available. Available metrics are: loss,f1_score\n"
     ]
    },
    {
     "name": "stdout",
     "output_type": "stream",
     "text": [
      "4/4 [==============================] - 2s 370ms/step - loss: 0.0811 - f1_score: 0.1157\n",
      "Epoch 19/100\n",
      "4/4 [==============================] - ETA: 0s - loss: 0.0749 - f1_score: 0.1371WARNING:tensorflow:Early stopping conditioned on metric `F1Score(name=f1_score,dtype=float32,num_classes=64,average=macro,threshold=None)` which is not available. Available metrics are: loss,f1_score\n"
     ]
    },
    {
     "name": "stderr",
     "output_type": "stream",
     "text": [
      "WARNING:tensorflow:Early stopping conditioned on metric `F1Score(name=f1_score,dtype=float32,num_classes=64,average=macro,threshold=None)` which is not available. Available metrics are: loss,f1_score\n"
     ]
    },
    {
     "name": "stdout",
     "output_type": "stream",
     "text": [
      "4/4 [==============================] - 2s 368ms/step - loss: 0.0749 - f1_score: 0.1371\n",
      "Epoch 20/100\n",
      "4/4 [==============================] - ETA: 0s - loss: 0.0661 - f1_score: 0.2763WARNING:tensorflow:Early stopping conditioned on metric `F1Score(name=f1_score,dtype=float32,num_classes=64,average=macro,threshold=None)` which is not available. Available metrics are: loss,f1_score\n"
     ]
    },
    {
     "name": "stderr",
     "output_type": "stream",
     "text": [
      "WARNING:tensorflow:Early stopping conditioned on metric `F1Score(name=f1_score,dtype=float32,num_classes=64,average=macro,threshold=None)` which is not available. Available metrics are: loss,f1_score\n"
     ]
    },
    {
     "name": "stdout",
     "output_type": "stream",
     "text": [
      "4/4 [==============================] - 2s 372ms/step - loss: 0.0661 - f1_score: 0.2763\n",
      "Epoch 21/100\n",
      "4/4 [==============================] - ETA: 0s - loss: 0.0690 - f1_score: 0.2940WARNING:tensorflow:Early stopping conditioned on metric `F1Score(name=f1_score,dtype=float32,num_classes=64,average=macro,threshold=None)` which is not available. Available metrics are: loss,f1_score\n"
     ]
    },
    {
     "name": "stderr",
     "output_type": "stream",
     "text": [
      "WARNING:tensorflow:Early stopping conditioned on metric `F1Score(name=f1_score,dtype=float32,num_classes=64,average=macro,threshold=None)` which is not available. Available metrics are: loss,f1_score\n"
     ]
    },
    {
     "name": "stdout",
     "output_type": "stream",
     "text": [
      "4/4 [==============================] - 2s 367ms/step - loss: 0.0690 - f1_score: 0.2940\n",
      "Epoch 22/100\n",
      "4/4 [==============================] - ETA: 0s - loss: 0.0693 - f1_score: 0.4323WARNING:tensorflow:Early stopping conditioned on metric `F1Score(name=f1_score,dtype=float32,num_classes=64,average=macro,threshold=None)` which is not available. Available metrics are: loss,f1_score\n"
     ]
    },
    {
     "name": "stderr",
     "output_type": "stream",
     "text": [
      "WARNING:tensorflow:Early stopping conditioned on metric `F1Score(name=f1_score,dtype=float32,num_classes=64,average=macro,threshold=None)` which is not available. Available metrics are: loss,f1_score\n"
     ]
    },
    {
     "name": "stdout",
     "output_type": "stream",
     "text": [
      "4/4 [==============================] - 2s 373ms/step - loss: 0.0693 - f1_score: 0.4323\n",
      "Epoch 23/100\n",
      "4/4 [==============================] - ETA: 0s - loss: 0.0588 - f1_score: 0.3474WARNING:tensorflow:Early stopping conditioned on metric `F1Score(name=f1_score,dtype=float32,num_classes=64,average=macro,threshold=None)` which is not available. Available metrics are: loss,f1_score\n"
     ]
    },
    {
     "name": "stderr",
     "output_type": "stream",
     "text": [
      "WARNING:tensorflow:Early stopping conditioned on metric `F1Score(name=f1_score,dtype=float32,num_classes=64,average=macro,threshold=None)` which is not available. Available metrics are: loss,f1_score\n"
     ]
    },
    {
     "name": "stdout",
     "output_type": "stream",
     "text": [
      "4/4 [==============================] - 2s 379ms/step - loss: 0.0588 - f1_score: 0.3474\n",
      "Epoch 24/100\n",
      "4/4 [==============================] - ETA: 0s - loss: 0.0612 - f1_score: 0.3682WARNING:tensorflow:Early stopping conditioned on metric `F1Score(name=f1_score,dtype=float32,num_classes=64,average=macro,threshold=None)` which is not available. Available metrics are: loss,f1_score\n"
     ]
    },
    {
     "name": "stderr",
     "output_type": "stream",
     "text": [
      "WARNING:tensorflow:Early stopping conditioned on metric `F1Score(name=f1_score,dtype=float32,num_classes=64,average=macro,threshold=None)` which is not available. Available metrics are: loss,f1_score\n"
     ]
    },
    {
     "name": "stdout",
     "output_type": "stream",
     "text": [
      "4/4 [==============================] - 2s 383ms/step - loss: 0.0612 - f1_score: 0.3682\n",
      "Epoch 25/100\n",
      "4/4 [==============================] - ETA: 0s - loss: 0.0607 - f1_score: 0.3943WARNING:tensorflow:Early stopping conditioned on metric `F1Score(name=f1_score,dtype=float32,num_classes=64,average=macro,threshold=None)` which is not available. Available metrics are: loss,f1_score\n"
     ]
    },
    {
     "name": "stderr",
     "output_type": "stream",
     "text": [
      "WARNING:tensorflow:Early stopping conditioned on metric `F1Score(name=f1_score,dtype=float32,num_classes=64,average=macro,threshold=None)` which is not available. Available metrics are: loss,f1_score\n"
     ]
    },
    {
     "name": "stdout",
     "output_type": "stream",
     "text": [
      "4/4 [==============================] - 2s 480ms/step - loss: 0.0607 - f1_score: 0.3943\n",
      "Epoch 26/100\n",
      "4/4 [==============================] - ETA: 0s - loss: 0.0565 - f1_score: 0.4368WARNING:tensorflow:Early stopping conditioned on metric `F1Score(name=f1_score,dtype=float32,num_classes=64,average=macro,threshold=None)` which is not available. Available metrics are: loss,f1_score\n"
     ]
    },
    {
     "name": "stderr",
     "output_type": "stream",
     "text": [
      "WARNING:tensorflow:Early stopping conditioned on metric `F1Score(name=f1_score,dtype=float32,num_classes=64,average=macro,threshold=None)` which is not available. Available metrics are: loss,f1_score\n"
     ]
    },
    {
     "name": "stdout",
     "output_type": "stream",
     "text": [
      "4/4 [==============================] - 2s 385ms/step - loss: 0.0565 - f1_score: 0.4368\n",
      "Epoch 27/100\n",
      "4/4 [==============================] - ETA: 0s - loss: 0.0513 - f1_score: 0.5195WARNING:tensorflow:Early stopping conditioned on metric `F1Score(name=f1_score,dtype=float32,num_classes=64,average=macro,threshold=None)` which is not available. Available metrics are: loss,f1_score\n"
     ]
    },
    {
     "name": "stderr",
     "output_type": "stream",
     "text": [
      "WARNING:tensorflow:Early stopping conditioned on metric `F1Score(name=f1_score,dtype=float32,num_classes=64,average=macro,threshold=None)` which is not available. Available metrics are: loss,f1_score\n"
     ]
    },
    {
     "name": "stdout",
     "output_type": "stream",
     "text": [
      "4/4 [==============================] - 2s 371ms/step - loss: 0.0513 - f1_score: 0.5195\n",
      "Epoch 28/100\n",
      "4/4 [==============================] - ETA: 0s - loss: 0.0466 - f1_score: 0.5547WARNING:tensorflow:Early stopping conditioned on metric `F1Score(name=f1_score,dtype=float32,num_classes=64,average=macro,threshold=None)` which is not available. Available metrics are: loss,f1_score\n"
     ]
    },
    {
     "name": "stderr",
     "output_type": "stream",
     "text": [
      "WARNING:tensorflow:Early stopping conditioned on metric `F1Score(name=f1_score,dtype=float32,num_classes=64,average=macro,threshold=None)` which is not available. Available metrics are: loss,f1_score\n"
     ]
    },
    {
     "name": "stdout",
     "output_type": "stream",
     "text": [
      "4/4 [==============================] - 2s 371ms/step - loss: 0.0466 - f1_score: 0.5547\n",
      "Epoch 29/100\n",
      "4/4 [==============================] - ETA: 0s - loss: 0.0458 - f1_score: 0.5634WARNING:tensorflow:Early stopping conditioned on metric `F1Score(name=f1_score,dtype=float32,num_classes=64,average=macro,threshold=None)` which is not available. Available metrics are: loss,f1_score\n"
     ]
    },
    {
     "name": "stderr",
     "output_type": "stream",
     "text": [
      "WARNING:tensorflow:Early stopping conditioned on metric `F1Score(name=f1_score,dtype=float32,num_classes=64,average=macro,threshold=None)` which is not available. Available metrics are: loss,f1_score\n"
     ]
    },
    {
     "name": "stdout",
     "output_type": "stream",
     "text": [
      "4/4 [==============================] - 2s 368ms/step - loss: 0.0458 - f1_score: 0.5634\n",
      "Epoch 30/100\n",
      "4/4 [==============================] - ETA: 0s - loss: 0.0398 - f1_score: 0.5938WARNING:tensorflow:Early stopping conditioned on metric `F1Score(name=f1_score,dtype=float32,num_classes=64,average=macro,threshold=None)` which is not available. Available metrics are: loss,f1_score\n"
     ]
    },
    {
     "name": "stderr",
     "output_type": "stream",
     "text": [
      "WARNING:tensorflow:Early stopping conditioned on metric `F1Score(name=f1_score,dtype=float32,num_classes=64,average=macro,threshold=None)` which is not available. Available metrics are: loss,f1_score\n"
     ]
    },
    {
     "name": "stdout",
     "output_type": "stream",
     "text": [
      "4/4 [==============================] - 2s 371ms/step - loss: 0.0398 - f1_score: 0.5938\n",
      "Epoch 31/100\n",
      "4/4 [==============================] - ETA: 0s - loss: 0.0363 - f1_score: 0.7344WARNING:tensorflow:Early stopping conditioned on metric `F1Score(name=f1_score,dtype=float32,num_classes=64,average=macro,threshold=None)` which is not available. Available metrics are: loss,f1_score\n"
     ]
    },
    {
     "name": "stderr",
     "output_type": "stream",
     "text": [
      "WARNING:tensorflow:Early stopping conditioned on metric `F1Score(name=f1_score,dtype=float32,num_classes=64,average=macro,threshold=None)` which is not available. Available metrics are: loss,f1_score\n"
     ]
    },
    {
     "name": "stdout",
     "output_type": "stream",
     "text": [
      "4/4 [==============================] - 2s 385ms/step - loss: 0.0363 - f1_score: 0.7344\n",
      "Epoch 32/100\n",
      "4/4 [==============================] - ETA: 0s - loss: 0.0300 - f1_score: 0.7370WARNING:tensorflow:Early stopping conditioned on metric `F1Score(name=f1_score,dtype=float32,num_classes=64,average=macro,threshold=None)` which is not available. Available metrics are: loss,f1_score\n"
     ]
    },
    {
     "name": "stderr",
     "output_type": "stream",
     "text": [
      "WARNING:tensorflow:Early stopping conditioned on metric `F1Score(name=f1_score,dtype=float32,num_classes=64,average=macro,threshold=None)` which is not available. Available metrics are: loss,f1_score\n"
     ]
    },
    {
     "name": "stdout",
     "output_type": "stream",
     "text": [
      "4/4 [==============================] - 2s 382ms/step - loss: 0.0300 - f1_score: 0.7370\n",
      "Epoch 33/100\n",
      "4/4 [==============================] - ETA: 0s - loss: 0.0320 - f1_score: 0.6755WARNING:tensorflow:Early stopping conditioned on metric `F1Score(name=f1_score,dtype=float32,num_classes=64,average=macro,threshold=None)` which is not available. Available metrics are: loss,f1_score\n"
     ]
    },
    {
     "name": "stderr",
     "output_type": "stream",
     "text": [
      "WARNING:tensorflow:Early stopping conditioned on metric `F1Score(name=f1_score,dtype=float32,num_classes=64,average=macro,threshold=None)` which is not available. Available metrics are: loss,f1_score\n"
     ]
    },
    {
     "name": "stdout",
     "output_type": "stream",
     "text": [
      "4/4 [==============================] - 2s 368ms/step - loss: 0.0320 - f1_score: 0.6755\n",
      "Epoch 34/100\n",
      "4/4 [==============================] - ETA: 0s - loss: 0.0349 - f1_score: 0.7042WARNING:tensorflow:Early stopping conditioned on metric `F1Score(name=f1_score,dtype=float32,num_classes=64,average=macro,threshold=None)` which is not available. Available metrics are: loss,f1_score\n"
     ]
    },
    {
     "name": "stderr",
     "output_type": "stream",
     "text": [
      "WARNING:tensorflow:Early stopping conditioned on metric `F1Score(name=f1_score,dtype=float32,num_classes=64,average=macro,threshold=None)` which is not available. Available metrics are: loss,f1_score\n"
     ]
    },
    {
     "name": "stdout",
     "output_type": "stream",
     "text": [
      "4/4 [==============================] - 2s 370ms/step - loss: 0.0349 - f1_score: 0.7042\n",
      "Epoch 35/100\n",
      "4/4 [==============================] - ETA: 0s - loss: 0.0270 - f1_score: 0.7734WARNING:tensorflow:Early stopping conditioned on metric `F1Score(name=f1_score,dtype=float32,num_classes=64,average=macro,threshold=None)` which is not available. Available metrics are: loss,f1_score\n"
     ]
    },
    {
     "name": "stderr",
     "output_type": "stream",
     "text": [
      "WARNING:tensorflow:Early stopping conditioned on metric `F1Score(name=f1_score,dtype=float32,num_classes=64,average=macro,threshold=None)` which is not available. Available metrics are: loss,f1_score\n"
     ]
    },
    {
     "name": "stdout",
     "output_type": "stream",
     "text": [
      "4/4 [==============================] - 2s 374ms/step - loss: 0.0270 - f1_score: 0.7734\n",
      "Epoch 36/100\n",
      "4/4 [==============================] - ETA: 0s - loss: 0.0362 - f1_score: 0.6203WARNING:tensorflow:Early stopping conditioned on metric `F1Score(name=f1_score,dtype=float32,num_classes=64,average=macro,threshold=None)` which is not available. Available metrics are: loss,f1_score\n"
     ]
    },
    {
     "name": "stderr",
     "output_type": "stream",
     "text": [
      "WARNING:tensorflow:Early stopping conditioned on metric `F1Score(name=f1_score,dtype=float32,num_classes=64,average=macro,threshold=None)` which is not available. Available metrics are: loss,f1_score\n"
     ]
    },
    {
     "name": "stdout",
     "output_type": "stream",
     "text": [
      "4/4 [==============================] - 2s 371ms/step - loss: 0.0362 - f1_score: 0.6203\n",
      "Epoch 37/100\n",
      "4/4 [==============================] - ETA: 0s - loss: 0.0258 - f1_score: 0.6927WARNING:tensorflow:Early stopping conditioned on metric `F1Score(name=f1_score,dtype=float32,num_classes=64,average=macro,threshold=None)` which is not available. Available metrics are: loss,f1_score\n"
     ]
    },
    {
     "name": "stderr",
     "output_type": "stream",
     "text": [
      "WARNING:tensorflow:Early stopping conditioned on metric `F1Score(name=f1_score,dtype=float32,num_classes=64,average=macro,threshold=None)` which is not available. Available metrics are: loss,f1_score\n"
     ]
    },
    {
     "name": "stdout",
     "output_type": "stream",
     "text": [
      "4/4 [==============================] - 2s 370ms/step - loss: 0.0258 - f1_score: 0.6927\n",
      "Epoch 38/100\n",
      "4/4 [==============================] - ETA: 0s - loss: 0.0252 - f1_score: 0.8255WARNING:tensorflow:Early stopping conditioned on metric `F1Score(name=f1_score,dtype=float32,num_classes=64,average=macro,threshold=None)` which is not available. Available metrics are: loss,f1_score\n"
     ]
    },
    {
     "name": "stderr",
     "output_type": "stream",
     "text": [
      "WARNING:tensorflow:Early stopping conditioned on metric `F1Score(name=f1_score,dtype=float32,num_classes=64,average=macro,threshold=None)` which is not available. Available metrics are: loss,f1_score\n"
     ]
    },
    {
     "name": "stdout",
     "output_type": "stream",
     "text": [
      "4/4 [==============================] - 2s 378ms/step - loss: 0.0252 - f1_score: 0.8255\n",
      "Epoch 39/100\n",
      "4/4 [==============================] - ETA: 0s - loss: 0.0230 - f1_score: 0.7656WARNING:tensorflow:Early stopping conditioned on metric `F1Score(name=f1_score,dtype=float32,num_classes=64,average=macro,threshold=None)` which is not available. Available metrics are: loss,f1_score\n"
     ]
    },
    {
     "name": "stderr",
     "output_type": "stream",
     "text": [
      "WARNING:tensorflow:Early stopping conditioned on metric `F1Score(name=f1_score,dtype=float32,num_classes=64,average=macro,threshold=None)` which is not available. Available metrics are: loss,f1_score\n"
     ]
    },
    {
     "name": "stdout",
     "output_type": "stream",
     "text": [
      "4/4 [==============================] - 2s 381ms/step - loss: 0.0230 - f1_score: 0.7656\n",
      "Epoch 40/100\n",
      "4/4 [==============================] - ETA: 0s - loss: 0.0232 - f1_score: 0.7901WARNING:tensorflow:Early stopping conditioned on metric `F1Score(name=f1_score,dtype=float32,num_classes=64,average=macro,threshold=None)` which is not available. Available metrics are: loss,f1_score\n"
     ]
    },
    {
     "name": "stderr",
     "output_type": "stream",
     "text": [
      "WARNING:tensorflow:Early stopping conditioned on metric `F1Score(name=f1_score,dtype=float32,num_classes=64,average=macro,threshold=None)` which is not available. Available metrics are: loss,f1_score\n"
     ]
    },
    {
     "name": "stdout",
     "output_type": "stream",
     "text": [
      "4/4 [==============================] - 2s 373ms/step - loss: 0.0232 - f1_score: 0.7901\n",
      "Epoch 41/100\n",
      "4/4 [==============================] - ETA: 0s - loss: 0.0202 - f1_score: 0.8411WARNING:tensorflow:Early stopping conditioned on metric `F1Score(name=f1_score,dtype=float32,num_classes=64,average=macro,threshold=None)` which is not available. Available metrics are: loss,f1_score\n"
     ]
    },
    {
     "name": "stderr",
     "output_type": "stream",
     "text": [
      "WARNING:tensorflow:Early stopping conditioned on metric `F1Score(name=f1_score,dtype=float32,num_classes=64,average=macro,threshold=None)` which is not available. Available metrics are: loss,f1_score\n"
     ]
    },
    {
     "name": "stdout",
     "output_type": "stream",
     "text": [
      "4/4 [==============================] - 2s 383ms/step - loss: 0.0202 - f1_score: 0.8411\n",
      "Epoch 42/100\n",
      "4/4 [==============================] - ETA: 0s - loss: 0.0202 - f1_score: 0.8135WARNING:tensorflow:Early stopping conditioned on metric `F1Score(name=f1_score,dtype=float32,num_classes=64,average=macro,threshold=None)` which is not available. Available metrics are: loss,f1_score\n"
     ]
    },
    {
     "name": "stderr",
     "output_type": "stream",
     "text": [
      "WARNING:tensorflow:Early stopping conditioned on metric `F1Score(name=f1_score,dtype=float32,num_classes=64,average=macro,threshold=None)` which is not available. Available metrics are: loss,f1_score\n"
     ]
    },
    {
     "name": "stdout",
     "output_type": "stream",
     "text": [
      "4/4 [==============================] - 2s 372ms/step - loss: 0.0202 - f1_score: 0.8135\n",
      "Epoch 43/100\n",
      "4/4 [==============================] - ETA: 0s - loss: 0.0129 - f1_score: 0.9010WARNING:tensorflow:Early stopping conditioned on metric `F1Score(name=f1_score,dtype=float32,num_classes=64,average=macro,threshold=None)` which is not available. Available metrics are: loss,f1_score\n"
     ]
    },
    {
     "name": "stderr",
     "output_type": "stream",
     "text": [
      "WARNING:tensorflow:Early stopping conditioned on metric `F1Score(name=f1_score,dtype=float32,num_classes=64,average=macro,threshold=None)` which is not available. Available metrics are: loss,f1_score\n"
     ]
    },
    {
     "name": "stdout",
     "output_type": "stream",
     "text": [
      "4/4 [==============================] - 2s 372ms/step - loss: 0.0129 - f1_score: 0.9010\n",
      "Epoch 44/100\n",
      "4/4 [==============================] - ETA: 0s - loss: 0.0160 - f1_score: 0.8620WARNING:tensorflow:Early stopping conditioned on metric `F1Score(name=f1_score,dtype=float32,num_classes=64,average=macro,threshold=None)` which is not available. Available metrics are: loss,f1_score\n"
     ]
    },
    {
     "name": "stderr",
     "output_type": "stream",
     "text": [
      "WARNING:tensorflow:Early stopping conditioned on metric `F1Score(name=f1_score,dtype=float32,num_classes=64,average=macro,threshold=None)` which is not available. Available metrics are: loss,f1_score\n"
     ]
    },
    {
     "name": "stdout",
     "output_type": "stream",
     "text": [
      "4/4 [==============================] - 2s 375ms/step - loss: 0.0160 - f1_score: 0.8620\n",
      "Epoch 45/100\n",
      "4/4 [==============================] - ETA: 0s - loss: 0.0133 - f1_score: 0.9193WARNING:tensorflow:Early stopping conditioned on metric `F1Score(name=f1_score,dtype=float32,num_classes=64,average=macro,threshold=None)` which is not available. Available metrics are: loss,f1_score\n"
     ]
    },
    {
     "name": "stderr",
     "output_type": "stream",
     "text": [
      "WARNING:tensorflow:Early stopping conditioned on metric `F1Score(name=f1_score,dtype=float32,num_classes=64,average=macro,threshold=None)` which is not available. Available metrics are: loss,f1_score\n"
     ]
    },
    {
     "name": "stdout",
     "output_type": "stream",
     "text": [
      "4/4 [==============================] - 2s 374ms/step - loss: 0.0133 - f1_score: 0.9193\n",
      "Epoch 46/100\n",
      "4/4 [==============================] - ETA: 0s - loss: 0.0129 - f1_score: 0.9021WARNING:tensorflow:Early stopping conditioned on metric `F1Score(name=f1_score,dtype=float32,num_classes=64,average=macro,threshold=None)` which is not available. Available metrics are: loss,f1_score\n"
     ]
    },
    {
     "name": "stderr",
     "output_type": "stream",
     "text": [
      "WARNING:tensorflow:Early stopping conditioned on metric `F1Score(name=f1_score,dtype=float32,num_classes=64,average=macro,threshold=None)` which is not available. Available metrics are: loss,f1_score\n"
     ]
    },
    {
     "name": "stdout",
     "output_type": "stream",
     "text": [
      "4/4 [==============================] - 2s 379ms/step - loss: 0.0129 - f1_score: 0.9021\n",
      "Epoch 47/100\n",
      "4/4 [==============================] - ETA: 0s - loss: 0.0099 - f1_score: 0.9219WARNING:tensorflow:Early stopping conditioned on metric `F1Score(name=f1_score,dtype=float32,num_classes=64,average=macro,threshold=None)` which is not available. Available metrics are: loss,f1_score\n"
     ]
    },
    {
     "name": "stderr",
     "output_type": "stream",
     "text": [
      "WARNING:tensorflow:Early stopping conditioned on metric `F1Score(name=f1_score,dtype=float32,num_classes=64,average=macro,threshold=None)` which is not available. Available metrics are: loss,f1_score\n"
     ]
    },
    {
     "name": "stdout",
     "output_type": "stream",
     "text": [
      "4/4 [==============================] - 2s 377ms/step - loss: 0.0099 - f1_score: 0.9219\n",
      "Epoch 48/100\n",
      "4/4 [==============================] - ETA: 0s - loss: 0.0089 - f1_score: 0.9167WARNING:tensorflow:Early stopping conditioned on metric `F1Score(name=f1_score,dtype=float32,num_classes=64,average=macro,threshold=None)` which is not available. Available metrics are: loss,f1_score\n"
     ]
    },
    {
     "name": "stderr",
     "output_type": "stream",
     "text": [
      "WARNING:tensorflow:Early stopping conditioned on metric `F1Score(name=f1_score,dtype=float32,num_classes=64,average=macro,threshold=None)` which is not available. Available metrics are: loss,f1_score\n"
     ]
    },
    {
     "name": "stdout",
     "output_type": "stream",
     "text": [
      "4/4 [==============================] - 2s 377ms/step - loss: 0.0089 - f1_score: 0.9167\n",
      "Epoch 49/100\n",
      "4/4 [==============================] - ETA: 0s - loss: 0.0077 - f1_score: 0.9792WARNING:tensorflow:Early stopping conditioned on metric `F1Score(name=f1_score,dtype=float32,num_classes=64,average=macro,threshold=None)` which is not available. Available metrics are: loss,f1_score\n"
     ]
    },
    {
     "name": "stderr",
     "output_type": "stream",
     "text": [
      "WARNING:tensorflow:Early stopping conditioned on metric `F1Score(name=f1_score,dtype=float32,num_classes=64,average=macro,threshold=None)` which is not available. Available metrics are: loss,f1_score\n"
     ]
    },
    {
     "name": "stdout",
     "output_type": "stream",
     "text": [
      "4/4 [==============================] - 2s 455ms/step - loss: 0.0077 - f1_score: 0.9792\n",
      "Epoch 50/100\n",
      "4/4 [==============================] - ETA: 0s - loss: 0.0075 - f1_score: 1.0000WARNING:tensorflow:Early stopping conditioned on metric `F1Score(name=f1_score,dtype=float32,num_classes=64,average=macro,threshold=None)` which is not available. Available metrics are: loss,f1_score\n"
     ]
    },
    {
     "name": "stderr",
     "output_type": "stream",
     "text": [
      "WARNING:tensorflow:Early stopping conditioned on metric `F1Score(name=f1_score,dtype=float32,num_classes=64,average=macro,threshold=None)` which is not available. Available metrics are: loss,f1_score\n"
     ]
    },
    {
     "name": "stdout",
     "output_type": "stream",
     "text": [
      "4/4 [==============================] - 2s 373ms/step - loss: 0.0075 - f1_score: 1.0000\n",
      "Epoch 51/100\n",
      "4/4 [==============================] - ETA: 0s - loss: 0.0087 - f1_score: 0.9375WARNING:tensorflow:Early stopping conditioned on metric `F1Score(name=f1_score,dtype=float32,num_classes=64,average=macro,threshold=None)` which is not available. Available metrics are: loss,f1_score\n"
     ]
    },
    {
     "name": "stderr",
     "output_type": "stream",
     "text": [
      "WARNING:tensorflow:Early stopping conditioned on metric `F1Score(name=f1_score,dtype=float32,num_classes=64,average=macro,threshold=None)` which is not available. Available metrics are: loss,f1_score\n"
     ]
    },
    {
     "name": "stdout",
     "output_type": "stream",
     "text": [
      "4/4 [==============================] - 2s 386ms/step - loss: 0.0087 - f1_score: 0.9375\n",
      "Epoch 52/100\n",
      "4/4 [==============================] - ETA: 0s - loss: 0.0066 - f1_score: 0.9635WARNING:tensorflow:Early stopping conditioned on metric `F1Score(name=f1_score,dtype=float32,num_classes=64,average=macro,threshold=None)` which is not available. Available metrics are: loss,f1_score\n"
     ]
    },
    {
     "name": "stderr",
     "output_type": "stream",
     "text": [
      "WARNING:tensorflow:Early stopping conditioned on metric `F1Score(name=f1_score,dtype=float32,num_classes=64,average=macro,threshold=None)` which is not available. Available metrics are: loss,f1_score\n"
     ]
    },
    {
     "name": "stdout",
     "output_type": "stream",
     "text": [
      "4/4 [==============================] - 2s 374ms/step - loss: 0.0066 - f1_score: 0.9635\n",
      "Epoch 53/100\n",
      "4/4 [==============================] - ETA: 0s - loss: 0.0060 - f1_score: 0.9583WARNING:tensorflow:Early stopping conditioned on metric `F1Score(name=f1_score,dtype=float32,num_classes=64,average=macro,threshold=None)` which is not available. Available metrics are: loss,f1_score\n"
     ]
    },
    {
     "name": "stderr",
     "output_type": "stream",
     "text": [
      "WARNING:tensorflow:Early stopping conditioned on metric `F1Score(name=f1_score,dtype=float32,num_classes=64,average=macro,threshold=None)` which is not available. Available metrics are: loss,f1_score\n"
     ]
    },
    {
     "name": "stdout",
     "output_type": "stream",
     "text": [
      "4/4 [==============================] - 2s 374ms/step - loss: 0.0060 - f1_score: 0.9583\n",
      "Epoch 54/100\n",
      "4/4 [==============================] - ETA: 0s - loss: 0.0049 - f1_score: 1.0000WARNING:tensorflow:Early stopping conditioned on metric `F1Score(name=f1_score,dtype=float32,num_classes=64,average=macro,threshold=None)` which is not available. Available metrics are: loss,f1_score\n"
     ]
    },
    {
     "name": "stderr",
     "output_type": "stream",
     "text": [
      "WARNING:tensorflow:Early stopping conditioned on metric `F1Score(name=f1_score,dtype=float32,num_classes=64,average=macro,threshold=None)` which is not available. Available metrics are: loss,f1_score\n"
     ]
    },
    {
     "name": "stdout",
     "output_type": "stream",
     "text": [
      "4/4 [==============================] - 2s 392ms/step - loss: 0.0049 - f1_score: 1.0000\n",
      "Epoch 55/100\n",
      "4/4 [==============================] - ETA: 0s - loss: 0.0051 - f1_score: 0.9583WARNING:tensorflow:Early stopping conditioned on metric `F1Score(name=f1_score,dtype=float32,num_classes=64,average=macro,threshold=None)` which is not available. Available metrics are: loss,f1_score\n"
     ]
    },
    {
     "name": "stderr",
     "output_type": "stream",
     "text": [
      "WARNING:tensorflow:Early stopping conditioned on metric `F1Score(name=f1_score,dtype=float32,num_classes=64,average=macro,threshold=None)` which is not available. Available metrics are: loss,f1_score\n"
     ]
    },
    {
     "name": "stdout",
     "output_type": "stream",
     "text": [
      "4/4 [==============================] - 2s 380ms/step - loss: 0.0051 - f1_score: 0.9583\n",
      "Epoch 56/100\n",
      "4/4 [==============================] - ETA: 0s - loss: 0.0052 - f1_score: 0.9792WARNING:tensorflow:Early stopping conditioned on metric `F1Score(name=f1_score,dtype=float32,num_classes=64,average=macro,threshold=None)` which is not available. Available metrics are: loss,f1_score\n"
     ]
    },
    {
     "name": "stderr",
     "output_type": "stream",
     "text": [
      "WARNING:tensorflow:Early stopping conditioned on metric `F1Score(name=f1_score,dtype=float32,num_classes=64,average=macro,threshold=None)` which is not available. Available metrics are: loss,f1_score\n"
     ]
    },
    {
     "name": "stdout",
     "output_type": "stream",
     "text": [
      "4/4 [==============================] - 2s 374ms/step - loss: 0.0052 - f1_score: 0.9792\n",
      "Epoch 57/100\n",
      "4/4 [==============================] - ETA: 0s - loss: 0.0057 - f1_score: 0.9583WARNING:tensorflow:Early stopping conditioned on metric `F1Score(name=f1_score,dtype=float32,num_classes=64,average=macro,threshold=None)` which is not available. Available metrics are: loss,f1_score\n"
     ]
    },
    {
     "name": "stderr",
     "output_type": "stream",
     "text": [
      "WARNING:tensorflow:Early stopping conditioned on metric `F1Score(name=f1_score,dtype=float32,num_classes=64,average=macro,threshold=None)` which is not available. Available metrics are: loss,f1_score\n"
     ]
    },
    {
     "name": "stdout",
     "output_type": "stream",
     "text": [
      "4/4 [==============================] - 2s 374ms/step - loss: 0.0057 - f1_score: 0.9583\n",
      "Epoch 58/100\n",
      "4/4 [==============================] - ETA: 0s - loss: 0.0043 - f1_score: 0.9792WARNING:tensorflow:Early stopping conditioned on metric `F1Score(name=f1_score,dtype=float32,num_classes=64,average=macro,threshold=None)` which is not available. Available metrics are: loss,f1_score\n"
     ]
    },
    {
     "name": "stderr",
     "output_type": "stream",
     "text": [
      "WARNING:tensorflow:Early stopping conditioned on metric `F1Score(name=f1_score,dtype=float32,num_classes=64,average=macro,threshold=None)` which is not available. Available metrics are: loss,f1_score\n"
     ]
    },
    {
     "name": "stdout",
     "output_type": "stream",
     "text": [
      "4/4 [==============================] - 2s 377ms/step - loss: 0.0043 - f1_score: 0.9792\n",
      "Epoch 59/100\n",
      "4/4 [==============================] - ETA: 0s - loss: 0.0030 - f1_score: 1.0000WARNING:tensorflow:Early stopping conditioned on metric `F1Score(name=f1_score,dtype=float32,num_classes=64,average=macro,threshold=None)` which is not available. Available metrics are: loss,f1_score\n"
     ]
    },
    {
     "name": "stderr",
     "output_type": "stream",
     "text": [
      "WARNING:tensorflow:Early stopping conditioned on metric `F1Score(name=f1_score,dtype=float32,num_classes=64,average=macro,threshold=None)` which is not available. Available metrics are: loss,f1_score\n"
     ]
    },
    {
     "name": "stdout",
     "output_type": "stream",
     "text": [
      "4/4 [==============================] - 2s 374ms/step - loss: 0.0030 - f1_score: 1.0000\n",
      "Epoch 60/100\n",
      "4/4 [==============================] - ETA: 0s - loss: 0.0031 - f1_score: 0.9792WARNING:tensorflow:Early stopping conditioned on metric `F1Score(name=f1_score,dtype=float32,num_classes=64,average=macro,threshold=None)` which is not available. Available metrics are: loss,f1_score\n"
     ]
    },
    {
     "name": "stderr",
     "output_type": "stream",
     "text": [
      "WARNING:tensorflow:Early stopping conditioned on metric `F1Score(name=f1_score,dtype=float32,num_classes=64,average=macro,threshold=None)` which is not available. Available metrics are: loss,f1_score\n"
     ]
    },
    {
     "name": "stdout",
     "output_type": "stream",
     "text": [
      "4/4 [==============================] - 2s 377ms/step - loss: 0.0031 - f1_score: 0.9792\n",
      "Epoch 61/100\n",
      "4/4 [==============================] - ETA: 0s - loss: 0.0028 - f1_score: 1.0000WARNING:tensorflow:Early stopping conditioned on metric `F1Score(name=f1_score,dtype=float32,num_classes=64,average=macro,threshold=None)` which is not available. Available metrics are: loss,f1_score\n"
     ]
    },
    {
     "name": "stderr",
     "output_type": "stream",
     "text": [
      "WARNING:tensorflow:Early stopping conditioned on metric `F1Score(name=f1_score,dtype=float32,num_classes=64,average=macro,threshold=None)` which is not available. Available metrics are: loss,f1_score\n"
     ]
    },
    {
     "name": "stdout",
     "output_type": "stream",
     "text": [
      "4/4 [==============================] - 2s 370ms/step - loss: 0.0028 - f1_score: 1.0000\n",
      "Epoch 62/100\n",
      "4/4 [==============================] - ETA: 0s - loss: 0.0028 - f1_score: 0.9792WARNING:tensorflow:Early stopping conditioned on metric `F1Score(name=f1_score,dtype=float32,num_classes=64,average=macro,threshold=None)` which is not available. Available metrics are: loss,f1_score\n"
     ]
    },
    {
     "name": "stderr",
     "output_type": "stream",
     "text": [
      "WARNING:tensorflow:Early stopping conditioned on metric `F1Score(name=f1_score,dtype=float32,num_classes=64,average=macro,threshold=None)` which is not available. Available metrics are: loss,f1_score\n"
     ]
    },
    {
     "name": "stdout",
     "output_type": "stream",
     "text": [
      "4/4 [==============================] - 2s 372ms/step - loss: 0.0028 - f1_score: 0.9792\n",
      "Epoch 63/100\n",
      "4/4 [==============================] - ETA: 0s - loss: 0.0035 - f1_score: 0.9792WARNING:tensorflow:Early stopping conditioned on metric `F1Score(name=f1_score,dtype=float32,num_classes=64,average=macro,threshold=None)` which is not available. Available metrics are: loss,f1_score\n"
     ]
    },
    {
     "name": "stderr",
     "output_type": "stream",
     "text": [
      "WARNING:tensorflow:Early stopping conditioned on metric `F1Score(name=f1_score,dtype=float32,num_classes=64,average=macro,threshold=None)` which is not available. Available metrics are: loss,f1_score\n"
     ]
    },
    {
     "name": "stdout",
     "output_type": "stream",
     "text": [
      "4/4 [==============================] - 2s 374ms/step - loss: 0.0035 - f1_score: 0.9792\n",
      "Epoch 64/100\n",
      "4/4 [==============================] - ETA: 0s - loss: 0.0020 - f1_score: 1.0000WARNING:tensorflow:Early stopping conditioned on metric `F1Score(name=f1_score,dtype=float32,num_classes=64,average=macro,threshold=None)` which is not available. Available metrics are: loss,f1_score\n"
     ]
    },
    {
     "name": "stderr",
     "output_type": "stream",
     "text": [
      "WARNING:tensorflow:Early stopping conditioned on metric `F1Score(name=f1_score,dtype=float32,num_classes=64,average=macro,threshold=None)` which is not available. Available metrics are: loss,f1_score\n"
     ]
    },
    {
     "name": "stdout",
     "output_type": "stream",
     "text": [
      "4/4 [==============================] - 2s 390ms/step - loss: 0.0020 - f1_score: 1.0000\n",
      "Epoch 65/100\n",
      "4/4 [==============================] - ETA: 0s - loss: 0.0026 - f1_score: 1.0000WARNING:tensorflow:Early stopping conditioned on metric `F1Score(name=f1_score,dtype=float32,num_classes=64,average=macro,threshold=None)` which is not available. Available metrics are: loss,f1_score\n"
     ]
    },
    {
     "name": "stderr",
     "output_type": "stream",
     "text": [
      "WARNING:tensorflow:Early stopping conditioned on metric `F1Score(name=f1_score,dtype=float32,num_classes=64,average=macro,threshold=None)` which is not available. Available metrics are: loss,f1_score\n"
     ]
    },
    {
     "name": "stdout",
     "output_type": "stream",
     "text": [
      "4/4 [==============================] - 2s 375ms/step - loss: 0.0026 - f1_score: 1.0000\n",
      "Epoch 66/100\n",
      "4/4 [==============================] - ETA: 0s - loss: 0.0018 - f1_score: 1.0000WARNING:tensorflow:Early stopping conditioned on metric `F1Score(name=f1_score,dtype=float32,num_classes=64,average=macro,threshold=None)` which is not available. Available metrics are: loss,f1_score\n"
     ]
    },
    {
     "name": "stderr",
     "output_type": "stream",
     "text": [
      "WARNING:tensorflow:Early stopping conditioned on metric `F1Score(name=f1_score,dtype=float32,num_classes=64,average=macro,threshold=None)` which is not available. Available metrics are: loss,f1_score\n"
     ]
    },
    {
     "name": "stdout",
     "output_type": "stream",
     "text": [
      "4/4 [==============================] - 2s 369ms/step - loss: 0.0018 - f1_score: 1.0000\n",
      "Epoch 67/100\n",
      "4/4 [==============================] - ETA: 0s - loss: 0.0020 - f1_score: 1.0000WARNING:tensorflow:Early stopping conditioned on metric `F1Score(name=f1_score,dtype=float32,num_classes=64,average=macro,threshold=None)` which is not available. Available metrics are: loss,f1_score\n"
     ]
    },
    {
     "name": "stderr",
     "output_type": "stream",
     "text": [
      "WARNING:tensorflow:Early stopping conditioned on metric `F1Score(name=f1_score,dtype=float32,num_classes=64,average=macro,threshold=None)` which is not available. Available metrics are: loss,f1_score\n"
     ]
    },
    {
     "name": "stdout",
     "output_type": "stream",
     "text": [
      "4/4 [==============================] - 2s 380ms/step - loss: 0.0020 - f1_score: 1.0000\n",
      "Epoch 68/100\n",
      "4/4 [==============================] - ETA: 0s - loss: 0.0020 - f1_score: 1.0000WARNING:tensorflow:Early stopping conditioned on metric `F1Score(name=f1_score,dtype=float32,num_classes=64,average=macro,threshold=None)` which is not available. Available metrics are: loss,f1_score\n"
     ]
    },
    {
     "name": "stderr",
     "output_type": "stream",
     "text": [
      "WARNING:tensorflow:Early stopping conditioned on metric `F1Score(name=f1_score,dtype=float32,num_classes=64,average=macro,threshold=None)` which is not available. Available metrics are: loss,f1_score\n"
     ]
    },
    {
     "name": "stdout",
     "output_type": "stream",
     "text": [
      "4/4 [==============================] - 2s 374ms/step - loss: 0.0020 - f1_score: 1.0000\n",
      "Epoch 69/100\n",
      "4/4 [==============================] - ETA: 0s - loss: 0.0016 - f1_score: 1.0000WARNING:tensorflow:Early stopping conditioned on metric `F1Score(name=f1_score,dtype=float32,num_classes=64,average=macro,threshold=None)` which is not available. Available metrics are: loss,f1_score\n"
     ]
    },
    {
     "name": "stderr",
     "output_type": "stream",
     "text": [
      "WARNING:tensorflow:Early stopping conditioned on metric `F1Score(name=f1_score,dtype=float32,num_classes=64,average=macro,threshold=None)` which is not available. Available metrics are: loss,f1_score\n"
     ]
    },
    {
     "name": "stdout",
     "output_type": "stream",
     "text": [
      "4/4 [==============================] - 2s 376ms/step - loss: 0.0016 - f1_score: 1.0000\n",
      "Epoch 70/100\n",
      "4/4 [==============================] - ETA: 0s - loss: 0.0020 - f1_score: 1.0000WARNING:tensorflow:Early stopping conditioned on metric `F1Score(name=f1_score,dtype=float32,num_classes=64,average=macro,threshold=None)` which is not available. Available metrics are: loss,f1_score\n"
     ]
    },
    {
     "name": "stderr",
     "output_type": "stream",
     "text": [
      "WARNING:tensorflow:Early stopping conditioned on metric `F1Score(name=f1_score,dtype=float32,num_classes=64,average=macro,threshold=None)` which is not available. Available metrics are: loss,f1_score\n"
     ]
    },
    {
     "name": "stdout",
     "output_type": "stream",
     "text": [
      "4/4 [==============================] - 2s 370ms/step - loss: 0.0020 - f1_score: 1.0000\n",
      "Epoch 71/100\n",
      "4/4 [==============================] - ETA: 0s - loss: 0.0021 - f1_score: 1.0000WARNING:tensorflow:Early stopping conditioned on metric `F1Score(name=f1_score,dtype=float32,num_classes=64,average=macro,threshold=None)` which is not available. Available metrics are: loss,f1_score\n"
     ]
    },
    {
     "name": "stderr",
     "output_type": "stream",
     "text": [
      "WARNING:tensorflow:Early stopping conditioned on metric `F1Score(name=f1_score,dtype=float32,num_classes=64,average=macro,threshold=None)` which is not available. Available metrics are: loss,f1_score\n"
     ]
    },
    {
     "name": "stdout",
     "output_type": "stream",
     "text": [
      "4/4 [==============================] - 2s 377ms/step - loss: 0.0021 - f1_score: 1.0000\n",
      "Epoch 72/100\n",
      "4/4 [==============================] - ETA: 0s - loss: 0.0015 - f1_score: 1.0000WARNING:tensorflow:Early stopping conditioned on metric `F1Score(name=f1_score,dtype=float32,num_classes=64,average=macro,threshold=None)` which is not available. Available metrics are: loss,f1_score\n"
     ]
    },
    {
     "name": "stderr",
     "output_type": "stream",
     "text": [
      "WARNING:tensorflow:Early stopping conditioned on metric `F1Score(name=f1_score,dtype=float32,num_classes=64,average=macro,threshold=None)` which is not available. Available metrics are: loss,f1_score\n"
     ]
    },
    {
     "name": "stdout",
     "output_type": "stream",
     "text": [
      "4/4 [==============================] - 2s 376ms/step - loss: 0.0015 - f1_score: 1.0000\n",
      "Epoch 73/100\n",
      "4/4 [==============================] - ETA: 0s - loss: 0.0012 - f1_score: 1.0000WARNING:tensorflow:Early stopping conditioned on metric `F1Score(name=f1_score,dtype=float32,num_classes=64,average=macro,threshold=None)` which is not available. Available metrics are: loss,f1_score\n"
     ]
    },
    {
     "name": "stderr",
     "output_type": "stream",
     "text": [
      "WARNING:tensorflow:Early stopping conditioned on metric `F1Score(name=f1_score,dtype=float32,num_classes=64,average=macro,threshold=None)` which is not available. Available metrics are: loss,f1_score\n"
     ]
    },
    {
     "name": "stdout",
     "output_type": "stream",
     "text": [
      "4/4 [==============================] - 2s 376ms/step - loss: 0.0012 - f1_score: 1.0000\n",
      "Epoch 74/100\n",
      "4/4 [==============================] - ETA: 0s - loss: 0.0017 - f1_score: 0.9792WARNING:tensorflow:Early stopping conditioned on metric `F1Score(name=f1_score,dtype=float32,num_classes=64,average=macro,threshold=None)` which is not available. Available metrics are: loss,f1_score\n"
     ]
    },
    {
     "name": "stderr",
     "output_type": "stream",
     "text": [
      "WARNING:tensorflow:Early stopping conditioned on metric `F1Score(name=f1_score,dtype=float32,num_classes=64,average=macro,threshold=None)` which is not available. Available metrics are: loss,f1_score\n"
     ]
    },
    {
     "name": "stdout",
     "output_type": "stream",
     "text": [
      "4/4 [==============================] - 2s 374ms/step - loss: 0.0017 - f1_score: 0.9792\n",
      "Epoch 75/100\n",
      "4/4 [==============================] - ETA: 0s - loss: 0.0012 - f1_score: 1.0000WARNING:tensorflow:Early stopping conditioned on metric `F1Score(name=f1_score,dtype=float32,num_classes=64,average=macro,threshold=None)` which is not available. Available metrics are: loss,f1_score\n"
     ]
    },
    {
     "name": "stderr",
     "output_type": "stream",
     "text": [
      "WARNING:tensorflow:Early stopping conditioned on metric `F1Score(name=f1_score,dtype=float32,num_classes=64,average=macro,threshold=None)` which is not available. Available metrics are: loss,f1_score\n"
     ]
    },
    {
     "name": "stdout",
     "output_type": "stream",
     "text": [
      "4/4 [==============================] - 2s 588ms/step - loss: 0.0012 - f1_score: 1.0000\n",
      "Epoch 76/100\n",
      "4/4 [==============================] - ETA: 0s - loss: 0.0012 - f1_score: 1.0000WARNING:tensorflow:Early stopping conditioned on metric `F1Score(name=f1_score,dtype=float32,num_classes=64,average=macro,threshold=None)` which is not available. Available metrics are: loss,f1_score\n"
     ]
    },
    {
     "name": "stderr",
     "output_type": "stream",
     "text": [
      "WARNING:tensorflow:Early stopping conditioned on metric `F1Score(name=f1_score,dtype=float32,num_classes=64,average=macro,threshold=None)` which is not available. Available metrics are: loss,f1_score\n"
     ]
    },
    {
     "name": "stdout",
     "output_type": "stream",
     "text": [
      "4/4 [==============================] - 3s 848ms/step - loss: 0.0012 - f1_score: 1.0000\n",
      "Epoch 77/100\n",
      "4/4 [==============================] - ETA: 0s - loss: 0.0011 - f1_score: 1.0000    WARNING:tensorflow:Early stopping conditioned on metric `F1Score(name=f1_score,dtype=float32,num_classes=64,average=macro,threshold=None)` which is not available. Available metrics are: loss,f1_score\n"
     ]
    },
    {
     "name": "stderr",
     "output_type": "stream",
     "text": [
      "WARNING:tensorflow:Early stopping conditioned on metric `F1Score(name=f1_score,dtype=float32,num_classes=64,average=macro,threshold=None)` which is not available. Available metrics are: loss,f1_score\n"
     ]
    },
    {
     "name": "stdout",
     "output_type": "stream",
     "text": [
      "4/4 [==============================] - 3s 635ms/step - loss: 0.0011 - f1_score: 1.0000\n",
      "Epoch 78/100\n",
      "4/4 [==============================] - ETA: 0s - loss: 8.5551e-04 - f1_score: 1.0000WARNING:tensorflow:Early stopping conditioned on metric `F1Score(name=f1_score,dtype=float32,num_classes=64,average=macro,threshold=None)` which is not available. Available metrics are: loss,f1_score\n"
     ]
    },
    {
     "name": "stderr",
     "output_type": "stream",
     "text": [
      "WARNING:tensorflow:Early stopping conditioned on metric `F1Score(name=f1_score,dtype=float32,num_classes=64,average=macro,threshold=None)` which is not available. Available metrics are: loss,f1_score\n"
     ]
    },
    {
     "name": "stdout",
     "output_type": "stream",
     "text": [
      "4/4 [==============================] - 2s 593ms/step - loss: 8.5551e-04 - f1_score: 1.0000\n",
      "Epoch 79/100\n",
      "4/4 [==============================] - ETA: 0s - loss: 8.9795e-04 - f1_score: 1.0000WARNING:tensorflow:Early stopping conditioned on metric `F1Score(name=f1_score,dtype=float32,num_classes=64,average=macro,threshold=None)` which is not available. Available metrics are: loss,f1_score\n"
     ]
    },
    {
     "name": "stderr",
     "output_type": "stream",
     "text": [
      "WARNING:tensorflow:Early stopping conditioned on metric `F1Score(name=f1_score,dtype=float32,num_classes=64,average=macro,threshold=None)` which is not available. Available metrics are: loss,f1_score\n"
     ]
    },
    {
     "name": "stdout",
     "output_type": "stream",
     "text": [
      "4/4 [==============================] - 2s 568ms/step - loss: 8.9795e-04 - f1_score: 1.0000\n",
      "Epoch 80/100\n",
      "4/4 [==============================] - ETA: 0s - loss: 6.2325e-04 - f1_score: 1.0000WARNING:tensorflow:Early stopping conditioned on metric `F1Score(name=f1_score,dtype=float32,num_classes=64,average=macro,threshold=None)` which is not available. Available metrics are: loss,f1_score\n"
     ]
    },
    {
     "name": "stderr",
     "output_type": "stream",
     "text": [
      "WARNING:tensorflow:Early stopping conditioned on metric `F1Score(name=f1_score,dtype=float32,num_classes=64,average=macro,threshold=None)` which is not available. Available metrics are: loss,f1_score\n"
     ]
    },
    {
     "name": "stdout",
     "output_type": "stream",
     "text": [
      "4/4 [==============================] - 2s 574ms/step - loss: 6.2325e-04 - f1_score: 1.0000\n",
      "Epoch 81/100\n",
      "4/4 [==============================] - ETA: 0s - loss: 7.6373e-04 - f1_score: 1.0000WARNING:tensorflow:Early stopping conditioned on metric `F1Score(name=f1_score,dtype=float32,num_classes=64,average=macro,threshold=None)` which is not available. Available metrics are: loss,f1_score\n"
     ]
    },
    {
     "name": "stderr",
     "output_type": "stream",
     "text": [
      "WARNING:tensorflow:Early stopping conditioned on metric `F1Score(name=f1_score,dtype=float32,num_classes=64,average=macro,threshold=None)` which is not available. Available metrics are: loss,f1_score\n"
     ]
    },
    {
     "name": "stdout",
     "output_type": "stream",
     "text": [
      "4/4 [==============================] - 2s 567ms/step - loss: 7.6373e-04 - f1_score: 1.0000\n",
      "Epoch 82/100\n",
      "4/4 [==============================] - ETA: 0s - loss: 7.2652e-04 - f1_score: 1.0000WARNING:tensorflow:Early stopping conditioned on metric `F1Score(name=f1_score,dtype=float32,num_classes=64,average=macro,threshold=None)` which is not available. Available metrics are: loss,f1_score\n"
     ]
    },
    {
     "name": "stderr",
     "output_type": "stream",
     "text": [
      "WARNING:tensorflow:Early stopping conditioned on metric `F1Score(name=f1_score,dtype=float32,num_classes=64,average=macro,threshold=None)` which is not available. Available metrics are: loss,f1_score\n"
     ]
    },
    {
     "name": "stdout",
     "output_type": "stream",
     "text": [
      "4/4 [==============================] - 2s 555ms/step - loss: 7.2652e-04 - f1_score: 1.0000\n",
      "Epoch 83/100\n",
      "4/4 [==============================] - ETA: 0s - loss: 6.6162e-04 - f1_score: 1.0000WARNING:tensorflow:Early stopping conditioned on metric `F1Score(name=f1_score,dtype=float32,num_classes=64,average=macro,threshold=None)` which is not available. Available metrics are: loss,f1_score\n"
     ]
    },
    {
     "name": "stderr",
     "output_type": "stream",
     "text": [
      "WARNING:tensorflow:Early stopping conditioned on metric `F1Score(name=f1_score,dtype=float32,num_classes=64,average=macro,threshold=None)` which is not available. Available metrics are: loss,f1_score\n"
     ]
    },
    {
     "name": "stdout",
     "output_type": "stream",
     "text": [
      "4/4 [==============================] - 2s 553ms/step - loss: 6.6162e-04 - f1_score: 1.0000\n",
      "Epoch 84/100\n",
      "4/4 [==============================] - ETA: 0s - loss: 6.8322e-04 - f1_score: 1.0000WARNING:tensorflow:Early stopping conditioned on metric `F1Score(name=f1_score,dtype=float32,num_classes=64,average=macro,threshold=None)` which is not available. Available metrics are: loss,f1_score\n"
     ]
    },
    {
     "name": "stderr",
     "output_type": "stream",
     "text": [
      "WARNING:tensorflow:Early stopping conditioned on metric `F1Score(name=f1_score,dtype=float32,num_classes=64,average=macro,threshold=None)` which is not available. Available metrics are: loss,f1_score\n"
     ]
    },
    {
     "name": "stdout",
     "output_type": "stream",
     "text": [
      "4/4 [==============================] - 2s 559ms/step - loss: 6.8322e-04 - f1_score: 1.0000\n",
      "Epoch 85/100\n",
      "4/4 [==============================] - ETA: 0s - loss: 7.1591e-04 - f1_score: 1.0000WARNING:tensorflow:Early stopping conditioned on metric `F1Score(name=f1_score,dtype=float32,num_classes=64,average=macro,threshold=None)` which is not available. Available metrics are: loss,f1_score\n"
     ]
    },
    {
     "name": "stderr",
     "output_type": "stream",
     "text": [
      "WARNING:tensorflow:Early stopping conditioned on metric `F1Score(name=f1_score,dtype=float32,num_classes=64,average=macro,threshold=None)` which is not available. Available metrics are: loss,f1_score\n"
     ]
    },
    {
     "name": "stdout",
     "output_type": "stream",
     "text": [
      "4/4 [==============================] - 2s 554ms/step - loss: 7.1591e-04 - f1_score: 1.0000\n",
      "Epoch 86/100\n",
      "4/4 [==============================] - ETA: 0s - loss: 6.4323e-04 - f1_score: 1.0000WARNING:tensorflow:Early stopping conditioned on metric `F1Score(name=f1_score,dtype=float32,num_classes=64,average=macro,threshold=None)` which is not available. Available metrics are: loss,f1_score\n"
     ]
    },
    {
     "name": "stderr",
     "output_type": "stream",
     "text": [
      "WARNING:tensorflow:Early stopping conditioned on metric `F1Score(name=f1_score,dtype=float32,num_classes=64,average=macro,threshold=None)` which is not available. Available metrics are: loss,f1_score\n"
     ]
    },
    {
     "name": "stdout",
     "output_type": "stream",
     "text": [
      "4/4 [==============================] - 2s 554ms/step - loss: 6.4323e-04 - f1_score: 1.0000\n",
      "Epoch 87/100\n",
      "4/4 [==============================] - ETA: 0s - loss: 5.8258e-04 - f1_score: 1.0000WARNING:tensorflow:Early stopping conditioned on metric `F1Score(name=f1_score,dtype=float32,num_classes=64,average=macro,threshold=None)` which is not available. Available metrics are: loss,f1_score\n"
     ]
    },
    {
     "name": "stderr",
     "output_type": "stream",
     "text": [
      "WARNING:tensorflow:Early stopping conditioned on metric `F1Score(name=f1_score,dtype=float32,num_classes=64,average=macro,threshold=None)` which is not available. Available metrics are: loss,f1_score\n"
     ]
    },
    {
     "name": "stdout",
     "output_type": "stream",
     "text": [
      "4/4 [==============================] - 2s 559ms/step - loss: 5.8258e-04 - f1_score: 1.0000\n",
      "Epoch 88/100\n",
      "4/4 [==============================] - ETA: 0s - loss: 4.8939e-04 - f1_score: 1.0000WARNING:tensorflow:Early stopping conditioned on metric `F1Score(name=f1_score,dtype=float32,num_classes=64,average=macro,threshold=None)` which is not available. Available metrics are: loss,f1_score\n"
     ]
    },
    {
     "name": "stderr",
     "output_type": "stream",
     "text": [
      "WARNING:tensorflow:Early stopping conditioned on metric `F1Score(name=f1_score,dtype=float32,num_classes=64,average=macro,threshold=None)` which is not available. Available metrics are: loss,f1_score\n"
     ]
    },
    {
     "name": "stdout",
     "output_type": "stream",
     "text": [
      "4/4 [==============================] - 2s 555ms/step - loss: 4.8939e-04 - f1_score: 1.0000\n",
      "Epoch 89/100\n",
      "4/4 [==============================] - ETA: 0s - loss: 4.3989e-04 - f1_score: 1.0000WARNING:tensorflow:Early stopping conditioned on metric `F1Score(name=f1_score,dtype=float32,num_classes=64,average=macro,threshold=None)` which is not available. Available metrics are: loss,f1_score\n"
     ]
    },
    {
     "name": "stderr",
     "output_type": "stream",
     "text": [
      "WARNING:tensorflow:Early stopping conditioned on metric `F1Score(name=f1_score,dtype=float32,num_classes=64,average=macro,threshold=None)` which is not available. Available metrics are: loss,f1_score\n"
     ]
    },
    {
     "name": "stdout",
     "output_type": "stream",
     "text": [
      "4/4 [==============================] - 2s 554ms/step - loss: 4.3989e-04 - f1_score: 1.0000\n",
      "Epoch 90/100\n",
      "4/4 [==============================] - ETA: 0s - loss: 5.8228e-04 - f1_score: 1.0000WARNING:tensorflow:Early stopping conditioned on metric `F1Score(name=f1_score,dtype=float32,num_classes=64,average=macro,threshold=None)` which is not available. Available metrics are: loss,f1_score\n"
     ]
    },
    {
     "name": "stderr",
     "output_type": "stream",
     "text": [
      "WARNING:tensorflow:Early stopping conditioned on metric `F1Score(name=f1_score,dtype=float32,num_classes=64,average=macro,threshold=None)` which is not available. Available metrics are: loss,f1_score\n"
     ]
    },
    {
     "name": "stdout",
     "output_type": "stream",
     "text": [
      "4/4 [==============================] - 2s 552ms/step - loss: 5.8228e-04 - f1_score: 1.0000\n",
      "Epoch 91/100\n",
      "4/4 [==============================] - ETA: 0s - loss: 4.2287e-04 - f1_score: 1.0000WARNING:tensorflow:Early stopping conditioned on metric `F1Score(name=f1_score,dtype=float32,num_classes=64,average=macro,threshold=None)` which is not available. Available metrics are: loss,f1_score\n"
     ]
    },
    {
     "name": "stderr",
     "output_type": "stream",
     "text": [
      "WARNING:tensorflow:Early stopping conditioned on metric `F1Score(name=f1_score,dtype=float32,num_classes=64,average=macro,threshold=None)` which is not available. Available metrics are: loss,f1_score\n"
     ]
    },
    {
     "name": "stdout",
     "output_type": "stream",
     "text": [
      "4/4 [==============================] - 2s 441ms/step - loss: 4.2287e-04 - f1_score: 1.0000\n",
      "Epoch 92/100\n",
      "4/4 [==============================] - ETA: 0s - loss: 4.7507e-04 - f1_score: 1.0000WARNING:tensorflow:Early stopping conditioned on metric `F1Score(name=f1_score,dtype=float32,num_classes=64,average=macro,threshold=None)` which is not available. Available metrics are: loss,f1_score\n"
     ]
    },
    {
     "name": "stderr",
     "output_type": "stream",
     "text": [
      "WARNING:tensorflow:Early stopping conditioned on metric `F1Score(name=f1_score,dtype=float32,num_classes=64,average=macro,threshold=None)` which is not available. Available metrics are: loss,f1_score\n"
     ]
    },
    {
     "name": "stdout",
     "output_type": "stream",
     "text": [
      "4/4 [==============================] - 1s 345ms/step - loss: 4.7507e-04 - f1_score: 1.0000\n",
      "Epoch 93/100\n",
      "4/4 [==============================] - ETA: 0s - loss: 5.6506e-04 - f1_score: 1.0000WARNING:tensorflow:Early stopping conditioned on metric `F1Score(name=f1_score,dtype=float32,num_classes=64,average=macro,threshold=None)` which is not available. Available metrics are: loss,f1_score\n"
     ]
    },
    {
     "name": "stderr",
     "output_type": "stream",
     "text": [
      "WARNING:tensorflow:Early stopping conditioned on metric `F1Score(name=f1_score,dtype=float32,num_classes=64,average=macro,threshold=None)` which is not available. Available metrics are: loss,f1_score\n"
     ]
    },
    {
     "name": "stdout",
     "output_type": "stream",
     "text": [
      "4/4 [==============================] - 1s 349ms/step - loss: 5.6506e-04 - f1_score: 1.0000\n",
      "Epoch 94/100\n",
      "4/4 [==============================] - ETA: 0s - loss: 4.0349e-04 - f1_score: 1.0000WARNING:tensorflow:Early stopping conditioned on metric `F1Score(name=f1_score,dtype=float32,num_classes=64,average=macro,threshold=None)` which is not available. Available metrics are: loss,f1_score\n"
     ]
    },
    {
     "name": "stderr",
     "output_type": "stream",
     "text": [
      "WARNING:tensorflow:Early stopping conditioned on metric `F1Score(name=f1_score,dtype=float32,num_classes=64,average=macro,threshold=None)` which is not available. Available metrics are: loss,f1_score\n"
     ]
    },
    {
     "name": "stdout",
     "output_type": "stream",
     "text": [
      "4/4 [==============================] - 1s 350ms/step - loss: 4.0349e-04 - f1_score: 1.0000\n",
      "Epoch 95/100\n",
      "4/4 [==============================] - ETA: 0s - loss: 3.7268e-04 - f1_score: 1.0000WARNING:tensorflow:Early stopping conditioned on metric `F1Score(name=f1_score,dtype=float32,num_classes=64,average=macro,threshold=None)` which is not available. Available metrics are: loss,f1_score\n"
     ]
    },
    {
     "name": "stderr",
     "output_type": "stream",
     "text": [
      "WARNING:tensorflow:Early stopping conditioned on metric `F1Score(name=f1_score,dtype=float32,num_classes=64,average=macro,threshold=None)` which is not available. Available metrics are: loss,f1_score\n"
     ]
    },
    {
     "name": "stdout",
     "output_type": "stream",
     "text": [
      "4/4 [==============================] - 1s 351ms/step - loss: 3.7268e-04 - f1_score: 1.0000\n",
      "Epoch 96/100\n",
      "4/4 [==============================] - ETA: 0s - loss: 3.4844e-04 - f1_score: 1.0000WARNING:tensorflow:Early stopping conditioned on metric `F1Score(name=f1_score,dtype=float32,num_classes=64,average=macro,threshold=None)` which is not available. Available metrics are: loss,f1_score\n"
     ]
    },
    {
     "name": "stderr",
     "output_type": "stream",
     "text": [
      "WARNING:tensorflow:Early stopping conditioned on metric `F1Score(name=f1_score,dtype=float32,num_classes=64,average=macro,threshold=None)` which is not available. Available metrics are: loss,f1_score\n"
     ]
    },
    {
     "name": "stdout",
     "output_type": "stream",
     "text": [
      "4/4 [==============================] - 1s 353ms/step - loss: 3.4844e-04 - f1_score: 1.0000\n",
      "Epoch 97/100\n",
      "4/4 [==============================] - ETA: 0s - loss: 3.1088e-04 - f1_score: 1.0000WARNING:tensorflow:Early stopping conditioned on metric `F1Score(name=f1_score,dtype=float32,num_classes=64,average=macro,threshold=None)` which is not available. Available metrics are: loss,f1_score\n"
     ]
    },
    {
     "name": "stderr",
     "output_type": "stream",
     "text": [
      "WARNING:tensorflow:Early stopping conditioned on metric `F1Score(name=f1_score,dtype=float32,num_classes=64,average=macro,threshold=None)` which is not available. Available metrics are: loss,f1_score\n"
     ]
    },
    {
     "name": "stdout",
     "output_type": "stream",
     "text": [
      "4/4 [==============================] - 1s 360ms/step - loss: 3.1088e-04 - f1_score: 1.0000\n",
      "Epoch 98/100\n",
      "4/4 [==============================] - ETA: 0s - loss: 3.6725e-04 - f1_score: 1.0000WARNING:tensorflow:Early stopping conditioned on metric `F1Score(name=f1_score,dtype=float32,num_classes=64,average=macro,threshold=None)` which is not available. Available metrics are: loss,f1_score\n"
     ]
    },
    {
     "name": "stderr",
     "output_type": "stream",
     "text": [
      "WARNING:tensorflow:Early stopping conditioned on metric `F1Score(name=f1_score,dtype=float32,num_classes=64,average=macro,threshold=None)` which is not available. Available metrics are: loss,f1_score\n"
     ]
    },
    {
     "name": "stdout",
     "output_type": "stream",
     "text": [
      "4/4 [==============================] - 1s 359ms/step - loss: 3.6725e-04 - f1_score: 1.0000\n",
      "Epoch 99/100\n",
      "4/4 [==============================] - ETA: 0s - loss: 3.1106e-04 - f1_score: 1.0000WARNING:tensorflow:Early stopping conditioned on metric `F1Score(name=f1_score,dtype=float32,num_classes=64,average=macro,threshold=None)` which is not available. Available metrics are: loss,f1_score\n"
     ]
    },
    {
     "name": "stderr",
     "output_type": "stream",
     "text": [
      "WARNING:tensorflow:Early stopping conditioned on metric `F1Score(name=f1_score,dtype=float32,num_classes=64,average=macro,threshold=None)` which is not available. Available metrics are: loss,f1_score\n"
     ]
    },
    {
     "name": "stdout",
     "output_type": "stream",
     "text": [
      "4/4 [==============================] - 1s 356ms/step - loss: 3.1106e-04 - f1_score: 1.0000\n",
      "Epoch 100/100\n",
      "4/4 [==============================] - ETA: 0s - loss: 2.9433e-04 - f1_score: 1.0000WARNING:tensorflow:Early stopping conditioned on metric `F1Score(name=f1_score,dtype=float32,num_classes=64,average=macro,threshold=None)` which is not available. Available metrics are: loss,f1_score\n"
     ]
    },
    {
     "name": "stderr",
     "output_type": "stream",
     "text": [
      "WARNING:tensorflow:Early stopping conditioned on metric `F1Score(name=f1_score,dtype=float32,num_classes=64,average=macro,threshold=None)` which is not available. Available metrics are: loss,f1_score\n"
     ]
    },
    {
     "name": "stdout",
     "output_type": "stream",
     "text": [
      "\b\b\b\b\b\b\b\b\b\b\b\b\b\b\b\b\b\b\b\b\b\b\b\b\b\b\b\b\b\b\b\b\b\b\b\b\b\b\b\b\b\b\b\b\b\b\b\b\b\b\b\b\b\b\b\b\b\b\b\b\b\b\b\b\b\b\b\b\b\b\b\b\b\b\b\b\b\b\b\b\b\b\b\b\r",
      "4/4 [==============================] - 1s 360ms/step - loss: 2.9433e-04 - f1_score: 1.0000\n"
     ]
    },
    {
     "data": {
      "text/plain": [
       "<keras.callbacks.History at 0x7fef7c1c13d0>"
      ]
     },
     "execution_count": 20,
     "metadata": {},
     "output_type": "execute_result"
    }
   ],
   "source": [
    "f1 = tfa.metrics.F1Score(num_classes=64, average='macro')\n",
    "\n",
    "callbacks = keras.callbacks.EarlyStopping(monitor=f1, patience=3, mode='max', restore_best_weights=True)\n",
    "\n",
    "new_model.compile(loss=tf.keras.losses.BinaryCrossentropy(), optimizer=keras.optimizers.Adam(lr=1e-4), \n",
    "              metrics= [f1])\n",
    "\n",
    "\n",
    "new_model.fit(train_data, epochs=100, callbacks=callbacks)"
   ]
  },
  {
   "cell_type": "code",
   "execution_count": 21,
   "id": "162d30ee",
   "metadata": {},
   "outputs": [
    {
     "name": "stderr",
     "output_type": "stream",
     "text": [
      "WARNING:absl:Found untraced functions such as _jit_compiled_convolution_op, _jit_compiled_convolution_op, _jit_compiled_convolution_op, _jit_compiled_convolution_op, _jit_compiled_convolution_op while saving (showing 5 of 245). These functions will not be directly callable after loading.\n"
     ]
    },
    {
     "name": "stdout",
     "output_type": "stream",
     "text": [
      "INFO:tensorflow:Assets written to: saved_model/assets\n"
     ]
    },
    {
     "name": "stderr",
     "output_type": "stream",
     "text": [
      "INFO:tensorflow:Assets written to: saved_model/assets\n"
     ]
    }
   ],
   "source": [
    "new_model.save('saved_model')"
   ]
  }
 ],
 "metadata": {
  "kernelspec": {
   "display_name": "Python 3 (ipykernel)",
   "language": "python",
   "name": "python3"
  },
  "language_info": {
   "codemirror_mode": {
    "name": "ipython",
    "version": 3
   },
   "file_extension": ".py",
   "mimetype": "text/x-python",
   "name": "python",
   "nbconvert_exporter": "python",
   "pygments_lexer": "ipython3",
   "version": "3.11.2"
  }
 },
 "nbformat": 4,
 "nbformat_minor": 5
}
