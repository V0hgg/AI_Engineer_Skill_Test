{
 "cells": [
  {
   "cell_type": "code",
   "execution_count": 63,
   "id": "2fd3dc18",
   "metadata": {},
   "outputs": [],
   "source": [
    "import requests"
   ]
  },
  {
   "cell_type": "code",
   "execution_count": 64,
   "id": "13174945",
   "metadata": {},
   "outputs": [
    {
     "name": "stdout",
     "output_type": "stream",
     "text": [
      "Num of champs: 64\n",
      "['Draven', 'Evelynn', 'Ezreal', 'Fiora', 'Fizz', 'Garen', 'Galio', 'Gragas', 'Graves', 'Janna', 'JarvanIV', 'Jax', 'Jhin', 'Jinx', 'Katarina', 'Kennen', 'Leona', 'LeeSin', 'Lulu', 'Lux', 'Malphite', 'MasterYi', 'MissFortune', 'Nami', 'Nasus', 'Olaf', 'Orianna', 'Pantheon', 'Rakan', 'Rammus', 'Rengar', 'Seraphine', 'Shyvana', 'Singed', 'Sona', 'Soraka', 'Teemo', 'Tristana', 'Tryndamere', 'TwistedFate', 'Varus', 'Vayne', 'Vi', 'XinZhao', 'Yasuo', 'MonkeyKing', 'Zed', 'Ziggs', 'DrMundo', 'Ahri', 'Akali', 'Alistar', 'Amumu', 'Annie', 'Ashe', 'AurelionSol', 'Blitzcrank', 'Braum', 'Camille', 'Corki', 'Darius', 'Diana', 'Kaisa', 'Khazix']\n"
     ]
    }
   ],
   "source": [
    "with open('test_data/hero_names.txt', 'r') as f:\n",
    " \n",
    "    champ_list = [champ.strip() for champ in f.readlines()]\n",
    "print(\"Num of champs:\",len(champ_list))\n",
    "print(champ_list)"
   ]
  },
  {
   "cell_type": "code",
   "execution_count": null,
   "id": "fe690005",
   "metadata": {},
   "outputs": [],
   "source": [
    "for champ in champ_list:\n",
    "    response = requests.get(f\"https://ddragon.leagueoflegends.com/cdn/11.23.1/img/champion/{champ}.png\")\n",
    "    with open(f\"{'train_dataset'}/{champ}.png\", \"wb\") as f:\n",
    "        f.write(response.content)"
   ]
  }
 ],
 "metadata": {
  "kernelspec": {
   "display_name": "Python 3 (ipykernel)",
   "language": "python",
   "name": "python3"
  },
  "language_info": {
   "codemirror_mode": {
    "name": "ipython",
    "version": 3
   },
   "file_extension": ".py",
   "mimetype": "text/x-python",
   "name": "python",
   "nbconvert_exporter": "python",
   "pygments_lexer": "ipython3",
   "version": "3.11.2"
  }
 },
 "nbformat": 4,
 "nbformat_minor": 5
}
