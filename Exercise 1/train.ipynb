{
 "cells": [
  {
   "cell_type": "code",
   "execution_count": 43,
   "id": "1ee56cbe",
   "metadata": {},
   "outputs": [],
   "source": [
    "import pandas as pd\n",
    "import numpy as np\n",
    "import tensorflow as tf\n",
    "import tensorflow.keras as keras\n",
    "from sklearn.preprocessing import MultiLabelBinarizer\n",
    "import PIL\n",
    "import cv2\n",
    "import matplotlib.pyplot as plt\n",
    "import seaborn as sns\n",
    "import os\n",
    "import random\n",
    "from tqdm import tqdm\n",
    "import tensorflow_addons as tfa\n",
    "import random\n",
    "from tensorflow.keras.applications import InceptionResNetV2\n",
    "import urllib.request\n",
    "\n",
    "pd.set_option(\"display.max_columns\", None)"
   ]
  },
  {
   "cell_type": "code",
   "execution_count": 44,
   "id": "be47749a",
   "metadata": {},
   "outputs": [
    {
     "name": "stdout",
     "output_type": "stream",
     "text": [
      "Train ammount: 64\n",
      "Train columns: Index(['image', 'labels'], dtype='object')\n",
      "TwistedFate    1\n",
      "Garen          1\n",
      "Ahri           1\n",
      "Orianna        1\n",
      "Tryndamere     1\n",
      "              ..\n",
      "Fiora          1\n",
      "Tristana       1\n",
      "Diana          1\n",
      "DrMundo        1\n",
      "Kaisa          1\n",
      "Name: labels, Length: 64, dtype: int64\n"
     ]
    }
   ],
   "source": [
    "train = pd.read_csv('train.csv', header=None, names=[\"image\", \"labels\"])\n",
    "print(\"Train ammount:\",len(train))\n",
    "print(\"Train columns:\", train.columns)\n",
    "print(train['labels'].value_counts())"
   ]
  },
  {
   "cell_type": "code",
   "execution_count": 45,
   "id": "a2a93bb7",
   "metadata": {},
   "outputs": [
    {
     "name": "stdout",
     "output_type": "stream",
     "text": [
      "Found 64 validated image filenames belonging to 64 classes.\n"
     ]
    }
   ],
   "source": [
    "# %%time\n",
    "# datagen = keras.preprocessing.image.ImageDataGenerator(rescale=1/255.0,\n",
    "#                                                         preprocessing_function=None,\n",
    "#                                                         data_format=None,\n",
    "#                                                     )\n",
    "\n",
    "# train_data = datagen.flow_from_dataframe(\n",
    "#     train,\n",
    "#     directory='./train_dataset',\n",
    "# #     directory='./train_dataset_round',\n",
    "#     x_col=\"image\",\n",
    "#     y_col= 'labels',\n",
    "#     color_mode=\"rgb\",\n",
    "#     target_size = (256,256),\n",
    "#     class_mode=\"categorical\",\n",
    "#     batch_size=32,\n",
    "#     shuffle=False,\n",
    "#     seed=40,\n",
    "# )\n",
    "\n",
    "datagen = keras.preprocessing.image.ImageDataGenerator(\n",
    "    rescale=1./255,\n",
    "    rotation_range=20,\n",
    "    width_shift_range=0.1,\n",
    "    height_shift_range=0.1,\n",
    "    shear_range=0.2,\n",
    "    zoom_range=0.2,\n",
    "    horizontal_flip=True,\n",
    "    fill_mode='nearest'\n",
    ")\n",
    "\n",
    "train_data = datagen.flow_from_dataframe(\n",
    "    train,\n",
    "    directory='./train_dataset',\n",
    "#     directory='./train_dataset_round',\n",
    "    x_col=\"image\",\n",
    "    y_col= 'labels',\n",
    "    color_mode=\"rgb\",\n",
    "    target_size = (299,299),\n",
    "    class_mode=\"categorical\",\n",
    "    batch_size=16,\n",
    "    shuffle=False,\n",
    "    seed=40,\n",
    ")"
   ]
  },
  {
   "cell_type": "code",
   "execution_count": 46,
   "id": "ffa84ae0",
   "metadata": {
    "scrolled": true
   },
   "outputs": [
    {
     "name": "stdout",
     "output_type": "stream",
     "text": [
      "KerasTensor(type_spec=TensorSpec(shape=(None, 299, 299, 3), dtype=tf.float32, name='input_13'), name='input_13', description=\"created by layer 'input_13'\")\n",
      "KerasTensor(type_spec=TensorSpec(shape=(None, 64), dtype=tf.float32, name=None), name='dense_9/Softmax:0', description=\"created by layer 'dense_9'\")\n"
     ]
    }
   ],
   "source": [
    "seed = 1200\n",
    "tf.random.set_seed(seed)\n",
    "num_classes = 64\n",
    "\n",
    "# url = 'https://github.com/fchollet/deep-learning-models/releases/download/v0.7/inception_resnet_v2_weights_tf_dim_ordering_tf_kernels_notop.h5'\n",
    "\n",
    "# weights_path = './keras-pretrained-models/inception_resnet_v2_weights_tf_dim_ordering_tf_kernels_notop.h5'\n",
    "\n",
    "url = 'https://github.com/fchollet/deep-learning-models/releases/download/v0.7/inception_resnet_v2_weights_tf_dim_ordering_tf_kernels.h5'\n",
    "\n",
    "weights_path = './keras-pretrained-models/inception_resnet_v2_weights_tf_dim_ordering_tf_kernels.h5'\n",
    "\n",
    "if not os.path.exists(weights_path):\n",
    "    urllib.request.urlretrieve(url, weights_path)\n",
    "    \n",
    "# Load the pre-trained InceptionResNetV2 model\n",
    "base_model = keras.applications.InceptionResNetV2(weights=weights_path, include_top=True, input_shape=(299, 299, 3))\n",
    "\n",
    "# Remove the last layer of the model\n",
    "x = base_model.layers[-2].output\n",
    "\n",
    "# Add a new fully connected layer with 64 output neurons\n",
    "x = keras.layers.Flatten()(x)\n",
    "x = keras.layers.Dense(64, activation='relu')(x)\n",
    "output = keras.layers.Dense(num_classes, activation='softmax')(x)\n",
    "\n",
    "# Create a new model with the modified architecture\n",
    "new_model = keras.models.Model(inputs=base_model.input, outputs=output)\n",
    "\n",
    "print(new_model.input)\n",
    "print(new_model.output)"
   ]
  },
  {
   "cell_type": "code",
   "execution_count": 47,
   "id": "ad76b963",
   "metadata": {},
   "outputs": [
    {
     "name": "stderr",
     "output_type": "stream",
     "text": [
      "WARNING:absl:`lr` is deprecated in Keras optimizer, please use `learning_rate` or use the legacy optimizer, e.g.,tf.keras.optimizers.legacy.Adam.\n"
     ]
    },
    {
     "name": "stdout",
     "output_type": "stream",
     "text": [
      "Model: \"model_4\"\n",
      "__________________________________________________________________________________________________\n",
      " Layer (type)                   Output Shape         Param #     Connected to                     \n",
      "==================================================================================================\n",
      " input_13 (InputLayer)          [(None, 299, 299, 3  0           []                               \n",
      "                                )]                                                                \n",
      "                                                                                                  \n",
      " conv2d_2436 (Conv2D)           (None, 149, 149, 32  864         ['input_13[0][0]']               \n",
      "                                )                                                                 \n",
      "                                                                                                  \n",
      " batch_normalization_2436 (Batc  (None, 149, 149, 32  96         ['conv2d_2436[0][0]']            \n",
      " hNormalization)                )                                                                 \n",
      "                                                                                                  \n",
      " activation_2436 (Activation)   (None, 149, 149, 32  0           ['batch_normalization_2436[0][0]'\n",
      "                                )                                ]                                \n",
      "                                                                                                  \n",
      " conv2d_2437 (Conv2D)           (None, 147, 147, 32  9216        ['activation_2436[0][0]']        \n",
      "                                )                                                                 \n",
      "                                                                                                  \n",
      " batch_normalization_2437 (Batc  (None, 147, 147, 32  96         ['conv2d_2437[0][0]']            \n",
      " hNormalization)                )                                                                 \n",
      "                                                                                                  \n",
      " activation_2437 (Activation)   (None, 147, 147, 32  0           ['batch_normalization_2437[0][0]'\n",
      "                                )                                ]                                \n",
      "                                                                                                  \n",
      " conv2d_2438 (Conv2D)           (None, 147, 147, 64  18432       ['activation_2437[0][0]']        \n",
      "                                )                                                                 \n",
      "                                                                                                  \n",
      " batch_normalization_2438 (Batc  (None, 147, 147, 64  192        ['conv2d_2438[0][0]']            \n",
      " hNormalization)                )                                                                 \n",
      "                                                                                                  \n",
      " activation_2438 (Activation)   (None, 147, 147, 64  0           ['batch_normalization_2438[0][0]'\n",
      "                                )                                ]                                \n",
      "                                                                                                  \n",
      " max_pooling2d_48 (MaxPooling2D  (None, 73, 73, 64)  0           ['activation_2438[0][0]']        \n",
      " )                                                                                                \n",
      "                                                                                                  \n",
      " conv2d_2439 (Conv2D)           (None, 73, 73, 80)   5120        ['max_pooling2d_48[0][0]']       \n",
      "                                                                                                  \n",
      " batch_normalization_2439 (Batc  (None, 73, 73, 80)  240         ['conv2d_2439[0][0]']            \n",
      " hNormalization)                                                                                  \n",
      "                                                                                                  \n",
      " activation_2439 (Activation)   (None, 73, 73, 80)   0           ['batch_normalization_2439[0][0]'\n",
      "                                                                 ]                                \n",
      "                                                                                                  \n",
      " conv2d_2440 (Conv2D)           (None, 71, 71, 192)  138240      ['activation_2439[0][0]']        \n",
      "                                                                                                  \n",
      " batch_normalization_2440 (Batc  (None, 71, 71, 192)  576        ['conv2d_2440[0][0]']            \n",
      " hNormalization)                                                                                  \n",
      "                                                                                                  \n",
      " activation_2440 (Activation)   (None, 71, 71, 192)  0           ['batch_normalization_2440[0][0]'\n",
      "                                                                 ]                                \n",
      "                                                                                                  \n",
      " max_pooling2d_49 (MaxPooling2D  (None, 35, 35, 192)  0          ['activation_2440[0][0]']        \n",
      " )                                                                                                \n",
      "                                                                                                  \n",
      " conv2d_2444 (Conv2D)           (None, 35, 35, 64)   12288       ['max_pooling2d_49[0][0]']       \n",
      "                                                                                                  \n",
      " batch_normalization_2444 (Batc  (None, 35, 35, 64)  192         ['conv2d_2444[0][0]']            \n",
      " hNormalization)                                                                                  \n",
      "                                                                                                  \n",
      " activation_2444 (Activation)   (None, 35, 35, 64)   0           ['batch_normalization_2444[0][0]'\n",
      "                                                                 ]                                \n",
      "                                                                                                  \n",
      " conv2d_2442 (Conv2D)           (None, 35, 35, 48)   9216        ['max_pooling2d_49[0][0]']       \n",
      "                                                                                                  \n",
      " conv2d_2445 (Conv2D)           (None, 35, 35, 96)   55296       ['activation_2444[0][0]']        \n",
      "                                                                                                  \n",
      " batch_normalization_2442 (Batc  (None, 35, 35, 48)  144         ['conv2d_2442[0][0]']            \n",
      " hNormalization)                                                                                  \n",
      "                                                                                                  \n",
      " batch_normalization_2445 (Batc  (None, 35, 35, 96)  288         ['conv2d_2445[0][0]']            \n",
      " hNormalization)                                                                                  \n",
      "                                                                                                  \n",
      " activation_2442 (Activation)   (None, 35, 35, 48)   0           ['batch_normalization_2442[0][0]'\n",
      "                                                                 ]                                \n",
      "                                                                                                  \n",
      " activation_2445 (Activation)   (None, 35, 35, 96)   0           ['batch_normalization_2445[0][0]'\n",
      "                                                                 ]                                \n",
      "                                                                                                  \n",
      " average_pooling2d_12 (AverageP  (None, 35, 35, 192)  0          ['max_pooling2d_49[0][0]']       \n",
      " ooling2D)                                                                                        \n",
      "                                                                                                  \n",
      " conv2d_2441 (Conv2D)           (None, 35, 35, 96)   18432       ['max_pooling2d_49[0][0]']       \n"
     ]
    },
    {
     "name": "stdout",
     "output_type": "stream",
     "text": [
      "                                                                                                  \n",
      " conv2d_2443 (Conv2D)           (None, 35, 35, 64)   76800       ['activation_2442[0][0]']        \n",
      "                                                                                                  \n",
      " conv2d_2446 (Conv2D)           (None, 35, 35, 96)   82944       ['activation_2445[0][0]']        \n",
      "                                                                                                  \n",
      " conv2d_2447 (Conv2D)           (None, 35, 35, 64)   12288       ['average_pooling2d_12[0][0]']   \n",
      "                                                                                                  \n",
      " batch_normalization_2441 (Batc  (None, 35, 35, 96)  288         ['conv2d_2441[0][0]']            \n",
      " hNormalization)                                                                                  \n",
      "                                                                                                  \n",
      " batch_normalization_2443 (Batc  (None, 35, 35, 64)  192         ['conv2d_2443[0][0]']            \n",
      " hNormalization)                                                                                  \n",
      "                                                                                                  \n",
      " batch_normalization_2446 (Batc  (None, 35, 35, 96)  288         ['conv2d_2446[0][0]']            \n",
      " hNormalization)                                                                                  \n",
      "                                                                                                  \n",
      " batch_normalization_2447 (Batc  (None, 35, 35, 64)  192         ['conv2d_2447[0][0]']            \n",
      " hNormalization)                                                                                  \n",
      "                                                                                                  \n",
      " activation_2441 (Activation)   (None, 35, 35, 96)   0           ['batch_normalization_2441[0][0]'\n",
      "                                                                 ]                                \n",
      "                                                                                                  \n",
      " activation_2443 (Activation)   (None, 35, 35, 64)   0           ['batch_normalization_2443[0][0]'\n",
      "                                                                 ]                                \n",
      "                                                                                                  \n",
      " activation_2446 (Activation)   (None, 35, 35, 96)   0           ['batch_normalization_2446[0][0]'\n",
      "                                                                 ]                                \n",
      "                                                                                                  \n",
      " activation_2447 (Activation)   (None, 35, 35, 64)   0           ['batch_normalization_2447[0][0]'\n",
      "                                                                 ]                                \n",
      "                                                                                                  \n",
      " mixed_5b (Concatenate)         (None, 35, 35, 320)  0           ['activation_2441[0][0]',        \n",
      "                                                                  'activation_2443[0][0]',        \n",
      "                                                                  'activation_2446[0][0]',        \n",
      "                                                                  'activation_2447[0][0]']        \n",
      "                                                                                                  \n",
      " conv2d_2451 (Conv2D)           (None, 35, 35, 32)   10240       ['mixed_5b[0][0]']               \n",
      "                                                                                                  \n",
      " batch_normalization_2451 (Batc  (None, 35, 35, 32)  96          ['conv2d_2451[0][0]']            \n",
      " hNormalization)                                                                                  \n",
      "                                                                                                  \n",
      " activation_2451 (Activation)   (None, 35, 35, 32)   0           ['batch_normalization_2451[0][0]'\n",
      "                                                                 ]                                \n",
      "                                                                                                  \n",
      " conv2d_2449 (Conv2D)           (None, 35, 35, 32)   10240       ['mixed_5b[0][0]']               \n",
      "                                                                                                  \n",
      " conv2d_2452 (Conv2D)           (None, 35, 35, 48)   13824       ['activation_2451[0][0]']        \n",
      "                                                                                                  \n",
      " batch_normalization_2449 (Batc  (None, 35, 35, 32)  96          ['conv2d_2449[0][0]']            \n",
      " hNormalization)                                                                                  \n",
      "                                                                                                  \n",
      " batch_normalization_2452 (Batc  (None, 35, 35, 48)  144         ['conv2d_2452[0][0]']            \n",
      " hNormalization)                                                                                  \n",
      "                                                                                                  \n",
      " activation_2449 (Activation)   (None, 35, 35, 32)   0           ['batch_normalization_2449[0][0]'\n",
      "                                                                 ]                                \n",
      "                                                                                                  \n",
      " activation_2452 (Activation)   (None, 35, 35, 48)   0           ['batch_normalization_2452[0][0]'\n",
      "                                                                 ]                                \n",
      "                                                                                                  \n",
      " conv2d_2448 (Conv2D)           (None, 35, 35, 32)   10240       ['mixed_5b[0][0]']               \n",
      "                                                                                                  \n",
      " conv2d_2450 (Conv2D)           (None, 35, 35, 32)   9216        ['activation_2449[0][0]']        \n",
      "                                                                                                  \n",
      " conv2d_2453 (Conv2D)           (None, 35, 35, 64)   27648       ['activation_2452[0][0]']        \n",
      "                                                                                                  \n",
      " batch_normalization_2448 (Batc  (None, 35, 35, 32)  96          ['conv2d_2448[0][0]']            \n",
      " hNormalization)                                                                                  \n",
      "                                                                                                  \n",
      " batch_normalization_2450 (Batc  (None, 35, 35, 32)  96          ['conv2d_2450[0][0]']            \n",
      " hNormalization)                                                                                  \n",
      "                                                                                                  \n",
      " batch_normalization_2453 (Batc  (None, 35, 35, 64)  192         ['conv2d_2453[0][0]']            \n",
      " hNormalization)                                                                                  \n",
      "                                                                                                  \n",
      " activation_2448 (Activation)   (None, 35, 35, 32)   0           ['batch_normalization_2448[0][0]'\n",
      "                                                                 ]                                \n",
      "                                                                                                  \n",
      " activation_2450 (Activation)   (None, 35, 35, 32)   0           ['batch_normalization_2450[0][0]'\n",
      "                                                                 ]                                \n",
      "                                                                                                  \n",
      " activation_2453 (Activation)   (None, 35, 35, 64)   0           ['batch_normalization_2453[0][0]'\n",
      "                                                                 ]                                \n"
     ]
    },
    {
     "name": "stdout",
     "output_type": "stream",
     "text": [
      "                                                                                                  \n",
      " block35_1_mixed (Concatenate)  (None, 35, 35, 128)  0           ['activation_2448[0][0]',        \n",
      "                                                                  'activation_2450[0][0]',        \n",
      "                                                                  'activation_2453[0][0]']        \n",
      "                                                                                                  \n",
      " block35_1_conv (Conv2D)        (None, 35, 35, 320)  41280       ['block35_1_mixed[0][0]']        \n",
      "                                                                                                  \n",
      " custom_scale_layer_480 (Custom  (None, 35, 35, 320)  0          ['mixed_5b[0][0]',               \n",
      " ScaleLayer)                                                      'block35_1_conv[0][0]']         \n",
      "                                                                                                  \n",
      " block35_1_ac (Activation)      (None, 35, 35, 320)  0           ['custom_scale_layer_480[0][0]'] \n",
      "                                                                                                  \n",
      " conv2d_2457 (Conv2D)           (None, 35, 35, 32)   10240       ['block35_1_ac[0][0]']           \n",
      "                                                                                                  \n",
      " batch_normalization_2457 (Batc  (None, 35, 35, 32)  96          ['conv2d_2457[0][0]']            \n",
      " hNormalization)                                                                                  \n",
      "                                                                                                  \n",
      " activation_2457 (Activation)   (None, 35, 35, 32)   0           ['batch_normalization_2457[0][0]'\n",
      "                                                                 ]                                \n",
      "                                                                                                  \n",
      " conv2d_2455 (Conv2D)           (None, 35, 35, 32)   10240       ['block35_1_ac[0][0]']           \n",
      "                                                                                                  \n",
      " conv2d_2458 (Conv2D)           (None, 35, 35, 48)   13824       ['activation_2457[0][0]']        \n",
      "                                                                                                  \n",
      " batch_normalization_2455 (Batc  (None, 35, 35, 32)  96          ['conv2d_2455[0][0]']            \n",
      " hNormalization)                                                                                  \n",
      "                                                                                                  \n",
      " batch_normalization_2458 (Batc  (None, 35, 35, 48)  144         ['conv2d_2458[0][0]']            \n",
      " hNormalization)                                                                                  \n",
      "                                                                                                  \n",
      " activation_2455 (Activation)   (None, 35, 35, 32)   0           ['batch_normalization_2455[0][0]'\n",
      "                                                                 ]                                \n",
      "                                                                                                  \n",
      " activation_2458 (Activation)   (None, 35, 35, 48)   0           ['batch_normalization_2458[0][0]'\n",
      "                                                                 ]                                \n",
      "                                                                                                  \n",
      " conv2d_2454 (Conv2D)           (None, 35, 35, 32)   10240       ['block35_1_ac[0][0]']           \n",
      "                                                                                                  \n",
      " conv2d_2456 (Conv2D)           (None, 35, 35, 32)   9216        ['activation_2455[0][0]']        \n",
      "                                                                                                  \n",
      " conv2d_2459 (Conv2D)           (None, 35, 35, 64)   27648       ['activation_2458[0][0]']        \n",
      "                                                                                                  \n",
      " batch_normalization_2454 (Batc  (None, 35, 35, 32)  96          ['conv2d_2454[0][0]']            \n",
      " hNormalization)                                                                                  \n",
      "                                                                                                  \n",
      " batch_normalization_2456 (Batc  (None, 35, 35, 32)  96          ['conv2d_2456[0][0]']            \n",
      " hNormalization)                                                                                  \n",
      "                                                                                                  \n",
      " batch_normalization_2459 (Batc  (None, 35, 35, 64)  192         ['conv2d_2459[0][0]']            \n",
      " hNormalization)                                                                                  \n",
      "                                                                                                  \n",
      " activation_2454 (Activation)   (None, 35, 35, 32)   0           ['batch_normalization_2454[0][0]'\n",
      "                                                                 ]                                \n",
      "                                                                                                  \n",
      " activation_2456 (Activation)   (None, 35, 35, 32)   0           ['batch_normalization_2456[0][0]'\n",
      "                                                                 ]                                \n",
      "                                                                                                  \n",
      " activation_2459 (Activation)   (None, 35, 35, 64)   0           ['batch_normalization_2459[0][0]'\n",
      "                                                                 ]                                \n",
      "                                                                                                  \n",
      " block35_2_mixed (Concatenate)  (None, 35, 35, 128)  0           ['activation_2454[0][0]',        \n",
      "                                                                  'activation_2456[0][0]',        \n",
      "                                                                  'activation_2459[0][0]']        \n",
      "                                                                                                  \n",
      " block35_2_conv (Conv2D)        (None, 35, 35, 320)  41280       ['block35_2_mixed[0][0]']        \n",
      "                                                                                                  \n",
      " custom_scale_layer_481 (Custom  (None, 35, 35, 320)  0          ['block35_1_ac[0][0]',           \n",
      " ScaleLayer)                                                      'block35_2_conv[0][0]']         \n",
      "                                                                                                  \n",
      " block35_2_ac (Activation)      (None, 35, 35, 320)  0           ['custom_scale_layer_481[0][0]'] \n",
      "                                                                                                  \n",
      " conv2d_2463 (Conv2D)           (None, 35, 35, 32)   10240       ['block35_2_ac[0][0]']           \n",
      "                                                                                                  \n",
      " batch_normalization_2463 (Batc  (None, 35, 35, 32)  96          ['conv2d_2463[0][0]']            \n",
      " hNormalization)                                                                                  \n",
      "                                                                                                  \n",
      " activation_2463 (Activation)   (None, 35, 35, 32)   0           ['batch_normalization_2463[0][0]'\n",
      "                                                                 ]                                \n",
      "                                                                                                  \n",
      " conv2d_2461 (Conv2D)           (None, 35, 35, 32)   10240       ['block35_2_ac[0][0]']           \n",
      "                                                                                                  \n",
      " conv2d_2464 (Conv2D)           (None, 35, 35, 48)   13824       ['activation_2463[0][0]']        \n",
      "                                                                                                  \n"
     ]
    },
    {
     "name": "stdout",
     "output_type": "stream",
     "text": [
      " batch_normalization_2461 (Batc  (None, 35, 35, 32)  96          ['conv2d_2461[0][0]']            \n",
      " hNormalization)                                                                                  \n",
      "                                                                                                  \n",
      " batch_normalization_2464 (Batc  (None, 35, 35, 48)  144         ['conv2d_2464[0][0]']            \n",
      " hNormalization)                                                                                  \n",
      "                                                                                                  \n",
      " activation_2461 (Activation)   (None, 35, 35, 32)   0           ['batch_normalization_2461[0][0]'\n",
      "                                                                 ]                                \n",
      "                                                                                                  \n",
      " activation_2464 (Activation)   (None, 35, 35, 48)   0           ['batch_normalization_2464[0][0]'\n",
      "                                                                 ]                                \n",
      "                                                                                                  \n",
      " conv2d_2460 (Conv2D)           (None, 35, 35, 32)   10240       ['block35_2_ac[0][0]']           \n",
      "                                                                                                  \n",
      " conv2d_2462 (Conv2D)           (None, 35, 35, 32)   9216        ['activation_2461[0][0]']        \n",
      "                                                                                                  \n",
      " conv2d_2465 (Conv2D)           (None, 35, 35, 64)   27648       ['activation_2464[0][0]']        \n",
      "                                                                                                  \n",
      " batch_normalization_2460 (Batc  (None, 35, 35, 32)  96          ['conv2d_2460[0][0]']            \n",
      " hNormalization)                                                                                  \n",
      "                                                                                                  \n",
      " batch_normalization_2462 (Batc  (None, 35, 35, 32)  96          ['conv2d_2462[0][0]']            \n",
      " hNormalization)                                                                                  \n",
      "                                                                                                  \n",
      " batch_normalization_2465 (Batc  (None, 35, 35, 64)  192         ['conv2d_2465[0][0]']            \n",
      " hNormalization)                                                                                  \n",
      "                                                                                                  \n",
      " activation_2460 (Activation)   (None, 35, 35, 32)   0           ['batch_normalization_2460[0][0]'\n",
      "                                                                 ]                                \n",
      "                                                                                                  \n",
      " activation_2462 (Activation)   (None, 35, 35, 32)   0           ['batch_normalization_2462[0][0]'\n",
      "                                                                 ]                                \n",
      "                                                                                                  \n",
      " activation_2465 (Activation)   (None, 35, 35, 64)   0           ['batch_normalization_2465[0][0]'\n",
      "                                                                 ]                                \n",
      "                                                                                                  \n",
      " block35_3_mixed (Concatenate)  (None, 35, 35, 128)  0           ['activation_2460[0][0]',        \n",
      "                                                                  'activation_2462[0][0]',        \n",
      "                                                                  'activation_2465[0][0]']        \n",
      "                                                                                                  \n",
      " block35_3_conv (Conv2D)        (None, 35, 35, 320)  41280       ['block35_3_mixed[0][0]']        \n",
      "                                                                                                  \n",
      " custom_scale_layer_482 (Custom  (None, 35, 35, 320)  0          ['block35_2_ac[0][0]',           \n",
      " ScaleLayer)                                                      'block35_3_conv[0][0]']         \n",
      "                                                                                                  \n",
      " block35_3_ac (Activation)      (None, 35, 35, 320)  0           ['custom_scale_layer_482[0][0]'] \n",
      "                                                                                                  \n",
      " conv2d_2469 (Conv2D)           (None, 35, 35, 32)   10240       ['block35_3_ac[0][0]']           \n",
      "                                                                                                  \n",
      " batch_normalization_2469 (Batc  (None, 35, 35, 32)  96          ['conv2d_2469[0][0]']            \n",
      " hNormalization)                                                                                  \n",
      "                                                                                                  \n",
      " activation_2469 (Activation)   (None, 35, 35, 32)   0           ['batch_normalization_2469[0][0]'\n",
      "                                                                 ]                                \n",
      "                                                                                                  \n",
      " conv2d_2467 (Conv2D)           (None, 35, 35, 32)   10240       ['block35_3_ac[0][0]']           \n",
      "                                                                                                  \n",
      " conv2d_2470 (Conv2D)           (None, 35, 35, 48)   13824       ['activation_2469[0][0]']        \n",
      "                                                                                                  \n",
      " batch_normalization_2467 (Batc  (None, 35, 35, 32)  96          ['conv2d_2467[0][0]']            \n",
      " hNormalization)                                                                                  \n",
      "                                                                                                  \n",
      " batch_normalization_2470 (Batc  (None, 35, 35, 48)  144         ['conv2d_2470[0][0]']            \n",
      " hNormalization)                                                                                  \n",
      "                                                                                                  \n",
      " activation_2467 (Activation)   (None, 35, 35, 32)   0           ['batch_normalization_2467[0][0]'\n",
      "                                                                 ]                                \n",
      "                                                                                                  \n",
      " activation_2470 (Activation)   (None, 35, 35, 48)   0           ['batch_normalization_2470[0][0]'\n",
      "                                                                 ]                                \n",
      "                                                                                                  \n",
      " conv2d_2466 (Conv2D)           (None, 35, 35, 32)   10240       ['block35_3_ac[0][0]']           \n",
      "                                                                                                  \n",
      " conv2d_2468 (Conv2D)           (None, 35, 35, 32)   9216        ['activation_2467[0][0]']        \n",
      "                                                                                                  \n",
      " conv2d_2471 (Conv2D)           (None, 35, 35, 64)   27648       ['activation_2470[0][0]']        \n",
      "                                                                                                  \n",
      " batch_normalization_2466 (Batc  (None, 35, 35, 32)  96          ['conv2d_2466[0][0]']            \n",
      " hNormalization)                                                                                  \n",
      "                                                                                                  \n",
      " batch_normalization_2468 (Batc  (None, 35, 35, 32)  96          ['conv2d_2468[0][0]']            \n",
      " hNormalization)                                                                                  \n",
      "                                                                                                  \n"
     ]
    },
    {
     "name": "stdout",
     "output_type": "stream",
     "text": [
      " batch_normalization_2471 (Batc  (None, 35, 35, 64)  192         ['conv2d_2471[0][0]']            \n",
      " hNormalization)                                                                                  \n",
      "                                                                                                  \n",
      " activation_2466 (Activation)   (None, 35, 35, 32)   0           ['batch_normalization_2466[0][0]'\n",
      "                                                                 ]                                \n",
      "                                                                                                  \n",
      " activation_2468 (Activation)   (None, 35, 35, 32)   0           ['batch_normalization_2468[0][0]'\n",
      "                                                                 ]                                \n",
      "                                                                                                  \n",
      " activation_2471 (Activation)   (None, 35, 35, 64)   0           ['batch_normalization_2471[0][0]'\n",
      "                                                                 ]                                \n",
      "                                                                                                  \n",
      " block35_4_mixed (Concatenate)  (None, 35, 35, 128)  0           ['activation_2466[0][0]',        \n",
      "                                                                  'activation_2468[0][0]',        \n",
      "                                                                  'activation_2471[0][0]']        \n",
      "                                                                                                  \n",
      " block35_4_conv (Conv2D)        (None, 35, 35, 320)  41280       ['block35_4_mixed[0][0]']        \n",
      "                                                                                                  \n",
      " custom_scale_layer_483 (Custom  (None, 35, 35, 320)  0          ['block35_3_ac[0][0]',           \n",
      " ScaleLayer)                                                      'block35_4_conv[0][0]']         \n",
      "                                                                                                  \n",
      " block35_4_ac (Activation)      (None, 35, 35, 320)  0           ['custom_scale_layer_483[0][0]'] \n",
      "                                                                                                  \n",
      " conv2d_2475 (Conv2D)           (None, 35, 35, 32)   10240       ['block35_4_ac[0][0]']           \n",
      "                                                                                                  \n",
      " batch_normalization_2475 (Batc  (None, 35, 35, 32)  96          ['conv2d_2475[0][0]']            \n",
      " hNormalization)                                                                                  \n",
      "                                                                                                  \n",
      " activation_2475 (Activation)   (None, 35, 35, 32)   0           ['batch_normalization_2475[0][0]'\n",
      "                                                                 ]                                \n",
      "                                                                                                  \n",
      " conv2d_2473 (Conv2D)           (None, 35, 35, 32)   10240       ['block35_4_ac[0][0]']           \n",
      "                                                                                                  \n",
      " conv2d_2476 (Conv2D)           (None, 35, 35, 48)   13824       ['activation_2475[0][0]']        \n",
      "                                                                                                  \n",
      " batch_normalization_2473 (Batc  (None, 35, 35, 32)  96          ['conv2d_2473[0][0]']            \n",
      " hNormalization)                                                                                  \n",
      "                                                                                                  \n",
      " batch_normalization_2476 (Batc  (None, 35, 35, 48)  144         ['conv2d_2476[0][0]']            \n",
      " hNormalization)                                                                                  \n",
      "                                                                                                  \n",
      " activation_2473 (Activation)   (None, 35, 35, 32)   0           ['batch_normalization_2473[0][0]'\n",
      "                                                                 ]                                \n",
      "                                                                                                  \n",
      " activation_2476 (Activation)   (None, 35, 35, 48)   0           ['batch_normalization_2476[0][0]'\n",
      "                                                                 ]                                \n",
      "                                                                                                  \n",
      " conv2d_2472 (Conv2D)           (None, 35, 35, 32)   10240       ['block35_4_ac[0][0]']           \n",
      "                                                                                                  \n",
      " conv2d_2474 (Conv2D)           (None, 35, 35, 32)   9216        ['activation_2473[0][0]']        \n",
      "                                                                                                  \n",
      " conv2d_2477 (Conv2D)           (None, 35, 35, 64)   27648       ['activation_2476[0][0]']        \n",
      "                                                                                                  \n",
      " batch_normalization_2472 (Batc  (None, 35, 35, 32)  96          ['conv2d_2472[0][0]']            \n",
      " hNormalization)                                                                                  \n",
      "                                                                                                  \n",
      " batch_normalization_2474 (Batc  (None, 35, 35, 32)  96          ['conv2d_2474[0][0]']            \n",
      " hNormalization)                                                                                  \n",
      "                                                                                                  \n",
      " batch_normalization_2477 (Batc  (None, 35, 35, 64)  192         ['conv2d_2477[0][0]']            \n",
      " hNormalization)                                                                                  \n",
      "                                                                                                  \n",
      " activation_2472 (Activation)   (None, 35, 35, 32)   0           ['batch_normalization_2472[0][0]'\n",
      "                                                                 ]                                \n",
      "                                                                                                  \n",
      " activation_2474 (Activation)   (None, 35, 35, 32)   0           ['batch_normalization_2474[0][0]'\n",
      "                                                                 ]                                \n",
      "                                                                                                  \n",
      " activation_2477 (Activation)   (None, 35, 35, 64)   0           ['batch_normalization_2477[0][0]'\n",
      "                                                                 ]                                \n",
      "                                                                                                  \n",
      " block35_5_mixed (Concatenate)  (None, 35, 35, 128)  0           ['activation_2472[0][0]',        \n",
      "                                                                  'activation_2474[0][0]',        \n",
      "                                                                  'activation_2477[0][0]']        \n",
      "                                                                                                  \n",
      " block35_5_conv (Conv2D)        (None, 35, 35, 320)  41280       ['block35_5_mixed[0][0]']        \n",
      "                                                                                                  \n",
      " custom_scale_layer_484 (Custom  (None, 35, 35, 320)  0          ['block35_4_ac[0][0]',           \n",
      " ScaleLayer)                                                      'block35_5_conv[0][0]']         \n",
      "                                                                                                  \n",
      " block35_5_ac (Activation)      (None, 35, 35, 320)  0           ['custom_scale_layer_484[0][0]'] \n",
      "                                                                                                  \n",
      " conv2d_2481 (Conv2D)           (None, 35, 35, 32)   10240       ['block35_5_ac[0][0]']           \n"
     ]
    },
    {
     "name": "stdout",
     "output_type": "stream",
     "text": [
      "                                                                                                  \n",
      " batch_normalization_2481 (Batc  (None, 35, 35, 32)  96          ['conv2d_2481[0][0]']            \n",
      " hNormalization)                                                                                  \n",
      "                                                                                                  \n",
      " activation_2481 (Activation)   (None, 35, 35, 32)   0           ['batch_normalization_2481[0][0]'\n",
      "                                                                 ]                                \n",
      "                                                                                                  \n",
      " conv2d_2479 (Conv2D)           (None, 35, 35, 32)   10240       ['block35_5_ac[0][0]']           \n",
      "                                                                                                  \n",
      " conv2d_2482 (Conv2D)           (None, 35, 35, 48)   13824       ['activation_2481[0][0]']        \n",
      "                                                                                                  \n",
      " batch_normalization_2479 (Batc  (None, 35, 35, 32)  96          ['conv2d_2479[0][0]']            \n",
      " hNormalization)                                                                                  \n",
      "                                                                                                  \n",
      " batch_normalization_2482 (Batc  (None, 35, 35, 48)  144         ['conv2d_2482[0][0]']            \n",
      " hNormalization)                                                                                  \n",
      "                                                                                                  \n",
      " activation_2479 (Activation)   (None, 35, 35, 32)   0           ['batch_normalization_2479[0][0]'\n",
      "                                                                 ]                                \n",
      "                                                                                                  \n",
      " activation_2482 (Activation)   (None, 35, 35, 48)   0           ['batch_normalization_2482[0][0]'\n",
      "                                                                 ]                                \n",
      "                                                                                                  \n",
      " conv2d_2478 (Conv2D)           (None, 35, 35, 32)   10240       ['block35_5_ac[0][0]']           \n",
      "                                                                                                  \n",
      " conv2d_2480 (Conv2D)           (None, 35, 35, 32)   9216        ['activation_2479[0][0]']        \n",
      "                                                                                                  \n",
      " conv2d_2483 (Conv2D)           (None, 35, 35, 64)   27648       ['activation_2482[0][0]']        \n",
      "                                                                                                  \n",
      " batch_normalization_2478 (Batc  (None, 35, 35, 32)  96          ['conv2d_2478[0][0]']            \n",
      " hNormalization)                                                                                  \n",
      "                                                                                                  \n",
      " batch_normalization_2480 (Batc  (None, 35, 35, 32)  96          ['conv2d_2480[0][0]']            \n",
      " hNormalization)                                                                                  \n",
      "                                                                                                  \n",
      " batch_normalization_2483 (Batc  (None, 35, 35, 64)  192         ['conv2d_2483[0][0]']            \n",
      " hNormalization)                                                                                  \n",
      "                                                                                                  \n",
      " activation_2478 (Activation)   (None, 35, 35, 32)   0           ['batch_normalization_2478[0][0]'\n",
      "                                                                 ]                                \n",
      "                                                                                                  \n",
      " activation_2480 (Activation)   (None, 35, 35, 32)   0           ['batch_normalization_2480[0][0]'\n",
      "                                                                 ]                                \n",
      "                                                                                                  \n",
      " activation_2483 (Activation)   (None, 35, 35, 64)   0           ['batch_normalization_2483[0][0]'\n",
      "                                                                 ]                                \n",
      "                                                                                                  \n",
      " block35_6_mixed (Concatenate)  (None, 35, 35, 128)  0           ['activation_2478[0][0]',        \n",
      "                                                                  'activation_2480[0][0]',        \n",
      "                                                                  'activation_2483[0][0]']        \n",
      "                                                                                                  \n",
      " block35_6_conv (Conv2D)        (None, 35, 35, 320)  41280       ['block35_6_mixed[0][0]']        \n",
      "                                                                                                  \n",
      " custom_scale_layer_485 (Custom  (None, 35, 35, 320)  0          ['block35_5_ac[0][0]',           \n",
      " ScaleLayer)                                                      'block35_6_conv[0][0]']         \n",
      "                                                                                                  \n",
      " block35_6_ac (Activation)      (None, 35, 35, 320)  0           ['custom_scale_layer_485[0][0]'] \n",
      "                                                                                                  \n",
      " conv2d_2487 (Conv2D)           (None, 35, 35, 32)   10240       ['block35_6_ac[0][0]']           \n",
      "                                                                                                  \n",
      " batch_normalization_2487 (Batc  (None, 35, 35, 32)  96          ['conv2d_2487[0][0]']            \n",
      " hNormalization)                                                                                  \n",
      "                                                                                                  \n",
      " activation_2487 (Activation)   (None, 35, 35, 32)   0           ['batch_normalization_2487[0][0]'\n",
      "                                                                 ]                                \n",
      "                                                                                                  \n",
      " conv2d_2485 (Conv2D)           (None, 35, 35, 32)   10240       ['block35_6_ac[0][0]']           \n",
      "                                                                                                  \n",
      " conv2d_2488 (Conv2D)           (None, 35, 35, 48)   13824       ['activation_2487[0][0]']        \n",
      "                                                                                                  \n",
      " batch_normalization_2485 (Batc  (None, 35, 35, 32)  96          ['conv2d_2485[0][0]']            \n",
      " hNormalization)                                                                                  \n",
      "                                                                                                  \n",
      " batch_normalization_2488 (Batc  (None, 35, 35, 48)  144         ['conv2d_2488[0][0]']            \n",
      " hNormalization)                                                                                  \n",
      "                                                                                                  \n",
      " activation_2485 (Activation)   (None, 35, 35, 32)   0           ['batch_normalization_2485[0][0]'\n",
      "                                                                 ]                                \n",
      "                                                                                                  \n",
      " activation_2488 (Activation)   (None, 35, 35, 48)   0           ['batch_normalization_2488[0][0]'\n",
      "                                                                 ]                                \n",
      "                                                                                                  \n",
      " conv2d_2484 (Conv2D)           (None, 35, 35, 32)   10240       ['block35_6_ac[0][0]']           \n"
     ]
    },
    {
     "name": "stdout",
     "output_type": "stream",
     "text": [
      "                                                                                                  \n",
      " conv2d_2486 (Conv2D)           (None, 35, 35, 32)   9216        ['activation_2485[0][0]']        \n",
      "                                                                                                  \n",
      " conv2d_2489 (Conv2D)           (None, 35, 35, 64)   27648       ['activation_2488[0][0]']        \n",
      "                                                                                                  \n",
      " batch_normalization_2484 (Batc  (None, 35, 35, 32)  96          ['conv2d_2484[0][0]']            \n",
      " hNormalization)                                                                                  \n",
      "                                                                                                  \n",
      " batch_normalization_2486 (Batc  (None, 35, 35, 32)  96          ['conv2d_2486[0][0]']            \n",
      " hNormalization)                                                                                  \n",
      "                                                                                                  \n",
      " batch_normalization_2489 (Batc  (None, 35, 35, 64)  192         ['conv2d_2489[0][0]']            \n",
      " hNormalization)                                                                                  \n",
      "                                                                                                  \n",
      " activation_2484 (Activation)   (None, 35, 35, 32)   0           ['batch_normalization_2484[0][0]'\n",
      "                                                                 ]                                \n",
      "                                                                                                  \n",
      " activation_2486 (Activation)   (None, 35, 35, 32)   0           ['batch_normalization_2486[0][0]'\n",
      "                                                                 ]                                \n",
      "                                                                                                  \n",
      " activation_2489 (Activation)   (None, 35, 35, 64)   0           ['batch_normalization_2489[0][0]'\n",
      "                                                                 ]                                \n",
      "                                                                                                  \n",
      " block35_7_mixed (Concatenate)  (None, 35, 35, 128)  0           ['activation_2484[0][0]',        \n",
      "                                                                  'activation_2486[0][0]',        \n",
      "                                                                  'activation_2489[0][0]']        \n",
      "                                                                                                  \n",
      " block35_7_conv (Conv2D)        (None, 35, 35, 320)  41280       ['block35_7_mixed[0][0]']        \n",
      "                                                                                                  \n",
      " custom_scale_layer_486 (Custom  (None, 35, 35, 320)  0          ['block35_6_ac[0][0]',           \n",
      " ScaleLayer)                                                      'block35_7_conv[0][0]']         \n",
      "                                                                                                  \n",
      " block35_7_ac (Activation)      (None, 35, 35, 320)  0           ['custom_scale_layer_486[0][0]'] \n",
      "                                                                                                  \n",
      " conv2d_2493 (Conv2D)           (None, 35, 35, 32)   10240       ['block35_7_ac[0][0]']           \n",
      "                                                                                                  \n",
      " batch_normalization_2493 (Batc  (None, 35, 35, 32)  96          ['conv2d_2493[0][0]']            \n",
      " hNormalization)                                                                                  \n",
      "                                                                                                  \n",
      " activation_2493 (Activation)   (None, 35, 35, 32)   0           ['batch_normalization_2493[0][0]'\n",
      "                                                                 ]                                \n",
      "                                                                                                  \n",
      " conv2d_2491 (Conv2D)           (None, 35, 35, 32)   10240       ['block35_7_ac[0][0]']           \n",
      "                                                                                                  \n",
      " conv2d_2494 (Conv2D)           (None, 35, 35, 48)   13824       ['activation_2493[0][0]']        \n",
      "                                                                                                  \n",
      " batch_normalization_2491 (Batc  (None, 35, 35, 32)  96          ['conv2d_2491[0][0]']            \n",
      " hNormalization)                                                                                  \n",
      "                                                                                                  \n",
      " batch_normalization_2494 (Batc  (None, 35, 35, 48)  144         ['conv2d_2494[0][0]']            \n",
      " hNormalization)                                                                                  \n",
      "                                                                                                  \n",
      " activation_2491 (Activation)   (None, 35, 35, 32)   0           ['batch_normalization_2491[0][0]'\n",
      "                                                                 ]                                \n",
      "                                                                                                  \n",
      " activation_2494 (Activation)   (None, 35, 35, 48)   0           ['batch_normalization_2494[0][0]'\n",
      "                                                                 ]                                \n",
      "                                                                                                  \n",
      " conv2d_2490 (Conv2D)           (None, 35, 35, 32)   10240       ['block35_7_ac[0][0]']           \n",
      "                                                                                                  \n",
      " conv2d_2492 (Conv2D)           (None, 35, 35, 32)   9216        ['activation_2491[0][0]']        \n",
      "                                                                                                  \n",
      " conv2d_2495 (Conv2D)           (None, 35, 35, 64)   27648       ['activation_2494[0][0]']        \n",
      "                                                                                                  \n",
      " batch_normalization_2490 (Batc  (None, 35, 35, 32)  96          ['conv2d_2490[0][0]']            \n",
      " hNormalization)                                                                                  \n",
      "                                                                                                  \n",
      " batch_normalization_2492 (Batc  (None, 35, 35, 32)  96          ['conv2d_2492[0][0]']            \n",
      " hNormalization)                                                                                  \n",
      "                                                                                                  \n",
      " batch_normalization_2495 (Batc  (None, 35, 35, 64)  192         ['conv2d_2495[0][0]']            \n",
      " hNormalization)                                                                                  \n",
      "                                                                                                  \n",
      " activation_2490 (Activation)   (None, 35, 35, 32)   0           ['batch_normalization_2490[0][0]'\n",
      "                                                                 ]                                \n",
      "                                                                                                  \n",
      " activation_2492 (Activation)   (None, 35, 35, 32)   0           ['batch_normalization_2492[0][0]'\n",
      "                                                                 ]                                \n",
      "                                                                                                  \n",
      " activation_2495 (Activation)   (None, 35, 35, 64)   0           ['batch_normalization_2495[0][0]'\n",
      "                                                                 ]                                \n",
      "                                                                                                  \n",
      " block35_8_mixed (Concatenate)  (None, 35, 35, 128)  0           ['activation_2490[0][0]',        \n"
     ]
    },
    {
     "name": "stdout",
     "output_type": "stream",
     "text": [
      "                                                                  'activation_2492[0][0]',        \n",
      "                                                                  'activation_2495[0][0]']        \n",
      "                                                                                                  \n",
      " block35_8_conv (Conv2D)        (None, 35, 35, 320)  41280       ['block35_8_mixed[0][0]']        \n",
      "                                                                                                  \n",
      " custom_scale_layer_487 (Custom  (None, 35, 35, 320)  0          ['block35_7_ac[0][0]',           \n",
      " ScaleLayer)                                                      'block35_8_conv[0][0]']         \n",
      "                                                                                                  \n",
      " block35_8_ac (Activation)      (None, 35, 35, 320)  0           ['custom_scale_layer_487[0][0]'] \n",
      "                                                                                                  \n",
      " conv2d_2499 (Conv2D)           (None, 35, 35, 32)   10240       ['block35_8_ac[0][0]']           \n",
      "                                                                                                  \n",
      " batch_normalization_2499 (Batc  (None, 35, 35, 32)  96          ['conv2d_2499[0][0]']            \n",
      " hNormalization)                                                                                  \n",
      "                                                                                                  \n",
      " activation_2499 (Activation)   (None, 35, 35, 32)   0           ['batch_normalization_2499[0][0]'\n",
      "                                                                 ]                                \n",
      "                                                                                                  \n",
      " conv2d_2497 (Conv2D)           (None, 35, 35, 32)   10240       ['block35_8_ac[0][0]']           \n",
      "                                                                                                  \n",
      " conv2d_2500 (Conv2D)           (None, 35, 35, 48)   13824       ['activation_2499[0][0]']        \n",
      "                                                                                                  \n",
      " batch_normalization_2497 (Batc  (None, 35, 35, 32)  96          ['conv2d_2497[0][0]']            \n",
      " hNormalization)                                                                                  \n",
      "                                                                                                  \n",
      " batch_normalization_2500 (Batc  (None, 35, 35, 48)  144         ['conv2d_2500[0][0]']            \n",
      " hNormalization)                                                                                  \n",
      "                                                                                                  \n",
      " activation_2497 (Activation)   (None, 35, 35, 32)   0           ['batch_normalization_2497[0][0]'\n",
      "                                                                 ]                                \n",
      "                                                                                                  \n",
      " activation_2500 (Activation)   (None, 35, 35, 48)   0           ['batch_normalization_2500[0][0]'\n",
      "                                                                 ]                                \n",
      "                                                                                                  \n",
      " conv2d_2496 (Conv2D)           (None, 35, 35, 32)   10240       ['block35_8_ac[0][0]']           \n",
      "                                                                                                  \n",
      " conv2d_2498 (Conv2D)           (None, 35, 35, 32)   9216        ['activation_2497[0][0]']        \n",
      "                                                                                                  \n",
      " conv2d_2501 (Conv2D)           (None, 35, 35, 64)   27648       ['activation_2500[0][0]']        \n",
      "                                                                                                  \n",
      " batch_normalization_2496 (Batc  (None, 35, 35, 32)  96          ['conv2d_2496[0][0]']            \n",
      " hNormalization)                                                                                  \n",
      "                                                                                                  \n",
      " batch_normalization_2498 (Batc  (None, 35, 35, 32)  96          ['conv2d_2498[0][0]']            \n",
      " hNormalization)                                                                                  \n",
      "                                                                                                  \n",
      " batch_normalization_2501 (Batc  (None, 35, 35, 64)  192         ['conv2d_2501[0][0]']            \n",
      " hNormalization)                                                                                  \n",
      "                                                                                                  \n",
      " activation_2496 (Activation)   (None, 35, 35, 32)   0           ['batch_normalization_2496[0][0]'\n",
      "                                                                 ]                                \n",
      "                                                                                                  \n",
      " activation_2498 (Activation)   (None, 35, 35, 32)   0           ['batch_normalization_2498[0][0]'\n",
      "                                                                 ]                                \n",
      "                                                                                                  \n",
      " activation_2501 (Activation)   (None, 35, 35, 64)   0           ['batch_normalization_2501[0][0]'\n",
      "                                                                 ]                                \n",
      "                                                                                                  \n",
      " block35_9_mixed (Concatenate)  (None, 35, 35, 128)  0           ['activation_2496[0][0]',        \n",
      "                                                                  'activation_2498[0][0]',        \n",
      "                                                                  'activation_2501[0][0]']        \n",
      "                                                                                                  \n",
      " block35_9_conv (Conv2D)        (None, 35, 35, 320)  41280       ['block35_9_mixed[0][0]']        \n",
      "                                                                                                  \n",
      " custom_scale_layer_488 (Custom  (None, 35, 35, 320)  0          ['block35_8_ac[0][0]',           \n",
      " ScaleLayer)                                                      'block35_9_conv[0][0]']         \n",
      "                                                                                                  \n",
      " block35_9_ac (Activation)      (None, 35, 35, 320)  0           ['custom_scale_layer_488[0][0]'] \n",
      "                                                                                                  \n",
      " conv2d_2505 (Conv2D)           (None, 35, 35, 32)   10240       ['block35_9_ac[0][0]']           \n",
      "                                                                                                  \n",
      " batch_normalization_2505 (Batc  (None, 35, 35, 32)  96          ['conv2d_2505[0][0]']            \n",
      " hNormalization)                                                                                  \n",
      "                                                                                                  \n",
      " activation_2505 (Activation)   (None, 35, 35, 32)   0           ['batch_normalization_2505[0][0]'\n",
      "                                                                 ]                                \n",
      "                                                                                                  \n",
      " conv2d_2503 (Conv2D)           (None, 35, 35, 32)   10240       ['block35_9_ac[0][0]']           \n",
      "                                                                                                  \n",
      " conv2d_2506 (Conv2D)           (None, 35, 35, 48)   13824       ['activation_2505[0][0]']        \n",
      "                                                                                                  \n",
      " batch_normalization_2503 (Batc  (None, 35, 35, 32)  96          ['conv2d_2503[0][0]']            \n",
      " hNormalization)                                                                                  \n"
     ]
    },
    {
     "name": "stdout",
     "output_type": "stream",
     "text": [
      "                                                                                                  \n",
      " batch_normalization_2506 (Batc  (None, 35, 35, 48)  144         ['conv2d_2506[0][0]']            \n",
      " hNormalization)                                                                                  \n",
      "                                                                                                  \n",
      " activation_2503 (Activation)   (None, 35, 35, 32)   0           ['batch_normalization_2503[0][0]'\n",
      "                                                                 ]                                \n",
      "                                                                                                  \n",
      " activation_2506 (Activation)   (None, 35, 35, 48)   0           ['batch_normalization_2506[0][0]'\n",
      "                                                                 ]                                \n",
      "                                                                                                  \n",
      " conv2d_2502 (Conv2D)           (None, 35, 35, 32)   10240       ['block35_9_ac[0][0]']           \n",
      "                                                                                                  \n",
      " conv2d_2504 (Conv2D)           (None, 35, 35, 32)   9216        ['activation_2503[0][0]']        \n",
      "                                                                                                  \n",
      " conv2d_2507 (Conv2D)           (None, 35, 35, 64)   27648       ['activation_2506[0][0]']        \n",
      "                                                                                                  \n",
      " batch_normalization_2502 (Batc  (None, 35, 35, 32)  96          ['conv2d_2502[0][0]']            \n",
      " hNormalization)                                                                                  \n",
      "                                                                                                  \n",
      " batch_normalization_2504 (Batc  (None, 35, 35, 32)  96          ['conv2d_2504[0][0]']            \n",
      " hNormalization)                                                                                  \n",
      "                                                                                                  \n",
      " batch_normalization_2507 (Batc  (None, 35, 35, 64)  192         ['conv2d_2507[0][0]']            \n",
      " hNormalization)                                                                                  \n",
      "                                                                                                  \n",
      " activation_2502 (Activation)   (None, 35, 35, 32)   0           ['batch_normalization_2502[0][0]'\n",
      "                                                                 ]                                \n",
      "                                                                                                  \n",
      " activation_2504 (Activation)   (None, 35, 35, 32)   0           ['batch_normalization_2504[0][0]'\n",
      "                                                                 ]                                \n",
      "                                                                                                  \n",
      " activation_2507 (Activation)   (None, 35, 35, 64)   0           ['batch_normalization_2507[0][0]'\n",
      "                                                                 ]                                \n",
      "                                                                                                  \n",
      " block35_10_mixed (Concatenate)  (None, 35, 35, 128)  0          ['activation_2502[0][0]',        \n",
      "                                                                  'activation_2504[0][0]',        \n",
      "                                                                  'activation_2507[0][0]']        \n",
      "                                                                                                  \n",
      " block35_10_conv (Conv2D)       (None, 35, 35, 320)  41280       ['block35_10_mixed[0][0]']       \n",
      "                                                                                                  \n",
      " custom_scale_layer_489 (Custom  (None, 35, 35, 320)  0          ['block35_9_ac[0][0]',           \n",
      " ScaleLayer)                                                      'block35_10_conv[0][0]']        \n",
      "                                                                                                  \n",
      " block35_10_ac (Activation)     (None, 35, 35, 320)  0           ['custom_scale_layer_489[0][0]'] \n",
      "                                                                                                  \n",
      " conv2d_2509 (Conv2D)           (None, 35, 35, 256)  81920       ['block35_10_ac[0][0]']          \n",
      "                                                                                                  \n",
      " batch_normalization_2509 (Batc  (None, 35, 35, 256)  768        ['conv2d_2509[0][0]']            \n",
      " hNormalization)                                                                                  \n",
      "                                                                                                  \n",
      " activation_2509 (Activation)   (None, 35, 35, 256)  0           ['batch_normalization_2509[0][0]'\n",
      "                                                                 ]                                \n",
      "                                                                                                  \n",
      " conv2d_2510 (Conv2D)           (None, 35, 35, 256)  589824      ['activation_2509[0][0]']        \n",
      "                                                                                                  \n",
      " batch_normalization_2510 (Batc  (None, 35, 35, 256)  768        ['conv2d_2510[0][0]']            \n",
      " hNormalization)                                                                                  \n",
      "                                                                                                  \n",
      " activation_2510 (Activation)   (None, 35, 35, 256)  0           ['batch_normalization_2510[0][0]'\n",
      "                                                                 ]                                \n",
      "                                                                                                  \n",
      " conv2d_2508 (Conv2D)           (None, 17, 17, 384)  1105920     ['block35_10_ac[0][0]']          \n",
      "                                                                                                  \n",
      " conv2d_2511 (Conv2D)           (None, 17, 17, 384)  884736      ['activation_2510[0][0]']        \n",
      "                                                                                                  \n",
      " batch_normalization_2508 (Batc  (None, 17, 17, 384)  1152       ['conv2d_2508[0][0]']            \n",
      " hNormalization)                                                                                  \n",
      "                                                                                                  \n",
      " batch_normalization_2511 (Batc  (None, 17, 17, 384)  1152       ['conv2d_2511[0][0]']            \n",
      " hNormalization)                                                                                  \n",
      "                                                                                                  \n",
      " activation_2508 (Activation)   (None, 17, 17, 384)  0           ['batch_normalization_2508[0][0]'\n",
      "                                                                 ]                                \n",
      "                                                                                                  \n",
      " activation_2511 (Activation)   (None, 17, 17, 384)  0           ['batch_normalization_2511[0][0]'\n",
      "                                                                 ]                                \n",
      "                                                                                                  \n",
      " max_pooling2d_50 (MaxPooling2D  (None, 17, 17, 320)  0          ['block35_10_ac[0][0]']          \n",
      " )                                                                                                \n",
      "                                                                                                  \n",
      " mixed_6a (Concatenate)         (None, 17, 17, 1088  0           ['activation_2508[0][0]',        \n",
      "                                )                                 'activation_2511[0][0]',        \n",
      "                                                                  'max_pooling2d_50[0][0]']       \n"
     ]
    },
    {
     "name": "stdout",
     "output_type": "stream",
     "text": [
      "                                                                                                  \n",
      " conv2d_2513 (Conv2D)           (None, 17, 17, 128)  139264      ['mixed_6a[0][0]']               \n",
      "                                                                                                  \n",
      " batch_normalization_2513 (Batc  (None, 17, 17, 128)  384        ['conv2d_2513[0][0]']            \n",
      " hNormalization)                                                                                  \n",
      "                                                                                                  \n",
      " activation_2513 (Activation)   (None, 17, 17, 128)  0           ['batch_normalization_2513[0][0]'\n",
      "                                                                 ]                                \n",
      "                                                                                                  \n",
      " conv2d_2514 (Conv2D)           (None, 17, 17, 160)  143360      ['activation_2513[0][0]']        \n",
      "                                                                                                  \n",
      " batch_normalization_2514 (Batc  (None, 17, 17, 160)  480        ['conv2d_2514[0][0]']            \n",
      " hNormalization)                                                                                  \n",
      "                                                                                                  \n",
      " activation_2514 (Activation)   (None, 17, 17, 160)  0           ['batch_normalization_2514[0][0]'\n",
      "                                                                 ]                                \n",
      "                                                                                                  \n",
      " conv2d_2512 (Conv2D)           (None, 17, 17, 192)  208896      ['mixed_6a[0][0]']               \n",
      "                                                                                                  \n",
      " conv2d_2515 (Conv2D)           (None, 17, 17, 192)  215040      ['activation_2514[0][0]']        \n",
      "                                                                                                  \n",
      " batch_normalization_2512 (Batc  (None, 17, 17, 192)  576        ['conv2d_2512[0][0]']            \n",
      " hNormalization)                                                                                  \n",
      "                                                                                                  \n",
      " batch_normalization_2515 (Batc  (None, 17, 17, 192)  576        ['conv2d_2515[0][0]']            \n",
      " hNormalization)                                                                                  \n",
      "                                                                                                  \n",
      " activation_2512 (Activation)   (None, 17, 17, 192)  0           ['batch_normalization_2512[0][0]'\n",
      "                                                                 ]                                \n",
      "                                                                                                  \n",
      " activation_2515 (Activation)   (None, 17, 17, 192)  0           ['batch_normalization_2515[0][0]'\n",
      "                                                                 ]                                \n",
      "                                                                                                  \n",
      " block17_1_mixed (Concatenate)  (None, 17, 17, 384)  0           ['activation_2512[0][0]',        \n",
      "                                                                  'activation_2515[0][0]']        \n",
      "                                                                                                  \n",
      " block17_1_conv (Conv2D)        (None, 17, 17, 1088  418880      ['block17_1_mixed[0][0]']        \n",
      "                                )                                                                 \n",
      "                                                                                                  \n",
      " custom_scale_layer_490 (Custom  (None, 17, 17, 1088  0          ['mixed_6a[0][0]',               \n",
      " ScaleLayer)                    )                                 'block17_1_conv[0][0]']         \n",
      "                                                                                                  \n",
      " block17_1_ac (Activation)      (None, 17, 17, 1088  0           ['custom_scale_layer_490[0][0]'] \n",
      "                                )                                                                 \n",
      "                                                                                                  \n",
      " conv2d_2517 (Conv2D)           (None, 17, 17, 128)  139264      ['block17_1_ac[0][0]']           \n",
      "                                                                                                  \n",
      " batch_normalization_2517 (Batc  (None, 17, 17, 128)  384        ['conv2d_2517[0][0]']            \n",
      " hNormalization)                                                                                  \n",
      "                                                                                                  \n",
      " activation_2517 (Activation)   (None, 17, 17, 128)  0           ['batch_normalization_2517[0][0]'\n",
      "                                                                 ]                                \n",
      "                                                                                                  \n",
      " conv2d_2518 (Conv2D)           (None, 17, 17, 160)  143360      ['activation_2517[0][0]']        \n",
      "                                                                                                  \n",
      " batch_normalization_2518 (Batc  (None, 17, 17, 160)  480        ['conv2d_2518[0][0]']            \n",
      " hNormalization)                                                                                  \n",
      "                                                                                                  \n",
      " activation_2518 (Activation)   (None, 17, 17, 160)  0           ['batch_normalization_2518[0][0]'\n",
      "                                                                 ]                                \n",
      "                                                                                                  \n",
      " conv2d_2516 (Conv2D)           (None, 17, 17, 192)  208896      ['block17_1_ac[0][0]']           \n",
      "                                                                                                  \n",
      " conv2d_2519 (Conv2D)           (None, 17, 17, 192)  215040      ['activation_2518[0][0]']        \n",
      "                                                                                                  \n",
      " batch_normalization_2516 (Batc  (None, 17, 17, 192)  576        ['conv2d_2516[0][0]']            \n",
      " hNormalization)                                                                                  \n",
      "                                                                                                  \n",
      " batch_normalization_2519 (Batc  (None, 17, 17, 192)  576        ['conv2d_2519[0][0]']            \n",
      " hNormalization)                                                                                  \n",
      "                                                                                                  \n",
      " activation_2516 (Activation)   (None, 17, 17, 192)  0           ['batch_normalization_2516[0][0]'\n",
      "                                                                 ]                                \n",
      "                                                                                                  \n",
      " activation_2519 (Activation)   (None, 17, 17, 192)  0           ['batch_normalization_2519[0][0]'\n",
      "                                                                 ]                                \n",
      "                                                                                                  \n",
      " block17_2_mixed (Concatenate)  (None, 17, 17, 384)  0           ['activation_2516[0][0]',        \n",
      "                                                                  'activation_2519[0][0]']        \n",
      "                                                                                                  \n",
      " block17_2_conv (Conv2D)        (None, 17, 17, 1088  418880      ['block17_2_mixed[0][0]']        \n",
      "                                )                                                                 \n",
      "                                                                                                  \n"
     ]
    },
    {
     "name": "stdout",
     "output_type": "stream",
     "text": [
      " custom_scale_layer_491 (Custom  (None, 17, 17, 1088  0          ['block17_1_ac[0][0]',           \n",
      " ScaleLayer)                    )                                 'block17_2_conv[0][0]']         \n",
      "                                                                                                  \n",
      " block17_2_ac (Activation)      (None, 17, 17, 1088  0           ['custom_scale_layer_491[0][0]'] \n",
      "                                )                                                                 \n",
      "                                                                                                  \n",
      " conv2d_2521 (Conv2D)           (None, 17, 17, 128)  139264      ['block17_2_ac[0][0]']           \n",
      "                                                                                                  \n",
      " batch_normalization_2521 (Batc  (None, 17, 17, 128)  384        ['conv2d_2521[0][0]']            \n",
      " hNormalization)                                                                                  \n",
      "                                                                                                  \n",
      " activation_2521 (Activation)   (None, 17, 17, 128)  0           ['batch_normalization_2521[0][0]'\n",
      "                                                                 ]                                \n",
      "                                                                                                  \n",
      " conv2d_2522 (Conv2D)           (None, 17, 17, 160)  143360      ['activation_2521[0][0]']        \n",
      "                                                                                                  \n",
      " batch_normalization_2522 (Batc  (None, 17, 17, 160)  480        ['conv2d_2522[0][0]']            \n",
      " hNormalization)                                                                                  \n",
      "                                                                                                  \n",
      " activation_2522 (Activation)   (None, 17, 17, 160)  0           ['batch_normalization_2522[0][0]'\n",
      "                                                                 ]                                \n",
      "                                                                                                  \n",
      " conv2d_2520 (Conv2D)           (None, 17, 17, 192)  208896      ['block17_2_ac[0][0]']           \n",
      "                                                                                                  \n",
      " conv2d_2523 (Conv2D)           (None, 17, 17, 192)  215040      ['activation_2522[0][0]']        \n",
      "                                                                                                  \n",
      " batch_normalization_2520 (Batc  (None, 17, 17, 192)  576        ['conv2d_2520[0][0]']            \n",
      " hNormalization)                                                                                  \n",
      "                                                                                                  \n",
      " batch_normalization_2523 (Batc  (None, 17, 17, 192)  576        ['conv2d_2523[0][0]']            \n",
      " hNormalization)                                                                                  \n",
      "                                                                                                  \n",
      " activation_2520 (Activation)   (None, 17, 17, 192)  0           ['batch_normalization_2520[0][0]'\n",
      "                                                                 ]                                \n",
      "                                                                                                  \n",
      " activation_2523 (Activation)   (None, 17, 17, 192)  0           ['batch_normalization_2523[0][0]'\n",
      "                                                                 ]                                \n",
      "                                                                                                  \n",
      " block17_3_mixed (Concatenate)  (None, 17, 17, 384)  0           ['activation_2520[0][0]',        \n",
      "                                                                  'activation_2523[0][0]']        \n",
      "                                                                                                  \n",
      " block17_3_conv (Conv2D)        (None, 17, 17, 1088  418880      ['block17_3_mixed[0][0]']        \n",
      "                                )                                                                 \n",
      "                                                                                                  \n",
      " custom_scale_layer_492 (Custom  (None, 17, 17, 1088  0          ['block17_2_ac[0][0]',           \n",
      " ScaleLayer)                    )                                 'block17_3_conv[0][0]']         \n",
      "                                                                                                  \n",
      " block17_3_ac (Activation)      (None, 17, 17, 1088  0           ['custom_scale_layer_492[0][0]'] \n",
      "                                )                                                                 \n",
      "                                                                                                  \n",
      " conv2d_2525 (Conv2D)           (None, 17, 17, 128)  139264      ['block17_3_ac[0][0]']           \n",
      "                                                                                                  \n",
      " batch_normalization_2525 (Batc  (None, 17, 17, 128)  384        ['conv2d_2525[0][0]']            \n",
      " hNormalization)                                                                                  \n",
      "                                                                                                  \n",
      " activation_2525 (Activation)   (None, 17, 17, 128)  0           ['batch_normalization_2525[0][0]'\n",
      "                                                                 ]                                \n",
      "                                                                                                  \n",
      " conv2d_2526 (Conv2D)           (None, 17, 17, 160)  143360      ['activation_2525[0][0]']        \n",
      "                                                                                                  \n",
      " batch_normalization_2526 (Batc  (None, 17, 17, 160)  480        ['conv2d_2526[0][0]']            \n",
      " hNormalization)                                                                                  \n",
      "                                                                                                  \n",
      " activation_2526 (Activation)   (None, 17, 17, 160)  0           ['batch_normalization_2526[0][0]'\n",
      "                                                                 ]                                \n",
      "                                                                                                  \n",
      " conv2d_2524 (Conv2D)           (None, 17, 17, 192)  208896      ['block17_3_ac[0][0]']           \n",
      "                                                                                                  \n",
      " conv2d_2527 (Conv2D)           (None, 17, 17, 192)  215040      ['activation_2526[0][0]']        \n",
      "                                                                                                  \n",
      " batch_normalization_2524 (Batc  (None, 17, 17, 192)  576        ['conv2d_2524[0][0]']            \n",
      " hNormalization)                                                                                  \n",
      "                                                                                                  \n",
      " batch_normalization_2527 (Batc  (None, 17, 17, 192)  576        ['conv2d_2527[0][0]']            \n",
      " hNormalization)                                                                                  \n",
      "                                                                                                  \n",
      " activation_2524 (Activation)   (None, 17, 17, 192)  0           ['batch_normalization_2524[0][0]'\n",
      "                                                                 ]                                \n",
      "                                                                                                  \n",
      " activation_2527 (Activation)   (None, 17, 17, 192)  0           ['batch_normalization_2527[0][0]'\n",
      "                                                                 ]                                \n",
      "                                                                                                  \n",
      " block17_4_mixed (Concatenate)  (None, 17, 17, 384)  0           ['activation_2524[0][0]',        \n"
     ]
    },
    {
     "name": "stdout",
     "output_type": "stream",
     "text": [
      "                                                                  'activation_2527[0][0]']        \n",
      "                                                                                                  \n",
      " block17_4_conv (Conv2D)        (None, 17, 17, 1088  418880      ['block17_4_mixed[0][0]']        \n",
      "                                )                                                                 \n",
      "                                                                                                  \n",
      " custom_scale_layer_493 (Custom  (None, 17, 17, 1088  0          ['block17_3_ac[0][0]',           \n",
      " ScaleLayer)                    )                                 'block17_4_conv[0][0]']         \n",
      "                                                                                                  \n",
      " block17_4_ac (Activation)      (None, 17, 17, 1088  0           ['custom_scale_layer_493[0][0]'] \n",
      "                                )                                                                 \n",
      "                                                                                                  \n",
      " conv2d_2529 (Conv2D)           (None, 17, 17, 128)  139264      ['block17_4_ac[0][0]']           \n",
      "                                                                                                  \n",
      " batch_normalization_2529 (Batc  (None, 17, 17, 128)  384        ['conv2d_2529[0][0]']            \n",
      " hNormalization)                                                                                  \n",
      "                                                                                                  \n",
      " activation_2529 (Activation)   (None, 17, 17, 128)  0           ['batch_normalization_2529[0][0]'\n",
      "                                                                 ]                                \n",
      "                                                                                                  \n",
      " conv2d_2530 (Conv2D)           (None, 17, 17, 160)  143360      ['activation_2529[0][0]']        \n",
      "                                                                                                  \n",
      " batch_normalization_2530 (Batc  (None, 17, 17, 160)  480        ['conv2d_2530[0][0]']            \n",
      " hNormalization)                                                                                  \n",
      "                                                                                                  \n",
      " activation_2530 (Activation)   (None, 17, 17, 160)  0           ['batch_normalization_2530[0][0]'\n",
      "                                                                 ]                                \n",
      "                                                                                                  \n",
      " conv2d_2528 (Conv2D)           (None, 17, 17, 192)  208896      ['block17_4_ac[0][0]']           \n",
      "                                                                                                  \n",
      " conv2d_2531 (Conv2D)           (None, 17, 17, 192)  215040      ['activation_2530[0][0]']        \n",
      "                                                                                                  \n",
      " batch_normalization_2528 (Batc  (None, 17, 17, 192)  576        ['conv2d_2528[0][0]']            \n",
      " hNormalization)                                                                                  \n",
      "                                                                                                  \n",
      " batch_normalization_2531 (Batc  (None, 17, 17, 192)  576        ['conv2d_2531[0][0]']            \n",
      " hNormalization)                                                                                  \n",
      "                                                                                                  \n",
      " activation_2528 (Activation)   (None, 17, 17, 192)  0           ['batch_normalization_2528[0][0]'\n",
      "                                                                 ]                                \n",
      "                                                                                                  \n",
      " activation_2531 (Activation)   (None, 17, 17, 192)  0           ['batch_normalization_2531[0][0]'\n",
      "                                                                 ]                                \n",
      "                                                                                                  \n",
      " block17_5_mixed (Concatenate)  (None, 17, 17, 384)  0           ['activation_2528[0][0]',        \n",
      "                                                                  'activation_2531[0][0]']        \n",
      "                                                                                                  \n",
      " block17_5_conv (Conv2D)        (None, 17, 17, 1088  418880      ['block17_5_mixed[0][0]']        \n",
      "                                )                                                                 \n",
      "                                                                                                  \n",
      " custom_scale_layer_494 (Custom  (None, 17, 17, 1088  0          ['block17_4_ac[0][0]',           \n",
      " ScaleLayer)                    )                                 'block17_5_conv[0][0]']         \n",
      "                                                                                                  \n",
      " block17_5_ac (Activation)      (None, 17, 17, 1088  0           ['custom_scale_layer_494[0][0]'] \n",
      "                                )                                                                 \n",
      "                                                                                                  \n",
      " conv2d_2533 (Conv2D)           (None, 17, 17, 128)  139264      ['block17_5_ac[0][0]']           \n",
      "                                                                                                  \n",
      " batch_normalization_2533 (Batc  (None, 17, 17, 128)  384        ['conv2d_2533[0][0]']            \n",
      " hNormalization)                                                                                  \n",
      "                                                                                                  \n",
      " activation_2533 (Activation)   (None, 17, 17, 128)  0           ['batch_normalization_2533[0][0]'\n",
      "                                                                 ]                                \n",
      "                                                                                                  \n",
      " conv2d_2534 (Conv2D)           (None, 17, 17, 160)  143360      ['activation_2533[0][0]']        \n",
      "                                                                                                  \n",
      " batch_normalization_2534 (Batc  (None, 17, 17, 160)  480        ['conv2d_2534[0][0]']            \n",
      " hNormalization)                                                                                  \n",
      "                                                                                                  \n",
      " activation_2534 (Activation)   (None, 17, 17, 160)  0           ['batch_normalization_2534[0][0]'\n",
      "                                                                 ]                                \n",
      "                                                                                                  \n",
      " conv2d_2532 (Conv2D)           (None, 17, 17, 192)  208896      ['block17_5_ac[0][0]']           \n",
      "                                                                                                  \n",
      " conv2d_2535 (Conv2D)           (None, 17, 17, 192)  215040      ['activation_2534[0][0]']        \n",
      "                                                                                                  \n",
      " batch_normalization_2532 (Batc  (None, 17, 17, 192)  576        ['conv2d_2532[0][0]']            \n",
      " hNormalization)                                                                                  \n",
      "                                                                                                  \n",
      " batch_normalization_2535 (Batc  (None, 17, 17, 192)  576        ['conv2d_2535[0][0]']            \n",
      " hNormalization)                                                                                  \n",
      "                                                                                                  \n",
      " activation_2532 (Activation)   (None, 17, 17, 192)  0           ['batch_normalization_2532[0][0]'\n",
      "                                                                 ]                                \n"
     ]
    },
    {
     "name": "stdout",
     "output_type": "stream",
     "text": [
      "                                                                                                  \n",
      " activation_2535 (Activation)   (None, 17, 17, 192)  0           ['batch_normalization_2535[0][0]'\n",
      "                                                                 ]                                \n",
      "                                                                                                  \n",
      " block17_6_mixed (Concatenate)  (None, 17, 17, 384)  0           ['activation_2532[0][0]',        \n",
      "                                                                  'activation_2535[0][0]']        \n",
      "                                                                                                  \n",
      " block17_6_conv (Conv2D)        (None, 17, 17, 1088  418880      ['block17_6_mixed[0][0]']        \n",
      "                                )                                                                 \n",
      "                                                                                                  \n",
      " custom_scale_layer_495 (Custom  (None, 17, 17, 1088  0          ['block17_5_ac[0][0]',           \n",
      " ScaleLayer)                    )                                 'block17_6_conv[0][0]']         \n",
      "                                                                                                  \n",
      " block17_6_ac (Activation)      (None, 17, 17, 1088  0           ['custom_scale_layer_495[0][0]'] \n",
      "                                )                                                                 \n",
      "                                                                                                  \n",
      " conv2d_2537 (Conv2D)           (None, 17, 17, 128)  139264      ['block17_6_ac[0][0]']           \n",
      "                                                                                                  \n",
      " batch_normalization_2537 (Batc  (None, 17, 17, 128)  384        ['conv2d_2537[0][0]']            \n",
      " hNormalization)                                                                                  \n",
      "                                                                                                  \n",
      " activation_2537 (Activation)   (None, 17, 17, 128)  0           ['batch_normalization_2537[0][0]'\n",
      "                                                                 ]                                \n",
      "                                                                                                  \n",
      " conv2d_2538 (Conv2D)           (None, 17, 17, 160)  143360      ['activation_2537[0][0]']        \n",
      "                                                                                                  \n",
      " batch_normalization_2538 (Batc  (None, 17, 17, 160)  480        ['conv2d_2538[0][0]']            \n",
      " hNormalization)                                                                                  \n",
      "                                                                                                  \n",
      " activation_2538 (Activation)   (None, 17, 17, 160)  0           ['batch_normalization_2538[0][0]'\n",
      "                                                                 ]                                \n",
      "                                                                                                  \n",
      " conv2d_2536 (Conv2D)           (None, 17, 17, 192)  208896      ['block17_6_ac[0][0]']           \n",
      "                                                                                                  \n",
      " conv2d_2539 (Conv2D)           (None, 17, 17, 192)  215040      ['activation_2538[0][0]']        \n",
      "                                                                                                  \n",
      " batch_normalization_2536 (Batc  (None, 17, 17, 192)  576        ['conv2d_2536[0][0]']            \n",
      " hNormalization)                                                                                  \n",
      "                                                                                                  \n",
      " batch_normalization_2539 (Batc  (None, 17, 17, 192)  576        ['conv2d_2539[0][0]']            \n",
      " hNormalization)                                                                                  \n",
      "                                                                                                  \n",
      " activation_2536 (Activation)   (None, 17, 17, 192)  0           ['batch_normalization_2536[0][0]'\n",
      "                                                                 ]                                \n",
      "                                                                                                  \n",
      " activation_2539 (Activation)   (None, 17, 17, 192)  0           ['batch_normalization_2539[0][0]'\n",
      "                                                                 ]                                \n",
      "                                                                                                  \n",
      " block17_7_mixed (Concatenate)  (None, 17, 17, 384)  0           ['activation_2536[0][0]',        \n",
      "                                                                  'activation_2539[0][0]']        \n",
      "                                                                                                  \n",
      " block17_7_conv (Conv2D)        (None, 17, 17, 1088  418880      ['block17_7_mixed[0][0]']        \n",
      "                                )                                                                 \n",
      "                                                                                                  \n",
      " custom_scale_layer_496 (Custom  (None, 17, 17, 1088  0          ['block17_6_ac[0][0]',           \n",
      " ScaleLayer)                    )                                 'block17_7_conv[0][0]']         \n",
      "                                                                                                  \n",
      " block17_7_ac (Activation)      (None, 17, 17, 1088  0           ['custom_scale_layer_496[0][0]'] \n",
      "                                )                                                                 \n",
      "                                                                                                  \n",
      " conv2d_2541 (Conv2D)           (None, 17, 17, 128)  139264      ['block17_7_ac[0][0]']           \n",
      "                                                                                                  \n",
      " batch_normalization_2541 (Batc  (None, 17, 17, 128)  384        ['conv2d_2541[0][0]']            \n",
      " hNormalization)                                                                                  \n",
      "                                                                                                  \n",
      " activation_2541 (Activation)   (None, 17, 17, 128)  0           ['batch_normalization_2541[0][0]'\n",
      "                                                                 ]                                \n",
      "                                                                                                  \n",
      " conv2d_2542 (Conv2D)           (None, 17, 17, 160)  143360      ['activation_2541[0][0]']        \n",
      "                                                                                                  \n",
      " batch_normalization_2542 (Batc  (None, 17, 17, 160)  480        ['conv2d_2542[0][0]']            \n",
      " hNormalization)                                                                                  \n",
      "                                                                                                  \n",
      " activation_2542 (Activation)   (None, 17, 17, 160)  0           ['batch_normalization_2542[0][0]'\n",
      "                                                                 ]                                \n",
      "                                                                                                  \n",
      " conv2d_2540 (Conv2D)           (None, 17, 17, 192)  208896      ['block17_7_ac[0][0]']           \n",
      "                                                                                                  \n",
      " conv2d_2543 (Conv2D)           (None, 17, 17, 192)  215040      ['activation_2542[0][0]']        \n",
      "                                                                                                  \n",
      " batch_normalization_2540 (Batc  (None, 17, 17, 192)  576        ['conv2d_2540[0][0]']            \n",
      " hNormalization)                                                                                  \n",
      "                                                                                                  \n"
     ]
    },
    {
     "name": "stdout",
     "output_type": "stream",
     "text": [
      " batch_normalization_2543 (Batc  (None, 17, 17, 192)  576        ['conv2d_2543[0][0]']            \n",
      " hNormalization)                                                                                  \n",
      "                                                                                                  \n",
      " activation_2540 (Activation)   (None, 17, 17, 192)  0           ['batch_normalization_2540[0][0]'\n",
      "                                                                 ]                                \n",
      "                                                                                                  \n",
      " activation_2543 (Activation)   (None, 17, 17, 192)  0           ['batch_normalization_2543[0][0]'\n",
      "                                                                 ]                                \n",
      "                                                                                                  \n",
      " block17_8_mixed (Concatenate)  (None, 17, 17, 384)  0           ['activation_2540[0][0]',        \n",
      "                                                                  'activation_2543[0][0]']        \n",
      "                                                                                                  \n",
      " block17_8_conv (Conv2D)        (None, 17, 17, 1088  418880      ['block17_8_mixed[0][0]']        \n",
      "                                )                                                                 \n",
      "                                                                                                  \n",
      " custom_scale_layer_497 (Custom  (None, 17, 17, 1088  0          ['block17_7_ac[0][0]',           \n",
      " ScaleLayer)                    )                                 'block17_8_conv[0][0]']         \n",
      "                                                                                                  \n",
      " block17_8_ac (Activation)      (None, 17, 17, 1088  0           ['custom_scale_layer_497[0][0]'] \n",
      "                                )                                                                 \n",
      "                                                                                                  \n",
      " conv2d_2545 (Conv2D)           (None, 17, 17, 128)  139264      ['block17_8_ac[0][0]']           \n",
      "                                                                                                  \n",
      " batch_normalization_2545 (Batc  (None, 17, 17, 128)  384        ['conv2d_2545[0][0]']            \n",
      " hNormalization)                                                                                  \n",
      "                                                                                                  \n",
      " activation_2545 (Activation)   (None, 17, 17, 128)  0           ['batch_normalization_2545[0][0]'\n",
      "                                                                 ]                                \n",
      "                                                                                                  \n",
      " conv2d_2546 (Conv2D)           (None, 17, 17, 160)  143360      ['activation_2545[0][0]']        \n",
      "                                                                                                  \n",
      " batch_normalization_2546 (Batc  (None, 17, 17, 160)  480        ['conv2d_2546[0][0]']            \n",
      " hNormalization)                                                                                  \n",
      "                                                                                                  \n",
      " activation_2546 (Activation)   (None, 17, 17, 160)  0           ['batch_normalization_2546[0][0]'\n",
      "                                                                 ]                                \n",
      "                                                                                                  \n",
      " conv2d_2544 (Conv2D)           (None, 17, 17, 192)  208896      ['block17_8_ac[0][0]']           \n",
      "                                                                                                  \n",
      " conv2d_2547 (Conv2D)           (None, 17, 17, 192)  215040      ['activation_2546[0][0]']        \n",
      "                                                                                                  \n",
      " batch_normalization_2544 (Batc  (None, 17, 17, 192)  576        ['conv2d_2544[0][0]']            \n",
      " hNormalization)                                                                                  \n",
      "                                                                                                  \n",
      " batch_normalization_2547 (Batc  (None, 17, 17, 192)  576        ['conv2d_2547[0][0]']            \n",
      " hNormalization)                                                                                  \n",
      "                                                                                                  \n",
      " activation_2544 (Activation)   (None, 17, 17, 192)  0           ['batch_normalization_2544[0][0]'\n",
      "                                                                 ]                                \n",
      "                                                                                                  \n",
      " activation_2547 (Activation)   (None, 17, 17, 192)  0           ['batch_normalization_2547[0][0]'\n",
      "                                                                 ]                                \n",
      "                                                                                                  \n",
      " block17_9_mixed (Concatenate)  (None, 17, 17, 384)  0           ['activation_2544[0][0]',        \n",
      "                                                                  'activation_2547[0][0]']        \n",
      "                                                                                                  \n",
      " block17_9_conv (Conv2D)        (None, 17, 17, 1088  418880      ['block17_9_mixed[0][0]']        \n",
      "                                )                                                                 \n",
      "                                                                                                  \n",
      " custom_scale_layer_498 (Custom  (None, 17, 17, 1088  0          ['block17_8_ac[0][0]',           \n",
      " ScaleLayer)                    )                                 'block17_9_conv[0][0]']         \n",
      "                                                                                                  \n",
      " block17_9_ac (Activation)      (None, 17, 17, 1088  0           ['custom_scale_layer_498[0][0]'] \n",
      "                                )                                                                 \n",
      "                                                                                                  \n",
      " conv2d_2549 (Conv2D)           (None, 17, 17, 128)  139264      ['block17_9_ac[0][0]']           \n",
      "                                                                                                  \n",
      " batch_normalization_2549 (Batc  (None, 17, 17, 128)  384        ['conv2d_2549[0][0]']            \n",
      " hNormalization)                                                                                  \n",
      "                                                                                                  \n",
      " activation_2549 (Activation)   (None, 17, 17, 128)  0           ['batch_normalization_2549[0][0]'\n",
      "                                                                 ]                                \n",
      "                                                                                                  \n",
      " conv2d_2550 (Conv2D)           (None, 17, 17, 160)  143360      ['activation_2549[0][0]']        \n",
      "                                                                                                  \n",
      " batch_normalization_2550 (Batc  (None, 17, 17, 160)  480        ['conv2d_2550[0][0]']            \n",
      " hNormalization)                                                                                  \n",
      "                                                                                                  \n",
      " activation_2550 (Activation)   (None, 17, 17, 160)  0           ['batch_normalization_2550[0][0]'\n",
      "                                                                 ]                                \n",
      "                                                                                                  \n",
      " conv2d_2548 (Conv2D)           (None, 17, 17, 192)  208896      ['block17_9_ac[0][0]']           \n",
      "                                                                                                  \n"
     ]
    },
    {
     "name": "stdout",
     "output_type": "stream",
     "text": [
      " conv2d_2551 (Conv2D)           (None, 17, 17, 192)  215040      ['activation_2550[0][0]']        \n",
      "                                                                                                  \n",
      " batch_normalization_2548 (Batc  (None, 17, 17, 192)  576        ['conv2d_2548[0][0]']            \n",
      " hNormalization)                                                                                  \n",
      "                                                                                                  \n",
      " batch_normalization_2551 (Batc  (None, 17, 17, 192)  576        ['conv2d_2551[0][0]']            \n",
      " hNormalization)                                                                                  \n",
      "                                                                                                  \n",
      " activation_2548 (Activation)   (None, 17, 17, 192)  0           ['batch_normalization_2548[0][0]'\n",
      "                                                                 ]                                \n",
      "                                                                                                  \n",
      " activation_2551 (Activation)   (None, 17, 17, 192)  0           ['batch_normalization_2551[0][0]'\n",
      "                                                                 ]                                \n",
      "                                                                                                  \n",
      " block17_10_mixed (Concatenate)  (None, 17, 17, 384)  0          ['activation_2548[0][0]',        \n",
      "                                                                  'activation_2551[0][0]']        \n",
      "                                                                                                  \n",
      " block17_10_conv (Conv2D)       (None, 17, 17, 1088  418880      ['block17_10_mixed[0][0]']       \n",
      "                                )                                                                 \n",
      "                                                                                                  \n",
      " custom_scale_layer_499 (Custom  (None, 17, 17, 1088  0          ['block17_9_ac[0][0]',           \n",
      " ScaleLayer)                    )                                 'block17_10_conv[0][0]']        \n",
      "                                                                                                  \n",
      " block17_10_ac (Activation)     (None, 17, 17, 1088  0           ['custom_scale_layer_499[0][0]'] \n",
      "                                )                                                                 \n",
      "                                                                                                  \n",
      " conv2d_2553 (Conv2D)           (None, 17, 17, 128)  139264      ['block17_10_ac[0][0]']          \n",
      "                                                                                                  \n",
      " batch_normalization_2553 (Batc  (None, 17, 17, 128)  384        ['conv2d_2553[0][0]']            \n",
      " hNormalization)                                                                                  \n",
      "                                                                                                  \n",
      " activation_2553 (Activation)   (None, 17, 17, 128)  0           ['batch_normalization_2553[0][0]'\n",
      "                                                                 ]                                \n",
      "                                                                                                  \n",
      " conv2d_2554 (Conv2D)           (None, 17, 17, 160)  143360      ['activation_2553[0][0]']        \n",
      "                                                                                                  \n",
      " batch_normalization_2554 (Batc  (None, 17, 17, 160)  480        ['conv2d_2554[0][0]']            \n",
      " hNormalization)                                                                                  \n",
      "                                                                                                  \n",
      " activation_2554 (Activation)   (None, 17, 17, 160)  0           ['batch_normalization_2554[0][0]'\n",
      "                                                                 ]                                \n",
      "                                                                                                  \n",
      " conv2d_2552 (Conv2D)           (None, 17, 17, 192)  208896      ['block17_10_ac[0][0]']          \n",
      "                                                                                                  \n",
      " conv2d_2555 (Conv2D)           (None, 17, 17, 192)  215040      ['activation_2554[0][0]']        \n",
      "                                                                                                  \n",
      " batch_normalization_2552 (Batc  (None, 17, 17, 192)  576        ['conv2d_2552[0][0]']            \n",
      " hNormalization)                                                                                  \n",
      "                                                                                                  \n",
      " batch_normalization_2555 (Batc  (None, 17, 17, 192)  576        ['conv2d_2555[0][0]']            \n",
      " hNormalization)                                                                                  \n",
      "                                                                                                  \n",
      " activation_2552 (Activation)   (None, 17, 17, 192)  0           ['batch_normalization_2552[0][0]'\n",
      "                                                                 ]                                \n",
      "                                                                                                  \n",
      " activation_2555 (Activation)   (None, 17, 17, 192)  0           ['batch_normalization_2555[0][0]'\n",
      "                                                                 ]                                \n",
      "                                                                                                  \n",
      " block17_11_mixed (Concatenate)  (None, 17, 17, 384)  0          ['activation_2552[0][0]',        \n",
      "                                                                  'activation_2555[0][0]']        \n",
      "                                                                                                  \n",
      " block17_11_conv (Conv2D)       (None, 17, 17, 1088  418880      ['block17_11_mixed[0][0]']       \n",
      "                                )                                                                 \n",
      "                                                                                                  \n",
      " custom_scale_layer_500 (Custom  (None, 17, 17, 1088  0          ['block17_10_ac[0][0]',          \n",
      " ScaleLayer)                    )                                 'block17_11_conv[0][0]']        \n",
      "                                                                                                  \n",
      " block17_11_ac (Activation)     (None, 17, 17, 1088  0           ['custom_scale_layer_500[0][0]'] \n",
      "                                )                                                                 \n",
      "                                                                                                  \n",
      " conv2d_2557 (Conv2D)           (None, 17, 17, 128)  139264      ['block17_11_ac[0][0]']          \n",
      "                                                                                                  \n",
      " batch_normalization_2557 (Batc  (None, 17, 17, 128)  384        ['conv2d_2557[0][0]']            \n",
      " hNormalization)                                                                                  \n",
      "                                                                                                  \n",
      " activation_2557 (Activation)   (None, 17, 17, 128)  0           ['batch_normalization_2557[0][0]'\n",
      "                                                                 ]                                \n",
      "                                                                                                  \n",
      " conv2d_2558 (Conv2D)           (None, 17, 17, 160)  143360      ['activation_2557[0][0]']        \n",
      "                                                                                                  \n",
      " batch_normalization_2558 (Batc  (None, 17, 17, 160)  480        ['conv2d_2558[0][0]']            \n",
      " hNormalization)                                                                                  \n",
      "                                                                                                  \n"
     ]
    },
    {
     "name": "stdout",
     "output_type": "stream",
     "text": [
      " activation_2558 (Activation)   (None, 17, 17, 160)  0           ['batch_normalization_2558[0][0]'\n",
      "                                                                 ]                                \n",
      "                                                                                                  \n",
      " conv2d_2556 (Conv2D)           (None, 17, 17, 192)  208896      ['block17_11_ac[0][0]']          \n",
      "                                                                                                  \n",
      " conv2d_2559 (Conv2D)           (None, 17, 17, 192)  215040      ['activation_2558[0][0]']        \n",
      "                                                                                                  \n",
      " batch_normalization_2556 (Batc  (None, 17, 17, 192)  576        ['conv2d_2556[0][0]']            \n",
      " hNormalization)                                                                                  \n",
      "                                                                                                  \n",
      " batch_normalization_2559 (Batc  (None, 17, 17, 192)  576        ['conv2d_2559[0][0]']            \n",
      " hNormalization)                                                                                  \n",
      "                                                                                                  \n",
      " activation_2556 (Activation)   (None, 17, 17, 192)  0           ['batch_normalization_2556[0][0]'\n",
      "                                                                 ]                                \n",
      "                                                                                                  \n",
      " activation_2559 (Activation)   (None, 17, 17, 192)  0           ['batch_normalization_2559[0][0]'\n",
      "                                                                 ]                                \n",
      "                                                                                                  \n",
      " block17_12_mixed (Concatenate)  (None, 17, 17, 384)  0          ['activation_2556[0][0]',        \n",
      "                                                                  'activation_2559[0][0]']        \n",
      "                                                                                                  \n",
      " block17_12_conv (Conv2D)       (None, 17, 17, 1088  418880      ['block17_12_mixed[0][0]']       \n",
      "                                )                                                                 \n",
      "                                                                                                  \n",
      " custom_scale_layer_501 (Custom  (None, 17, 17, 1088  0          ['block17_11_ac[0][0]',          \n",
      " ScaleLayer)                    )                                 'block17_12_conv[0][0]']        \n",
      "                                                                                                  \n",
      " block17_12_ac (Activation)     (None, 17, 17, 1088  0           ['custom_scale_layer_501[0][0]'] \n",
      "                                )                                                                 \n",
      "                                                                                                  \n",
      " conv2d_2561 (Conv2D)           (None, 17, 17, 128)  139264      ['block17_12_ac[0][0]']          \n",
      "                                                                                                  \n",
      " batch_normalization_2561 (Batc  (None, 17, 17, 128)  384        ['conv2d_2561[0][0]']            \n",
      " hNormalization)                                                                                  \n",
      "                                                                                                  \n",
      " activation_2561 (Activation)   (None, 17, 17, 128)  0           ['batch_normalization_2561[0][0]'\n",
      "                                                                 ]                                \n",
      "                                                                                                  \n",
      " conv2d_2562 (Conv2D)           (None, 17, 17, 160)  143360      ['activation_2561[0][0]']        \n",
      "                                                                                                  \n",
      " batch_normalization_2562 (Batc  (None, 17, 17, 160)  480        ['conv2d_2562[0][0]']            \n",
      " hNormalization)                                                                                  \n",
      "                                                                                                  \n",
      " activation_2562 (Activation)   (None, 17, 17, 160)  0           ['batch_normalization_2562[0][0]'\n",
      "                                                                 ]                                \n",
      "                                                                                                  \n",
      " conv2d_2560 (Conv2D)           (None, 17, 17, 192)  208896      ['block17_12_ac[0][0]']          \n",
      "                                                                                                  \n",
      " conv2d_2563 (Conv2D)           (None, 17, 17, 192)  215040      ['activation_2562[0][0]']        \n",
      "                                                                                                  \n",
      " batch_normalization_2560 (Batc  (None, 17, 17, 192)  576        ['conv2d_2560[0][0]']            \n",
      " hNormalization)                                                                                  \n",
      "                                                                                                  \n",
      " batch_normalization_2563 (Batc  (None, 17, 17, 192)  576        ['conv2d_2563[0][0]']            \n",
      " hNormalization)                                                                                  \n",
      "                                                                                                  \n",
      " activation_2560 (Activation)   (None, 17, 17, 192)  0           ['batch_normalization_2560[0][0]'\n",
      "                                                                 ]                                \n",
      "                                                                                                  \n",
      " activation_2563 (Activation)   (None, 17, 17, 192)  0           ['batch_normalization_2563[0][0]'\n",
      "                                                                 ]                                \n",
      "                                                                                                  \n",
      " block17_13_mixed (Concatenate)  (None, 17, 17, 384)  0          ['activation_2560[0][0]',        \n",
      "                                                                  'activation_2563[0][0]']        \n",
      "                                                                                                  \n",
      " block17_13_conv (Conv2D)       (None, 17, 17, 1088  418880      ['block17_13_mixed[0][0]']       \n",
      "                                )                                                                 \n",
      "                                                                                                  \n",
      " custom_scale_layer_502 (Custom  (None, 17, 17, 1088  0          ['block17_12_ac[0][0]',          \n",
      " ScaleLayer)                    )                                 'block17_13_conv[0][0]']        \n",
      "                                                                                                  \n",
      " block17_13_ac (Activation)     (None, 17, 17, 1088  0           ['custom_scale_layer_502[0][0]'] \n",
      "                                )                                                                 \n",
      "                                                                                                  \n",
      " conv2d_2565 (Conv2D)           (None, 17, 17, 128)  139264      ['block17_13_ac[0][0]']          \n",
      "                                                                                                  \n",
      " batch_normalization_2565 (Batc  (None, 17, 17, 128)  384        ['conv2d_2565[0][0]']            \n",
      " hNormalization)                                                                                  \n",
      "                                                                                                  \n",
      " activation_2565 (Activation)   (None, 17, 17, 128)  0           ['batch_normalization_2565[0][0]'\n",
      "                                                                 ]                                \n",
      "                                                                                                  \n"
     ]
    },
    {
     "name": "stdout",
     "output_type": "stream",
     "text": [
      " conv2d_2566 (Conv2D)           (None, 17, 17, 160)  143360      ['activation_2565[0][0]']        \n",
      "                                                                                                  \n",
      " batch_normalization_2566 (Batc  (None, 17, 17, 160)  480        ['conv2d_2566[0][0]']            \n",
      " hNormalization)                                                                                  \n",
      "                                                                                                  \n",
      " activation_2566 (Activation)   (None, 17, 17, 160)  0           ['batch_normalization_2566[0][0]'\n",
      "                                                                 ]                                \n",
      "                                                                                                  \n",
      " conv2d_2564 (Conv2D)           (None, 17, 17, 192)  208896      ['block17_13_ac[0][0]']          \n",
      "                                                                                                  \n",
      " conv2d_2567 (Conv2D)           (None, 17, 17, 192)  215040      ['activation_2566[0][0]']        \n",
      "                                                                                                  \n",
      " batch_normalization_2564 (Batc  (None, 17, 17, 192)  576        ['conv2d_2564[0][0]']            \n",
      " hNormalization)                                                                                  \n",
      "                                                                                                  \n",
      " batch_normalization_2567 (Batc  (None, 17, 17, 192)  576        ['conv2d_2567[0][0]']            \n",
      " hNormalization)                                                                                  \n",
      "                                                                                                  \n",
      " activation_2564 (Activation)   (None, 17, 17, 192)  0           ['batch_normalization_2564[0][0]'\n",
      "                                                                 ]                                \n",
      "                                                                                                  \n",
      " activation_2567 (Activation)   (None, 17, 17, 192)  0           ['batch_normalization_2567[0][0]'\n",
      "                                                                 ]                                \n",
      "                                                                                                  \n",
      " block17_14_mixed (Concatenate)  (None, 17, 17, 384)  0          ['activation_2564[0][0]',        \n",
      "                                                                  'activation_2567[0][0]']        \n",
      "                                                                                                  \n",
      " block17_14_conv (Conv2D)       (None, 17, 17, 1088  418880      ['block17_14_mixed[0][0]']       \n",
      "                                )                                                                 \n",
      "                                                                                                  \n",
      " custom_scale_layer_503 (Custom  (None, 17, 17, 1088  0          ['block17_13_ac[0][0]',          \n",
      " ScaleLayer)                    )                                 'block17_14_conv[0][0]']        \n",
      "                                                                                                  \n",
      " block17_14_ac (Activation)     (None, 17, 17, 1088  0           ['custom_scale_layer_503[0][0]'] \n",
      "                                )                                                                 \n",
      "                                                                                                  \n",
      " conv2d_2569 (Conv2D)           (None, 17, 17, 128)  139264      ['block17_14_ac[0][0]']          \n",
      "                                                                                                  \n",
      " batch_normalization_2569 (Batc  (None, 17, 17, 128)  384        ['conv2d_2569[0][0]']            \n",
      " hNormalization)                                                                                  \n",
      "                                                                                                  \n",
      " activation_2569 (Activation)   (None, 17, 17, 128)  0           ['batch_normalization_2569[0][0]'\n",
      "                                                                 ]                                \n",
      "                                                                                                  \n",
      " conv2d_2570 (Conv2D)           (None, 17, 17, 160)  143360      ['activation_2569[0][0]']        \n",
      "                                                                                                  \n",
      " batch_normalization_2570 (Batc  (None, 17, 17, 160)  480        ['conv2d_2570[0][0]']            \n",
      " hNormalization)                                                                                  \n",
      "                                                                                                  \n",
      " activation_2570 (Activation)   (None, 17, 17, 160)  0           ['batch_normalization_2570[0][0]'\n",
      "                                                                 ]                                \n",
      "                                                                                                  \n",
      " conv2d_2568 (Conv2D)           (None, 17, 17, 192)  208896      ['block17_14_ac[0][0]']          \n",
      "                                                                                                  \n",
      " conv2d_2571 (Conv2D)           (None, 17, 17, 192)  215040      ['activation_2570[0][0]']        \n",
      "                                                                                                  \n",
      " batch_normalization_2568 (Batc  (None, 17, 17, 192)  576        ['conv2d_2568[0][0]']            \n",
      " hNormalization)                                                                                  \n",
      "                                                                                                  \n",
      " batch_normalization_2571 (Batc  (None, 17, 17, 192)  576        ['conv2d_2571[0][0]']            \n",
      " hNormalization)                                                                                  \n",
      "                                                                                                  \n",
      " activation_2568 (Activation)   (None, 17, 17, 192)  0           ['batch_normalization_2568[0][0]'\n",
      "                                                                 ]                                \n",
      "                                                                                                  \n",
      " activation_2571 (Activation)   (None, 17, 17, 192)  0           ['batch_normalization_2571[0][0]'\n",
      "                                                                 ]                                \n",
      "                                                                                                  \n",
      " block17_15_mixed (Concatenate)  (None, 17, 17, 384)  0          ['activation_2568[0][0]',        \n",
      "                                                                  'activation_2571[0][0]']        \n",
      "                                                                                                  \n",
      " block17_15_conv (Conv2D)       (None, 17, 17, 1088  418880      ['block17_15_mixed[0][0]']       \n",
      "                                )                                                                 \n",
      "                                                                                                  \n",
      " custom_scale_layer_504 (Custom  (None, 17, 17, 1088  0          ['block17_14_ac[0][0]',          \n",
      " ScaleLayer)                    )                                 'block17_15_conv[0][0]']        \n",
      "                                                                                                  \n",
      " block17_15_ac (Activation)     (None, 17, 17, 1088  0           ['custom_scale_layer_504[0][0]'] \n",
      "                                )                                                                 \n",
      "                                                                                                  \n",
      " conv2d_2573 (Conv2D)           (None, 17, 17, 128)  139264      ['block17_15_ac[0][0]']          \n",
      "                                                                                                  \n",
      " batch_normalization_2573 (Batc  (None, 17, 17, 128)  384        ['conv2d_2573[0][0]']            \n"
     ]
    },
    {
     "name": "stdout",
     "output_type": "stream",
     "text": [
      " hNormalization)                                                                                  \n",
      "                                                                                                  \n",
      " activation_2573 (Activation)   (None, 17, 17, 128)  0           ['batch_normalization_2573[0][0]'\n",
      "                                                                 ]                                \n",
      "                                                                                                  \n",
      " conv2d_2574 (Conv2D)           (None, 17, 17, 160)  143360      ['activation_2573[0][0]']        \n",
      "                                                                                                  \n",
      " batch_normalization_2574 (Batc  (None, 17, 17, 160)  480        ['conv2d_2574[0][0]']            \n",
      " hNormalization)                                                                                  \n",
      "                                                                                                  \n",
      " activation_2574 (Activation)   (None, 17, 17, 160)  0           ['batch_normalization_2574[0][0]'\n",
      "                                                                 ]                                \n",
      "                                                                                                  \n",
      " conv2d_2572 (Conv2D)           (None, 17, 17, 192)  208896      ['block17_15_ac[0][0]']          \n",
      "                                                                                                  \n",
      " conv2d_2575 (Conv2D)           (None, 17, 17, 192)  215040      ['activation_2574[0][0]']        \n",
      "                                                                                                  \n",
      " batch_normalization_2572 (Batc  (None, 17, 17, 192)  576        ['conv2d_2572[0][0]']            \n",
      " hNormalization)                                                                                  \n",
      "                                                                                                  \n",
      " batch_normalization_2575 (Batc  (None, 17, 17, 192)  576        ['conv2d_2575[0][0]']            \n",
      " hNormalization)                                                                                  \n",
      "                                                                                                  \n",
      " activation_2572 (Activation)   (None, 17, 17, 192)  0           ['batch_normalization_2572[0][0]'\n",
      "                                                                 ]                                \n",
      "                                                                                                  \n",
      " activation_2575 (Activation)   (None, 17, 17, 192)  0           ['batch_normalization_2575[0][0]'\n",
      "                                                                 ]                                \n",
      "                                                                                                  \n",
      " block17_16_mixed (Concatenate)  (None, 17, 17, 384)  0          ['activation_2572[0][0]',        \n",
      "                                                                  'activation_2575[0][0]']        \n",
      "                                                                                                  \n",
      " block17_16_conv (Conv2D)       (None, 17, 17, 1088  418880      ['block17_16_mixed[0][0]']       \n",
      "                                )                                                                 \n",
      "                                                                                                  \n",
      " custom_scale_layer_505 (Custom  (None, 17, 17, 1088  0          ['block17_15_ac[0][0]',          \n",
      " ScaleLayer)                    )                                 'block17_16_conv[0][0]']        \n",
      "                                                                                                  \n",
      " block17_16_ac (Activation)     (None, 17, 17, 1088  0           ['custom_scale_layer_505[0][0]'] \n",
      "                                )                                                                 \n",
      "                                                                                                  \n",
      " conv2d_2577 (Conv2D)           (None, 17, 17, 128)  139264      ['block17_16_ac[0][0]']          \n",
      "                                                                                                  \n",
      " batch_normalization_2577 (Batc  (None, 17, 17, 128)  384        ['conv2d_2577[0][0]']            \n",
      " hNormalization)                                                                                  \n",
      "                                                                                                  \n",
      " activation_2577 (Activation)   (None, 17, 17, 128)  0           ['batch_normalization_2577[0][0]'\n",
      "                                                                 ]                                \n",
      "                                                                                                  \n",
      " conv2d_2578 (Conv2D)           (None, 17, 17, 160)  143360      ['activation_2577[0][0]']        \n",
      "                                                                                                  \n",
      " batch_normalization_2578 (Batc  (None, 17, 17, 160)  480        ['conv2d_2578[0][0]']            \n",
      " hNormalization)                                                                                  \n",
      "                                                                                                  \n",
      " activation_2578 (Activation)   (None, 17, 17, 160)  0           ['batch_normalization_2578[0][0]'\n",
      "                                                                 ]                                \n",
      "                                                                                                  \n",
      " conv2d_2576 (Conv2D)           (None, 17, 17, 192)  208896      ['block17_16_ac[0][0]']          \n",
      "                                                                                                  \n",
      " conv2d_2579 (Conv2D)           (None, 17, 17, 192)  215040      ['activation_2578[0][0]']        \n",
      "                                                                                                  \n",
      " batch_normalization_2576 (Batc  (None, 17, 17, 192)  576        ['conv2d_2576[0][0]']            \n",
      " hNormalization)                                                                                  \n",
      "                                                                                                  \n",
      " batch_normalization_2579 (Batc  (None, 17, 17, 192)  576        ['conv2d_2579[0][0]']            \n",
      " hNormalization)                                                                                  \n",
      "                                                                                                  \n",
      " activation_2576 (Activation)   (None, 17, 17, 192)  0           ['batch_normalization_2576[0][0]'\n",
      "                                                                 ]                                \n",
      "                                                                                                  \n",
      " activation_2579 (Activation)   (None, 17, 17, 192)  0           ['batch_normalization_2579[0][0]'\n",
      "                                                                 ]                                \n",
      "                                                                                                  \n",
      " block17_17_mixed (Concatenate)  (None, 17, 17, 384)  0          ['activation_2576[0][0]',        \n",
      "                                                                  'activation_2579[0][0]']        \n",
      "                                                                                                  \n",
      " block17_17_conv (Conv2D)       (None, 17, 17, 1088  418880      ['block17_17_mixed[0][0]']       \n",
      "                                )                                                                 \n",
      "                                                                                                  \n",
      " custom_scale_layer_506 (Custom  (None, 17, 17, 1088  0          ['block17_16_ac[0][0]',          \n",
      " ScaleLayer)                    )                                 'block17_17_conv[0][0]']        \n",
      "                                                                                                  \n",
      " block17_17_ac (Activation)     (None, 17, 17, 1088  0           ['custom_scale_layer_506[0][0]'] \n"
     ]
    },
    {
     "name": "stdout",
     "output_type": "stream",
     "text": [
      "                                )                                                                 \n",
      "                                                                                                  \n",
      " conv2d_2581 (Conv2D)           (None, 17, 17, 128)  139264      ['block17_17_ac[0][0]']          \n",
      "                                                                                                  \n",
      " batch_normalization_2581 (Batc  (None, 17, 17, 128)  384        ['conv2d_2581[0][0]']            \n",
      " hNormalization)                                                                                  \n",
      "                                                                                                  \n",
      " activation_2581 (Activation)   (None, 17, 17, 128)  0           ['batch_normalization_2581[0][0]'\n",
      "                                                                 ]                                \n",
      "                                                                                                  \n",
      " conv2d_2582 (Conv2D)           (None, 17, 17, 160)  143360      ['activation_2581[0][0]']        \n",
      "                                                                                                  \n",
      " batch_normalization_2582 (Batc  (None, 17, 17, 160)  480        ['conv2d_2582[0][0]']            \n",
      " hNormalization)                                                                                  \n",
      "                                                                                                  \n",
      " activation_2582 (Activation)   (None, 17, 17, 160)  0           ['batch_normalization_2582[0][0]'\n",
      "                                                                 ]                                \n",
      "                                                                                                  \n",
      " conv2d_2580 (Conv2D)           (None, 17, 17, 192)  208896      ['block17_17_ac[0][0]']          \n",
      "                                                                                                  \n",
      " conv2d_2583 (Conv2D)           (None, 17, 17, 192)  215040      ['activation_2582[0][0]']        \n",
      "                                                                                                  \n",
      " batch_normalization_2580 (Batc  (None, 17, 17, 192)  576        ['conv2d_2580[0][0]']            \n",
      " hNormalization)                                                                                  \n",
      "                                                                                                  \n",
      " batch_normalization_2583 (Batc  (None, 17, 17, 192)  576        ['conv2d_2583[0][0]']            \n",
      " hNormalization)                                                                                  \n",
      "                                                                                                  \n",
      " activation_2580 (Activation)   (None, 17, 17, 192)  0           ['batch_normalization_2580[0][0]'\n",
      "                                                                 ]                                \n",
      "                                                                                                  \n",
      " activation_2583 (Activation)   (None, 17, 17, 192)  0           ['batch_normalization_2583[0][0]'\n",
      "                                                                 ]                                \n",
      "                                                                                                  \n",
      " block17_18_mixed (Concatenate)  (None, 17, 17, 384)  0          ['activation_2580[0][0]',        \n",
      "                                                                  'activation_2583[0][0]']        \n",
      "                                                                                                  \n",
      " block17_18_conv (Conv2D)       (None, 17, 17, 1088  418880      ['block17_18_mixed[0][0]']       \n",
      "                                )                                                                 \n",
      "                                                                                                  \n",
      " custom_scale_layer_507 (Custom  (None, 17, 17, 1088  0          ['block17_17_ac[0][0]',          \n",
      " ScaleLayer)                    )                                 'block17_18_conv[0][0]']        \n",
      "                                                                                                  \n",
      " block17_18_ac (Activation)     (None, 17, 17, 1088  0           ['custom_scale_layer_507[0][0]'] \n",
      "                                )                                                                 \n",
      "                                                                                                  \n",
      " conv2d_2585 (Conv2D)           (None, 17, 17, 128)  139264      ['block17_18_ac[0][0]']          \n",
      "                                                                                                  \n",
      " batch_normalization_2585 (Batc  (None, 17, 17, 128)  384        ['conv2d_2585[0][0]']            \n",
      " hNormalization)                                                                                  \n",
      "                                                                                                  \n",
      " activation_2585 (Activation)   (None, 17, 17, 128)  0           ['batch_normalization_2585[0][0]'\n",
      "                                                                 ]                                \n",
      "                                                                                                  \n",
      " conv2d_2586 (Conv2D)           (None, 17, 17, 160)  143360      ['activation_2585[0][0]']        \n",
      "                                                                                                  \n",
      " batch_normalization_2586 (Batc  (None, 17, 17, 160)  480        ['conv2d_2586[0][0]']            \n",
      " hNormalization)                                                                                  \n",
      "                                                                                                  \n",
      " activation_2586 (Activation)   (None, 17, 17, 160)  0           ['batch_normalization_2586[0][0]'\n",
      "                                                                 ]                                \n",
      "                                                                                                  \n",
      " conv2d_2584 (Conv2D)           (None, 17, 17, 192)  208896      ['block17_18_ac[0][0]']          \n",
      "                                                                                                  \n",
      " conv2d_2587 (Conv2D)           (None, 17, 17, 192)  215040      ['activation_2586[0][0]']        \n",
      "                                                                                                  \n",
      " batch_normalization_2584 (Batc  (None, 17, 17, 192)  576        ['conv2d_2584[0][0]']            \n",
      " hNormalization)                                                                                  \n",
      "                                                                                                  \n",
      " batch_normalization_2587 (Batc  (None, 17, 17, 192)  576        ['conv2d_2587[0][0]']            \n",
      " hNormalization)                                                                                  \n",
      "                                                                                                  \n",
      " activation_2584 (Activation)   (None, 17, 17, 192)  0           ['batch_normalization_2584[0][0]'\n",
      "                                                                 ]                                \n",
      "                                                                                                  \n",
      " activation_2587 (Activation)   (None, 17, 17, 192)  0           ['batch_normalization_2587[0][0]'\n",
      "                                                                 ]                                \n",
      "                                                                                                  \n",
      " block17_19_mixed (Concatenate)  (None, 17, 17, 384)  0          ['activation_2584[0][0]',        \n",
      "                                                                  'activation_2587[0][0]']        \n",
      "                                                                                                  \n",
      " block17_19_conv (Conv2D)       (None, 17, 17, 1088  418880      ['block17_19_mixed[0][0]']       \n",
      "                                )                                                                 \n"
     ]
    },
    {
     "name": "stdout",
     "output_type": "stream",
     "text": [
      "                                                                                                  \n",
      " custom_scale_layer_508 (Custom  (None, 17, 17, 1088  0          ['block17_18_ac[0][0]',          \n",
      " ScaleLayer)                    )                                 'block17_19_conv[0][0]']        \n",
      "                                                                                                  \n",
      " block17_19_ac (Activation)     (None, 17, 17, 1088  0           ['custom_scale_layer_508[0][0]'] \n",
      "                                )                                                                 \n",
      "                                                                                                  \n",
      " conv2d_2589 (Conv2D)           (None, 17, 17, 128)  139264      ['block17_19_ac[0][0]']          \n",
      "                                                                                                  \n",
      " batch_normalization_2589 (Batc  (None, 17, 17, 128)  384        ['conv2d_2589[0][0]']            \n",
      " hNormalization)                                                                                  \n",
      "                                                                                                  \n",
      " activation_2589 (Activation)   (None, 17, 17, 128)  0           ['batch_normalization_2589[0][0]'\n",
      "                                                                 ]                                \n",
      "                                                                                                  \n",
      " conv2d_2590 (Conv2D)           (None, 17, 17, 160)  143360      ['activation_2589[0][0]']        \n",
      "                                                                                                  \n",
      " batch_normalization_2590 (Batc  (None, 17, 17, 160)  480        ['conv2d_2590[0][0]']            \n",
      " hNormalization)                                                                                  \n",
      "                                                                                                  \n",
      " activation_2590 (Activation)   (None, 17, 17, 160)  0           ['batch_normalization_2590[0][0]'\n",
      "                                                                 ]                                \n",
      "                                                                                                  \n",
      " conv2d_2588 (Conv2D)           (None, 17, 17, 192)  208896      ['block17_19_ac[0][0]']          \n",
      "                                                                                                  \n",
      " conv2d_2591 (Conv2D)           (None, 17, 17, 192)  215040      ['activation_2590[0][0]']        \n",
      "                                                                                                  \n",
      " batch_normalization_2588 (Batc  (None, 17, 17, 192)  576        ['conv2d_2588[0][0]']            \n",
      " hNormalization)                                                                                  \n",
      "                                                                                                  \n",
      " batch_normalization_2591 (Batc  (None, 17, 17, 192)  576        ['conv2d_2591[0][0]']            \n",
      " hNormalization)                                                                                  \n",
      "                                                                                                  \n",
      " activation_2588 (Activation)   (None, 17, 17, 192)  0           ['batch_normalization_2588[0][0]'\n",
      "                                                                 ]                                \n",
      "                                                                                                  \n",
      " activation_2591 (Activation)   (None, 17, 17, 192)  0           ['batch_normalization_2591[0][0]'\n",
      "                                                                 ]                                \n",
      "                                                                                                  \n",
      " block17_20_mixed (Concatenate)  (None, 17, 17, 384)  0          ['activation_2588[0][0]',        \n",
      "                                                                  'activation_2591[0][0]']        \n",
      "                                                                                                  \n",
      " block17_20_conv (Conv2D)       (None, 17, 17, 1088  418880      ['block17_20_mixed[0][0]']       \n",
      "                                )                                                                 \n",
      "                                                                                                  \n",
      " custom_scale_layer_509 (Custom  (None, 17, 17, 1088  0          ['block17_19_ac[0][0]',          \n",
      " ScaleLayer)                    )                                 'block17_20_conv[0][0]']        \n",
      "                                                                                                  \n",
      " block17_20_ac (Activation)     (None, 17, 17, 1088  0           ['custom_scale_layer_509[0][0]'] \n",
      "                                )                                                                 \n",
      "                                                                                                  \n",
      " conv2d_2596 (Conv2D)           (None, 17, 17, 256)  278528      ['block17_20_ac[0][0]']          \n",
      "                                                                                                  \n",
      " batch_normalization_2596 (Batc  (None, 17, 17, 256)  768        ['conv2d_2596[0][0]']            \n",
      " hNormalization)                                                                                  \n",
      "                                                                                                  \n",
      " activation_2596 (Activation)   (None, 17, 17, 256)  0           ['batch_normalization_2596[0][0]'\n",
      "                                                                 ]                                \n",
      "                                                                                                  \n",
      " conv2d_2592 (Conv2D)           (None, 17, 17, 256)  278528      ['block17_20_ac[0][0]']          \n",
      "                                                                                                  \n",
      " conv2d_2594 (Conv2D)           (None, 17, 17, 256)  278528      ['block17_20_ac[0][0]']          \n",
      "                                                                                                  \n",
      " conv2d_2597 (Conv2D)           (None, 17, 17, 288)  663552      ['activation_2596[0][0]']        \n",
      "                                                                                                  \n",
      " batch_normalization_2592 (Batc  (None, 17, 17, 256)  768        ['conv2d_2592[0][0]']            \n",
      " hNormalization)                                                                                  \n",
      "                                                                                                  \n",
      " batch_normalization_2594 (Batc  (None, 17, 17, 256)  768        ['conv2d_2594[0][0]']            \n",
      " hNormalization)                                                                                  \n",
      "                                                                                                  \n",
      " batch_normalization_2597 (Batc  (None, 17, 17, 288)  864        ['conv2d_2597[0][0]']            \n",
      " hNormalization)                                                                                  \n",
      "                                                                                                  \n",
      " activation_2592 (Activation)   (None, 17, 17, 256)  0           ['batch_normalization_2592[0][0]'\n",
      "                                                                 ]                                \n",
      "                                                                                                  \n",
      " activation_2594 (Activation)   (None, 17, 17, 256)  0           ['batch_normalization_2594[0][0]'\n",
      "                                                                 ]                                \n",
      "                                                                                                  \n",
      " activation_2597 (Activation)   (None, 17, 17, 288)  0           ['batch_normalization_2597[0][0]'\n",
      "                                                                 ]                                \n",
      "                                                                                                  \n"
     ]
    },
    {
     "name": "stdout",
     "output_type": "stream",
     "text": [
      " conv2d_2593 (Conv2D)           (None, 8, 8, 384)    884736      ['activation_2592[0][0]']        \n",
      "                                                                                                  \n",
      " conv2d_2595 (Conv2D)           (None, 8, 8, 288)    663552      ['activation_2594[0][0]']        \n",
      "                                                                                                  \n",
      " conv2d_2598 (Conv2D)           (None, 8, 8, 320)    829440      ['activation_2597[0][0]']        \n",
      "                                                                                                  \n",
      " batch_normalization_2593 (Batc  (None, 8, 8, 384)   1152        ['conv2d_2593[0][0]']            \n",
      " hNormalization)                                                                                  \n",
      "                                                                                                  \n",
      " batch_normalization_2595 (Batc  (None, 8, 8, 288)   864         ['conv2d_2595[0][0]']            \n",
      " hNormalization)                                                                                  \n",
      "                                                                                                  \n",
      " batch_normalization_2598 (Batc  (None, 8, 8, 320)   960         ['conv2d_2598[0][0]']            \n",
      " hNormalization)                                                                                  \n",
      "                                                                                                  \n",
      " activation_2593 (Activation)   (None, 8, 8, 384)    0           ['batch_normalization_2593[0][0]'\n",
      "                                                                 ]                                \n",
      "                                                                                                  \n",
      " activation_2595 (Activation)   (None, 8, 8, 288)    0           ['batch_normalization_2595[0][0]'\n",
      "                                                                 ]                                \n",
      "                                                                                                  \n",
      " activation_2598 (Activation)   (None, 8, 8, 320)    0           ['batch_normalization_2598[0][0]'\n",
      "                                                                 ]                                \n",
      "                                                                                                  \n",
      " max_pooling2d_51 (MaxPooling2D  (None, 8, 8, 1088)  0           ['block17_20_ac[0][0]']          \n",
      " )                                                                                                \n",
      "                                                                                                  \n",
      " mixed_7a (Concatenate)         (None, 8, 8, 2080)   0           ['activation_2593[0][0]',        \n",
      "                                                                  'activation_2595[0][0]',        \n",
      "                                                                  'activation_2598[0][0]',        \n",
      "                                                                  'max_pooling2d_51[0][0]']       \n",
      "                                                                                                  \n",
      " conv2d_2600 (Conv2D)           (None, 8, 8, 192)    399360      ['mixed_7a[0][0]']               \n",
      "                                                                                                  \n",
      " batch_normalization_2600 (Batc  (None, 8, 8, 192)   576         ['conv2d_2600[0][0]']            \n",
      " hNormalization)                                                                                  \n",
      "                                                                                                  \n",
      " activation_2600 (Activation)   (None, 8, 8, 192)    0           ['batch_normalization_2600[0][0]'\n",
      "                                                                 ]                                \n",
      "                                                                                                  \n",
      " conv2d_2601 (Conv2D)           (None, 8, 8, 224)    129024      ['activation_2600[0][0]']        \n",
      "                                                                                                  \n",
      " batch_normalization_2601 (Batc  (None, 8, 8, 224)   672         ['conv2d_2601[0][0]']            \n",
      " hNormalization)                                                                                  \n",
      "                                                                                                  \n",
      " activation_2601 (Activation)   (None, 8, 8, 224)    0           ['batch_normalization_2601[0][0]'\n",
      "                                                                 ]                                \n",
      "                                                                                                  \n",
      " conv2d_2599 (Conv2D)           (None, 8, 8, 192)    399360      ['mixed_7a[0][0]']               \n",
      "                                                                                                  \n",
      " conv2d_2602 (Conv2D)           (None, 8, 8, 256)    172032      ['activation_2601[0][0]']        \n",
      "                                                                                                  \n",
      " batch_normalization_2599 (Batc  (None, 8, 8, 192)   576         ['conv2d_2599[0][0]']            \n",
      " hNormalization)                                                                                  \n",
      "                                                                                                  \n",
      " batch_normalization_2602 (Batc  (None, 8, 8, 256)   768         ['conv2d_2602[0][0]']            \n",
      " hNormalization)                                                                                  \n",
      "                                                                                                  \n",
      " activation_2599 (Activation)   (None, 8, 8, 192)    0           ['batch_normalization_2599[0][0]'\n",
      "                                                                 ]                                \n",
      "                                                                                                  \n",
      " activation_2602 (Activation)   (None, 8, 8, 256)    0           ['batch_normalization_2602[0][0]'\n",
      "                                                                 ]                                \n",
      "                                                                                                  \n",
      " block8_1_mixed (Concatenate)   (None, 8, 8, 448)    0           ['activation_2599[0][0]',        \n",
      "                                                                  'activation_2602[0][0]']        \n",
      "                                                                                                  \n",
      " block8_1_conv (Conv2D)         (None, 8, 8, 2080)   933920      ['block8_1_mixed[0][0]']         \n",
      "                                                                                                  \n",
      " custom_scale_layer_510 (Custom  (None, 8, 8, 2080)  0           ['mixed_7a[0][0]',               \n",
      " ScaleLayer)                                                      'block8_1_conv[0][0]']          \n",
      "                                                                                                  \n",
      " block8_1_ac (Activation)       (None, 8, 8, 2080)   0           ['custom_scale_layer_510[0][0]'] \n",
      "                                                                                                  \n",
      " conv2d_2604 (Conv2D)           (None, 8, 8, 192)    399360      ['block8_1_ac[0][0]']            \n",
      "                                                                                                  \n",
      " batch_normalization_2604 (Batc  (None, 8, 8, 192)   576         ['conv2d_2604[0][0]']            \n",
      " hNormalization)                                                                                  \n",
      "                                                                                                  \n",
      " activation_2604 (Activation)   (None, 8, 8, 192)    0           ['batch_normalization_2604[0][0]'\n",
      "                                                                 ]                                \n",
      "                                                                                                  \n",
      " conv2d_2605 (Conv2D)           (None, 8, 8, 224)    129024      ['activation_2604[0][0]']        \n"
     ]
    },
    {
     "name": "stdout",
     "output_type": "stream",
     "text": [
      "                                                                                                  \n",
      " batch_normalization_2605 (Batc  (None, 8, 8, 224)   672         ['conv2d_2605[0][0]']            \n",
      " hNormalization)                                                                                  \n",
      "                                                                                                  \n",
      " activation_2605 (Activation)   (None, 8, 8, 224)    0           ['batch_normalization_2605[0][0]'\n",
      "                                                                 ]                                \n",
      "                                                                                                  \n",
      " conv2d_2603 (Conv2D)           (None, 8, 8, 192)    399360      ['block8_1_ac[0][0]']            \n",
      "                                                                                                  \n",
      " conv2d_2606 (Conv2D)           (None, 8, 8, 256)    172032      ['activation_2605[0][0]']        \n",
      "                                                                                                  \n",
      " batch_normalization_2603 (Batc  (None, 8, 8, 192)   576         ['conv2d_2603[0][0]']            \n",
      " hNormalization)                                                                                  \n",
      "                                                                                                  \n",
      " batch_normalization_2606 (Batc  (None, 8, 8, 256)   768         ['conv2d_2606[0][0]']            \n",
      " hNormalization)                                                                                  \n",
      "                                                                                                  \n",
      " activation_2603 (Activation)   (None, 8, 8, 192)    0           ['batch_normalization_2603[0][0]'\n",
      "                                                                 ]                                \n",
      "                                                                                                  \n",
      " activation_2606 (Activation)   (None, 8, 8, 256)    0           ['batch_normalization_2606[0][0]'\n",
      "                                                                 ]                                \n",
      "                                                                                                  \n",
      " block8_2_mixed (Concatenate)   (None, 8, 8, 448)    0           ['activation_2603[0][0]',        \n",
      "                                                                  'activation_2606[0][0]']        \n",
      "                                                                                                  \n",
      " block8_2_conv (Conv2D)         (None, 8, 8, 2080)   933920      ['block8_2_mixed[0][0]']         \n",
      "                                                                                                  \n",
      " custom_scale_layer_511 (Custom  (None, 8, 8, 2080)  0           ['block8_1_ac[0][0]',            \n",
      " ScaleLayer)                                                      'block8_2_conv[0][0]']          \n",
      "                                                                                                  \n",
      " block8_2_ac (Activation)       (None, 8, 8, 2080)   0           ['custom_scale_layer_511[0][0]'] \n",
      "                                                                                                  \n",
      " conv2d_2608 (Conv2D)           (None, 8, 8, 192)    399360      ['block8_2_ac[0][0]']            \n",
      "                                                                                                  \n",
      " batch_normalization_2608 (Batc  (None, 8, 8, 192)   576         ['conv2d_2608[0][0]']            \n",
      " hNormalization)                                                                                  \n",
      "                                                                                                  \n",
      " activation_2608 (Activation)   (None, 8, 8, 192)    0           ['batch_normalization_2608[0][0]'\n",
      "                                                                 ]                                \n",
      "                                                                                                  \n",
      " conv2d_2609 (Conv2D)           (None, 8, 8, 224)    129024      ['activation_2608[0][0]']        \n",
      "                                                                                                  \n",
      " batch_normalization_2609 (Batc  (None, 8, 8, 224)   672         ['conv2d_2609[0][0]']            \n",
      " hNormalization)                                                                                  \n",
      "                                                                                                  \n",
      " activation_2609 (Activation)   (None, 8, 8, 224)    0           ['batch_normalization_2609[0][0]'\n",
      "                                                                 ]                                \n",
      "                                                                                                  \n",
      " conv2d_2607 (Conv2D)           (None, 8, 8, 192)    399360      ['block8_2_ac[0][0]']            \n",
      "                                                                                                  \n",
      " conv2d_2610 (Conv2D)           (None, 8, 8, 256)    172032      ['activation_2609[0][0]']        \n",
      "                                                                                                  \n",
      " batch_normalization_2607 (Batc  (None, 8, 8, 192)   576         ['conv2d_2607[0][0]']            \n",
      " hNormalization)                                                                                  \n",
      "                                                                                                  \n",
      " batch_normalization_2610 (Batc  (None, 8, 8, 256)   768         ['conv2d_2610[0][0]']            \n",
      " hNormalization)                                                                                  \n",
      "                                                                                                  \n",
      " activation_2607 (Activation)   (None, 8, 8, 192)    0           ['batch_normalization_2607[0][0]'\n",
      "                                                                 ]                                \n",
      "                                                                                                  \n",
      " activation_2610 (Activation)   (None, 8, 8, 256)    0           ['batch_normalization_2610[0][0]'\n",
      "                                                                 ]                                \n",
      "                                                                                                  \n",
      " block8_3_mixed (Concatenate)   (None, 8, 8, 448)    0           ['activation_2607[0][0]',        \n",
      "                                                                  'activation_2610[0][0]']        \n",
      "                                                                                                  \n",
      " block8_3_conv (Conv2D)         (None, 8, 8, 2080)   933920      ['block8_3_mixed[0][0]']         \n",
      "                                                                                                  \n",
      " custom_scale_layer_512 (Custom  (None, 8, 8, 2080)  0           ['block8_2_ac[0][0]',            \n",
      " ScaleLayer)                                                      'block8_3_conv[0][0]']          \n",
      "                                                                                                  \n",
      " block8_3_ac (Activation)       (None, 8, 8, 2080)   0           ['custom_scale_layer_512[0][0]'] \n",
      "                                                                                                  \n",
      " conv2d_2612 (Conv2D)           (None, 8, 8, 192)    399360      ['block8_3_ac[0][0]']            \n",
      "                                                                                                  \n",
      " batch_normalization_2612 (Batc  (None, 8, 8, 192)   576         ['conv2d_2612[0][0]']            \n",
      " hNormalization)                                                                                  \n",
      "                                                                                                  \n",
      " activation_2612 (Activation)   (None, 8, 8, 192)    0           ['batch_normalization_2612[0][0]'\n",
      "                                                                 ]                                \n",
      "                                                                                                  \n"
     ]
    },
    {
     "name": "stdout",
     "output_type": "stream",
     "text": [
      " conv2d_2613 (Conv2D)           (None, 8, 8, 224)    129024      ['activation_2612[0][0]']        \n",
      "                                                                                                  \n",
      " batch_normalization_2613 (Batc  (None, 8, 8, 224)   672         ['conv2d_2613[0][0]']            \n",
      " hNormalization)                                                                                  \n",
      "                                                                                                  \n",
      " activation_2613 (Activation)   (None, 8, 8, 224)    0           ['batch_normalization_2613[0][0]'\n",
      "                                                                 ]                                \n",
      "                                                                                                  \n",
      " conv2d_2611 (Conv2D)           (None, 8, 8, 192)    399360      ['block8_3_ac[0][0]']            \n",
      "                                                                                                  \n",
      " conv2d_2614 (Conv2D)           (None, 8, 8, 256)    172032      ['activation_2613[0][0]']        \n",
      "                                                                                                  \n",
      " batch_normalization_2611 (Batc  (None, 8, 8, 192)   576         ['conv2d_2611[0][0]']            \n",
      " hNormalization)                                                                                  \n",
      "                                                                                                  \n",
      " batch_normalization_2614 (Batc  (None, 8, 8, 256)   768         ['conv2d_2614[0][0]']            \n",
      " hNormalization)                                                                                  \n",
      "                                                                                                  \n",
      " activation_2611 (Activation)   (None, 8, 8, 192)    0           ['batch_normalization_2611[0][0]'\n",
      "                                                                 ]                                \n",
      "                                                                                                  \n",
      " activation_2614 (Activation)   (None, 8, 8, 256)    0           ['batch_normalization_2614[0][0]'\n",
      "                                                                 ]                                \n",
      "                                                                                                  \n",
      " block8_4_mixed (Concatenate)   (None, 8, 8, 448)    0           ['activation_2611[0][0]',        \n",
      "                                                                  'activation_2614[0][0]']        \n",
      "                                                                                                  \n",
      " block8_4_conv (Conv2D)         (None, 8, 8, 2080)   933920      ['block8_4_mixed[0][0]']         \n",
      "                                                                                                  \n",
      " custom_scale_layer_513 (Custom  (None, 8, 8, 2080)  0           ['block8_3_ac[0][0]',            \n",
      " ScaleLayer)                                                      'block8_4_conv[0][0]']          \n",
      "                                                                                                  \n",
      " block8_4_ac (Activation)       (None, 8, 8, 2080)   0           ['custom_scale_layer_513[0][0]'] \n",
      "                                                                                                  \n",
      " conv2d_2616 (Conv2D)           (None, 8, 8, 192)    399360      ['block8_4_ac[0][0]']            \n",
      "                                                                                                  \n",
      " batch_normalization_2616 (Batc  (None, 8, 8, 192)   576         ['conv2d_2616[0][0]']            \n",
      " hNormalization)                                                                                  \n",
      "                                                                                                  \n",
      " activation_2616 (Activation)   (None, 8, 8, 192)    0           ['batch_normalization_2616[0][0]'\n",
      "                                                                 ]                                \n",
      "                                                                                                  \n",
      " conv2d_2617 (Conv2D)           (None, 8, 8, 224)    129024      ['activation_2616[0][0]']        \n",
      "                                                                                                  \n",
      " batch_normalization_2617 (Batc  (None, 8, 8, 224)   672         ['conv2d_2617[0][0]']            \n",
      " hNormalization)                                                                                  \n",
      "                                                                                                  \n",
      " activation_2617 (Activation)   (None, 8, 8, 224)    0           ['batch_normalization_2617[0][0]'\n",
      "                                                                 ]                                \n",
      "                                                                                                  \n",
      " conv2d_2615 (Conv2D)           (None, 8, 8, 192)    399360      ['block8_4_ac[0][0]']            \n",
      "                                                                                                  \n",
      " conv2d_2618 (Conv2D)           (None, 8, 8, 256)    172032      ['activation_2617[0][0]']        \n",
      "                                                                                                  \n",
      " batch_normalization_2615 (Batc  (None, 8, 8, 192)   576         ['conv2d_2615[0][0]']            \n",
      " hNormalization)                                                                                  \n",
      "                                                                                                  \n",
      " batch_normalization_2618 (Batc  (None, 8, 8, 256)   768         ['conv2d_2618[0][0]']            \n",
      " hNormalization)                                                                                  \n",
      "                                                                                                  \n",
      " activation_2615 (Activation)   (None, 8, 8, 192)    0           ['batch_normalization_2615[0][0]'\n",
      "                                                                 ]                                \n",
      "                                                                                                  \n",
      " activation_2618 (Activation)   (None, 8, 8, 256)    0           ['batch_normalization_2618[0][0]'\n",
      "                                                                 ]                                \n",
      "                                                                                                  \n",
      " block8_5_mixed (Concatenate)   (None, 8, 8, 448)    0           ['activation_2615[0][0]',        \n",
      "                                                                  'activation_2618[0][0]']        \n",
      "                                                                                                  \n",
      " block8_5_conv (Conv2D)         (None, 8, 8, 2080)   933920      ['block8_5_mixed[0][0]']         \n",
      "                                                                                                  \n",
      " custom_scale_layer_514 (Custom  (None, 8, 8, 2080)  0           ['block8_4_ac[0][0]',            \n",
      " ScaleLayer)                                                      'block8_5_conv[0][0]']          \n",
      "                                                                                                  \n",
      " block8_5_ac (Activation)       (None, 8, 8, 2080)   0           ['custom_scale_layer_514[0][0]'] \n",
      "                                                                                                  \n",
      " conv2d_2620 (Conv2D)           (None, 8, 8, 192)    399360      ['block8_5_ac[0][0]']            \n",
      "                                                                                                  \n",
      " batch_normalization_2620 (Batc  (None, 8, 8, 192)   576         ['conv2d_2620[0][0]']            \n",
      " hNormalization)                                                                                  \n",
      "                                                                                                  \n",
      " activation_2620 (Activation)   (None, 8, 8, 192)    0           ['batch_normalization_2620[0][0]'\n",
      "                                                                 ]                                \n"
     ]
    },
    {
     "name": "stdout",
     "output_type": "stream",
     "text": [
      "                                                                                                  \n",
      " conv2d_2621 (Conv2D)           (None, 8, 8, 224)    129024      ['activation_2620[0][0]']        \n",
      "                                                                                                  \n",
      " batch_normalization_2621 (Batc  (None, 8, 8, 224)   672         ['conv2d_2621[0][0]']            \n",
      " hNormalization)                                                                                  \n",
      "                                                                                                  \n",
      " activation_2621 (Activation)   (None, 8, 8, 224)    0           ['batch_normalization_2621[0][0]'\n",
      "                                                                 ]                                \n",
      "                                                                                                  \n",
      " conv2d_2619 (Conv2D)           (None, 8, 8, 192)    399360      ['block8_5_ac[0][0]']            \n",
      "                                                                                                  \n",
      " conv2d_2622 (Conv2D)           (None, 8, 8, 256)    172032      ['activation_2621[0][0]']        \n",
      "                                                                                                  \n",
      " batch_normalization_2619 (Batc  (None, 8, 8, 192)   576         ['conv2d_2619[0][0]']            \n",
      " hNormalization)                                                                                  \n",
      "                                                                                                  \n",
      " batch_normalization_2622 (Batc  (None, 8, 8, 256)   768         ['conv2d_2622[0][0]']            \n",
      " hNormalization)                                                                                  \n",
      "                                                                                                  \n",
      " activation_2619 (Activation)   (None, 8, 8, 192)    0           ['batch_normalization_2619[0][0]'\n",
      "                                                                 ]                                \n",
      "                                                                                                  \n",
      " activation_2622 (Activation)   (None, 8, 8, 256)    0           ['batch_normalization_2622[0][0]'\n",
      "                                                                 ]                                \n",
      "                                                                                                  \n",
      " block8_6_mixed (Concatenate)   (None, 8, 8, 448)    0           ['activation_2619[0][0]',        \n",
      "                                                                  'activation_2622[0][0]']        \n",
      "                                                                                                  \n",
      " block8_6_conv (Conv2D)         (None, 8, 8, 2080)   933920      ['block8_6_mixed[0][0]']         \n",
      "                                                                                                  \n",
      " custom_scale_layer_515 (Custom  (None, 8, 8, 2080)  0           ['block8_5_ac[0][0]',            \n",
      " ScaleLayer)                                                      'block8_6_conv[0][0]']          \n",
      "                                                                                                  \n",
      " block8_6_ac (Activation)       (None, 8, 8, 2080)   0           ['custom_scale_layer_515[0][0]'] \n",
      "                                                                                                  \n",
      " conv2d_2624 (Conv2D)           (None, 8, 8, 192)    399360      ['block8_6_ac[0][0]']            \n",
      "                                                                                                  \n",
      " batch_normalization_2624 (Batc  (None, 8, 8, 192)   576         ['conv2d_2624[0][0]']            \n",
      " hNormalization)                                                                                  \n",
      "                                                                                                  \n",
      " activation_2624 (Activation)   (None, 8, 8, 192)    0           ['batch_normalization_2624[0][0]'\n",
      "                                                                 ]                                \n",
      "                                                                                                  \n",
      " conv2d_2625 (Conv2D)           (None, 8, 8, 224)    129024      ['activation_2624[0][0]']        \n",
      "                                                                                                  \n",
      " batch_normalization_2625 (Batc  (None, 8, 8, 224)   672         ['conv2d_2625[0][0]']            \n",
      " hNormalization)                                                                                  \n",
      "                                                                                                  \n",
      " activation_2625 (Activation)   (None, 8, 8, 224)    0           ['batch_normalization_2625[0][0]'\n",
      "                                                                 ]                                \n",
      "                                                                                                  \n",
      " conv2d_2623 (Conv2D)           (None, 8, 8, 192)    399360      ['block8_6_ac[0][0]']            \n",
      "                                                                                                  \n",
      " conv2d_2626 (Conv2D)           (None, 8, 8, 256)    172032      ['activation_2625[0][0]']        \n",
      "                                                                                                  \n",
      " batch_normalization_2623 (Batc  (None, 8, 8, 192)   576         ['conv2d_2623[0][0]']            \n",
      " hNormalization)                                                                                  \n",
      "                                                                                                  \n",
      " batch_normalization_2626 (Batc  (None, 8, 8, 256)   768         ['conv2d_2626[0][0]']            \n",
      " hNormalization)                                                                                  \n",
      "                                                                                                  \n",
      " activation_2623 (Activation)   (None, 8, 8, 192)    0           ['batch_normalization_2623[0][0]'\n",
      "                                                                 ]                                \n",
      "                                                                                                  \n",
      " activation_2626 (Activation)   (None, 8, 8, 256)    0           ['batch_normalization_2626[0][0]'\n",
      "                                                                 ]                                \n",
      "                                                                                                  \n",
      " block8_7_mixed (Concatenate)   (None, 8, 8, 448)    0           ['activation_2623[0][0]',        \n",
      "                                                                  'activation_2626[0][0]']        \n",
      "                                                                                                  \n",
      " block8_7_conv (Conv2D)         (None, 8, 8, 2080)   933920      ['block8_7_mixed[0][0]']         \n",
      "                                                                                                  \n",
      " custom_scale_layer_516 (Custom  (None, 8, 8, 2080)  0           ['block8_6_ac[0][0]',            \n",
      " ScaleLayer)                                                      'block8_7_conv[0][0]']          \n",
      "                                                                                                  \n",
      " block8_7_ac (Activation)       (None, 8, 8, 2080)   0           ['custom_scale_layer_516[0][0]'] \n",
      "                                                                                                  \n",
      " conv2d_2628 (Conv2D)           (None, 8, 8, 192)    399360      ['block8_7_ac[0][0]']            \n",
      "                                                                                                  \n",
      " batch_normalization_2628 (Batc  (None, 8, 8, 192)   576         ['conv2d_2628[0][0]']            \n",
      " hNormalization)                                                                                  \n",
      "                                                                                                  \n",
      " activation_2628 (Activation)   (None, 8, 8, 192)    0           ['batch_normalization_2628[0][0]'\n"
     ]
    },
    {
     "name": "stdout",
     "output_type": "stream",
     "text": [
      "                                                                 ]                                \n",
      "                                                                                                  \n",
      " conv2d_2629 (Conv2D)           (None, 8, 8, 224)    129024      ['activation_2628[0][0]']        \n",
      "                                                                                                  \n",
      " batch_normalization_2629 (Batc  (None, 8, 8, 224)   672         ['conv2d_2629[0][0]']            \n",
      " hNormalization)                                                                                  \n",
      "                                                                                                  \n",
      " activation_2629 (Activation)   (None, 8, 8, 224)    0           ['batch_normalization_2629[0][0]'\n",
      "                                                                 ]                                \n",
      "                                                                                                  \n",
      " conv2d_2627 (Conv2D)           (None, 8, 8, 192)    399360      ['block8_7_ac[0][0]']            \n",
      "                                                                                                  \n",
      " conv2d_2630 (Conv2D)           (None, 8, 8, 256)    172032      ['activation_2629[0][0]']        \n",
      "                                                                                                  \n",
      " batch_normalization_2627 (Batc  (None, 8, 8, 192)   576         ['conv2d_2627[0][0]']            \n",
      " hNormalization)                                                                                  \n",
      "                                                                                                  \n",
      " batch_normalization_2630 (Batc  (None, 8, 8, 256)   768         ['conv2d_2630[0][0]']            \n",
      " hNormalization)                                                                                  \n",
      "                                                                                                  \n",
      " activation_2627 (Activation)   (None, 8, 8, 192)    0           ['batch_normalization_2627[0][0]'\n",
      "                                                                 ]                                \n",
      "                                                                                                  \n",
      " activation_2630 (Activation)   (None, 8, 8, 256)    0           ['batch_normalization_2630[0][0]'\n",
      "                                                                 ]                                \n",
      "                                                                                                  \n",
      " block8_8_mixed (Concatenate)   (None, 8, 8, 448)    0           ['activation_2627[0][0]',        \n",
      "                                                                  'activation_2630[0][0]']        \n",
      "                                                                                                  \n",
      " block8_8_conv (Conv2D)         (None, 8, 8, 2080)   933920      ['block8_8_mixed[0][0]']         \n",
      "                                                                                                  \n",
      " custom_scale_layer_517 (Custom  (None, 8, 8, 2080)  0           ['block8_7_ac[0][0]',            \n",
      " ScaleLayer)                                                      'block8_8_conv[0][0]']          \n",
      "                                                                                                  \n",
      " block8_8_ac (Activation)       (None, 8, 8, 2080)   0           ['custom_scale_layer_517[0][0]'] \n",
      "                                                                                                  \n",
      " conv2d_2632 (Conv2D)           (None, 8, 8, 192)    399360      ['block8_8_ac[0][0]']            \n",
      "                                                                                                  \n",
      " batch_normalization_2632 (Batc  (None, 8, 8, 192)   576         ['conv2d_2632[0][0]']            \n",
      " hNormalization)                                                                                  \n",
      "                                                                                                  \n",
      " activation_2632 (Activation)   (None, 8, 8, 192)    0           ['batch_normalization_2632[0][0]'\n",
      "                                                                 ]                                \n",
      "                                                                                                  \n",
      " conv2d_2633 (Conv2D)           (None, 8, 8, 224)    129024      ['activation_2632[0][0]']        \n",
      "                                                                                                  \n",
      " batch_normalization_2633 (Batc  (None, 8, 8, 224)   672         ['conv2d_2633[0][0]']            \n",
      " hNormalization)                                                                                  \n",
      "                                                                                                  \n",
      " activation_2633 (Activation)   (None, 8, 8, 224)    0           ['batch_normalization_2633[0][0]'\n",
      "                                                                 ]                                \n",
      "                                                                                                  \n",
      " conv2d_2631 (Conv2D)           (None, 8, 8, 192)    399360      ['block8_8_ac[0][0]']            \n",
      "                                                                                                  \n",
      " conv2d_2634 (Conv2D)           (None, 8, 8, 256)    172032      ['activation_2633[0][0]']        \n",
      "                                                                                                  \n",
      " batch_normalization_2631 (Batc  (None, 8, 8, 192)   576         ['conv2d_2631[0][0]']            \n",
      " hNormalization)                                                                                  \n",
      "                                                                                                  \n",
      " batch_normalization_2634 (Batc  (None, 8, 8, 256)   768         ['conv2d_2634[0][0]']            \n",
      " hNormalization)                                                                                  \n",
      "                                                                                                  \n",
      " activation_2631 (Activation)   (None, 8, 8, 192)    0           ['batch_normalization_2631[0][0]'\n",
      "                                                                 ]                                \n",
      "                                                                                                  \n",
      " activation_2634 (Activation)   (None, 8, 8, 256)    0           ['batch_normalization_2634[0][0]'\n",
      "                                                                 ]                                \n",
      "                                                                                                  \n",
      " block8_9_mixed (Concatenate)   (None, 8, 8, 448)    0           ['activation_2631[0][0]',        \n",
      "                                                                  'activation_2634[0][0]']        \n",
      "                                                                                                  \n",
      " block8_9_conv (Conv2D)         (None, 8, 8, 2080)   933920      ['block8_9_mixed[0][0]']         \n",
      "                                                                                                  \n",
      " custom_scale_layer_518 (Custom  (None, 8, 8, 2080)  0           ['block8_8_ac[0][0]',            \n",
      " ScaleLayer)                                                      'block8_9_conv[0][0]']          \n",
      "                                                                                                  \n",
      " block8_9_ac (Activation)       (None, 8, 8, 2080)   0           ['custom_scale_layer_518[0][0]'] \n",
      "                                                                                                  \n",
      " conv2d_2636 (Conv2D)           (None, 8, 8, 192)    399360      ['block8_9_ac[0][0]']            \n",
      "                                                                                                  \n",
      " batch_normalization_2636 (Batc  (None, 8, 8, 192)   576         ['conv2d_2636[0][0]']            \n",
      " hNormalization)                                                                                  \n",
      "                                                                                                  \n"
     ]
    },
    {
     "name": "stdout",
     "output_type": "stream",
     "text": [
      " activation_2636 (Activation)   (None, 8, 8, 192)    0           ['batch_normalization_2636[0][0]'\n",
      "                                                                 ]                                \n",
      "                                                                                                  \n",
      " conv2d_2637 (Conv2D)           (None, 8, 8, 224)    129024      ['activation_2636[0][0]']        \n",
      "                                                                                                  \n",
      " batch_normalization_2637 (Batc  (None, 8, 8, 224)   672         ['conv2d_2637[0][0]']            \n",
      " hNormalization)                                                                                  \n",
      "                                                                                                  \n",
      " activation_2637 (Activation)   (None, 8, 8, 224)    0           ['batch_normalization_2637[0][0]'\n",
      "                                                                 ]                                \n",
      "                                                                                                  \n",
      " conv2d_2635 (Conv2D)           (None, 8, 8, 192)    399360      ['block8_9_ac[0][0]']            \n",
      "                                                                                                  \n",
      " conv2d_2638 (Conv2D)           (None, 8, 8, 256)    172032      ['activation_2637[0][0]']        \n",
      "                                                                                                  \n",
      " batch_normalization_2635 (Batc  (None, 8, 8, 192)   576         ['conv2d_2635[0][0]']            \n",
      " hNormalization)                                                                                  \n",
      "                                                                                                  \n",
      " batch_normalization_2638 (Batc  (None, 8, 8, 256)   768         ['conv2d_2638[0][0]']            \n",
      " hNormalization)                                                                                  \n",
      "                                                                                                  \n",
      " activation_2635 (Activation)   (None, 8, 8, 192)    0           ['batch_normalization_2635[0][0]'\n",
      "                                                                 ]                                \n",
      "                                                                                                  \n",
      " activation_2638 (Activation)   (None, 8, 8, 256)    0           ['batch_normalization_2638[0][0]'\n",
      "                                                                 ]                                \n",
      "                                                                                                  \n",
      " block8_10_mixed (Concatenate)  (None, 8, 8, 448)    0           ['activation_2635[0][0]',        \n",
      "                                                                  'activation_2638[0][0]']        \n",
      "                                                                                                  \n",
      " block8_10_conv (Conv2D)        (None, 8, 8, 2080)   933920      ['block8_10_mixed[0][0]']        \n",
      "                                                                                                  \n",
      " custom_scale_layer_519 (Custom  (None, 8, 8, 2080)  0           ['block8_9_ac[0][0]',            \n",
      " ScaleLayer)                                                      'block8_10_conv[0][0]']         \n",
      "                                                                                                  \n",
      " conv_7b (Conv2D)               (None, 8, 8, 1536)   3194880     ['custom_scale_layer_519[0][0]'] \n",
      "                                                                                                  \n",
      " conv_7b_bn (BatchNormalization  (None, 8, 8, 1536)  4608        ['conv_7b[0][0]']                \n",
      " )                                                                                                \n",
      "                                                                                                  \n",
      " conv_7b_ac (Activation)        (None, 8, 8, 1536)   0           ['conv_7b_bn[0][0]']             \n",
      "                                                                                                  \n",
      " avg_pool (GlobalAveragePooling  (None, 1536)        0           ['conv_7b_ac[0][0]']             \n",
      " 2D)                                                                                              \n",
      "                                                                                                  \n",
      " flatten_4 (Flatten)            (None, 1536)         0           ['avg_pool[0][0]']               \n",
      "                                                                                                  \n",
      " dense_8 (Dense)                (None, 64)           98368       ['flatten_4[0][0]']              \n",
      "                                                                                                  \n",
      " dense_9 (Dense)                (None, 64)           4160        ['dense_8[0][0]']                \n",
      "                                                                                                  \n",
      "==================================================================================================\n",
      "Total params: 54,439,264\n",
      "Trainable params: 54,378,720\n",
      "Non-trainable params: 60,544\n",
      "__________________________________________________________________________________________________\n"
     ]
    }
   ],
   "source": [
    "new_model.compile(loss='categorical_crossentropy',\n",
    "                  optimizer=keras.optimizers.Adam(lr=1e-5),\n",
    "                  metrics=['accuracy'])\n",
    "\n",
    "# Freezing the weights\n",
    "for layer in base_model.layers[-20:]:\n",
    "    layer.trainable = True\n",
    "    \n",
    "new_model.summary()"
   ]
  },
  {
   "cell_type": "code",
   "execution_count": 48,
   "id": "3624b0c0",
   "metadata": {},
   "outputs": [
    {
     "name": "stderr",
     "output_type": "stream",
     "text": [
      "WARNING:absl:`lr` is deprecated in Keras optimizer, please use `learning_rate` or use the legacy optimizer, e.g.,tf.keras.optimizers.legacy.Adam.\n"
     ]
    },
    {
     "name": "stdout",
     "output_type": "stream",
     "text": [
      "Epoch 1/100\n"
     ]
    },
    {
     "name": "stderr",
     "output_type": "stream",
     "text": [
      "2023-05-13 13:29:59.803922: I tensorflow/core/common_runtime/executor.cc:1197] [/device:CPU:0] (DEBUG INFO) Executor start aborting (this does not indicate an error and you can ignore this message): INVALID_ARGUMENT: You must feed a value for placeholder tensor 'Placeholder/_0' with dtype int32\n",
      "\t [[{{node Placeholder/_0}}]]\n"
     ]
    },
    {
     "name": "stdout",
     "output_type": "stream",
     "text": [
      "4/4 [==============================] - ETA: 0s - loss: 0.6086 - f1_score: 0.0011    WARNING:tensorflow:Early stopping conditioned on metric `F1Score(name=f1_score,dtype=float32,num_classes=64,average=macro,threshold=None)` which is not available. Available metrics are: loss,f1_score\n"
     ]
    },
    {
     "name": "stderr",
     "output_type": "stream",
     "text": [
      "WARNING:tensorflow:Early stopping conditioned on metric `F1Score(name=f1_score,dtype=float32,num_classes=64,average=macro,threshold=None)` which is not available. Available metrics are: loss,f1_score\n"
     ]
    },
    {
     "name": "stdout",
     "output_type": "stream",
     "text": [
      "4/4 [==============================] - 48s 5s/step - loss: 0.6086 - f1_score: 0.0011\n",
      "Epoch 2/100\n",
      "4/4 [==============================] - ETA: 0s - loss: 0.4298 - f1_score: 0.0124WARNING:tensorflow:Early stopping conditioned on metric `F1Score(name=f1_score,dtype=float32,num_classes=64,average=macro,threshold=None)` which is not available. Available metrics are: loss,f1_score\n"
     ]
    },
    {
     "name": "stderr",
     "output_type": "stream",
     "text": [
      "WARNING:tensorflow:Early stopping conditioned on metric `F1Score(name=f1_score,dtype=float32,num_classes=64,average=macro,threshold=None)` which is not available. Available metrics are: loss,f1_score\n"
     ]
    },
    {
     "name": "stdout",
     "output_type": "stream",
     "text": [
      "4/4 [==============================] - 21s 5s/step - loss: 0.4298 - f1_score: 0.0124\n",
      "Epoch 3/100\n",
      "4/4 [==============================] - ETA: 0s - loss: 0.3021 - f1_score: 5.1230e-04WARNING:tensorflow:Early stopping conditioned on metric `F1Score(name=f1_score,dtype=float32,num_classes=64,average=macro,threshold=None)` which is not available. Available metrics are: loss,f1_score\n"
     ]
    },
    {
     "name": "stderr",
     "output_type": "stream",
     "text": [
      "WARNING:tensorflow:Early stopping conditioned on metric `F1Score(name=f1_score,dtype=float32,num_classes=64,average=macro,threshold=None)` which is not available. Available metrics are: loss,f1_score\n"
     ]
    },
    {
     "name": "stdout",
     "output_type": "stream",
     "text": [
      "4/4 [==============================] - 22s 5s/step - loss: 0.3021 - f1_score: 5.1230e-04\n",
      "Epoch 4/100\n",
      "4/4 [==============================] - ETA: 0s - loss: 0.2037 - f1_score: 5.6818e-04WARNING:tensorflow:Early stopping conditioned on metric `F1Score(name=f1_score,dtype=float32,num_classes=64,average=macro,threshold=None)` which is not available. Available metrics are: loss,f1_score\n"
     ]
    },
    {
     "name": "stderr",
     "output_type": "stream",
     "text": [
      "WARNING:tensorflow:Early stopping conditioned on metric `F1Score(name=f1_score,dtype=float32,num_classes=64,average=macro,threshold=None)` which is not available. Available metrics are: loss,f1_score\n"
     ]
    },
    {
     "name": "stdout",
     "output_type": "stream",
     "text": [
      "4/4 [==============================] - 23s 6s/step - loss: 0.2037 - f1_score: 5.6818e-04\n",
      "Epoch 5/100\n",
      "4/4 [==============================] - ETA: 0s - loss: 0.1401 - f1_score: 0.0178WARNING:tensorflow:Early stopping conditioned on metric `F1Score(name=f1_score,dtype=float32,num_classes=64,average=macro,threshold=None)` which is not available. Available metrics are: loss,f1_score\n"
     ]
    },
    {
     "name": "stderr",
     "output_type": "stream",
     "text": [
      "WARNING:tensorflow:Early stopping conditioned on metric `F1Score(name=f1_score,dtype=float32,num_classes=64,average=macro,threshold=None)` which is not available. Available metrics are: loss,f1_score\n"
     ]
    },
    {
     "name": "stdout",
     "output_type": "stream",
     "text": [
      "4/4 [==============================] - 23s 6s/step - loss: 0.1401 - f1_score: 0.0178\n",
      "Epoch 6/100\n",
      "4/4 [==============================] - ETA: 0s - loss: 0.1023 - f1_score: 0.0154WARNING:tensorflow:Early stopping conditioned on metric `F1Score(name=f1_score,dtype=float32,num_classes=64,average=macro,threshold=None)` which is not available. Available metrics are: loss,f1_score\n"
     ]
    },
    {
     "name": "stderr",
     "output_type": "stream",
     "text": [
      "WARNING:tensorflow:Early stopping conditioned on metric `F1Score(name=f1_score,dtype=float32,num_classes=64,average=macro,threshold=None)` which is not available. Available metrics are: loss,f1_score\n"
     ]
    },
    {
     "name": "stdout",
     "output_type": "stream",
     "text": [
      "4/4 [==============================] - 21s 5s/step - loss: 0.1023 - f1_score: 0.0154\n",
      "Epoch 7/100\n",
      "4/4 [==============================] - ETA: 0s - loss: 0.0822 - f1_score: 0.0624WARNING:tensorflow:Early stopping conditioned on metric `F1Score(name=f1_score,dtype=float32,num_classes=64,average=macro,threshold=None)` which is not available. Available metrics are: loss,f1_score\n"
     ]
    },
    {
     "name": "stderr",
     "output_type": "stream",
     "text": [
      "WARNING:tensorflow:Early stopping conditioned on metric `F1Score(name=f1_score,dtype=float32,num_classes=64,average=macro,threshold=None)` which is not available. Available metrics are: loss,f1_score\n"
     ]
    },
    {
     "name": "stdout",
     "output_type": "stream",
     "text": [
      "4/4 [==============================] - 22s 5s/step - loss: 0.0822 - f1_score: 0.0624\n",
      "Epoch 8/100\n",
      "4/4 [==============================] - ETA: 0s - loss: 0.0643 - f1_score: 0.2822WARNING:tensorflow:Early stopping conditioned on metric `F1Score(name=f1_score,dtype=float32,num_classes=64,average=macro,threshold=None)` which is not available. Available metrics are: loss,f1_score\n"
     ]
    },
    {
     "name": "stderr",
     "output_type": "stream",
     "text": [
      "WARNING:tensorflow:Early stopping conditioned on metric `F1Score(name=f1_score,dtype=float32,num_classes=64,average=macro,threshold=None)` which is not available. Available metrics are: loss,f1_score\n"
     ]
    },
    {
     "name": "stdout",
     "output_type": "stream",
     "text": [
      "4/4 [==============================] - 21s 5s/step - loss: 0.0643 - f1_score: 0.2822\n",
      "Epoch 9/100\n",
      "4/4 [==============================] - ETA: 0s - loss: 0.0508 - f1_score: 0.5074WARNING:tensorflow:Early stopping conditioned on metric `F1Score(name=f1_score,dtype=float32,num_classes=64,average=macro,threshold=None)` which is not available. Available metrics are: loss,f1_score\n"
     ]
    },
    {
     "name": "stderr",
     "output_type": "stream",
     "text": [
      "WARNING:tensorflow:Early stopping conditioned on metric `F1Score(name=f1_score,dtype=float32,num_classes=64,average=macro,threshold=None)` which is not available. Available metrics are: loss,f1_score\n"
     ]
    },
    {
     "name": "stdout",
     "output_type": "stream",
     "text": [
      "4/4 [==============================] - 22s 5s/step - loss: 0.0508 - f1_score: 0.5074\n",
      "Epoch 10/100\n",
      "4/4 [==============================] - ETA: 0s - loss: 0.0397 - f1_score: 0.6807WARNING:tensorflow:Early stopping conditioned on metric `F1Score(name=f1_score,dtype=float32,num_classes=64,average=macro,threshold=None)` which is not available. Available metrics are: loss,f1_score\n"
     ]
    },
    {
     "name": "stderr",
     "output_type": "stream",
     "text": [
      "WARNING:tensorflow:Early stopping conditioned on metric `F1Score(name=f1_score,dtype=float32,num_classes=64,average=macro,threshold=None)` which is not available. Available metrics are: loss,f1_score\n"
     ]
    },
    {
     "name": "stdout",
     "output_type": "stream",
     "text": [
      "4/4 [==============================] - 22s 5s/step - loss: 0.0397 - f1_score: 0.6807\n",
      "Epoch 11/100\n",
      "4/4 [==============================] - ETA: 0s - loss: 0.0302 - f1_score: 0.8984WARNING:tensorflow:Early stopping conditioned on metric `F1Score(name=f1_score,dtype=float32,num_classes=64,average=macro,threshold=None)` which is not available. Available metrics are: loss,f1_score\n"
     ]
    },
    {
     "name": "stderr",
     "output_type": "stream",
     "text": [
      "WARNING:tensorflow:Early stopping conditioned on metric `F1Score(name=f1_score,dtype=float32,num_classes=64,average=macro,threshold=None)` which is not available. Available metrics are: loss,f1_score\n"
     ]
    },
    {
     "name": "stdout",
     "output_type": "stream",
     "text": [
      "4/4 [==============================] - 21s 5s/step - loss: 0.0302 - f1_score: 0.8984\n",
      "Epoch 12/100\n",
      "4/4 [==============================] - ETA: 0s - loss: 0.0242 - f1_score: 0.9167WARNING:tensorflow:Early stopping conditioned on metric `F1Score(name=f1_score,dtype=float32,num_classes=64,average=macro,threshold=None)` which is not available. Available metrics are: loss,f1_score\n"
     ]
    },
    {
     "name": "stderr",
     "output_type": "stream",
     "text": [
      "WARNING:tensorflow:Early stopping conditioned on metric `F1Score(name=f1_score,dtype=float32,num_classes=64,average=macro,threshold=None)` which is not available. Available metrics are: loss,f1_score\n"
     ]
    },
    {
     "name": "stdout",
     "output_type": "stream",
     "text": [
      "4/4 [==============================] - 21s 5s/step - loss: 0.0242 - f1_score: 0.9167\n",
      "Epoch 13/100\n",
      "4/4 [==============================] - ETA: 0s - loss: 0.0173 - f1_score: 1.0000WARNING:tensorflow:Early stopping conditioned on metric `F1Score(name=f1_score,dtype=float32,num_classes=64,average=macro,threshold=None)` which is not available. Available metrics are: loss,f1_score\n"
     ]
    },
    {
     "name": "stderr",
     "output_type": "stream",
     "text": [
      "WARNING:tensorflow:Early stopping conditioned on metric `F1Score(name=f1_score,dtype=float32,num_classes=64,average=macro,threshold=None)` which is not available. Available metrics are: loss,f1_score\n"
     ]
    },
    {
     "name": "stdout",
     "output_type": "stream",
     "text": [
      "4/4 [==============================] - 23s 6s/step - loss: 0.0173 - f1_score: 1.0000\n",
      "Epoch 14/100\n",
      "4/4 [==============================] - ETA: 0s - loss: 0.0139 - f1_score: 1.0000WARNING:tensorflow:Early stopping conditioned on metric `F1Score(name=f1_score,dtype=float32,num_classes=64,average=macro,threshold=None)` which is not available. Available metrics are: loss,f1_score\n"
     ]
    },
    {
     "name": "stderr",
     "output_type": "stream",
     "text": [
      "WARNING:tensorflow:Early stopping conditioned on metric `F1Score(name=f1_score,dtype=float32,num_classes=64,average=macro,threshold=None)` which is not available. Available metrics are: loss,f1_score\n"
     ]
    },
    {
     "name": "stdout",
     "output_type": "stream",
     "text": [
      "4/4 [==============================] - 25s 6s/step - loss: 0.0139 - f1_score: 1.0000\n",
      "Epoch 15/100\n",
      "4/4 [==============================] - ETA: 0s - loss: 0.0104 - f1_score: 1.0000WARNING:tensorflow:Early stopping conditioned on metric `F1Score(name=f1_score,dtype=float32,num_classes=64,average=macro,threshold=None)` which is not available. Available metrics are: loss,f1_score\n"
     ]
    },
    {
     "name": "stderr",
     "output_type": "stream",
     "text": [
      "WARNING:tensorflow:Early stopping conditioned on metric `F1Score(name=f1_score,dtype=float32,num_classes=64,average=macro,threshold=None)` which is not available. Available metrics are: loss,f1_score\n"
     ]
    },
    {
     "name": "stdout",
     "output_type": "stream",
     "text": [
      "4/4 [==============================] - 25s 6s/step - loss: 0.0104 - f1_score: 1.0000\n",
      "Epoch 16/100\n",
      "4/4 [==============================] - ETA: 0s - loss: 0.0078 - f1_score: 1.0000WARNING:tensorflow:Early stopping conditioned on metric `F1Score(name=f1_score,dtype=float32,num_classes=64,average=macro,threshold=None)` which is not available. Available metrics are: loss,f1_score\n"
     ]
    },
    {
     "name": "stderr",
     "output_type": "stream",
     "text": [
      "WARNING:tensorflow:Early stopping conditioned on metric `F1Score(name=f1_score,dtype=float32,num_classes=64,average=macro,threshold=None)` which is not available. Available metrics are: loss,f1_score\n"
     ]
    },
    {
     "name": "stdout",
     "output_type": "stream",
     "text": [
      "4/4 [==============================] - 25s 6s/step - loss: 0.0078 - f1_score: 1.0000\n",
      "Epoch 17/100\n",
      "4/4 [==============================] - ETA: 0s - loss: 0.0063 - f1_score: 1.0000WARNING:tensorflow:Early stopping conditioned on metric `F1Score(name=f1_score,dtype=float32,num_classes=64,average=macro,threshold=None)` which is not available. Available metrics are: loss,f1_score\n"
     ]
    },
    {
     "name": "stderr",
     "output_type": "stream",
     "text": [
      "WARNING:tensorflow:Early stopping conditioned on metric `F1Score(name=f1_score,dtype=float32,num_classes=64,average=macro,threshold=None)` which is not available. Available metrics are: loss,f1_score\n"
     ]
    },
    {
     "name": "stdout",
     "output_type": "stream",
     "text": [
      "4/4 [==============================] - 25s 6s/step - loss: 0.0063 - f1_score: 1.0000\n",
      "Epoch 18/100\n",
      "4/4 [==============================] - ETA: 0s - loss: 0.0050 - f1_score: 1.0000WARNING:tensorflow:Early stopping conditioned on metric `F1Score(name=f1_score,dtype=float32,num_classes=64,average=macro,threshold=None)` which is not available. Available metrics are: loss,f1_score\n"
     ]
    },
    {
     "name": "stderr",
     "output_type": "stream",
     "text": [
      "WARNING:tensorflow:Early stopping conditioned on metric `F1Score(name=f1_score,dtype=float32,num_classes=64,average=macro,threshold=None)` which is not available. Available metrics are: loss,f1_score\n"
     ]
    },
    {
     "name": "stdout",
     "output_type": "stream",
     "text": [
      "4/4 [==============================] - 25s 6s/step - loss: 0.0050 - f1_score: 1.0000\n",
      "Epoch 19/100\n",
      "4/4 [==============================] - ETA: 0s - loss: 0.0041 - f1_score: 1.0000WARNING:tensorflow:Early stopping conditioned on metric `F1Score(name=f1_score,dtype=float32,num_classes=64,average=macro,threshold=None)` which is not available. Available metrics are: loss,f1_score\n"
     ]
    },
    {
     "name": "stderr",
     "output_type": "stream",
     "text": [
      "WARNING:tensorflow:Early stopping conditioned on metric `F1Score(name=f1_score,dtype=float32,num_classes=64,average=macro,threshold=None)` which is not available. Available metrics are: loss,f1_score\n"
     ]
    },
    {
     "name": "stdout",
     "output_type": "stream",
     "text": [
      "4/4 [==============================] - 25s 6s/step - loss: 0.0041 - f1_score: 1.0000\n",
      "Epoch 20/100\n",
      "4/4 [==============================] - ETA: 0s - loss: 0.0035 - f1_score: 1.0000WARNING:tensorflow:Early stopping conditioned on metric `F1Score(name=f1_score,dtype=float32,num_classes=64,average=macro,threshold=None)` which is not available. Available metrics are: loss,f1_score\n"
     ]
    },
    {
     "name": "stderr",
     "output_type": "stream",
     "text": [
      "WARNING:tensorflow:Early stopping conditioned on metric `F1Score(name=f1_score,dtype=float32,num_classes=64,average=macro,threshold=None)` which is not available. Available metrics are: loss,f1_score\n"
     ]
    },
    {
     "name": "stdout",
     "output_type": "stream",
     "text": [
      "4/4 [==============================] - 25s 6s/step - loss: 0.0035 - f1_score: 1.0000\n",
      "Epoch 21/100\n",
      "4/4 [==============================] - ETA: 0s - loss: 0.0029 - f1_score: 1.0000WARNING:tensorflow:Early stopping conditioned on metric `F1Score(name=f1_score,dtype=float32,num_classes=64,average=macro,threshold=None)` which is not available. Available metrics are: loss,f1_score\n"
     ]
    },
    {
     "name": "stderr",
     "output_type": "stream",
     "text": [
      "WARNING:tensorflow:Early stopping conditioned on metric `F1Score(name=f1_score,dtype=float32,num_classes=64,average=macro,threshold=None)` which is not available. Available metrics are: loss,f1_score\n"
     ]
    },
    {
     "name": "stdout",
     "output_type": "stream",
     "text": [
      "4/4 [==============================] - 25s 6s/step - loss: 0.0029 - f1_score: 1.0000\n",
      "Epoch 22/100\n",
      "4/4 [==============================] - ETA: 0s - loss: 0.0025 - f1_score: 1.0000WARNING:tensorflow:Early stopping conditioned on metric `F1Score(name=f1_score,dtype=float32,num_classes=64,average=macro,threshold=None)` which is not available. Available metrics are: loss,f1_score\n"
     ]
    },
    {
     "name": "stderr",
     "output_type": "stream",
     "text": [
      "WARNING:tensorflow:Early stopping conditioned on metric `F1Score(name=f1_score,dtype=float32,num_classes=64,average=macro,threshold=None)` which is not available. Available metrics are: loss,f1_score\n"
     ]
    },
    {
     "name": "stdout",
     "output_type": "stream",
     "text": [
      "4/4 [==============================] - 25s 6s/step - loss: 0.0025 - f1_score: 1.0000\n",
      "Epoch 23/100\n",
      "4/4 [==============================] - ETA: 0s - loss: 0.0022 - f1_score: 1.0000WARNING:tensorflow:Early stopping conditioned on metric `F1Score(name=f1_score,dtype=float32,num_classes=64,average=macro,threshold=None)` which is not available. Available metrics are: loss,f1_score\n"
     ]
    },
    {
     "name": "stderr",
     "output_type": "stream",
     "text": [
      "WARNING:tensorflow:Early stopping conditioned on metric `F1Score(name=f1_score,dtype=float32,num_classes=64,average=macro,threshold=None)` which is not available. Available metrics are: loss,f1_score\n"
     ]
    },
    {
     "name": "stdout",
     "output_type": "stream",
     "text": [
      "4/4 [==============================] - 25s 6s/step - loss: 0.0022 - f1_score: 1.0000\n",
      "Epoch 24/100\n",
      "4/4 [==============================] - ETA: 0s - loss: 0.0019 - f1_score: 1.0000WARNING:tensorflow:Early stopping conditioned on metric `F1Score(name=f1_score,dtype=float32,num_classes=64,average=macro,threshold=None)` which is not available. Available metrics are: loss,f1_score\n"
     ]
    },
    {
     "name": "stderr",
     "output_type": "stream",
     "text": [
      "WARNING:tensorflow:Early stopping conditioned on metric `F1Score(name=f1_score,dtype=float32,num_classes=64,average=macro,threshold=None)` which is not available. Available metrics are: loss,f1_score\n"
     ]
    },
    {
     "name": "stdout",
     "output_type": "stream",
     "text": [
      "4/4 [==============================] - 25s 6s/step - loss: 0.0019 - f1_score: 1.0000\n",
      "Epoch 25/100\n",
      "4/4 [==============================] - ETA: 0s - loss: 0.0017 - f1_score: 1.0000WARNING:tensorflow:Early stopping conditioned on metric `F1Score(name=f1_score,dtype=float32,num_classes=64,average=macro,threshold=None)` which is not available. Available metrics are: loss,f1_score\n"
     ]
    },
    {
     "name": "stderr",
     "output_type": "stream",
     "text": [
      "WARNING:tensorflow:Early stopping conditioned on metric `F1Score(name=f1_score,dtype=float32,num_classes=64,average=macro,threshold=None)` which is not available. Available metrics are: loss,f1_score\n"
     ]
    },
    {
     "name": "stdout",
     "output_type": "stream",
     "text": [
      "4/4 [==============================] - 25s 6s/step - loss: 0.0017 - f1_score: 1.0000\n",
      "Epoch 26/100\n",
      "4/4 [==============================] - ETA: 0s - loss: 0.0015 - f1_score: 1.0000WARNING:tensorflow:Early stopping conditioned on metric `F1Score(name=f1_score,dtype=float32,num_classes=64,average=macro,threshold=None)` which is not available. Available metrics are: loss,f1_score\n"
     ]
    },
    {
     "name": "stderr",
     "output_type": "stream",
     "text": [
      "WARNING:tensorflow:Early stopping conditioned on metric `F1Score(name=f1_score,dtype=float32,num_classes=64,average=macro,threshold=None)` which is not available. Available metrics are: loss,f1_score\n"
     ]
    },
    {
     "name": "stdout",
     "output_type": "stream",
     "text": [
      "4/4 [==============================] - 25s 6s/step - loss: 0.0015 - f1_score: 1.0000\n",
      "Epoch 27/100\n",
      "4/4 [==============================] - ETA: 0s - loss: 0.0014 - f1_score: 1.0000WARNING:tensorflow:Early stopping conditioned on metric `F1Score(name=f1_score,dtype=float32,num_classes=64,average=macro,threshold=None)` which is not available. Available metrics are: loss,f1_score\n"
     ]
    },
    {
     "name": "stderr",
     "output_type": "stream",
     "text": [
      "WARNING:tensorflow:Early stopping conditioned on metric `F1Score(name=f1_score,dtype=float32,num_classes=64,average=macro,threshold=None)` which is not available. Available metrics are: loss,f1_score\n"
     ]
    },
    {
     "name": "stdout",
     "output_type": "stream",
     "text": [
      "4/4 [==============================] - 25s 6s/step - loss: 0.0014 - f1_score: 1.0000\n",
      "Epoch 28/100\n",
      "4/4 [==============================] - ETA: 0s - loss: 0.0012 - f1_score: 1.0000WARNING:tensorflow:Early stopping conditioned on metric `F1Score(name=f1_score,dtype=float32,num_classes=64,average=macro,threshold=None)` which is not available. Available metrics are: loss,f1_score\n"
     ]
    },
    {
     "name": "stderr",
     "output_type": "stream",
     "text": [
      "WARNING:tensorflow:Early stopping conditioned on metric `F1Score(name=f1_score,dtype=float32,num_classes=64,average=macro,threshold=None)` which is not available. Available metrics are: loss,f1_score\n"
     ]
    },
    {
     "name": "stdout",
     "output_type": "stream",
     "text": [
      "4/4 [==============================] - 25s 6s/step - loss: 0.0012 - f1_score: 1.0000\n",
      "Epoch 29/100\n",
      "4/4 [==============================] - ETA: 0s - loss: 0.0012 - f1_score: 1.0000WARNING:tensorflow:Early stopping conditioned on metric `F1Score(name=f1_score,dtype=float32,num_classes=64,average=macro,threshold=None)` which is not available. Available metrics are: loss,f1_score\n"
     ]
    },
    {
     "name": "stderr",
     "output_type": "stream",
     "text": [
      "WARNING:tensorflow:Early stopping conditioned on metric `F1Score(name=f1_score,dtype=float32,num_classes=64,average=macro,threshold=None)` which is not available. Available metrics are: loss,f1_score\n"
     ]
    },
    {
     "name": "stdout",
     "output_type": "stream",
     "text": [
      "4/4 [==============================] - 25s 6s/step - loss: 0.0012 - f1_score: 1.0000\n",
      "Epoch 30/100\n",
      "4/4 [==============================] - ETA: 0s - loss: 0.0011 - f1_score: 1.0000WARNING:tensorflow:Early stopping conditioned on metric `F1Score(name=f1_score,dtype=float32,num_classes=64,average=macro,threshold=None)` which is not available. Available metrics are: loss,f1_score\n"
     ]
    },
    {
     "name": "stderr",
     "output_type": "stream",
     "text": [
      "WARNING:tensorflow:Early stopping conditioned on metric `F1Score(name=f1_score,dtype=float32,num_classes=64,average=macro,threshold=None)` which is not available. Available metrics are: loss,f1_score\n"
     ]
    },
    {
     "name": "stdout",
     "output_type": "stream",
     "text": [
      "4/4 [==============================] - 25s 6s/step - loss: 0.0011 - f1_score: 1.0000\n",
      "Epoch 31/100\n",
      "4/4 [==============================] - ETA: 0s - loss: 9.8808e-04 - f1_score: 1.0000WARNING:tensorflow:Early stopping conditioned on metric `F1Score(name=f1_score,dtype=float32,num_classes=64,average=macro,threshold=None)` which is not available. Available metrics are: loss,f1_score\n"
     ]
    },
    {
     "name": "stderr",
     "output_type": "stream",
     "text": [
      "WARNING:tensorflow:Early stopping conditioned on metric `F1Score(name=f1_score,dtype=float32,num_classes=64,average=macro,threshold=None)` which is not available. Available metrics are: loss,f1_score\n"
     ]
    },
    {
     "name": "stdout",
     "output_type": "stream",
     "text": [
      "4/4 [==============================] - 25s 6s/step - loss: 9.8808e-04 - f1_score: 1.0000\n",
      "Epoch 32/100\n",
      "4/4 [==============================] - ETA: 0s - loss: 9.1429e-04 - f1_score: 1.0000WARNING:tensorflow:Early stopping conditioned on metric `F1Score(name=f1_score,dtype=float32,num_classes=64,average=macro,threshold=None)` which is not available. Available metrics are: loss,f1_score\n"
     ]
    },
    {
     "name": "stderr",
     "output_type": "stream",
     "text": [
      "WARNING:tensorflow:Early stopping conditioned on metric `F1Score(name=f1_score,dtype=float32,num_classes=64,average=macro,threshold=None)` which is not available. Available metrics are: loss,f1_score\n"
     ]
    },
    {
     "name": "stdout",
     "output_type": "stream",
     "text": [
      "4/4 [==============================] - 25s 6s/step - loss: 9.1429e-04 - f1_score: 1.0000\n",
      "Epoch 33/100\n",
      "4/4 [==============================] - ETA: 0s - loss: 8.5258e-04 - f1_score: 1.0000WARNING:tensorflow:Early stopping conditioned on metric `F1Score(name=f1_score,dtype=float32,num_classes=64,average=macro,threshold=None)` which is not available. Available metrics are: loss,f1_score\n"
     ]
    },
    {
     "name": "stderr",
     "output_type": "stream",
     "text": [
      "WARNING:tensorflow:Early stopping conditioned on metric `F1Score(name=f1_score,dtype=float32,num_classes=64,average=macro,threshold=None)` which is not available. Available metrics are: loss,f1_score\n"
     ]
    },
    {
     "name": "stdout",
     "output_type": "stream",
     "text": [
      "4/4 [==============================] - 25s 6s/step - loss: 8.5258e-04 - f1_score: 1.0000\n",
      "Epoch 34/100\n",
      "4/4 [==============================] - ETA: 0s - loss: 7.9822e-04 - f1_score: 1.0000WARNING:tensorflow:Early stopping conditioned on metric `F1Score(name=f1_score,dtype=float32,num_classes=64,average=macro,threshold=None)` which is not available. Available metrics are: loss,f1_score\n"
     ]
    },
    {
     "name": "stderr",
     "output_type": "stream",
     "text": [
      "WARNING:tensorflow:Early stopping conditioned on metric `F1Score(name=f1_score,dtype=float32,num_classes=64,average=macro,threshold=None)` which is not available. Available metrics are: loss,f1_score\n"
     ]
    },
    {
     "name": "stdout",
     "output_type": "stream",
     "text": [
      "4/4 [==============================] - 25s 6s/step - loss: 7.9822e-04 - f1_score: 1.0000\n",
      "Epoch 35/100\n",
      "4/4 [==============================] - ETA: 0s - loss: 7.5214e-04 - f1_score: 1.0000WARNING:tensorflow:Early stopping conditioned on metric `F1Score(name=f1_score,dtype=float32,num_classes=64,average=macro,threshold=None)` which is not available. Available metrics are: loss,f1_score\n"
     ]
    },
    {
     "name": "stderr",
     "output_type": "stream",
     "text": [
      "WARNING:tensorflow:Early stopping conditioned on metric `F1Score(name=f1_score,dtype=float32,num_classes=64,average=macro,threshold=None)` which is not available. Available metrics are: loss,f1_score\n"
     ]
    },
    {
     "name": "stdout",
     "output_type": "stream",
     "text": [
      "4/4 [==============================] - 25s 6s/step - loss: 7.5214e-04 - f1_score: 1.0000\n",
      "Epoch 36/100\n",
      "4/4 [==============================] - ETA: 0s - loss: 7.2124e-04 - f1_score: 1.0000WARNING:tensorflow:Early stopping conditioned on metric `F1Score(name=f1_score,dtype=float32,num_classes=64,average=macro,threshold=None)` which is not available. Available metrics are: loss,f1_score\n"
     ]
    },
    {
     "name": "stderr",
     "output_type": "stream",
     "text": [
      "WARNING:tensorflow:Early stopping conditioned on metric `F1Score(name=f1_score,dtype=float32,num_classes=64,average=macro,threshold=None)` which is not available. Available metrics are: loss,f1_score\n"
     ]
    },
    {
     "name": "stdout",
     "output_type": "stream",
     "text": [
      "4/4 [==============================] - 25s 6s/step - loss: 7.2124e-04 - f1_score: 1.0000\n",
      "Epoch 37/100\n",
      "4/4 [==============================] - ETA: 0s - loss: 6.6196e-04 - f1_score: 1.0000WARNING:tensorflow:Early stopping conditioned on metric `F1Score(name=f1_score,dtype=float32,num_classes=64,average=macro,threshold=None)` which is not available. Available metrics are: loss,f1_score\n"
     ]
    },
    {
     "name": "stderr",
     "output_type": "stream",
     "text": [
      "WARNING:tensorflow:Early stopping conditioned on metric `F1Score(name=f1_score,dtype=float32,num_classes=64,average=macro,threshold=None)` which is not available. Available metrics are: loss,f1_score\n"
     ]
    },
    {
     "name": "stdout",
     "output_type": "stream",
     "text": [
      "4/4 [==============================] - 25s 6s/step - loss: 6.6196e-04 - f1_score: 1.0000\n",
      "Epoch 38/100\n",
      "4/4 [==============================] - ETA: 0s - loss: 6.3059e-04 - f1_score: 1.0000WARNING:tensorflow:Early stopping conditioned on metric `F1Score(name=f1_score,dtype=float32,num_classes=64,average=macro,threshold=None)` which is not available. Available metrics are: loss,f1_score\n"
     ]
    },
    {
     "name": "stderr",
     "output_type": "stream",
     "text": [
      "WARNING:tensorflow:Early stopping conditioned on metric `F1Score(name=f1_score,dtype=float32,num_classes=64,average=macro,threshold=None)` which is not available. Available metrics are: loss,f1_score\n"
     ]
    },
    {
     "name": "stdout",
     "output_type": "stream",
     "text": [
      "4/4 [==============================] - 25s 6s/step - loss: 6.3059e-04 - f1_score: 1.0000\n",
      "Epoch 39/100\n",
      "4/4 [==============================] - ETA: 0s - loss: 5.9738e-04 - f1_score: 1.0000WARNING:tensorflow:Early stopping conditioned on metric `F1Score(name=f1_score,dtype=float32,num_classes=64,average=macro,threshold=None)` which is not available. Available metrics are: loss,f1_score\n"
     ]
    },
    {
     "name": "stderr",
     "output_type": "stream",
     "text": [
      "WARNING:tensorflow:Early stopping conditioned on metric `F1Score(name=f1_score,dtype=float32,num_classes=64,average=macro,threshold=None)` which is not available. Available metrics are: loss,f1_score\n"
     ]
    },
    {
     "name": "stdout",
     "output_type": "stream",
     "text": [
      "4/4 [==============================] - 25s 6s/step - loss: 5.9738e-04 - f1_score: 1.0000\n",
      "Epoch 40/100\n",
      "4/4 [==============================] - ETA: 0s - loss: 5.6135e-04 - f1_score: 1.0000WARNING:tensorflow:Early stopping conditioned on metric `F1Score(name=f1_score,dtype=float32,num_classes=64,average=macro,threshold=None)` which is not available. Available metrics are: loss,f1_score\n"
     ]
    },
    {
     "name": "stderr",
     "output_type": "stream",
     "text": [
      "WARNING:tensorflow:Early stopping conditioned on metric `F1Score(name=f1_score,dtype=float32,num_classes=64,average=macro,threshold=None)` which is not available. Available metrics are: loss,f1_score\n"
     ]
    },
    {
     "name": "stdout",
     "output_type": "stream",
     "text": [
      "4/4 [==============================] - 25s 6s/step - loss: 5.6135e-04 - f1_score: 1.0000\n",
      "Epoch 41/100\n",
      "4/4 [==============================] - ETA: 0s - loss: 5.4067e-04 - f1_score: 1.0000WARNING:tensorflow:Early stopping conditioned on metric `F1Score(name=f1_score,dtype=float32,num_classes=64,average=macro,threshold=None)` which is not available. Available metrics are: loss,f1_score\n"
     ]
    },
    {
     "name": "stderr",
     "output_type": "stream",
     "text": [
      "WARNING:tensorflow:Early stopping conditioned on metric `F1Score(name=f1_score,dtype=float32,num_classes=64,average=macro,threshold=None)` which is not available. Available metrics are: loss,f1_score\n"
     ]
    },
    {
     "name": "stdout",
     "output_type": "stream",
     "text": [
      "4/4 [==============================] - 25s 6s/step - loss: 5.4067e-04 - f1_score: 1.0000\n",
      "Epoch 42/100\n",
      "4/4 [==============================] - ETA: 0s - loss: 5.2137e-04 - f1_score: 1.0000WARNING:tensorflow:Early stopping conditioned on metric `F1Score(name=f1_score,dtype=float32,num_classes=64,average=macro,threshold=None)` which is not available. Available metrics are: loss,f1_score\n"
     ]
    },
    {
     "name": "stderr",
     "output_type": "stream",
     "text": [
      "WARNING:tensorflow:Early stopping conditioned on metric `F1Score(name=f1_score,dtype=float32,num_classes=64,average=macro,threshold=None)` which is not available. Available metrics are: loss,f1_score\n"
     ]
    },
    {
     "name": "stdout",
     "output_type": "stream",
     "text": [
      "4/4 [==============================] - 25s 6s/step - loss: 5.2137e-04 - f1_score: 1.0000\n",
      "Epoch 43/100\n",
      "4/4 [==============================] - ETA: 0s - loss: 4.9034e-04 - f1_score: 1.0000WARNING:tensorflow:Early stopping conditioned on metric `F1Score(name=f1_score,dtype=float32,num_classes=64,average=macro,threshold=None)` which is not available. Available metrics are: loss,f1_score\n"
     ]
    },
    {
     "name": "stderr",
     "output_type": "stream",
     "text": [
      "WARNING:tensorflow:Early stopping conditioned on metric `F1Score(name=f1_score,dtype=float32,num_classes=64,average=macro,threshold=None)` which is not available. Available metrics are: loss,f1_score\n"
     ]
    },
    {
     "name": "stdout",
     "output_type": "stream",
     "text": [
      "4/4 [==============================] - 25s 6s/step - loss: 4.9034e-04 - f1_score: 1.0000\n",
      "Epoch 44/100\n",
      "4/4 [==============================] - ETA: 0s - loss: 4.6947e-04 - f1_score: 1.0000WARNING:tensorflow:Early stopping conditioned on metric `F1Score(name=f1_score,dtype=float32,num_classes=64,average=macro,threshold=None)` which is not available. Available metrics are: loss,f1_score\n"
     ]
    },
    {
     "name": "stderr",
     "output_type": "stream",
     "text": [
      "WARNING:tensorflow:Early stopping conditioned on metric `F1Score(name=f1_score,dtype=float32,num_classes=64,average=macro,threshold=None)` which is not available. Available metrics are: loss,f1_score\n"
     ]
    },
    {
     "name": "stdout",
     "output_type": "stream",
     "text": [
      "4/4 [==============================] - 22s 5s/step - loss: 4.6947e-04 - f1_score: 1.0000\n",
      "Epoch 45/100\n",
      "4/4 [==============================] - ETA: 0s - loss: 4.3917e-04 - f1_score: 1.0000WARNING:tensorflow:Early stopping conditioned on metric `F1Score(name=f1_score,dtype=float32,num_classes=64,average=macro,threshold=None)` which is not available. Available metrics are: loss,f1_score\n"
     ]
    },
    {
     "name": "stderr",
     "output_type": "stream",
     "text": [
      "WARNING:tensorflow:Early stopping conditioned on metric `F1Score(name=f1_score,dtype=float32,num_classes=64,average=macro,threshold=None)` which is not available. Available metrics are: loss,f1_score\n"
     ]
    },
    {
     "name": "stdout",
     "output_type": "stream",
     "text": [
      "4/4 [==============================] - 21s 5s/step - loss: 4.3917e-04 - f1_score: 1.0000\n",
      "Epoch 46/100\n",
      "4/4 [==============================] - ETA: 0s - loss: 4.3082e-04 - f1_score: 1.0000WARNING:tensorflow:Early stopping conditioned on metric `F1Score(name=f1_score,dtype=float32,num_classes=64,average=macro,threshold=None)` which is not available. Available metrics are: loss,f1_score\n"
     ]
    },
    {
     "name": "stderr",
     "output_type": "stream",
     "text": [
      "WARNING:tensorflow:Early stopping conditioned on metric `F1Score(name=f1_score,dtype=float32,num_classes=64,average=macro,threshold=None)` which is not available. Available metrics are: loss,f1_score\n"
     ]
    },
    {
     "name": "stdout",
     "output_type": "stream",
     "text": [
      "4/4 [==============================] - 21s 5s/step - loss: 4.3082e-04 - f1_score: 1.0000\n",
      "Epoch 47/100\n",
      "4/4 [==============================] - ETA: 0s - loss: 4.0815e-04 - f1_score: 1.0000WARNING:tensorflow:Early stopping conditioned on metric `F1Score(name=f1_score,dtype=float32,num_classes=64,average=macro,threshold=None)` which is not available. Available metrics are: loss,f1_score\n"
     ]
    },
    {
     "name": "stderr",
     "output_type": "stream",
     "text": [
      "WARNING:tensorflow:Early stopping conditioned on metric `F1Score(name=f1_score,dtype=float32,num_classes=64,average=macro,threshold=None)` which is not available. Available metrics are: loss,f1_score\n"
     ]
    },
    {
     "name": "stdout",
     "output_type": "stream",
     "text": [
      "4/4 [==============================] - 21s 5s/step - loss: 4.0815e-04 - f1_score: 1.0000\n",
      "Epoch 48/100\n",
      "4/4 [==============================] - ETA: 0s - loss: 3.9554e-04 - f1_score: 1.0000WARNING:tensorflow:Early stopping conditioned on metric `F1Score(name=f1_score,dtype=float32,num_classes=64,average=macro,threshold=None)` which is not available. Available metrics are: loss,f1_score\n"
     ]
    },
    {
     "name": "stderr",
     "output_type": "stream",
     "text": [
      "WARNING:tensorflow:Early stopping conditioned on metric `F1Score(name=f1_score,dtype=float32,num_classes=64,average=macro,threshold=None)` which is not available. Available metrics are: loss,f1_score\n"
     ]
    },
    {
     "name": "stdout",
     "output_type": "stream",
     "text": [
      "4/4 [==============================] - 21s 5s/step - loss: 3.9554e-04 - f1_score: 1.0000\n",
      "Epoch 49/100\n",
      "4/4 [==============================] - ETA: 0s - loss: 3.8014e-04 - f1_score: 1.0000WARNING:tensorflow:Early stopping conditioned on metric `F1Score(name=f1_score,dtype=float32,num_classes=64,average=macro,threshold=None)` which is not available. Available metrics are: loss,f1_score\n"
     ]
    },
    {
     "name": "stderr",
     "output_type": "stream",
     "text": [
      "WARNING:tensorflow:Early stopping conditioned on metric `F1Score(name=f1_score,dtype=float32,num_classes=64,average=macro,threshold=None)` which is not available. Available metrics are: loss,f1_score\n"
     ]
    },
    {
     "name": "stdout",
     "output_type": "stream",
     "text": [
      "4/4 [==============================] - 21s 5s/step - loss: 3.8014e-04 - f1_score: 1.0000\n",
      "Epoch 50/100\n",
      "4/4 [==============================] - ETA: 0s - loss: 3.6439e-04 - f1_score: 1.0000WARNING:tensorflow:Early stopping conditioned on metric `F1Score(name=f1_score,dtype=float32,num_classes=64,average=macro,threshold=None)` which is not available. Available metrics are: loss,f1_score\n"
     ]
    },
    {
     "name": "stderr",
     "output_type": "stream",
     "text": [
      "WARNING:tensorflow:Early stopping conditioned on metric `F1Score(name=f1_score,dtype=float32,num_classes=64,average=macro,threshold=None)` which is not available. Available metrics are: loss,f1_score\n"
     ]
    },
    {
     "name": "stdout",
     "output_type": "stream",
     "text": [
      "4/4 [==============================] - 21s 5s/step - loss: 3.6439e-04 - f1_score: 1.0000\n",
      "Epoch 51/100\n",
      "4/4 [==============================] - ETA: 0s - loss: 3.4447e-04 - f1_score: 1.0000WARNING:tensorflow:Early stopping conditioned on metric `F1Score(name=f1_score,dtype=float32,num_classes=64,average=macro,threshold=None)` which is not available. Available metrics are: loss,f1_score\n"
     ]
    },
    {
     "name": "stderr",
     "output_type": "stream",
     "text": [
      "WARNING:tensorflow:Early stopping conditioned on metric `F1Score(name=f1_score,dtype=float32,num_classes=64,average=macro,threshold=None)` which is not available. Available metrics are: loss,f1_score\n"
     ]
    },
    {
     "name": "stdout",
     "output_type": "stream",
     "text": [
      "4/4 [==============================] - 21s 5s/step - loss: 3.4447e-04 - f1_score: 1.0000\n",
      "Epoch 52/100\n",
      "4/4 [==============================] - ETA: 0s - loss: 3.3250e-04 - f1_score: 1.0000WARNING:tensorflow:Early stopping conditioned on metric `F1Score(name=f1_score,dtype=float32,num_classes=64,average=macro,threshold=None)` which is not available. Available metrics are: loss,f1_score\n"
     ]
    },
    {
     "name": "stderr",
     "output_type": "stream",
     "text": [
      "WARNING:tensorflow:Early stopping conditioned on metric `F1Score(name=f1_score,dtype=float32,num_classes=64,average=macro,threshold=None)` which is not available. Available metrics are: loss,f1_score\n"
     ]
    },
    {
     "name": "stdout",
     "output_type": "stream",
     "text": [
      "4/4 [==============================] - 21s 5s/step - loss: 3.3250e-04 - f1_score: 1.0000\n",
      "Epoch 53/100\n",
      "4/4 [==============================] - ETA: 0s - loss: 3.2531e-04 - f1_score: 1.0000WARNING:tensorflow:Early stopping conditioned on metric `F1Score(name=f1_score,dtype=float32,num_classes=64,average=macro,threshold=None)` which is not available. Available metrics are: loss,f1_score\n"
     ]
    },
    {
     "name": "stderr",
     "output_type": "stream",
     "text": [
      "WARNING:tensorflow:Early stopping conditioned on metric `F1Score(name=f1_score,dtype=float32,num_classes=64,average=macro,threshold=None)` which is not available. Available metrics are: loss,f1_score\n"
     ]
    },
    {
     "name": "stdout",
     "output_type": "stream",
     "text": [
      "4/4 [==============================] - 21s 5s/step - loss: 3.2531e-04 - f1_score: 1.0000\n",
      "Epoch 54/100\n",
      "4/4 [==============================] - ETA: 0s - loss: 3.0578e-04 - f1_score: 1.0000WARNING:tensorflow:Early stopping conditioned on metric `F1Score(name=f1_score,dtype=float32,num_classes=64,average=macro,threshold=None)` which is not available. Available metrics are: loss,f1_score\n"
     ]
    },
    {
     "name": "stderr",
     "output_type": "stream",
     "text": [
      "WARNING:tensorflow:Early stopping conditioned on metric `F1Score(name=f1_score,dtype=float32,num_classes=64,average=macro,threshold=None)` which is not available. Available metrics are: loss,f1_score\n"
     ]
    },
    {
     "name": "stdout",
     "output_type": "stream",
     "text": [
      "4/4 [==============================] - 21s 5s/step - loss: 3.0578e-04 - f1_score: 1.0000\n",
      "Epoch 55/100\n",
      "4/4 [==============================] - ETA: 0s - loss: 2.9428e-04 - f1_score: 1.0000WARNING:tensorflow:Early stopping conditioned on metric `F1Score(name=f1_score,dtype=float32,num_classes=64,average=macro,threshold=None)` which is not available. Available metrics are: loss,f1_score\n"
     ]
    },
    {
     "name": "stderr",
     "output_type": "stream",
     "text": [
      "WARNING:tensorflow:Early stopping conditioned on metric `F1Score(name=f1_score,dtype=float32,num_classes=64,average=macro,threshold=None)` which is not available. Available metrics are: loss,f1_score\n"
     ]
    },
    {
     "name": "stdout",
     "output_type": "stream",
     "text": [
      "4/4 [==============================] - 21s 5s/step - loss: 2.9428e-04 - f1_score: 1.0000\n",
      "Epoch 56/100\n",
      "4/4 [==============================] - ETA: 0s - loss: 2.8621e-04 - f1_score: 1.0000WARNING:tensorflow:Early stopping conditioned on metric `F1Score(name=f1_score,dtype=float32,num_classes=64,average=macro,threshold=None)` which is not available. Available metrics are: loss,f1_score\n"
     ]
    },
    {
     "name": "stderr",
     "output_type": "stream",
     "text": [
      "WARNING:tensorflow:Early stopping conditioned on metric `F1Score(name=f1_score,dtype=float32,num_classes=64,average=macro,threshold=None)` which is not available. Available metrics are: loss,f1_score\n"
     ]
    },
    {
     "name": "stdout",
     "output_type": "stream",
     "text": [
      "4/4 [==============================] - 21s 5s/step - loss: 2.8621e-04 - f1_score: 1.0000\n",
      "Epoch 57/100\n",
      "4/4 [==============================] - ETA: 0s - loss: 2.7853e-04 - f1_score: 1.0000WARNING:tensorflow:Early stopping conditioned on metric `F1Score(name=f1_score,dtype=float32,num_classes=64,average=macro,threshold=None)` which is not available. Available metrics are: loss,f1_score\n"
     ]
    },
    {
     "name": "stderr",
     "output_type": "stream",
     "text": [
      "WARNING:tensorflow:Early stopping conditioned on metric `F1Score(name=f1_score,dtype=float32,num_classes=64,average=macro,threshold=None)` which is not available. Available metrics are: loss,f1_score\n"
     ]
    },
    {
     "name": "stdout",
     "output_type": "stream",
     "text": [
      "4/4 [==============================] - 21s 5s/step - loss: 2.7853e-04 - f1_score: 1.0000\n",
      "Epoch 58/100\n",
      "4/4 [==============================] - ETA: 0s - loss: 2.6992e-04 - f1_score: 1.0000WARNING:tensorflow:Early stopping conditioned on metric `F1Score(name=f1_score,dtype=float32,num_classes=64,average=macro,threshold=None)` which is not available. Available metrics are: loss,f1_score\n"
     ]
    },
    {
     "name": "stderr",
     "output_type": "stream",
     "text": [
      "WARNING:tensorflow:Early stopping conditioned on metric `F1Score(name=f1_score,dtype=float32,num_classes=64,average=macro,threshold=None)` which is not available. Available metrics are: loss,f1_score\n"
     ]
    },
    {
     "name": "stdout",
     "output_type": "stream",
     "text": [
      "4/4 [==============================] - 21s 5s/step - loss: 2.6992e-04 - f1_score: 1.0000\n",
      "Epoch 59/100\n",
      "4/4 [==============================] - ETA: 0s - loss: 2.5922e-04 - f1_score: 1.0000WARNING:tensorflow:Early stopping conditioned on metric `F1Score(name=f1_score,dtype=float32,num_classes=64,average=macro,threshold=None)` which is not available. Available metrics are: loss,f1_score\n"
     ]
    },
    {
     "name": "stderr",
     "output_type": "stream",
     "text": [
      "WARNING:tensorflow:Early stopping conditioned on metric `F1Score(name=f1_score,dtype=float32,num_classes=64,average=macro,threshold=None)` which is not available. Available metrics are: loss,f1_score\n"
     ]
    },
    {
     "name": "stdout",
     "output_type": "stream",
     "text": [
      "4/4 [==============================] - 21s 5s/step - loss: 2.5922e-04 - f1_score: 1.0000\n",
      "Epoch 60/100\n",
      "4/4 [==============================] - ETA: 0s - loss: 2.5373e-04 - f1_score: 1.0000WARNING:tensorflow:Early stopping conditioned on metric `F1Score(name=f1_score,dtype=float32,num_classes=64,average=macro,threshold=None)` which is not available. Available metrics are: loss,f1_score\n"
     ]
    },
    {
     "name": "stderr",
     "output_type": "stream",
     "text": [
      "WARNING:tensorflow:Early stopping conditioned on metric `F1Score(name=f1_score,dtype=float32,num_classes=64,average=macro,threshold=None)` which is not available. Available metrics are: loss,f1_score\n"
     ]
    },
    {
     "name": "stdout",
     "output_type": "stream",
     "text": [
      "4/4 [==============================] - 21s 5s/step - loss: 2.5373e-04 - f1_score: 1.0000\n",
      "Epoch 61/100\n",
      "4/4 [==============================] - ETA: 0s - loss: 2.4569e-04 - f1_score: 1.0000WARNING:tensorflow:Early stopping conditioned on metric `F1Score(name=f1_score,dtype=float32,num_classes=64,average=macro,threshold=None)` which is not available. Available metrics are: loss,f1_score\n"
     ]
    },
    {
     "name": "stderr",
     "output_type": "stream",
     "text": [
      "WARNING:tensorflow:Early stopping conditioned on metric `F1Score(name=f1_score,dtype=float32,num_classes=64,average=macro,threshold=None)` which is not available. Available metrics are: loss,f1_score\n"
     ]
    },
    {
     "name": "stdout",
     "output_type": "stream",
     "text": [
      "4/4 [==============================] - 21s 5s/step - loss: 2.4569e-04 - f1_score: 1.0000\n",
      "Epoch 62/100\n",
      "4/4 [==============================] - ETA: 0s - loss: 2.3688e-04 - f1_score: 1.0000WARNING:tensorflow:Early stopping conditioned on metric `F1Score(name=f1_score,dtype=float32,num_classes=64,average=macro,threshold=None)` which is not available. Available metrics are: loss,f1_score\n"
     ]
    },
    {
     "name": "stderr",
     "output_type": "stream",
     "text": [
      "WARNING:tensorflow:Early stopping conditioned on metric `F1Score(name=f1_score,dtype=float32,num_classes=64,average=macro,threshold=None)` which is not available. Available metrics are: loss,f1_score\n"
     ]
    },
    {
     "name": "stdout",
     "output_type": "stream",
     "text": [
      "4/4 [==============================] - 24s 6s/step - loss: 2.3688e-04 - f1_score: 1.0000\n",
      "Epoch 63/100\n",
      "4/4 [==============================] - ETA: 0s - loss: 2.2624e-04 - f1_score: 1.0000WARNING:tensorflow:Early stopping conditioned on metric `F1Score(name=f1_score,dtype=float32,num_classes=64,average=macro,threshold=None)` which is not available. Available metrics are: loss,f1_score\n"
     ]
    },
    {
     "name": "stderr",
     "output_type": "stream",
     "text": [
      "WARNING:tensorflow:Early stopping conditioned on metric `F1Score(name=f1_score,dtype=float32,num_classes=64,average=macro,threshold=None)` which is not available. Available metrics are: loss,f1_score\n"
     ]
    },
    {
     "name": "stdout",
     "output_type": "stream",
     "text": [
      "4/4 [==============================] - 24s 5s/step - loss: 2.2624e-04 - f1_score: 1.0000\n",
      "Epoch 64/100\n",
      "4/4 [==============================] - ETA: 0s - loss: 2.2199e-04 - f1_score: 1.0000WARNING:tensorflow:Early stopping conditioned on metric `F1Score(name=f1_score,dtype=float32,num_classes=64,average=macro,threshold=None)` which is not available. Available metrics are: loss,f1_score\n"
     ]
    },
    {
     "name": "stderr",
     "output_type": "stream",
     "text": [
      "WARNING:tensorflow:Early stopping conditioned on metric `F1Score(name=f1_score,dtype=float32,num_classes=64,average=macro,threshold=None)` which is not available. Available metrics are: loss,f1_score\n"
     ]
    },
    {
     "name": "stdout",
     "output_type": "stream",
     "text": [
      "4/4 [==============================] - 21s 5s/step - loss: 2.2199e-04 - f1_score: 1.0000\n",
      "Epoch 65/100\n",
      "4/4 [==============================] - ETA: 0s - loss: 2.1631e-04 - f1_score: 1.0000WARNING:tensorflow:Early stopping conditioned on metric `F1Score(name=f1_score,dtype=float32,num_classes=64,average=macro,threshold=None)` which is not available. Available metrics are: loss,f1_score\n"
     ]
    },
    {
     "name": "stderr",
     "output_type": "stream",
     "text": [
      "WARNING:tensorflow:Early stopping conditioned on metric `F1Score(name=f1_score,dtype=float32,num_classes=64,average=macro,threshold=None)` which is not available. Available metrics are: loss,f1_score\n"
     ]
    },
    {
     "name": "stdout",
     "output_type": "stream",
     "text": [
      "4/4 [==============================] - 21s 5s/step - loss: 2.1631e-04 - f1_score: 1.0000\n",
      "Epoch 66/100\n",
      "4/4 [==============================] - ETA: 0s - loss: 2.0745e-04 - f1_score: 1.0000WARNING:tensorflow:Early stopping conditioned on metric `F1Score(name=f1_score,dtype=float32,num_classes=64,average=macro,threshold=None)` which is not available. Available metrics are: loss,f1_score\n"
     ]
    },
    {
     "name": "stderr",
     "output_type": "stream",
     "text": [
      "WARNING:tensorflow:Early stopping conditioned on metric `F1Score(name=f1_score,dtype=float32,num_classes=64,average=macro,threshold=None)` which is not available. Available metrics are: loss,f1_score\n"
     ]
    },
    {
     "name": "stdout",
     "output_type": "stream",
     "text": [
      "4/4 [==============================] - 21s 5s/step - loss: 2.0745e-04 - f1_score: 1.0000\n",
      "Epoch 67/100\n",
      "4/4 [==============================] - ETA: 0s - loss: 2.0162e-04 - f1_score: 1.0000WARNING:tensorflow:Early stopping conditioned on metric `F1Score(name=f1_score,dtype=float32,num_classes=64,average=macro,threshold=None)` which is not available. Available metrics are: loss,f1_score\n"
     ]
    },
    {
     "name": "stderr",
     "output_type": "stream",
     "text": [
      "WARNING:tensorflow:Early stopping conditioned on metric `F1Score(name=f1_score,dtype=float32,num_classes=64,average=macro,threshold=None)` which is not available. Available metrics are: loss,f1_score\n"
     ]
    },
    {
     "name": "stdout",
     "output_type": "stream",
     "text": [
      "4/4 [==============================] - 21s 5s/step - loss: 2.0162e-04 - f1_score: 1.0000\n",
      "Epoch 68/100\n",
      "4/4 [==============================] - ETA: 0s - loss: 1.9824e-04 - f1_score: 1.0000WARNING:tensorflow:Early stopping conditioned on metric `F1Score(name=f1_score,dtype=float32,num_classes=64,average=macro,threshold=None)` which is not available. Available metrics are: loss,f1_score\n"
     ]
    },
    {
     "name": "stderr",
     "output_type": "stream",
     "text": [
      "WARNING:tensorflow:Early stopping conditioned on metric `F1Score(name=f1_score,dtype=float32,num_classes=64,average=macro,threshold=None)` which is not available. Available metrics are: loss,f1_score\n"
     ]
    },
    {
     "name": "stdout",
     "output_type": "stream",
     "text": [
      "4/4 [==============================] - 21s 5s/step - loss: 1.9824e-04 - f1_score: 1.0000\n",
      "Epoch 69/100\n",
      "4/4 [==============================] - ETA: 0s - loss: 1.9073e-04 - f1_score: 1.0000WARNING:tensorflow:Early stopping conditioned on metric `F1Score(name=f1_score,dtype=float32,num_classes=64,average=macro,threshold=None)` which is not available. Available metrics are: loss,f1_score\n"
     ]
    },
    {
     "name": "stderr",
     "output_type": "stream",
     "text": [
      "WARNING:tensorflow:Early stopping conditioned on metric `F1Score(name=f1_score,dtype=float32,num_classes=64,average=macro,threshold=None)` which is not available. Available metrics are: loss,f1_score\n"
     ]
    },
    {
     "name": "stdout",
     "output_type": "stream",
     "text": [
      "4/4 [==============================] - 21s 5s/step - loss: 1.9073e-04 - f1_score: 1.0000\n",
      "Epoch 70/100\n",
      "4/4 [==============================] - ETA: 0s - loss: 1.8659e-04 - f1_score: 1.0000WARNING:tensorflow:Early stopping conditioned on metric `F1Score(name=f1_score,dtype=float32,num_classes=64,average=macro,threshold=None)` which is not available. Available metrics are: loss,f1_score\n"
     ]
    },
    {
     "name": "stderr",
     "output_type": "stream",
     "text": [
      "WARNING:tensorflow:Early stopping conditioned on metric `F1Score(name=f1_score,dtype=float32,num_classes=64,average=macro,threshold=None)` which is not available. Available metrics are: loss,f1_score\n"
     ]
    },
    {
     "name": "stdout",
     "output_type": "stream",
     "text": [
      "4/4 [==============================] - 21s 5s/step - loss: 1.8659e-04 - f1_score: 1.0000\n",
      "Epoch 71/100\n",
      "4/4 [==============================] - ETA: 0s - loss: 1.8391e-04 - f1_score: 1.0000WARNING:tensorflow:Early stopping conditioned on metric `F1Score(name=f1_score,dtype=float32,num_classes=64,average=macro,threshold=None)` which is not available. Available metrics are: loss,f1_score\n"
     ]
    },
    {
     "name": "stderr",
     "output_type": "stream",
     "text": [
      "WARNING:tensorflow:Early stopping conditioned on metric `F1Score(name=f1_score,dtype=float32,num_classes=64,average=macro,threshold=None)` which is not available. Available metrics are: loss,f1_score\n"
     ]
    },
    {
     "name": "stdout",
     "output_type": "stream",
     "text": [
      "4/4 [==============================] - 28s 7s/step - loss: 1.8391e-04 - f1_score: 1.0000\n",
      "Epoch 72/100\n",
      "4/4 [==============================] - ETA: 0s - loss: 1.7645e-04 - f1_score: 1.0000WARNING:tensorflow:Early stopping conditioned on metric `F1Score(name=f1_score,dtype=float32,num_classes=64,average=macro,threshold=None)` which is not available. Available metrics are: loss,f1_score\n"
     ]
    },
    {
     "name": "stderr",
     "output_type": "stream",
     "text": [
      "WARNING:tensorflow:Early stopping conditioned on metric `F1Score(name=f1_score,dtype=float32,num_classes=64,average=macro,threshold=None)` which is not available. Available metrics are: loss,f1_score\n"
     ]
    },
    {
     "name": "stdout",
     "output_type": "stream",
     "text": [
      "4/4 [==============================] - 21s 5s/step - loss: 1.7645e-04 - f1_score: 1.0000\n",
      "Epoch 73/100\n",
      "4/4 [==============================] - ETA: 0s - loss: 1.7257e-04 - f1_score: 1.0000WARNING:tensorflow:Early stopping conditioned on metric `F1Score(name=f1_score,dtype=float32,num_classes=64,average=macro,threshold=None)` which is not available. Available metrics are: loss,f1_score\n"
     ]
    },
    {
     "name": "stderr",
     "output_type": "stream",
     "text": [
      "WARNING:tensorflow:Early stopping conditioned on metric `F1Score(name=f1_score,dtype=float32,num_classes=64,average=macro,threshold=None)` which is not available. Available metrics are: loss,f1_score\n"
     ]
    },
    {
     "name": "stdout",
     "output_type": "stream",
     "text": [
      "4/4 [==============================] - 21s 5s/step - loss: 1.7257e-04 - f1_score: 1.0000\n",
      "Epoch 74/100\n",
      "4/4 [==============================] - ETA: 0s - loss: 1.6761e-04 - f1_score: 1.0000WARNING:tensorflow:Early stopping conditioned on metric `F1Score(name=f1_score,dtype=float32,num_classes=64,average=macro,threshold=None)` which is not available. Available metrics are: loss,f1_score\n"
     ]
    },
    {
     "name": "stderr",
     "output_type": "stream",
     "text": [
      "WARNING:tensorflow:Early stopping conditioned on metric `F1Score(name=f1_score,dtype=float32,num_classes=64,average=macro,threshold=None)` which is not available. Available metrics are: loss,f1_score\n"
     ]
    },
    {
     "name": "stdout",
     "output_type": "stream",
     "text": [
      "4/4 [==============================] - 21s 5s/step - loss: 1.6761e-04 - f1_score: 1.0000\n",
      "Epoch 75/100\n",
      "4/4 [==============================] - ETA: 0s - loss: 1.6196e-04 - f1_score: 1.0000WARNING:tensorflow:Early stopping conditioned on metric `F1Score(name=f1_score,dtype=float32,num_classes=64,average=macro,threshold=None)` which is not available. Available metrics are: loss,f1_score\n"
     ]
    },
    {
     "name": "stderr",
     "output_type": "stream",
     "text": [
      "WARNING:tensorflow:Early stopping conditioned on metric `F1Score(name=f1_score,dtype=float32,num_classes=64,average=macro,threshold=None)` which is not available. Available metrics are: loss,f1_score\n"
     ]
    },
    {
     "name": "stdout",
     "output_type": "stream",
     "text": [
      "4/4 [==============================] - 21s 5s/step - loss: 1.6196e-04 - f1_score: 1.0000\n",
      "Epoch 76/100\n",
      "4/4 [==============================] - ETA: 0s - loss: 1.5727e-04 - f1_score: 1.0000WARNING:tensorflow:Early stopping conditioned on metric `F1Score(name=f1_score,dtype=float32,num_classes=64,average=macro,threshold=None)` which is not available. Available metrics are: loss,f1_score\n"
     ]
    },
    {
     "name": "stderr",
     "output_type": "stream",
     "text": [
      "WARNING:tensorflow:Early stopping conditioned on metric `F1Score(name=f1_score,dtype=float32,num_classes=64,average=macro,threshold=None)` which is not available. Available metrics are: loss,f1_score\n"
     ]
    },
    {
     "name": "stdout",
     "output_type": "stream",
     "text": [
      "4/4 [==============================] - 21s 5s/step - loss: 1.5727e-04 - f1_score: 1.0000\n",
      "Epoch 77/100\n",
      "4/4 [==============================] - ETA: 0s - loss: 1.5648e-04 - f1_score: 1.0000WARNING:tensorflow:Early stopping conditioned on metric `F1Score(name=f1_score,dtype=float32,num_classes=64,average=macro,threshold=None)` which is not available. Available metrics are: loss,f1_score\n"
     ]
    },
    {
     "name": "stderr",
     "output_type": "stream",
     "text": [
      "WARNING:tensorflow:Early stopping conditioned on metric `F1Score(name=f1_score,dtype=float32,num_classes=64,average=macro,threshold=None)` which is not available. Available metrics are: loss,f1_score\n"
     ]
    },
    {
     "name": "stdout",
     "output_type": "stream",
     "text": [
      "4/4 [==============================] - 21s 5s/step - loss: 1.5648e-04 - f1_score: 1.0000\n",
      "Epoch 78/100\n",
      "4/4 [==============================] - ETA: 0s - loss: 1.5096e-04 - f1_score: 1.0000WARNING:tensorflow:Early stopping conditioned on metric `F1Score(name=f1_score,dtype=float32,num_classes=64,average=macro,threshold=None)` which is not available. Available metrics are: loss,f1_score\n"
     ]
    },
    {
     "name": "stderr",
     "output_type": "stream",
     "text": [
      "WARNING:tensorflow:Early stopping conditioned on metric `F1Score(name=f1_score,dtype=float32,num_classes=64,average=macro,threshold=None)` which is not available. Available metrics are: loss,f1_score\n"
     ]
    },
    {
     "name": "stdout",
     "output_type": "stream",
     "text": [
      "4/4 [==============================] - 22s 5s/step - loss: 1.5096e-04 - f1_score: 1.0000\n",
      "Epoch 79/100\n",
      "4/4 [==============================] - ETA: 0s - loss: 1.4871e-04 - f1_score: 1.0000WARNING:tensorflow:Early stopping conditioned on metric `F1Score(name=f1_score,dtype=float32,num_classes=64,average=macro,threshold=None)` which is not available. Available metrics are: loss,f1_score\n"
     ]
    },
    {
     "name": "stderr",
     "output_type": "stream",
     "text": [
      "WARNING:tensorflow:Early stopping conditioned on metric `F1Score(name=f1_score,dtype=float32,num_classes=64,average=macro,threshold=None)` which is not available. Available metrics are: loss,f1_score\n"
     ]
    },
    {
     "name": "stdout",
     "output_type": "stream",
     "text": [
      "4/4 [==============================] - 21s 5s/step - loss: 1.4871e-04 - f1_score: 1.0000\n",
      "Epoch 80/100\n",
      "4/4 [==============================] - ETA: 0s - loss: 1.4697e-04 - f1_score: 1.0000WARNING:tensorflow:Early stopping conditioned on metric `F1Score(name=f1_score,dtype=float32,num_classes=64,average=macro,threshold=None)` which is not available. Available metrics are: loss,f1_score\n"
     ]
    },
    {
     "name": "stderr",
     "output_type": "stream",
     "text": [
      "WARNING:tensorflow:Early stopping conditioned on metric `F1Score(name=f1_score,dtype=float32,num_classes=64,average=macro,threshold=None)` which is not available. Available metrics are: loss,f1_score\n"
     ]
    },
    {
     "name": "stdout",
     "output_type": "stream",
     "text": [
      "4/4 [==============================] - 29s 7s/step - loss: 1.4697e-04 - f1_score: 1.0000\n",
      "Epoch 81/100\n",
      "4/4 [==============================] - ETA: 0s - loss: 1.3907e-04 - f1_score: 1.0000WARNING:tensorflow:Early stopping conditioned on metric `F1Score(name=f1_score,dtype=float32,num_classes=64,average=macro,threshold=None)` which is not available. Available metrics are: loss,f1_score\n"
     ]
    },
    {
     "name": "stderr",
     "output_type": "stream",
     "text": [
      "WARNING:tensorflow:Early stopping conditioned on metric `F1Score(name=f1_score,dtype=float32,num_classes=64,average=macro,threshold=None)` which is not available. Available metrics are: loss,f1_score\n"
     ]
    },
    {
     "name": "stdout",
     "output_type": "stream",
     "text": [
      "4/4 [==============================] - 21s 5s/step - loss: 1.3907e-04 - f1_score: 1.0000\n",
      "Epoch 82/100\n",
      "4/4 [==============================] - ETA: 0s - loss: 1.3581e-04 - f1_score: 1.0000WARNING:tensorflow:Early stopping conditioned on metric `F1Score(name=f1_score,dtype=float32,num_classes=64,average=macro,threshold=None)` which is not available. Available metrics are: loss,f1_score\n"
     ]
    },
    {
     "name": "stderr",
     "output_type": "stream",
     "text": [
      "WARNING:tensorflow:Early stopping conditioned on metric `F1Score(name=f1_score,dtype=float32,num_classes=64,average=macro,threshold=None)` which is not available. Available metrics are: loss,f1_score\n"
     ]
    },
    {
     "name": "stdout",
     "output_type": "stream",
     "text": [
      "4/4 [==============================] - 21s 5s/step - loss: 1.3581e-04 - f1_score: 1.0000\n",
      "Epoch 83/100\n",
      "4/4 [==============================] - ETA: 0s - loss: 1.3420e-04 - f1_score: 1.0000WARNING:tensorflow:Early stopping conditioned on metric `F1Score(name=f1_score,dtype=float32,num_classes=64,average=macro,threshold=None)` which is not available. Available metrics are: loss,f1_score\n"
     ]
    },
    {
     "name": "stderr",
     "output_type": "stream",
     "text": [
      "WARNING:tensorflow:Early stopping conditioned on metric `F1Score(name=f1_score,dtype=float32,num_classes=64,average=macro,threshold=None)` which is not available. Available metrics are: loss,f1_score\n"
     ]
    },
    {
     "name": "stdout",
     "output_type": "stream",
     "text": [
      "4/4 [==============================] - 21s 5s/step - loss: 1.3420e-04 - f1_score: 1.0000\n",
      "Epoch 84/100\n",
      "4/4 [==============================] - ETA: 0s - loss: 1.3180e-04 - f1_score: 1.0000WARNING:tensorflow:Early stopping conditioned on metric `F1Score(name=f1_score,dtype=float32,num_classes=64,average=macro,threshold=None)` which is not available. Available metrics are: loss,f1_score\n"
     ]
    },
    {
     "name": "stderr",
     "output_type": "stream",
     "text": [
      "WARNING:tensorflow:Early stopping conditioned on metric `F1Score(name=f1_score,dtype=float32,num_classes=64,average=macro,threshold=None)` which is not available. Available metrics are: loss,f1_score\n"
     ]
    },
    {
     "name": "stdout",
     "output_type": "stream",
     "text": [
      "4/4 [==============================] - 21s 5s/step - loss: 1.3180e-04 - f1_score: 1.0000\n",
      "Epoch 85/100\n",
      "4/4 [==============================] - ETA: 0s - loss: 1.2663e-04 - f1_score: 1.0000WARNING:tensorflow:Early stopping conditioned on metric `F1Score(name=f1_score,dtype=float32,num_classes=64,average=macro,threshold=None)` which is not available. Available metrics are: loss,f1_score\n"
     ]
    },
    {
     "name": "stderr",
     "output_type": "stream",
     "text": [
      "WARNING:tensorflow:Early stopping conditioned on metric `F1Score(name=f1_score,dtype=float32,num_classes=64,average=macro,threshold=None)` which is not available. Available metrics are: loss,f1_score\n"
     ]
    },
    {
     "name": "stdout",
     "output_type": "stream",
     "text": [
      "4/4 [==============================] - 21s 5s/step - loss: 1.2663e-04 - f1_score: 1.0000\n",
      "Epoch 86/100\n",
      "4/4 [==============================] - ETA: 0s - loss: 1.2397e-04 - f1_score: 1.0000WARNING:tensorflow:Early stopping conditioned on metric `F1Score(name=f1_score,dtype=float32,num_classes=64,average=macro,threshold=None)` which is not available. Available metrics are: loss,f1_score\n"
     ]
    },
    {
     "name": "stderr",
     "output_type": "stream",
     "text": [
      "WARNING:tensorflow:Early stopping conditioned on metric `F1Score(name=f1_score,dtype=float32,num_classes=64,average=macro,threshold=None)` which is not available. Available metrics are: loss,f1_score\n"
     ]
    },
    {
     "name": "stdout",
     "output_type": "stream",
     "text": [
      "4/4 [==============================] - 21s 5s/step - loss: 1.2397e-04 - f1_score: 1.0000\n",
      "Epoch 87/100\n",
      "4/4 [==============================] - ETA: 0s - loss: 1.2208e-04 - f1_score: 1.0000WARNING:tensorflow:Early stopping conditioned on metric `F1Score(name=f1_score,dtype=float32,num_classes=64,average=macro,threshold=None)` which is not available. Available metrics are: loss,f1_score\n"
     ]
    },
    {
     "name": "stderr",
     "output_type": "stream",
     "text": [
      "WARNING:tensorflow:Early stopping conditioned on metric `F1Score(name=f1_score,dtype=float32,num_classes=64,average=macro,threshold=None)` which is not available. Available metrics are: loss,f1_score\n"
     ]
    },
    {
     "name": "stdout",
     "output_type": "stream",
     "text": [
      "4/4 [==============================] - 21s 5s/step - loss: 1.2208e-04 - f1_score: 1.0000\n",
      "Epoch 88/100\n",
      "4/4 [==============================] - ETA: 0s - loss: 1.1859e-04 - f1_score: 1.0000WARNING:tensorflow:Early stopping conditioned on metric `F1Score(name=f1_score,dtype=float32,num_classes=64,average=macro,threshold=None)` which is not available. Available metrics are: loss,f1_score\n"
     ]
    },
    {
     "name": "stderr",
     "output_type": "stream",
     "text": [
      "WARNING:tensorflow:Early stopping conditioned on metric `F1Score(name=f1_score,dtype=float32,num_classes=64,average=macro,threshold=None)` which is not available. Available metrics are: loss,f1_score\n"
     ]
    },
    {
     "name": "stdout",
     "output_type": "stream",
     "text": [
      "4/4 [==============================] - 21s 5s/step - loss: 1.1859e-04 - f1_score: 1.0000\n",
      "Epoch 89/100\n",
      "4/4 [==============================] - ETA: 0s - loss: 1.1510e-04 - f1_score: 1.0000WARNING:tensorflow:Early stopping conditioned on metric `F1Score(name=f1_score,dtype=float32,num_classes=64,average=macro,threshold=None)` which is not available. Available metrics are: loss,f1_score\n"
     ]
    },
    {
     "name": "stderr",
     "output_type": "stream",
     "text": [
      "WARNING:tensorflow:Early stopping conditioned on metric `F1Score(name=f1_score,dtype=float32,num_classes=64,average=macro,threshold=None)` which is not available. Available metrics are: loss,f1_score\n"
     ]
    },
    {
     "name": "stdout",
     "output_type": "stream",
     "text": [
      "4/4 [==============================] - 26s 7s/step - loss: 1.1510e-04 - f1_score: 1.0000\n",
      "Epoch 90/100\n",
      "4/4 [==============================] - ETA: 0s - loss: 1.1311e-04 - f1_score: 1.0000WARNING:tensorflow:Early stopping conditioned on metric `F1Score(name=f1_score,dtype=float32,num_classes=64,average=macro,threshold=None)` which is not available. Available metrics are: loss,f1_score\n"
     ]
    },
    {
     "name": "stderr",
     "output_type": "stream",
     "text": [
      "WARNING:tensorflow:Early stopping conditioned on metric `F1Score(name=f1_score,dtype=float32,num_classes=64,average=macro,threshold=None)` which is not available. Available metrics are: loss,f1_score\n"
     ]
    },
    {
     "name": "stdout",
     "output_type": "stream",
     "text": [
      "4/4 [==============================] - 23s 5s/step - loss: 1.1311e-04 - f1_score: 1.0000\n",
      "Epoch 91/100\n",
      "4/4 [==============================] - ETA: 0s - loss: 1.0999e-04 - f1_score: 1.0000WARNING:tensorflow:Early stopping conditioned on metric `F1Score(name=f1_score,dtype=float32,num_classes=64,average=macro,threshold=None)` which is not available. Available metrics are: loss,f1_score\n"
     ]
    },
    {
     "name": "stderr",
     "output_type": "stream",
     "text": [
      "WARNING:tensorflow:Early stopping conditioned on metric `F1Score(name=f1_score,dtype=float32,num_classes=64,average=macro,threshold=None)` which is not available. Available metrics are: loss,f1_score\n"
     ]
    },
    {
     "name": "stdout",
     "output_type": "stream",
     "text": [
      "4/4 [==============================] - 21s 5s/step - loss: 1.0999e-04 - f1_score: 1.0000\n",
      "Epoch 92/100\n",
      "4/4 [==============================] - ETA: 0s - loss: 1.0843e-04 - f1_score: 1.0000WARNING:tensorflow:Early stopping conditioned on metric `F1Score(name=f1_score,dtype=float32,num_classes=64,average=macro,threshold=None)` which is not available. Available metrics are: loss,f1_score\n"
     ]
    },
    {
     "name": "stderr",
     "output_type": "stream",
     "text": [
      "WARNING:tensorflow:Early stopping conditioned on metric `F1Score(name=f1_score,dtype=float32,num_classes=64,average=macro,threshold=None)` which is not available. Available metrics are: loss,f1_score\n"
     ]
    },
    {
     "name": "stdout",
     "output_type": "stream",
     "text": [
      "4/4 [==============================] - 21s 5s/step - loss: 1.0843e-04 - f1_score: 1.0000\n",
      "Epoch 93/100\n",
      "4/4 [==============================] - ETA: 0s - loss: 1.0467e-04 - f1_score: 1.0000WARNING:tensorflow:Early stopping conditioned on metric `F1Score(name=f1_score,dtype=float32,num_classes=64,average=macro,threshold=None)` which is not available. Available metrics are: loss,f1_score\n"
     ]
    },
    {
     "name": "stderr",
     "output_type": "stream",
     "text": [
      "WARNING:tensorflow:Early stopping conditioned on metric `F1Score(name=f1_score,dtype=float32,num_classes=64,average=macro,threshold=None)` which is not available. Available metrics are: loss,f1_score\n"
     ]
    },
    {
     "name": "stdout",
     "output_type": "stream",
     "text": [
      "4/4 [==============================] - 21s 5s/step - loss: 1.0467e-04 - f1_score: 1.0000\n",
      "Epoch 94/100\n",
      "4/4 [==============================] - ETA: 0s - loss: 1.0447e-04 - f1_score: 1.0000WARNING:tensorflow:Early stopping conditioned on metric `F1Score(name=f1_score,dtype=float32,num_classes=64,average=macro,threshold=None)` which is not available. Available metrics are: loss,f1_score\n"
     ]
    },
    {
     "name": "stderr",
     "output_type": "stream",
     "text": [
      "WARNING:tensorflow:Early stopping conditioned on metric `F1Score(name=f1_score,dtype=float32,num_classes=64,average=macro,threshold=None)` which is not available. Available metrics are: loss,f1_score\n"
     ]
    },
    {
     "name": "stdout",
     "output_type": "stream",
     "text": [
      "4/4 [==============================] - 21s 5s/step - loss: 1.0447e-04 - f1_score: 1.0000\n",
      "Epoch 95/100\n",
      "4/4 [==============================] - ETA: 0s - loss: 1.0137e-04 - f1_score: 1.0000WARNING:tensorflow:Early stopping conditioned on metric `F1Score(name=f1_score,dtype=float32,num_classes=64,average=macro,threshold=None)` which is not available. Available metrics are: loss,f1_score\n"
     ]
    },
    {
     "name": "stderr",
     "output_type": "stream",
     "text": [
      "WARNING:tensorflow:Early stopping conditioned on metric `F1Score(name=f1_score,dtype=float32,num_classes=64,average=macro,threshold=None)` which is not available. Available metrics are: loss,f1_score\n"
     ]
    },
    {
     "name": "stdout",
     "output_type": "stream",
     "text": [
      "4/4 [==============================] - 21s 5s/step - loss: 1.0137e-04 - f1_score: 1.0000\n",
      "Epoch 96/100\n",
      "4/4 [==============================] - ETA: 0s - loss: 9.9074e-05 - f1_score: 1.0000WARNING:tensorflow:Early stopping conditioned on metric `F1Score(name=f1_score,dtype=float32,num_classes=64,average=macro,threshold=None)` which is not available. Available metrics are: loss,f1_score\n"
     ]
    },
    {
     "name": "stderr",
     "output_type": "stream",
     "text": [
      "WARNING:tensorflow:Early stopping conditioned on metric `F1Score(name=f1_score,dtype=float32,num_classes=64,average=macro,threshold=None)` which is not available. Available metrics are: loss,f1_score\n"
     ]
    },
    {
     "name": "stdout",
     "output_type": "stream",
     "text": [
      "4/4 [==============================] - 21s 5s/step - loss: 9.9074e-05 - f1_score: 1.0000\n",
      "Epoch 97/100\n",
      "4/4 [==============================] - ETA: 0s - loss: 9.6571e-05 - f1_score: 1.0000WARNING:tensorflow:Early stopping conditioned on metric `F1Score(name=f1_score,dtype=float32,num_classes=64,average=macro,threshold=None)` which is not available. Available metrics are: loss,f1_score\n"
     ]
    },
    {
     "name": "stderr",
     "output_type": "stream",
     "text": [
      "WARNING:tensorflow:Early stopping conditioned on metric `F1Score(name=f1_score,dtype=float32,num_classes=64,average=macro,threshold=None)` which is not available. Available metrics are: loss,f1_score\n"
     ]
    },
    {
     "name": "stdout",
     "output_type": "stream",
     "text": [
      "4/4 [==============================] - 21s 5s/step - loss: 9.6571e-05 - f1_score: 1.0000\n",
      "Epoch 98/100\n",
      "4/4 [==============================] - ETA: 0s - loss: 9.4967e-05 - f1_score: 1.0000WARNING:tensorflow:Early stopping conditioned on metric `F1Score(name=f1_score,dtype=float32,num_classes=64,average=macro,threshold=None)` which is not available. Available metrics are: loss,f1_score\n"
     ]
    },
    {
     "name": "stderr",
     "output_type": "stream",
     "text": [
      "WARNING:tensorflow:Early stopping conditioned on metric `F1Score(name=f1_score,dtype=float32,num_classes=64,average=macro,threshold=None)` which is not available. Available metrics are: loss,f1_score\n"
     ]
    },
    {
     "name": "stdout",
     "output_type": "stream",
     "text": [
      "4/4 [==============================] - 27s 6s/step - loss: 9.4967e-05 - f1_score: 1.0000\n",
      "Epoch 99/100\n",
      "4/4 [==============================] - ETA: 0s - loss: 9.2024e-05 - f1_score: 1.0000WARNING:tensorflow:Early stopping conditioned on metric `F1Score(name=f1_score,dtype=float32,num_classes=64,average=macro,threshold=None)` which is not available. Available metrics are: loss,f1_score\n"
     ]
    },
    {
     "name": "stderr",
     "output_type": "stream",
     "text": [
      "WARNING:tensorflow:Early stopping conditioned on metric `F1Score(name=f1_score,dtype=float32,num_classes=64,average=macro,threshold=None)` which is not available. Available metrics are: loss,f1_score\n"
     ]
    },
    {
     "name": "stdout",
     "output_type": "stream",
     "text": [
      "4/4 [==============================] - 21s 5s/step - loss: 9.2024e-05 - f1_score: 1.0000\n",
      "Epoch 100/100\n",
      "4/4 [==============================] - ETA: 0s - loss: 9.1273e-05 - f1_score: 1.0000WARNING:tensorflow:Early stopping conditioned on metric `F1Score(name=f1_score,dtype=float32,num_classes=64,average=macro,threshold=None)` which is not available. Available metrics are: loss,f1_score\n"
     ]
    },
    {
     "name": "stderr",
     "output_type": "stream",
     "text": [
      "WARNING:tensorflow:Early stopping conditioned on metric `F1Score(name=f1_score,dtype=float32,num_classes=64,average=macro,threshold=None)` which is not available. Available metrics are: loss,f1_score\n"
     ]
    },
    {
     "name": "stdout",
     "output_type": "stream",
     "text": [
      "\b\b\b\b\b\b\b\b\b\b\b\b\b\b\b\b\b\b\b\b\b\b\b\b\b\b\b\b\b\b\b\b\b\b\b\b\b\b\b\b\b\b\b\b\b\b\b\b\b\b\b\b\b\b\b\b\b\b\b\b\b\b\b\b\b\b\b\b\b\b\b\b\b\b\b\b\b\b\b\b\b\b\b\b\r",
      "4/4 [==============================] - 21s 5s/step - loss: 9.1273e-05 - f1_score: 1.0000\n"
     ]
    },
    {
     "data": {
      "text/plain": [
       "<keras.callbacks.History at 0x7fef7ca2e150>"
      ]
     },
     "execution_count": 48,
     "metadata": {},
     "output_type": "execute_result"
    }
   ],
   "source": [
    "f1 = tfa.metrics.F1Score(num_classes=64, average='macro')\n",
    "\n",
    "callbacks = keras.callbacks.EarlyStopping(monitor=f1, patience=3, mode='max', restore_best_weights=True)\n",
    "\n",
    "new_model.compile(loss=tf.keras.losses.BinaryCrossentropy(), optimizer=keras.optimizers.Adam(lr=1e-4), \n",
    "              metrics= [f1])\n",
    "\n",
    "\n",
    "new_model.fit(train_data, epochs=100, callbacks=callbacks)"
   ]
  },
  {
   "cell_type": "code",
   "execution_count": 49,
   "id": "162d30ee",
   "metadata": {},
   "outputs": [
    {
     "name": "stderr",
     "output_type": "stream",
     "text": [
      "WARNING:absl:Found untraced functions such as _jit_compiled_convolution_op, _jit_compiled_convolution_op, _jit_compiled_convolution_op, _jit_compiled_convolution_op, _jit_compiled_convolution_op while saving (showing 5 of 245). These functions will not be directly callable after loading.\n"
     ]
    },
    {
     "name": "stdout",
     "output_type": "stream",
     "text": [
      "INFO:tensorflow:Assets written to: saved_model/assets\n"
     ]
    },
    {
     "name": "stderr",
     "output_type": "stream",
     "text": [
      "INFO:tensorflow:Assets written to: saved_model/assets\n"
     ]
    }
   ],
   "source": [
    "new_model.save('saved_model')"
   ]
  }
 ],
 "metadata": {
  "kernelspec": {
   "display_name": "Python 3 (ipykernel)",
   "language": "python",
   "name": "python3"
  },
  "language_info": {
   "codemirror_mode": {
    "name": "ipython",
    "version": 3
   },
   "file_extension": ".py",
   "mimetype": "text/x-python",
   "name": "python",
   "nbconvert_exporter": "python",
   "pygments_lexer": "ipython3",
   "version": "3.11.2"
  }
 },
 "nbformat": 4,
 "nbformat_minor": 5
}
